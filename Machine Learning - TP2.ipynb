{
 "cells": [
  {
   "cell_type": "markdown",
   "metadata": {},
   "source": [
    "# TP2: Machine learning"
   ]
  },
  {
   "cell_type": "code",
   "execution_count": 156,
   "metadata": {},
   "outputs": [],
   "source": [
    "import pandas as pd\n",
    "%matplotlib inline\n",
    "from datetime import datetime\n",
    "import scipy.spatial\n",
    "from sklearn import preprocessing\n",
    "import numpy as np\n",
    "import matplotlib.pyplot as plt\n",
    "from sklearn import model_selection\n",
    "from sklearn.linear_model import LogisticRegression\n",
    "from sklearn.tree import DecisionTreeClassifier\n",
    "from sklearn.neighbors import KNeighborsClassifier\n",
    "from sklearn.discriminant_analysis import LinearDiscriminantAnalysis\n",
    "from sklearn.naive_bayes import GaussianNB\n",
    "from sklearn.svm import SVC"
   ]
  },
  {
   "cell_type": "code",
   "execution_count": 138,
   "metadata": {},
   "outputs": [],
   "source": [
    "data_training = pd.read_csv('data/properati-merge2017-2016-2015-SOLOSIX.csv')"
   ]
  },
  {
   "cell_type": "code",
   "execution_count": 61,
   "metadata": {},
   "outputs": [],
   "source": [
    "def recuperar_cant_amb(x):\n",
    "    \"Recupera el dato amb en x (puede ser la descripcion o el titulo)\"\n",
    "    try:\n",
    "        x = x.lower()\n",
    "        if x.rfind(\"ambientes\") != -1 or x.rfind(\"amb\") != -1:\n",
    "            pos = x.rfind(\"amb\")\n",
    "            try:\n",
    "                return (float(x[pos -2])) # intento convertir lo que hay antes de la palabra\n",
    "                                              #si funciona es el numero de rooms\n",
    "            except ValueError:\n",
    "                if \"dos amb\" in x:\n",
    "                    return 2.0\n",
    "                elif \"tres amb\" in x:\n",
    "                    return 3.0\n",
    "                elif \"cuatro amb\" in x:\n",
    "                    return 4.0\n",
    "                elif \"cinco amb\" in x:\n",
    "                    return 5.0\n",
    "                elif \"seis amb\" in x:\n",
    "                    return 6.0\n",
    "                return 0\n",
    "    except AttributeError:\n",
    "        return None"
   ]
  },
  {
   "cell_type": "code",
   "execution_count": 62,
   "metadata": {},
   "outputs": [],
   "source": [
    "def buscar_servicios_en_descripcion(descripcion):\n",
    "    \"\"\"Devuelve un diccionario con 1 o 0 segun cuente con el servicio o no.\n",
    "    Los servicios que consideraremos son cochera,pileta, vigilancia y gimnasio\"\"\"\n",
    "    dic = {\"cochera\":0,\"pileta\":0,\"vigilancia\":0,\"gimnasio\":0,\"patio\":0,\"terraza\":0,\"parrilla\":0,\"lavadero\":0}\n",
    "    descripcion = str(descripcion)\n",
    "    descripcion = str.lower(descripcion)\n",
    "    if \"cochera\" in descripcion or \"garage\" in descripcion:\n",
    "        dic[\"cochera\"] = 1\n",
    "    elif \"pileta\" in descripcion or \"piscina\" in descripcion:\n",
    "        dic[\"pileta\"] = 1\n",
    "    elif \"vigilancia\" in descripcion:\n",
    "        dic[\"vigilancia\"] = 1\n",
    "    elif \"gimnasio\" in descripcion:\n",
    "        dic[\"gimnasio\"] = 1\n",
    "    elif \"patio\" in descripcion:\n",
    "        dic[\"patio\"] = 1\n",
    "    elif \"terraza\" in descripcion:\n",
    "        dic[\"terraza\"] = 1\n",
    "    elif \"parrilla\" in descripcion:\n",
    "        dic[\"parrilla\"] = 1\n",
    "    elif \"lavadero\" in descripcion:\n",
    "        dic[\"lavadero\"] = 1\n",
    "    return dic"
   ]
  },
  {
   "cell_type": "code",
   "execution_count": 111,
   "metadata": {},
   "outputs": [],
   "source": [
    "def contar_ambientes(x):\n",
    "    \"Define la cantidad de ambientes en la descripcion\"\n",
    "    contador = 0\n",
    "    try:\n",
    "        x = x.lower()\n",
    "        if x.rfind(\"dormitorios\") != -1: \n",
    "            pos = x.rfind(\"dormitorios\")\n",
    "        elif x.rfind(\"habitaciones\") != -1:\n",
    "            pos = x.rfind(\"habitaciones\")\n",
    "            try:\n",
    "                contador += (float(x[pos -2])) # intento convertir lo que hay antes de la palabra\n",
    "                                              #si funciona es el numero de rooms\n",
    "            except ValueError:\n",
    "                if (\"dos dormitorios\" in x) or (\"dos habitaciones\" in x):\n",
    "                    contador += 2.0\n",
    "                elif (\"tres dormitorios\" in x) or (\"tres habitaciones\" in x):\n",
    "                    contador += 3.0\n",
    "                elif (\"cuatro dormitorios\" in x) or (\"cuatro habitaciones\" in x):\n",
    "                    contador += 4.0\n",
    "                elif (\"cinco dormitorios\" in x) or (\"cinco habitaciones\" in x):\n",
    "                    contador += 5.0\n",
    "                elif (\"seis dormitorios\" in x) or (\"seis habitaciones\" in x):\n",
    "                    contador += 6.0\n",
    "        if (\"living\" or \"comedor\") in x:\n",
    "            contador += 1.0\n",
    "    except AttributeError:\n",
    "        return None\n",
    "    return contador"
   ]
  },
  {
   "cell_type": "code",
   "execution_count": 64,
   "metadata": {},
   "outputs": [],
   "source": [
    "def place_name_from_parent(x): ## Segun vi el 3 item del place es generalmente el lugar\n",
    "    list = x.split('|')\n",
    "    if(len(list) < 5):\n",
    "        return list[2]\n",
    "    else:\n",
    "        return list[3]"
   ]
  },
  {
   "cell_type": "code",
   "execution_count": 46,
   "metadata": {},
   "outputs": [],
   "source": [
    "#Hay registros con precio en usd 0, pero en su descripcion se encuentra el precio asi que lo rescatamos\n",
    "def rescatar_precio_descrip(descripcion):\n",
    "    try:\n",
    "        descripcion = str.lower(descripcion)\n",
    "    except TypeError:\n",
    "        #No tiene descripcion\n",
    "        return 0\n",
    "    try:\n",
    "        if descripcion.rfind(\"usd\") != -1 and descripcion.rfind(\"null\") != -1:\n",
    "            pos_usd = descripcion.rfind(\"usd\")\n",
    "            pos_null = descripcion.rfind(\"null\")\n",
    "            precio = (descripcion[pos_usd + 4 : pos_null -1]).lstrip().rstrip()\n",
    "            if precio.isnumeric():\n",
    "                return float(precio)\n",
    "            elif descripcion.rfind('codigo: 2007-60') != -1:\n",
    "                #Es un registro que no puedo recuperar genericamente\n",
    "                return 35000\n",
    "            else:\n",
    "                #No es del formato USD precio null\n",
    "\n",
    "                return 0\n",
    "    except AttributeError:\n",
    "        return 0"
   ]
  },
  {
   "cell_type": "code",
   "execution_count": 140,
   "metadata": {},
   "outputs": [],
   "source": [
    "#Inicializo columnas\n",
    "data_training[\"servicios\"] = np.nan\n",
    "data_training[\"cochera\"] = int(0)\n",
    "data_training[\"pileta\"] = int(0)\n",
    "data_training[\"vigilancia\"] = int(0)\n",
    "data_training[\"gimnasio\"] = int(0)\n",
    "data_training[\"patio\"] = int(0)\n",
    "data_training[\"terraza\"] = int(0)\n",
    "data_training[\"parrilla\"] = int(0)\n",
    "data_training[\"lavadero\"] = int(0)"
   ]
  },
  {
   "cell_type": "code",
   "execution_count": 141,
   "metadata": {},
   "outputs": [],
   "source": [
    "#Busco en las descripciones\n",
    "data_training.loc[data_training[\"description\"].notnull(),\"servicios\"] = data_training[data_training[\"description\"].notnull()].description.apply(buscar_servicios_en_descripcion)"
   ]
  },
  {
   "cell_type": "code",
   "execution_count": 142,
   "metadata": {},
   "outputs": [],
   "source": [
    "#Modifico los valores encontrados en la tabla\n",
    "data_training.loc[:,\"cochera\"] = data_training[data_training[\"servicios\"].notnull()].apply(lambda x: x.servicios[\"cochera\"],axis = 1)\n",
    "data_training.loc[:,\"pileta\"] = data_training[data_training[\"servicios\"].notnull()].apply(lambda x: x.servicios[\"pileta\"],axis=1)\n",
    "data_training.loc[:,\"vigilancia\"] = data_training[data_training[\"servicios\"].notnull()].apply(lambda x: x.servicios[\"vigilancia\"],axis=1)\n",
    "data_training.loc[:,\"gimnasio\"] = data_training[data_training[\"servicios\"].notnull()].apply(lambda x: x.servicios[\"gimnasio\"],axis=1)\n",
    "data_training.loc[:,\"patio\"] = data_training[data_training[\"servicios\"].notnull()].apply(lambda x: x.servicios[\"patio\"],axis = 1)\n",
    "data_training.loc[:,\"terraza\"] = data_training[data_training[\"servicios\"].notnull()].apply(lambda x: x.servicios[\"terraza\"],axis=1)\n",
    "data_training.loc[:,\"parrilla\"] = data_training[data_training[\"servicios\"].notnull()].apply(lambda x: x.servicios[\"parrilla\"],axis=1)\n",
    "data_training.loc[:,\"lavadero\"] = data_training[data_training[\"servicios\"].notnull()].apply(lambda x: x.servicios[\"lavadero\"],axis=1)"
   ]
  },
  {
   "cell_type": "code",
   "execution_count": 143,
   "metadata": {},
   "outputs": [],
   "source": [
    "#Hay 12 campos que no se porque no se rellenan con 0\n",
    "data_training.cochera.fillna(0,inplace=True)\n",
    "data_training.pileta.fillna(0,inplace=True)\n",
    "data_training.vigilancia.fillna(0,inplace=True)\n",
    "data_training.gimnasio.fillna(0,inplace=True)\n",
    "data_training.patio.fillna(0,inplace=True)\n",
    "data_training.terraza.fillna(0,inplace=True)\n",
    "data_training.parrilla.fillna(0,inplace=True)\n",
    "data_training.lavadero.fillna(0,inplace=True)"
   ]
  },
  {
   "cell_type": "code",
   "execution_count": 144,
   "metadata": {},
   "outputs": [
    {
     "name": "stdout",
     "output_type": "stream",
     "text": [
      "<class 'pandas.core.frame.DataFrame'>\n",
      "RangeIndex: 264021 entries, 0 to 264020\n",
      "Data columns (total 31 columns):\n",
      "id                            264021 non-null object\n",
      "created_on                    264021 non-null object\n",
      "property_type                 264021 non-null object\n",
      "place_name                    263974 non-null object\n",
      "place_with_parent_names       264021 non-null object\n",
      "state_name                    264021 non-null object\n",
      "geonames_id                   211642 non-null float64\n",
      "lat-lon                       188028 non-null object\n",
      "lat                           188028 non-null float64\n",
      "lon                           188028 non-null float64\n",
      "price                         246208 non-null float64\n",
      "currency                      238346 non-null object\n",
      "price_aprox_local_currency    246208 non-null float64\n",
      "price_aprox_usd               246208 non-null float64\n",
      "surface_total_in_m2           189637 non-null float64\n",
      "surface_covered_in_m2         231150 non-null float64\n",
      "price_usd_per_m2              160071 non-null float64\n",
      "price_per_m2                  208954 non-null float64\n",
      "floor                         33991 non-null float64\n",
      "rooms                         134619 non-null float64\n",
      "expenses                      32429 non-null float64\n",
      "description                   264009 non-null object\n",
      "title                         264021 non-null object\n",
      "cochera                       264021 non-null float64\n",
      "pileta                        264021 non-null float64\n",
      "vigilancia                    264021 non-null float64\n",
      "gimnasio                      264021 non-null float64\n",
      "patio                         264021 non-null float64\n",
      "terraza                       264021 non-null float64\n",
      "parrilla                      264021 non-null float64\n",
      "lavadero                      264021 non-null float64\n",
      "dtypes: float64(21), object(10)\n",
      "memory usage: 62.4+ MB\n"
     ]
    }
   ],
   "source": [
    "#Elimino la columna servicios que ya no me sirve\n",
    "data_training.drop(\"servicios\",1,inplace=True)\n",
    "data_training.info()"
   ]
  },
  {
   "cell_type": "code",
   "execution_count": 145,
   "metadata": {},
   "outputs": [],
   "source": [
    "data_training.loc[data_training['price_aprox_usd'] == 0,'price_aprox_usd'] = data_training.loc[data_training['price_aprox_usd'] == 0].description.apply(rescatar_precio_descrip)"
   ]
  },
  {
   "cell_type": "code",
   "execution_count": 146,
   "metadata": {},
   "outputs": [],
   "source": [
    "data_training = data_training[data_training['state_name'].str.contains('G.B.A') | data_training['state_name'].str.contains('Capital Federal')]\n",
    "##El tp dice solo gba y caba\n",
    "\n",
    "data_training.dropna(axis=0,subset=['price_aprox_usd'],inplace=True) ## drop de los datos sin precio\n",
    "data_training = data_training.loc[data_training['price_aprox_usd'] > 0,:]\n",
    "\n",
    "#Recuperamos el dato rooms en el titulo y la descripcion\n",
    "data_training.loc[data_training.rooms.isnull(),'rooms'] = data_training.loc[data_training.rooms.isnull()].description.apply(recuperar_cant_amb)\n",
    "data_training.loc[data_training.rooms.isnull(),'rooms'] = data_training.loc[data_training.rooms.isnull()].title.apply(recuperar_cant_amb)\n",
    "#Recuperamos el dato rooms en la descripcion contando ambientes (living y dormitorios)\n",
    "data_training.loc[data_training.rooms.isnull(),'rooms'] = data_training.loc[data_training.rooms.isnull()].description.apply(contar_ambientes)\n",
    "data_training.loc[data_training.rooms == 0,'rooms'] = data_training.loc[data_training.rooms == 0].description.apply(contar_ambientes)\n",
    "\n",
    "\n",
    "data_training.loc[:,'place_name'] = data_training.place_with_parent_names.apply(place_name_from_parent)\n",
    "## esto quita muchos problemas de place name como nombres de country o palermo soho"
   ]
  },
  {
   "cell_type": "code",
   "execution_count": 147,
   "metadata": {},
   "outputs": [],
   "source": [
    "data_training = data_training.dropna(axis = 0, subset = ['price_aprox_usd','surface_total_in_m2'],how ='any')\n",
    "data_training['year'] = 0\n",
    "data_training['month'] = 0\n",
    "data_training.loc[:,'created_on'] = data_training.created_on.apply(pd.to_datetime)"
   ]
  },
  {
   "cell_type": "code",
   "execution_count": 148,
   "metadata": {},
   "outputs": [],
   "source": [
    "data_training.loc[:,'year'] = data_training.created_on.apply(lambda x: x.year)\n",
    "data_training.loc[:,'month'] = data_training.created_on.apply(lambda x: x.month)\n",
    "data_training.drop('created_on',1,inplace=True)"
   ]
  },
  {
   "cell_type": "code",
   "execution_count": 149,
   "metadata": {},
   "outputs": [],
   "source": [
    "#Hay 2 registro con rooms nan irrecuperables\n",
    "data_training.drop(132299,inplace=True)\n",
    "data_training.drop(95386,inplace=True)"
   ]
  },
  {
   "cell_type": "code",
   "execution_count": 150,
   "metadata": {},
   "outputs": [
    {
     "name": "stdout",
     "output_type": "stream",
     "text": [
      "<class 'pandas.core.frame.DataFrame'>\n",
      "Int64Index: 171112 entries, 0 to 264017\n",
      "Data columns (total 32 columns):\n",
      "id                            171112 non-null object\n",
      "property_type                 171112 non-null object\n",
      "place_name                    171112 non-null object\n",
      "place_with_parent_names       171112 non-null object\n",
      "state_name                    171112 non-null object\n",
      "geonames_id                   136701 non-null float64\n",
      "lat-lon                       121217 non-null object\n",
      "lat                           121217 non-null float64\n",
      "lon                           121217 non-null float64\n",
      "price                         171112 non-null float64\n",
      "currency                      171064 non-null object\n",
      "price_aprox_local_currency    171112 non-null float64\n",
      "price_aprox_usd               171112 non-null float64\n",
      "surface_total_in_m2           171112 non-null float64\n",
      "surface_covered_in_m2         163024 non-null float64\n",
      "price_usd_per_m2              160036 non-null float64\n",
      "price_per_m2                  159830 non-null float64\n",
      "floor                         22549 non-null float64\n",
      "rooms                         171112 non-null float64\n",
      "expenses                      28699 non-null float64\n",
      "description                   171108 non-null object\n",
      "title                         171112 non-null object\n",
      "cochera                       171112 non-null float64\n",
      "pileta                        171112 non-null float64\n",
      "vigilancia                    171112 non-null float64\n",
      "gimnasio                      171112 non-null float64\n",
      "patio                         171112 non-null float64\n",
      "terraza                       171112 non-null float64\n",
      "parrilla                      171112 non-null float64\n",
      "lavadero                      171112 non-null float64\n",
      "year                          171112 non-null int64\n",
      "month                         171112 non-null int64\n",
      "dtypes: float64(21), int64(2), object(9)\n",
      "memory usage: 43.1+ MB\n"
     ]
    }
   ],
   "source": [
    "#NO considerare lat lon porque reduce mucho los registros\n",
    "data_training.info()"
   ]
  },
  {
   "cell_type": "code",
   "execution_count": 151,
   "metadata": {},
   "outputs": [
    {
     "name": "stdout",
     "output_type": "stream",
     "text": [
      "<class 'pandas.core.frame.DataFrame'>\n",
      "Int64Index: 171112 entries, 0 to 264017\n",
      "Data columns (total 32 columns):\n",
      "id                            171112 non-null object\n",
      "property_type                 171112 non-null object\n",
      "place_name                    171112 non-null object\n",
      "place_with_parent_names       171112 non-null object\n",
      "state_name                    171112 non-null object\n",
      "geonames_id                   136701 non-null float64\n",
      "lat-lon                       121217 non-null object\n",
      "lat                           121217 non-null float64\n",
      "lon                           121217 non-null float64\n",
      "price                         171112 non-null float64\n",
      "currency                      171064 non-null object\n",
      "price_aprox_local_currency    171112 non-null float64\n",
      "price_aprox_usd               171112 non-null float64\n",
      "surface_total_in_m2           171112 non-null float64\n",
      "surface_covered_in_m2         163024 non-null float64\n",
      "price_usd_per_m2              171112 non-null float64\n",
      "price_per_m2                  159830 non-null float64\n",
      "floor                         22549 non-null float64\n",
      "rooms                         171112 non-null float64\n",
      "expenses                      28699 non-null float64\n",
      "description                   171108 non-null object\n",
      "title                         171112 non-null object\n",
      "cochera                       171112 non-null float64\n",
      "pileta                        171112 non-null float64\n",
      "vigilancia                    171112 non-null float64\n",
      "gimnasio                      171112 non-null float64\n",
      "patio                         171112 non-null float64\n",
      "terraza                       171112 non-null float64\n",
      "parrilla                      171112 non-null float64\n",
      "lavadero                      171112 non-null float64\n",
      "year                          171112 non-null int64\n",
      "month                         171112 non-null int64\n",
      "dtypes: float64(21), int64(2), object(9)\n",
      "memory usage: 48.1+ MB\n"
     ]
    }
   ],
   "source": [
    "#Recuperamos registros a los que no se les calculo el precio por m2 en dolares\n",
    "data_training.loc[data_training['price_usd_per_m2'].isnull(),'price_usd_per_m2'] = data_training.surface_total_in_m2 / data_training.price_aprox_usd\n",
    "data_training.info()"
   ]
  },
  {
   "cell_type": "code",
   "execution_count": 152,
   "metadata": {},
   "outputs": [],
   "source": [
    "from sklearn.preprocessing import LabelEncoder\n",
    "\n",
    "#Vamos a codificar cada columna que sea de strings\n",
    "lb_make1 = LabelEncoder()\n",
    "data_training[\"property_type_code\"] = lb_make1.fit_transform(data_training[\"property_type\"])\n",
    "\n",
    "lb_make2 = LabelEncoder()\n",
    "data_training[\"place_name_code\"] = lb_make2.fit_transform(data_training[\"place_name\"])\n",
    "\n",
    "lb_make3 = LabelEncoder()\n",
    "data_training[\"place_with_parent_names_code\"] = lb_make3.fit_transform(data_training[\"place_with_parent_names\"])\n",
    "\n",
    "lb_make4 = LabelEncoder()\n",
    "data_training[\"state_name_code\"] = lb_make4.fit_transform(data_training[\"state_name\"])"
   ]
  },
  {
   "cell_type": "code",
   "execution_count": 161,
   "metadata": {},
   "outputs": [],
   "source": [
    "data_training2 = data_training[['lat', 'lon', 'price_aprox_usd', 'surface_total_in_m2',\n",
    "       'price_usd_per_m2', 'rooms', 'year', 'month', 'property_type_code',\n",
    "       'place_name_code', 'place_with_parent_names_code', 'state_name_code']]\n",
    "\n",
    "data_training2 = data_training2.dropna(axis = 0, subset = ['lat','lon'],how ='any')"
   ]
  },
  {
   "cell_type": "code",
   "execution_count": 162,
   "metadata": {},
   "outputs": [
    {
     "name": "stdout",
     "output_type": "stream",
     "text": [
      "LOGR: 0.937963 (0.018299)\n"
     ]
    },
    {
     "name": "stderr",
     "output_type": "stream",
     "text": [
      "/usr/local/lib/python3.5/dist-packages/sklearn/discriminant_analysis.py:442: UserWarning: The priors do not sum to 1. Renormalizing\n",
      "  UserWarning)\n"
     ]
    },
    {
     "name": "stdout",
     "output_type": "stream",
     "text": [
      "LDA: 0.951277 (0.019488)\n",
      "KNN: 0.892392 (0.015062)\n",
      "CART: 1.000000 (0.000000)\n",
      "NB: 0.965533 (0.020829)\n"
     ]
    },
    {
     "data": {
      "image/png": "[encoded data removed]",
      "text/plain": [
       "<matplotlib.figure.Figure at 0x7f5c7692fd68>"
      ]
     },
     "metadata": {},
     "output_type": "display_data"
    }
   ],
   "source": [
    "# Compare Algorithms\n",
    "\n",
    "# load dataset\n",
    "#url = '/home/lucio/Documentos/OrgaDeDatos/ProperatiDatosTP/data/asdasd.csv'\n",
    "#names = ['created_on', 'lat','lon', 'price_aprox_usd', 'price_usd_per_m2',\\\n",
    "#                'property_type','rooms','surface_total_in_m2']\n",
    "\n",
    "dataframe = data_training2\n",
    "array = dataframe.values\n",
    "X = array[:,0:11]\n",
    "Y = array[:,11]\n",
    "\n",
    "# prepare configuration for cross validation test harness\n",
    "seed = 7\n",
    "# prepare models\n",
    "models = []\n",
    "models.append(('LOGR', LogisticRegression()))\n",
    "models.append(('LDA', LinearDiscriminantAnalysis()))\n",
    "models.append(('KNN', KNeighborsClassifier()))\n",
    "models.append(('CART', DecisionTreeClassifier()))\n",
    "models.append(('NB', GaussianNB()))\n",
    "#models.append(('SVM', SVC())) # En casi 3hs nadaaa si alguno lo prueba y le anda en menos copado jaja\n",
    "# evaluate each model in turn\n",
    "results = []\n",
    "names = []\n",
    "scoring = 'accuracy'\n",
    "for name, model in models:\n",
    "\tkfold = model_selection.KFold(n_splits=10, random_state=seed)\n",
    "\tcv_results = model_selection.cross_val_score(model, X, Y, cv=kfold, scoring=scoring)\n",
    "\tresults.append(cv_results)\n",
    "\tnames.append(name)\n",
    "\tmsg = \"%s: %f (%f)\" % (name, cv_results.mean(), cv_results.std())\n",
    "\tprint(msg)\n",
    "# boxplot algorithm comparison\n",
    "fig = plt.figure(figsize=(10,10))\n",
    "fig.suptitle('Algorithm Comparison')\n",
    "ax = fig.add_subplot(111)\n",
    "plt.boxplot(results)\n",
    "ax.set_xticklabels(names)\n",
    "plt.show()"
   ]
  },
  {
   "cell_type": "code",
   "execution_count": 154,
   "metadata": {},
   "outputs": [],
   "source": [
    "#Sin considerar latitudes\n",
    "data_training3 = data_training[['price_aprox_usd', 'surface_total_in_m2',\n",
    "       'price_usd_per_m2', 'rooms', 'year', 'month', 'property_type_code',\n",
    "       'place_name_code', 'place_with_parent_names_code', 'state_name_code']]"
   ]
  },
  {
   "cell_type": "code",
   "execution_count": 157,
   "metadata": {},
   "outputs": [
    {
     "name": "stdout",
     "output_type": "stream",
     "text": [
      "LR: 0.902976 (0.066592)\n",
      "LDA: 0.949963 (0.028033)\n",
      "KNN: 0.901106 (0.015736)\n",
      "CART: 1.000000 (0.000000)\n",
      "NB: 0.963264 (0.028974)\n"
     ]
    },
    {
     "data": {
      "image/png": "[encoded data removed]",
      "text/plain": [
       "<matplotlib.figure.Figure at 0x7f5c70dbd710>"
      ]
     },
     "metadata": {},
     "output_type": "display_data"
    }
   ],
   "source": [
    "dataframe = data_training3\n",
    "array = dataframe.values\n",
    "X = array[:,0:9]\n",
    "Y = array[:,9]\n",
    "\n",
    "# prepare configuration for cross validation test harness\n",
    "seed = 7\n",
    "# prepare models\n",
    "models = []\n",
    "models.append(('LR', LogisticRegression()))\n",
    "models.append(('LDA', LinearDiscriminantAnalysis()))\n",
    "models.append(('KNN', KNeighborsClassifier()))\n",
    "models.append(('CART', DecisionTreeClassifier()))\n",
    "models.append(('NB', GaussianNB()))\n",
    "#models.append(('SVM', SVC())) # En casi 3hs nadaaa si alguno lo prueba y le anda en menos copado jaja\n",
    "# evaluate each model in turn\n",
    "results = []\n",
    "names = []\n",
    "scoring = 'accuracy'\n",
    "for name, model in models:\n",
    "\tkfold = model_selection.KFold(n_splits=10, random_state=seed)\n",
    "\tcv_results = model_selection.cross_val_score(model, X, Y, cv=kfold, scoring=scoring)\n",
    "\tresults.append(cv_results)\n",
    "\tnames.append(name)\n",
    "\tmsg = \"%s: %f (%f)\" % (name, cv_results.mean(), cv_results.std())\n",
    "\tprint(msg)\n",
    "# boxplot algorithm comparison\n",
    "fig = plt.figure(figsize=(10,10))\n",
    "fig.suptitle('Algorithm Comparison')\n",
    "ax = fig.add_subplot(111)\n",
    "plt.boxplot(results)\n",
    "ax.set_xticklabels(names)\n",
    "plt.show()"
   ]
  }
 ],
 "metadata": {
  "kernelspec": {
   "display_name": "Python 3",
   "language": "python",
   "name": "python3"
  },
  "language_info": {
   "codemirror_mode": {
    "name": "ipython",
    "version": 3
   },
   "file_extension": ".py",
   "mimetype": "text/x-python",
   "name": "python",
   "nbconvert_exporter": "python",
   "pygments_lexer": "ipython3",
   "version": "3.5.2"
  }
 },
 "nbformat": 4,
 "nbformat_minor": 2
}
