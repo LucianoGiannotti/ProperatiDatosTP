{
 "cells": [
  {
   "cell_type": "markdown",
   "metadata": {},
   "source": [
    "# TP2: Machine learning"
   ]
  },
  {
   "cell_type": "code",
   "execution_count": 1,
   "metadata": {},
   "outputs": [],
   "source": [
    "import pandas as pd\n",
    "%matplotlib inline\n",
    "from datetime import datetime\n",
    "import scipy.spatial\n",
    "from sklearn import preprocessing\n",
    "import numpy as np\n",
    "import matplotlib.pyplot as plt"
   ]
  },
  {
   "cell_type": "raw",
   "metadata": {},
   "source": [
    "from sklearn import svm\n",
    "import matplotlib.pyplot as plt\n",
    "from sklearn.neighbors import KNeighborsRegressor\n",
    "from sklearn.linear_model import LinearRegression, LogisticRegression\n",
    "from sklearn.svm import SVR\n",
    "from sklearn.metrics import r2_score\n",
    "from sklearn.cross_validation import train_test_split\n",
    "from sklearn.ensemble import RandomForestRegressor\n",
    "import pandas as pd\n",
    "from sklearn import preprocessing\n",
    "from sklearn import utils\n",
    "\n",
    "#prepare dataset  \n",
    "#....   \n",
    "#spilt dataset\n",
    "\n",
    "Xtrn, Xtest, Ytrn, Ytest = train_test_split(data_servible2, data_servible2[['price_aprox_usd']],test_size=0.2)\n",
    "\n",
    "# model = RandomForestRegressor(n_estimators=150, max_features='sqrt', n_jobs=-1)  # случайный лес\n",
    "models = [LinearRegression(),RandomForestRegressor(n_estimators=100, max_features='sqrt'),\\\n",
    "          KNeighborsRegressor(n_neighbors=6),SVR(kernel='linear'),LogisticRegression()]\n",
    " \n",
    "TestModels = pd.DataFrame()\n",
    "tmp = {}\n",
    "for model in models:\n",
    "    # get model name\n",
    "    m = str(model)\n",
    "    tmp['Model'] = m[:m.index('(')]\n",
    "    # fit model on training dataset\n",
    "    model.fit(Xtrn, Ytrn['price_aprox_usd'])\n",
    "    # predict prices for test dataset and calculate r^2\n",
    "    tmp['R2_Price'] = r2_score(Ytest['price_aprox_usd'], model.predict(Xtest))\n",
    "    # write obtained data\n",
    "    TestModels = TestModels.append([tmp])\n",
    " \n",
    "TestModels.set_index('Model', inplace=True)\n",
    " \n",
    "fig, axes = plt.subplots(ncols=1, figsize=(10, 4))\n",
    "TestModels.R2_Price.plot(ax=axes, kind='bar', title='R2_Price')\n",
    "plt.show()"
   ]
  },
  {
   "cell_type": "code",
   "execution_count": 2,
   "metadata": {},
   "outputs": [],
   "source": [
    "data_training = pd.read_csv('data/properati-merge2017-2016-2015-SOLOSIX.csv')"
   ]
  },
  {
   "cell_type": "code",
   "execution_count": 3,
   "metadata": {},
   "outputs": [],
   "source": [
    "def recuperar_cant_amb(x):\n",
    "    \"Recupera el dato amb en x (puede ser la descripcion o el titulo)\"\n",
    "    try:\n",
    "        x = x.lower()\n",
    "        if x.rfind(\"ambientes\") != -1 or x.rfind(\"amb\") != -1:\n",
    "            pos = x.rfind(\"amb\")\n",
    "            try:\n",
    "                return (float(x[pos -2])) # intento convertir lo que hay antes de la palabra\n",
    "                                              #si funciona es el numero de rooms\n",
    "            except ValueError:\n",
    "                if \"dos amb\" in x:\n",
    "                    return 2.0\n",
    "                elif \"tres amb\" in x:\n",
    "                    return 3.0\n",
    "                elif \"cuatro amb\" in x:\n",
    "                    return 4.0\n",
    "                elif \"cinco amb\" in x:\n",
    "                    return 5.0\n",
    "                elif \"seis amb\" in x:\n",
    "                    return 6.0\n",
    "                return 0\n",
    "    except AttributeError:\n",
    "        return None"
   ]
  },
  {
   "cell_type": "code",
   "execution_count": 4,
   "metadata": {},
   "outputs": [],
   "source": [
    "def contar_ambientes(x):\n",
    "    \"Define la cantidad de ambientes en la descripcion\"\n",
    "    contador = 0\n",
    "    try:\n",
    "        x = x.lower()\n",
    "        if x.rfind(\"dormitorios\") != -1:\n",
    "            pos = x.rfind(\"dormitorios\")\n",
    "            try:\n",
    "                contador += (float(x[pos -2])) # intento convertir lo que hay antes de la palabra\n",
    "                                              #si funciona es el numero de rooms\n",
    "            except ValueError:\n",
    "                if \"dos dormitorios\" in x:\n",
    "                    contador += 2.0\n",
    "                elif \"tres dormitorios\" in x:\n",
    "                    contador += 3.0\n",
    "                elif \"cuatro dormitorios\" in x:\n",
    "                    contador += 4.0\n",
    "                elif \"cinco dormitorios\" in x:\n",
    "                    contador += 5.0\n",
    "                elif \"seis dormitorios\" in x:\n",
    "                    contador += 6.0\n",
    "        if (\"living\" or \"comedor\") in x:\n",
    "            contador += 1.0\n",
    "    except AttributeError:\n",
    "        return None\n",
    "    return contador"
   ]
  },
  {
   "cell_type": "code",
   "execution_count": 5,
   "metadata": {},
   "outputs": [],
   "source": [
    "def place_name_from_parent(x): ## Segun vi el 3 item del place es generalmente el lugar\n",
    "    list = x.split('|')\n",
    "    if(len(list) < 5):\n",
    "        return list[2]\n",
    "    else:\n",
    "        return list[3]"
   ]
  },
  {
   "cell_type": "code",
   "execution_count": 6,
   "metadata": {},
   "outputs": [],
   "source": [
    "data_training = data_training[data_training['state_name'].str.contains('G.B.A') | data_training['state_name'].str.contains('Capital Federal')]\n",
    "##El tp dice solo gba y caba\n",
    "\n",
    "data_training.dropna(axis=0,subset=['price'],inplace=True) ## drop de los datos sin precio\n",
    "data_training = data_training.loc[data_training['price'] > 0,:]\n",
    "\n",
    "#Recuperamos el dato rooms en el titulo y la descripcion\n",
    "data_training.loc[data_training.rooms.isnull(),'rooms'] = data_training.description.apply(recuperar_cant_amb)\n",
    "data_training.loc[data_training.rooms.isnull(),'rooms'] = data_training.title.apply(recuperar_cant_amb)\n",
    "#Recuperamos el dato rooms en la descripcion contando ambientes (living y dormitorios)\n",
    "data_training.loc[data_training.rooms.isnull(),'rooms'] = data_training.description.apply(contar_ambientes)\n",
    "#Recuperamos el dato rooms en el titulo y la descripcion\n",
    "data_training.loc[data_training.rooms == 0,'rooms'] = data_training.description.apply(contar_ambientes)\n",
    "\n",
    "data_training.loc[:,'place_name'] = data_training.place_with_parent_names.apply(place_name_from_parent)\n",
    "## esto quita muchos problemas de place name como nombres de country o palermo soho"
   ]
  },
  {
   "cell_type": "code",
   "execution_count": 7,
   "metadata": {},
   "outputs": [
    {
     "name": "stdout",
     "output_type": "stream",
     "text": [
      "<class 'pandas.core.frame.DataFrame'>\n",
      "Int64Index: 235829 entries, 0 to 264020\n",
      "Data columns (total 23 columns):\n",
      "id                            235829 non-null object\n",
      "created_on                    235829 non-null object\n",
      "property_type                 235829 non-null object\n",
      "place_name                    235829 non-null object\n",
      "place_with_parent_names       235829 non-null object\n",
      "state_name                    235829 non-null object\n",
      "geonames_id                   187297 non-null float64\n",
      "lat-lon                       168010 non-null object\n",
      "lat                           168010 non-null float64\n",
      "lon                           168010 non-null float64\n",
      "price                         235829 non-null float64\n",
      "currency                      235829 non-null object\n",
      "price_aprox_local_currency    235829 non-null float64\n",
      "price_aprox_usd               235829 non-null float64\n",
      "surface_total_in_m2           171042 non-null float64\n",
      "surface_covered_in_m2         212097 non-null float64\n",
      "price_usd_per_m2              160038 non-null float64\n",
      "price_per_m2                  208954 non-null float64\n",
      "floor                         32335 non-null float64\n",
      "rooms                         235821 non-null float64\n",
      "expenses                      31039 non-null float64\n",
      "description                   235817 non-null object\n",
      "title                         235829 non-null object\n",
      "dtypes: float64(13), object(10)\n",
      "memory usage: 53.2+ MB\n"
     ]
    }
   ],
   "source": [
    "data_training.info()"
   ]
  },
  {
   "cell_type": "code",
   "execution_count": 8,
   "metadata": {},
   "outputs": [
    {
     "name": "stdout",
     "output_type": "stream",
     "text": [
      "<class 'pandas.core.frame.DataFrame'>\n",
      "Int64Index: 112599 entries, 0 to 264017\n",
      "Data columns (total 25 columns):\n",
      "id                            112599 non-null object\n",
      "created_on                    112599 non-null datetime64[ns]\n",
      "property_type                 112599 non-null object\n",
      "place_name                    112599 non-null object\n",
      "place_with_parent_names       112599 non-null object\n",
      "state_name                    112599 non-null object\n",
      "geonames_id                   92005 non-null float64\n",
      "lat-lon                       112599 non-null object\n",
      "lat                           112599 non-null float64\n",
      "lon                           112599 non-null float64\n",
      "price                         112599 non-null float64\n",
      "currency                      112599 non-null object\n",
      "price_aprox_local_currency    112599 non-null float64\n",
      "price_aprox_usd               112599 non-null float64\n",
      "surface_total_in_m2           112599 non-null float64\n",
      "surface_covered_in_m2         107388 non-null float64\n",
      "price_usd_per_m2              112599 non-null float64\n",
      "price_per_m2                  106099 non-null float64\n",
      "floor                         16004 non-null float64\n",
      "rooms                         112598 non-null float64\n",
      "expenses                      21148 non-null float64\n",
      "description                   112596 non-null object\n",
      "title                         112599 non-null object\n",
      "year                          112599 non-null int64\n",
      "month                         112599 non-null int64\n",
      "dtypes: datetime64[ns](1), float64(13), int64(2), object(9)\n",
      "memory usage: 22.3+ MB\n"
     ]
    }
   ],
   "source": [
    "data_training = data_training.dropna(axis = 0, subset = ['lat','lon','price_aprox_usd','surface_total_in_m2',\\\n",
    "                                                        'price_usd_per_m2'],how ='any')\n",
    "data_training['year'] = 0\n",
    "data_training['month'] = 0\n",
    "data_training.loc[:,'created_on'] = data_training.created_on.apply(pd.to_datetime)\n",
    "data_training.info()"
   ]
  },
  {
   "cell_type": "code",
   "execution_count": 9,
   "metadata": {},
   "outputs": [
    {
     "name": "stdout",
     "output_type": "stream",
     "text": [
      "<class 'pandas.core.frame.DataFrame'>\n",
      "Int64Index: 112599 entries, 0 to 264017\n",
      "Data columns (total 11 columns):\n",
      "created_on                 112599 non-null datetime64[ns]\n",
      "property_type              112599 non-null object\n",
      "place_name                 112599 non-null object\n",
      "place_with_parent_names    112599 non-null object\n",
      "state_name                 112599 non-null object\n",
      "lat                        112599 non-null float64\n",
      "lon                        112599 non-null float64\n",
      "price_aprox_usd            112599 non-null float64\n",
      "surface_total_in_m2        112599 non-null float64\n",
      "price_usd_per_m2           112599 non-null float64\n",
      "rooms                      112598 non-null float64\n",
      "dtypes: datetime64[ns](1), float64(6), object(4)\n",
      "memory usage: 10.3+ MB\n"
     ]
    }
   ],
   "source": [
    "data_training = data_training[['created_on', 'property_type', 'place_name','place_with_parent_names', 'state_name','lat', 'lon','price_aprox_usd', 'surface_total_in_m2','price_usd_per_m2','rooms']]\n",
    "data_training.info()"
   ]
  },
  {
   "cell_type": "code",
   "execution_count": 10,
   "metadata": {},
   "outputs": [],
   "source": [
    "#Hay un registro con rooms nan\n",
    "data_training.drop(132299,inplace=True)"
   ]
  },
  {
   "cell_type": "code",
   "execution_count": 11,
   "metadata": {},
   "outputs": [],
   "source": [
    "data_training.loc[:,'year'] = data_training.created_on.apply(lambda x: x.year)\n",
    "data_training.loc[:,'month'] = data_training.created_on.apply(lambda x: x.month)"
   ]
  },
  {
   "cell_type": "code",
   "execution_count": 12,
   "metadata": {},
   "outputs": [
    {
     "name": "stdout",
     "output_type": "stream",
     "text": [
      "<class 'pandas.core.frame.DataFrame'>\n",
      "Int64Index: 112598 entries, 0 to 264017\n",
      "Data columns (total 12 columns):\n",
      "property_type              112598 non-null object\n",
      "place_name                 112598 non-null object\n",
      "place_with_parent_names    112598 non-null object\n",
      "state_name                 112598 non-null object\n",
      "lat                        112598 non-null float64\n",
      "lon                        112598 non-null float64\n",
      "price_aprox_usd            112598 non-null float64\n",
      "surface_total_in_m2        112598 non-null float64\n",
      "price_usd_per_m2           112598 non-null float64\n",
      "rooms                      112598 non-null float64\n",
      "year                       112598 non-null int64\n",
      "month                      112598 non-null int64\n",
      "dtypes: float64(6), int64(2), object(4)\n",
      "memory usage: 11.2+ MB\n"
     ]
    }
   ],
   "source": [
    "data_training.drop('created_on',1,inplace=True)\n",
    "data_training.info()"
   ]
  },
  {
   "cell_type": "code",
   "execution_count": 13,
   "metadata": {},
   "outputs": [],
   "source": [
    "from sklearn.preprocessing import LabelEncoder\n",
    "\n",
    "#Vamos a codificar cada columna que sea de strings\n",
    "lb_make1 = LabelEncoder()\n",
    "data_training[\"property_type_code\"] = lb_make1.fit_transform(data_training[\"property_type\"])\n",
    "\n",
    "lb_make2 = LabelEncoder()\n",
    "data_training[\"place_name_code\"] = lb_make2.fit_transform(data_training[\"place_name\"])\n",
    "\n",
    "lb_make3 = LabelEncoder()\n",
    "data_training[\"place_with_parent_names_code\"] = lb_make3.fit_transform(data_training[\"place_with_parent_names\"])\n",
    "\n",
    "lb_make4 = LabelEncoder()\n",
    "data_training[\"state_name_code\"] = lb_make4.fit_transform(data_training[\"state_name\"])"
   ]
  },
  {
   "cell_type": "code",
   "execution_count": 14,
   "metadata": {},
   "outputs": [],
   "source": [
    "data_training2 = data_training[['lat', 'lon', 'price_aprox_usd', 'surface_total_in_m2',\n",
    "       'price_usd_per_m2', 'rooms', 'year', 'month', 'property_type_code',\n",
    "       'place_name_code', 'place_with_parent_names_code', 'state_name_code']]"
   ]
  },
  {
   "cell_type": "code",
   "execution_count": 15,
   "metadata": {},
   "outputs": [
    {
     "name": "stdout",
     "output_type": "stream",
     "text": [
      "LR: 0.939759 (0.017403)\n",
      "LDA: 0.955656 (0.011939)\n",
      "KNN: 0.892920 (0.015760)\n",
      "CART: 1.000000 (0.000000)\n",
      "NB: 0.974822 (0.015767)\n"
     ]
    },
    {
     "data": {
      "image/png": "[encoded data removed]",
      "text/plain": [
       "<matplotlib.figure.Figure at 0x7f2daaba7ef0>"
      ]
     },
     "metadata": {},
     "output_type": "display_data"
    }
   ],
   "source": [
    "# Compare Algorithms\n",
    "from sklearn import model_selection\n",
    "from sklearn.linear_model import LogisticRegression\n",
    "from sklearn.tree import DecisionTreeClassifier\n",
    "from sklearn.neighbors import KNeighborsClassifier\n",
    "from sklearn.discriminant_analysis import LinearDiscriminantAnalysis\n",
    "from sklearn.naive_bayes import GaussianNB\n",
    "from sklearn.svm import SVC\n",
    "# load dataset\n",
    "#url = '/home/lucio/Documentos/OrgaDeDatos/ProperatiDatosTP/data/asdasd.csv'\n",
    "#names = ['created_on', 'lat','lon', 'price_aprox_usd', 'price_usd_per_m2',\\\n",
    "#                'property_type','rooms','surface_total_in_m2']\n",
    "\n",
    "dataframe = data_training2\n",
    "array = dataframe.values\n",
    "X = array[:,0:11]\n",
    "Y = array[:,11]\n",
    "\n",
    "# prepare configuration for cross validation test harness\n",
    "seed = 7\n",
    "# prepare models\n",
    "models = []\n",
    "models.append(('LR', LogisticRegression()))\n",
    "models.append(('LDA', LinearDiscriminantAnalysis()))\n",
    "models.append(('KNN', KNeighborsClassifier()))\n",
    "models.append(('CART', DecisionTreeClassifier()))\n",
    "models.append(('NB', GaussianNB()))\n",
    "#models.append(('SVM', SVC())) # En casi 3hs nadaaa si alguno lo prueba y le anda en menos copado jaja\n",
    "# evaluate each model in turn\n",
    "results = []\n",
    "names = []\n",
    "scoring = 'accuracy'\n",
    "for name, model in models:\n",
    "\tkfold = model_selection.KFold(n_splits=10, random_state=seed)\n",
    "\tcv_results = model_selection.cross_val_score(model, X, Y, cv=kfold, scoring=scoring)\n",
    "\tresults.append(cv_results)\n",
    "\tnames.append(name)\n",
    "\tmsg = \"%s: %f (%f)\" % (name, cv_results.mean(), cv_results.std())\n",
    "\tprint(msg)\n",
    "# boxplot algorithm comparison\n",
    "fig = plt.figure(figsize=(10,10))\n",
    "fig.suptitle('Algorithm Comparison')\n",
    "ax = fig.add_subplot(111)\n",
    "plt.boxplot(results)\n",
    "ax.set_xticklabels(names)\n",
    "plt.show()"
   ]
  },
  {
   "cell_type": "code",
   "execution_count": 16,
   "metadata": {},
   "outputs": [
    {
     "name": "stdout",
     "output_type": "stream",
     "text": [
      "LR: 0.939652 (0.016707)\n",
      "LDA: 0.954893 (0.005225)\n",
      "KNN: 0.886020 (0.013099)\n",
      "CART: 1.000000 (0.000000)\n",
      "NB: 0.963836 (0.019471)\n"
     ]
    },
    {
     "data": {
      "image/png": "[encoded data removed]",
      "text/plain": [
       "<matplotlib.figure.Figure at 0x7f2daaaad3c8>"
      ]
     },
     "metadata": {},
     "output_type": "display_data"
    }
   ],
   "source": [
    "dataframe = data_training2\n",
    "array = dataframe.values\n",
    "X = array[:,0:11]\n",
    "Y = array[:,11]\n",
    "\n",
    "# prepare configuration for cross validation test harness\n",
    "seed = 7\n",
    "# prepare models\n",
    "models = []\n",
    "models.append(('LR', LogisticRegression()))\n",
    "models.append(('LDA', LinearDiscriminantAnalysis()))\n",
    "models.append(('KNN', KNeighborsClassifier()))\n",
    "models.append(('CART', DecisionTreeClassifier()))\n",
    "models.append(('NB', GaussianNB()))\n",
    "#models.append(('SVM', SVC())) # En casi 3hs nadaaa si alguno lo prueba y le anda en menos copado jaja\n",
    "# evaluate each model in turn\n",
    "results = []\n",
    "names = []\n",
    "scoring = 'accuracy'\n",
    "for name, model in models:\n",
    "\tkfold = model_selection.KFold(n_splits=5, random_state=seed)\n",
    "\tcv_results = model_selection.cross_val_score(model, X, Y, cv=kfold, scoring=scoring)\n",
    "\tresults.append(cv_results)\n",
    "\tnames.append(name)\n",
    "\tmsg = \"%s: %f (%f)\" % (name, cv_results.mean(), cv_results.std())\n",
    "\tprint(msg)\n",
    "# boxplot algorithm comparison\n",
    "fig = plt.figure(figsize=(10,10))\n",
    "fig.suptitle('Algorithm Comparison')\n",
    "ax = fig.add_subplot(111)\n",
    "plt.boxplot(results)\n",
    "ax.set_xticklabels(names)\n",
    "plt.show()"
   ]
  },
  {
   "cell_type": "code",
   "execution_count": 17,
   "metadata": {},
   "outputs": [],
   "source": [
    "#Sin considerar latitudes\n",
    "data_training3 = data_training[['price_aprox_usd', 'surface_total_in_m2',\n",
    "       'price_usd_per_m2', 'rooms', 'year', 'month', 'property_type_code',\n",
    "       'place_name_code', 'place_with_parent_names_code', 'state_name_code']]"
   ]
  },
  {
   "cell_type": "code",
   "execution_count": 18,
   "metadata": {},
   "outputs": [
    {
     "name": "stdout",
     "output_type": "stream",
     "text": [
      "LR: 0.929608 (0.018222)\n",
      "LDA: 0.955497 (0.012202)\n",
      "KNN: 0.892947 (0.015752)\n",
      "CART: 1.000000 (0.000000)\n",
      "NB: 0.975302 (0.015308)\n"
     ]
    },
    {
     "data": {
      "image/png": "[encoded data removed]",
      "text/plain": [
       "<matplotlib.figure.Figure at 0x7f2daad5f438>"
      ]
     },
     "metadata": {},
     "output_type": "display_data"
    }
   ],
   "source": [
    "dataframe = data_training3\n",
    "array = dataframe.values\n",
    "X = array[:,0:9]\n",
    "Y = array[:,9]\n",
    "\n",
    "# prepare configuration for cross validation test harness\n",
    "seed = 7\n",
    "# prepare models\n",
    "models = []\n",
    "models.append(('LR', LogisticRegression()))\n",
    "models.append(('LDA', LinearDiscriminantAnalysis()))\n",
    "models.append(('KNN', KNeighborsClassifier()))\n",
    "models.append(('CART', DecisionTreeClassifier()))\n",
    "models.append(('NB', GaussianNB()))\n",
    "#models.append(('SVM', SVC())) # En casi 3hs nadaaa si alguno lo prueba y le anda en menos copado jaja\n",
    "# evaluate each model in turn\n",
    "results = []\n",
    "names = []\n",
    "scoring = 'accuracy'\n",
    "for name, model in models:\n",
    "\tkfold = model_selection.KFold(n_splits=10, random_state=seed)\n",
    "\tcv_results = model_selection.cross_val_score(model, X, Y, cv=kfold, scoring=scoring)\n",
    "\tresults.append(cv_results)\n",
    "\tnames.append(name)\n",
    "\tmsg = \"%s: %f (%f)\" % (name, cv_results.mean(), cv_results.std())\n",
    "\tprint(msg)\n",
    "# boxplot algorithm comparison\n",
    "fig = plt.figure(figsize=(10,10))\n",
    "fig.suptitle('Algorithm Comparison')\n",
    "ax = fig.add_subplot(111)\n",
    "plt.boxplot(results)\n",
    "ax.set_xticklabels(names)\n",
    "plt.show()"
   ]
  }
 ],
 "metadata": {
  "kernelspec": {
   "display_name": "Python 3",
   "language": "python",
   "name": "python3"
  },
  "language_info": {
   "codemirror_mode": {
    "name": "ipython",
    "version": 3
   },
   "file_extension": ".py",
   "mimetype": "text/x-python",
   "name": "python",
   "nbconvert_exporter": "python",
   "pygments_lexer": "ipython3",
   "version": "3.5.2"
  }
 },
 "nbformat": 4,
 "nbformat_minor": 2
}
