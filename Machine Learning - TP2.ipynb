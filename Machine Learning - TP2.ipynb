{
 "cells": [
  {
   "cell_type": "markdown",
   "metadata": {},
   "source": [
    "# TP2: Machine learning"
   ]
  },
  {
   "cell_type": "code",
   "execution_count": 58,
   "metadata": {},
   "outputs": [],
   "source": [
    "import pandas as pd\n",
    "%matplotlib inline\n",
    "from datetime import datetime\n",
    "import scipy.spatial\n",
    "import numpy as np\n",
    "import matplotlib.pyplot as plt\n",
    "from sklearn.preprocessing import LabelEncoder\n",
    "from sklearn import preprocessing\n",
    "from sklearn import model_selection\n",
    "from sklearn.tree import DecisionTreeClassifier\n",
    "from sklearn.neighbors import KNeighborsClassifier\n",
    "from sklearn.discriminant_analysis import LinearDiscriminantAnalysis\n",
    "from sklearn.naive_bayes import GaussianNB\n",
    "from sklearn.svm import SVC"
   ]
  },
  {
   "cell_type": "code",
   "execution_count": 59,
   "metadata": {},
   "outputs": [],
   "source": [
    "data_training = pd.read_csv('data/properati-merge2017-2016-2015-SOLOSIX.csv')"
   ]
  },
  {
   "cell_type": "code",
   "execution_count": 60,
   "metadata": {},
   "outputs": [],
   "source": [
    "data_training = data_training[data_training['state_name'].str.contains('G.B.A') | data_training['state_name'].str.contains('Capital Federal')]\n",
    "##El tp dice solo gba y caba"
   ]
  },
  {
   "cell_type": "code",
   "execution_count": 61,
   "metadata": {},
   "outputs": [],
   "source": [
    "def recuperar_cant_amb(x):\n",
    "    \"Recupera el dato amb en x (puede ser la descripcion o el titulo)\"\n",
    "    try:\n",
    "        x = x.lower()\n",
    "        if x.rfind(\"ambientes\") != -1 or x.rfind(\"amb\") != -1:\n",
    "            pos = x.rfind(\"amb\")\n",
    "            try:\n",
    "                return (float(x[pos -2])) # intento convertir lo que hay antes de la palabra\n",
    "                                              #si funciona es el numero de rooms\n",
    "            except ValueError:\n",
    "                if \"dos amb\" in x:\n",
    "                    return 2.0\n",
    "                elif \"tres amb\" in x:\n",
    "                    return 3.0\n",
    "                elif \"cuatro amb\" in x:\n",
    "                    return 4.0\n",
    "                elif \"cinco amb\" in x:\n",
    "                    return 5.0\n",
    "                elif \"seis amb\" in x:\n",
    "                    return 6.0\n",
    "                return 0\n",
    "    except AttributeError:\n",
    "        return None"
   ]
  },
  {
   "cell_type": "code",
   "execution_count": 62,
   "metadata": {},
   "outputs": [],
   "source": [
    "def buscar_servicios_en_descripcion(descripcion):\n",
    "    \"\"\"Devuelve un diccionario con 1 o 0 segun cuente con el servicio o no.\n",
    "    Los servicios que consideraremos son cochera,pileta, vigilancia y gimnasio\"\"\"\n",
    "    dic = {\"cochera\":0,\"pileta\":0,\"vigilancia\":0,\"gimnasio\":0,\"patio\":0,\"terraza\":0,\"parrilla\":0,\"lavadero\":0}\n",
    "    descripcion = str(descripcion)\n",
    "    descripcion = str.lower(descripcion)\n",
    "    if \"cochera\" in descripcion or \"garage\" in descripcion:\n",
    "        dic[\"cochera\"] = 1\n",
    "    elif \"pileta\" in descripcion or \"piscina\" in descripcion:\n",
    "        dic[\"pileta\"] = 1\n",
    "    elif \"vigilancia\" in descripcion:\n",
    "        dic[\"vigilancia\"] = 1\n",
    "    elif \"gimnasio\" in descripcion:\n",
    "        dic[\"gimnasio\"] = 1\n",
    "    elif \"patio\" in descripcion:\n",
    "        dic[\"patio\"] = 1\n",
    "    elif \"terraza\" in descripcion:\n",
    "        dic[\"terraza\"] = 1\n",
    "    elif \"parrilla\" in descripcion:\n",
    "        dic[\"parrilla\"] = 1\n",
    "    elif \"lavadero\" in descripcion:\n",
    "        dic[\"lavadero\"] = 1\n",
    "    return dic"
   ]
  },
  {
   "cell_type": "code",
   "execution_count": 63,
   "metadata": {},
   "outputs": [],
   "source": [
    "def contar_ambientes(x):\n",
    "    \"Define la cantidad de ambientes en la descripcion\"\n",
    "    contador = 0\n",
    "    try:\n",
    "        x = x.lower()\n",
    "        if x.rfind(\"dormitorios\") != -1: \n",
    "            pos = x.rfind(\"dormitorios\")\n",
    "        elif x.rfind(\"habitaciones\") != -1:\n",
    "            pos = x.rfind(\"habitaciones\")\n",
    "            try:\n",
    "                contador += (float(x[pos -2])) # intento convertir lo que hay antes de la palabra\n",
    "                                              #si funciona es el numero de rooms\n",
    "            except ValueError:\n",
    "                if (\"dos dormitorios\" in x) or (\"dos habitaciones\" in x):\n",
    "                    contador += 2.0\n",
    "                elif (\"tres dormitorios\" in x) or (\"tres habitaciones\" in x):\n",
    "                    contador += 3.0\n",
    "                elif (\"cuatro dormitorios\" in x) or (\"cuatro habitaciones\" in x):\n",
    "                    contador += 4.0\n",
    "                elif (\"cinco dormitorios\" in x) or (\"cinco habitaciones\" in x):\n",
    "                    contador += 5.0\n",
    "                elif (\"seis dormitorios\" in x) or (\"seis habitaciones\" in x):\n",
    "                    contador += 6.0\n",
    "        if (\"living\" or \"comedor\") in x:\n",
    "            contador += 1.0\n",
    "    except AttributeError:\n",
    "        return None\n",
    "    return contador"
   ]
  },
  {
   "cell_type": "code",
   "execution_count": 64,
   "metadata": {},
   "outputs": [],
   "source": [
    "def place_name_from_parent(x): ## Segun vi el 3 item del place es generalmente el lugar\n",
    "    list = x.split('|')\n",
    "    if(len(list) < 5):\n",
    "        return list[2]\n",
    "    else:\n",
    "        return list[3]"
   ]
  },
  {
   "cell_type": "code",
   "execution_count": 65,
   "metadata": {},
   "outputs": [],
   "source": [
    "#Hay registros con precio en usd 0, pero en su descripcion se encuentra el precio asi que lo rescatamos\n",
    "def rescatar_precio_descrip(descripcion):\n",
    "    try:\n",
    "        descripcion = str.lower(descripcion)\n",
    "    except TypeError:\n",
    "        #No tiene descripcion\n",
    "        return 0\n",
    "    try:\n",
    "        if descripcion.rfind(\"usd\") != -1 and descripcion.rfind(\"null\") != -1:\n",
    "            pos_usd = descripcion.rfind(\"usd\")\n",
    "            pos_null = descripcion.rfind(\"null\")\n",
    "            precio = (descripcion[pos_usd + 4 : pos_null -1]).lstrip().rstrip()\n",
    "            if precio.isnumeric():\n",
    "                return float(precio)\n",
    "            elif descripcion.rfind('codigo: 2007-60') != -1:\n",
    "                #Es un registro que no puedo recuperar genericamente\n",
    "                return 35000\n",
    "            else:\n",
    "                #No es del formato USD precio null\n",
    "\n",
    "                return 0\n",
    "    except AttributeError:\n",
    "        return 0"
   ]
  },
  {
   "cell_type": "code",
   "execution_count": 66,
   "metadata": {},
   "outputs": [],
   "source": [
    "#Inicializo columnas\n",
    "data_training[\"servicios\"] = np.nan\n",
    "data_training[\"cochera\"] = int(0)\n",
    "data_training[\"pileta\"] = int(0)\n",
    "data_training[\"vigilancia\"] = int(0)\n",
    "data_training[\"gimnasio\"] = int(0)\n",
    "data_training[\"patio\"] = int(0)\n",
    "data_training[\"terraza\"] = int(0)\n",
    "data_training[\"parrilla\"] = int(0)\n",
    "data_training[\"lavadero\"] = int(0)"
   ]
  },
  {
   "cell_type": "code",
   "execution_count": 67,
   "metadata": {},
   "outputs": [],
   "source": [
    "#Busco en las descripciones\n",
    "data_training.loc[data_training[\"description\"].notnull(),\"servicios\"] = data_training[data_training[\"description\"].notnull()].description.apply(buscar_servicios_en_descripcion)"
   ]
  },
  {
   "cell_type": "code",
   "execution_count": 68,
   "metadata": {},
   "outputs": [],
   "source": [
    "#Modifico los valores encontrados en la tabla\n",
    "data_training.loc[:,\"cochera\"] = data_training[data_training[\"servicios\"].notnull()].apply(lambda x: x.servicios[\"cochera\"],axis = 1)\n",
    "data_training.loc[:,\"pileta\"] = data_training[data_training[\"servicios\"].notnull()].apply(lambda x: x.servicios[\"pileta\"],axis=1)\n",
    "data_training.loc[:,\"vigilancia\"] = data_training[data_training[\"servicios\"].notnull()].apply(lambda x: x.servicios[\"vigilancia\"],axis=1)\n",
    "data_training.loc[:,\"gimnasio\"] = data_training[data_training[\"servicios\"].notnull()].apply(lambda x: x.servicios[\"gimnasio\"],axis=1)\n",
    "data_training.loc[:,\"patio\"] = data_training[data_training[\"servicios\"].notnull()].apply(lambda x: x.servicios[\"patio\"],axis = 1)\n",
    "data_training.loc[:,\"terraza\"] = data_training[data_training[\"servicios\"].notnull()].apply(lambda x: x.servicios[\"terraza\"],axis=1)\n",
    "data_training.loc[:,\"parrilla\"] = data_training[data_training[\"servicios\"].notnull()].apply(lambda x: x.servicios[\"parrilla\"],axis=1)\n",
    "data_training.loc[:,\"lavadero\"] = data_training[data_training[\"servicios\"].notnull()].apply(lambda x: x.servicios[\"lavadero\"],axis=1)"
   ]
  },
  {
   "cell_type": "code",
   "execution_count": 69,
   "metadata": {},
   "outputs": [],
   "source": [
    "#Hay 12 campos que no se porque no se rellenan con 0\n",
    "data_training.cochera.fillna(0,inplace=True)\n",
    "data_training.pileta.fillna(0,inplace=True)\n",
    "data_training.vigilancia.fillna(0,inplace=True)\n",
    "data_training.gimnasio.fillna(0,inplace=True)\n",
    "data_training.patio.fillna(0,inplace=True)\n",
    "data_training.terraza.fillna(0,inplace=True)\n",
    "data_training.parrilla.fillna(0,inplace=True)\n",
    "data_training.lavadero.fillna(0,inplace=True)"
   ]
  },
  {
   "cell_type": "code",
   "execution_count": 70,
   "metadata": {},
   "outputs": [
    {
     "name": "stdout",
     "output_type": "stream",
     "text": [
      "<class 'pandas.core.frame.DataFrame'>\n",
      "Int64Index: 264021 entries, 0 to 264020\n",
      "Data columns (total 31 columns):\n",
      "id                            264021 non-null object\n",
      "created_on                    264021 non-null object\n",
      "property_type                 264021 non-null object\n",
      "place_name                    263974 non-null object\n",
      "place_with_parent_names       264021 non-null object\n",
      "state_name                    264021 non-null object\n",
      "geonames_id                   211642 non-null float64\n",
      "lat-lon                       188028 non-null object\n",
      "lat                           188028 non-null float64\n",
      "lon                           188028 non-null float64\n",
      "price                         246208 non-null float64\n",
      "currency                      238346 non-null object\n",
      "price_aprox_local_currency    246208 non-null float64\n",
      "price_aprox_usd               246208 non-null float64\n",
      "surface_total_in_m2           189637 non-null float64\n",
      "surface_covered_in_m2         231150 non-null float64\n",
      "price_usd_per_m2              160071 non-null float64\n",
      "price_per_m2                  208954 non-null float64\n",
      "floor                         33991 non-null float64\n",
      "rooms                         134619 non-null float64\n",
      "expenses                      32429 non-null float64\n",
      "description                   264009 non-null object\n",
      "title                         264021 non-null object\n",
      "cochera                       264021 non-null float64\n",
      "pileta                        264021 non-null float64\n",
      "vigilancia                    264021 non-null float64\n",
      "gimnasio                      264021 non-null float64\n",
      "patio                         264021 non-null float64\n",
      "terraza                       264021 non-null float64\n",
      "parrilla                      264021 non-null float64\n",
      "lavadero                      264021 non-null float64\n",
      "dtypes: float64(21), object(10)\n",
      "memory usage: 64.5+ MB\n"
     ]
    }
   ],
   "source": [
    "#Elimino la columna servicios que ya no me sirve\n",
    "data_training.drop(\"servicios\",1,inplace=True)\n",
    "data_training.info()"
   ]
  },
  {
   "cell_type": "code",
   "execution_count": 71,
   "metadata": {},
   "outputs": [],
   "source": [
    "data_training.loc[data_training['price_aprox_usd'] == 0,'price_aprox_usd'] = data_training.loc[data_training['price_aprox_usd'] == 0].description.apply(rescatar_precio_descrip)"
   ]
  },
  {
   "cell_type": "code",
   "execution_count": 72,
   "metadata": {},
   "outputs": [],
   "source": [
    "data_training.dropna(axis=0,subset=['price_aprox_usd'],inplace=True) ## drop de los datos sin precio\n",
    "data_training = data_training.loc[data_training['price_aprox_usd'] > 0,:]\n",
    "\n",
    "#Recuperamos el dato rooms en el titulo y la descripcion\n",
    "data_training.loc[data_training.rooms.isnull(),'rooms'] = data_training.loc[data_training.rooms.isnull()].description.apply(recuperar_cant_amb)\n",
    "data_training.loc[data_training.rooms.isnull(),'rooms'] = data_training.loc[data_training.rooms.isnull()].title.apply(recuperar_cant_amb)\n",
    "#Recuperamos el dato rooms en la descripcion contando ambientes (living y dormitorios)\n",
    "data_training.loc[data_training.rooms.isnull(),'rooms'] = data_training.loc[data_training.rooms.isnull()].description.apply(contar_ambientes)\n",
    "data_training.loc[data_training.rooms == 0,'rooms'] = data_training.loc[data_training.rooms == 0].description.apply(contar_ambientes)\n",
    "\n",
    "\n",
    "data_training.loc[:,'place_name'] = data_training.place_with_parent_names.apply(place_name_from_parent)\n",
    "## esto quita muchos problemas de place name como nombres de country o palermo soho"
   ]
  },
  {
   "cell_type": "code",
   "execution_count": 73,
   "metadata": {},
   "outputs": [],
   "source": [
    "data_training = data_training.dropna(axis = 0, subset = ['price_aprox_usd','surface_total_in_m2'],how ='any')\n",
    "data_training['year'] = 0\n",
    "data_training['month'] = 0\n",
    "data_training.loc[:,'created_on'] = data_training.created_on.apply(pd.to_datetime)"
   ]
  },
  {
   "cell_type": "code",
   "execution_count": 74,
   "metadata": {},
   "outputs": [],
   "source": [
    "data_training.loc[:,'year'] = data_training.created_on.apply(lambda x: x.year)\n",
    "data_training.loc[:,'month'] = data_training.created_on.apply(lambda x: x.month)\n",
    "data_training.drop('created_on',1,inplace=True)"
   ]
  },
  {
   "cell_type": "code",
   "execution_count": 75,
   "metadata": {},
   "outputs": [],
   "source": [
    "#Hay 2 registro con rooms nan irrecuperables\n",
    "data_training.drop(132299,inplace=True)\n",
    "data_training.drop(95386,inplace=True)"
   ]
  },
  {
   "cell_type": "code",
   "execution_count": 76,
   "metadata": {},
   "outputs": [
    {
     "name": "stdout",
     "output_type": "stream",
     "text": [
      "<class 'pandas.core.frame.DataFrame'>\n",
      "Int64Index: 171040 entries, 0 to 264017\n",
      "Data columns (total 32 columns):\n",
      "id                            171040 non-null object\n",
      "property_type                 171040 non-null object\n",
      "place_name                    171040 non-null object\n",
      "place_with_parent_names       171040 non-null object\n",
      "state_name                    171040 non-null object\n",
      "geonames_id                   136645 non-null float64\n",
      "lat-lon                       121146 non-null object\n",
      "lat                           121146 non-null float64\n",
      "lon                           121146 non-null float64\n",
      "price                         171040 non-null float64\n",
      "currency                      171040 non-null object\n",
      "price_aprox_local_currency    171040 non-null float64\n",
      "price_aprox_usd               171040 non-null float64\n",
      "surface_total_in_m2           171040 non-null float64\n",
      "surface_covered_in_m2         162968 non-null float64\n",
      "price_usd_per_m2              160036 non-null float64\n",
      "price_per_m2                  159830 non-null float64\n",
      "floor                         22549 non-null float64\n",
      "rooms                         171040 non-null float64\n",
      "expenses                      28687 non-null float64\n",
      "description                   171036 non-null object\n",
      "title                         171040 non-null object\n",
      "cochera                       171040 non-null float64\n",
      "pileta                        171040 non-null float64\n",
      "vigilancia                    171040 non-null float64\n",
      "gimnasio                      171040 non-null float64\n",
      "patio                         171040 non-null float64\n",
      "terraza                       171040 non-null float64\n",
      "parrilla                      171040 non-null float64\n",
      "lavadero                      171040 non-null float64\n",
      "year                          171040 non-null int64\n",
      "month                         171040 non-null int64\n",
      "dtypes: float64(21), int64(2), object(9)\n",
      "memory usage: 43.1+ MB\n"
     ]
    }
   ],
   "source": [
    "#NO considerare lat lon porque reduce mucho los registros\n",
    "data_training.info()"
   ]
  },
  {
   "cell_type": "code",
   "execution_count": 77,
   "metadata": {},
   "outputs": [
    {
     "name": "stdout",
     "output_type": "stream",
     "text": [
      "<class 'pandas.core.frame.DataFrame'>\n",
      "Int64Index: 171040 entries, 0 to 264017\n",
      "Data columns (total 32 columns):\n",
      "id                            171040 non-null object\n",
      "property_type                 171040 non-null object\n",
      "place_name                    171040 non-null object\n",
      "place_with_parent_names       171040 non-null object\n",
      "state_name                    171040 non-null object\n",
      "geonames_id                   136645 non-null float64\n",
      "lat-lon                       121146 non-null object\n",
      "lat                           121146 non-null float64\n",
      "lon                           121146 non-null float64\n",
      "price                         171040 non-null float64\n",
      "currency                      171040 non-null object\n",
      "price_aprox_local_currency    171040 non-null float64\n",
      "price_aprox_usd               171040 non-null float64\n",
      "surface_total_in_m2           171040 non-null float64\n",
      "surface_covered_in_m2         162968 non-null float64\n",
      "price_usd_per_m2              171040 non-null float64\n",
      "price_per_m2                  159830 non-null float64\n",
      "floor                         22549 non-null float64\n",
      "rooms                         171040 non-null float64\n",
      "expenses                      28687 non-null float64\n",
      "description                   171036 non-null object\n",
      "title                         171040 non-null object\n",
      "cochera                       171040 non-null float64\n",
      "pileta                        171040 non-null float64\n",
      "vigilancia                    171040 non-null float64\n",
      "gimnasio                      171040 non-null float64\n",
      "patio                         171040 non-null float64\n",
      "terraza                       171040 non-null float64\n",
      "parrilla                      171040 non-null float64\n",
      "lavadero                      171040 non-null float64\n",
      "year                          171040 non-null int64\n",
      "month                         171040 non-null int64\n",
      "dtypes: float64(21), int64(2), object(9)\n",
      "memory usage: 48.1+ MB\n"
     ]
    }
   ],
   "source": [
    "#Recuperamos registros a los que no se les calculo el precio por m2 en dolares\n",
    "data_training.loc[data_training['price_usd_per_m2'].isnull(),'price_usd_per_m2'] = data_training.surface_total_in_m2 / data_training.price_aprox_usd\n",
    "data_training.info()"
   ]
  },
  {
   "cell_type": "code",
   "execution_count": 78,
   "metadata": {},
   "outputs": [],
   "source": [
    "#Vamos a codificar cada columna que sea de strings\n",
    "lb_make1 = LabelEncoder()\n",
    "data_training[\"property_type_code\"] = lb_make1.fit_transform(data_training[\"property_type\"])\n",
    "\n",
    "lb_make2 = LabelEncoder()\n",
    "data_training[\"place_name_code\"] = lb_make2.fit_transform(data_training[\"place_name\"])\n",
    "\n",
    "lb_make3 = LabelEncoder()\n",
    "data_training[\"place_with_parent_names_code\"] = lb_make3.fit_transform(data_training[\"place_with_parent_names\"])\n",
    "\n",
    "lb_make4 = LabelEncoder()\n",
    "data_training[\"state_name_code\"] = lb_make4.fit_transform(data_training[\"state_name\"])"
   ]
  },
  {
   "cell_type": "code",
   "execution_count": 81,
   "metadata": {},
   "outputs": [],
   "source": [
    "data_training2 = data_training[['lat', 'lon', 'price_aprox_usd', 'surface_total_in_m2',\n",
    "       'price_usd_per_m2', 'rooms', 'year', 'month', 'property_type_code',\n",
    "       'place_name_code', 'place_with_parent_names_code', 'state_name_code']]\n",
    "\n",
    "data_training2 = data_training2.dropna(axis = 0, subset = ['lat','lon'],how ='any')"
   ]
  },
  {
   "cell_type": "code",
   "execution_count": 82,
   "metadata": {},
   "outputs": [],
   "source": [
    "data_training3 = data_training[['price_aprox_usd','lat','lon','surface_total_in_m2',\n",
    "       'rooms', 'year', 'month', 'property_type_code','place_name_code', \n",
    "        'place_with_parent_names_code', 'state_name_code','cochera', 'pileta', 'vigilancia',\n",
    "        'gimnasio', 'patio', 'terraza','parrilla', 'lavadero']]\n",
    "data_training3 = data_training3.dropna(axis = 0, subset = ['lat','lon'],how ='any')"
   ]
  },
  {
   "cell_type": "code",
   "execution_count": 83,
   "metadata": {},
   "outputs": [
    {
     "name": "stdout",
     "output_type": "stream",
     "text": [
      "Precision = 14.94 % , name = Linear Regression\n",
      "Precision = 14.94 % , name = Ridge\n",
      "Precision = 14.95 % , name = RidgeCV\n",
      "Precision = 14.94 % , name = Lasso\n",
      "Precision = 11.42 % , name = Elastic Net\n",
      "Precision = 14.95 % , name = LassoLars\n",
      "Precision = 3.07 % , name = OrthogonalMatchingPursuit\n",
      "Precision = 14.95 % , name = BayesianRidge\n",
      "Precision = 6.44 % , name = HuberRegressor  \n"
     ]
    }
   ],
   "source": [
    "from sklearn.linear_model import LinearRegression\n",
    "from sklearn.linear_model import Ridge\n",
    "from sklearn.linear_model import RidgeCV\n",
    "from sklearn.linear_model import Lasso\n",
    "from sklearn.linear_model import HuberRegressor \n",
    "from sklearn.linear_model import ElasticNet\n",
    "from sklearn.linear_model import LassoLars\n",
    "from sklearn.linear_model import OrthogonalMatchingPursuit\n",
    "from sklearn.linear_model import BayesianRidge\n",
    "\n",
    "dataframe = data_training3.drop(['price_aprox_usd'],axis=1)\n",
    "\n",
    "columnas = list(dataframe.columns)\n",
    "columnas_precio = columnas + ['price_aprox_usd']\n",
    "\n",
    "set_entrenamiento = data_training3.loc[(data_training3.year >= 2014) &((data_training3.year < 2017) | (data_training3.month < 6)),columnas_precio]\n",
    "set_pruebas = data_training3.loc[(data_training3.year == 2017) & (data_training3.month == 6),columnas_precio]\n",
    "\n",
    "array = set_entrenamiento.values\n",
    "X = array[:,0:18]\n",
    "Y = array[:,18]\n",
    "\n",
    "# prepare configuration for cross validation test harness\n",
    "seed = 7\n",
    "# prepare models\n",
    "models = []\n",
    "models.append(('Linear Regression', LinearRegression()))\n",
    "models.append(('Ridge', Ridge()))\n",
    "models.append(('RidgeCV', RidgeCV()))\n",
    "models.append(('Lasso', Lasso()))\n",
    "models.append(('Elastic Net', ElasticNet()))\n",
    "models.append(('LassoLars', LassoLars()))\n",
    "models.append(('OrthogonalMatchingPursuit', OrthogonalMatchingPursuit()))\n",
    "models.append(('BayesianRidge', BayesianRidge()))\n",
    "models.append(('HuberRegressor  ', HuberRegressor()))\n",
    "\n",
    "# evaluate each model in turn\n",
    "for name, model in models:\n",
    "    model.fit(X,Y)\n",
    "    score = model.score(set_pruebas.loc[:,columnas],set_pruebas.price_aprox_usd) * 100\n",
    "    print(\"Precision = {:.2f} % , name = {}\".format(score,name))\n"
   ]
  },
  {
   "cell_type": "code",
   "execution_count": 84,
   "metadata": {},
   "outputs": [],
   "source": [
    "trainingSet = data_training3\n",
    "testingSet = pd.read_csv(\"data/properati_dataset_testing_noprice.csv\")"
   ]
  },
  {
   "cell_type": "code",
   "execution_count": 85,
   "metadata": {},
   "outputs": [
    {
     "data": {
      "text/plain": [
       "Index([u'price_aprox_usd', u'lat', u'lon', u'surface_total_in_m2', u'rooms',\n",
       "       u'year', u'month', u'property_type_code', u'place_name_code',\n",
       "       u'place_with_parent_names_code', u'state_name_code', u'cochera',\n",
       "       u'pileta', u'vigilancia', u'gimnasio', u'patio', u'terraza',\n",
       "       u'parrilla', u'lavadero'],\n",
       "      dtype='object')"
      ]
     },
     "execution_count": 85,
     "metadata": {},
     "output_type": "execute_result"
    }
   ],
   "source": [
    "data_training3.columns"
   ]
  },
  {
   "cell_type": "markdown",
   "metadata": {},
   "source": [
    "# Formateo el testing set"
   ]
  },
  {
   "cell_type": "code",
   "execution_count": 86,
   "metadata": {},
   "outputs": [
    {
     "name": "stdout",
     "output_type": "stream",
     "text": [
      "<class 'pandas.core.frame.DataFrame'>\n",
      "RangeIndex: 14166 entries, 0 to 14165\n",
      "Data columns (total 17 columns):\n",
      "id                         14166 non-null int64\n",
      "created_on                 14166 non-null object\n",
      "property_type              14166 non-null object\n",
      "operation                  14166 non-null object\n",
      "place_name                 14166 non-null object\n",
      "place_with_parent_names    14166 non-null object\n",
      "country_name               14166 non-null object\n",
      "state_name                 14166 non-null object\n",
      "lat-lon                    10487 non-null object\n",
      "lat                        10487 non-null float64\n",
      "lon                        10487 non-null float64\n",
      "surface_total_in_m2        11853 non-null float64\n",
      "surface_covered_in_m2      13005 non-null float64\n",
      "floor                      1368 non-null float64\n",
      "rooms                      7500 non-null float64\n",
      "expenses                   2543 non-null object\n",
      "description                14166 non-null object\n",
      "dtypes: float64(6), int64(1), object(10)\n",
      "memory usage: 1.8+ MB\n"
     ]
    }
   ],
   "source": [
    "testingSet.info()"
   ]
  },
  {
   "cell_type": "code",
   "execution_count": 87,
   "metadata": {},
   "outputs": [],
   "source": [
    "#Inicializo columnas\n",
    "testingSet[\"servicios\"] = np.nan\n",
    "testingSet[\"cochera\"] = int(0)\n",
    "testingSet[\"pileta\"] = int(0)\n",
    "testingSet[\"vigilancia\"] = int(0)\n",
    "testingSet[\"gimnasio\"] = int(0)\n",
    "testingSet[\"patio\"] = int(0)\n",
    "testingSet[\"terraza\"] = int(0)\n",
    "testingSet[\"parrilla\"] = int(0)\n",
    "testingSet[\"lavadero\"] = int(0)"
   ]
  },
  {
   "cell_type": "code",
   "execution_count": 88,
   "metadata": {},
   "outputs": [],
   "source": [
    "#Busco en las descripciones\n",
    "testingSet.loc[testingSet[\"description\"].notnull(),\"servicios\"] = testingSet[testingSet[\"description\"].notnull()].description.apply(buscar_servicios_en_descripcion)"
   ]
  },
  {
   "cell_type": "code",
   "execution_count": 89,
   "metadata": {},
   "outputs": [],
   "source": [
    "#Modifico los valores encontrados en la tabla\n",
    "testingSet.loc[:,\"cochera\"] = testingSet[testingSet[\"servicios\"].notnull()].apply(lambda x: x.servicios[\"cochera\"],axis = 1)\n",
    "testingSet.loc[:,\"pileta\"] = testingSet[testingSet[\"servicios\"].notnull()].apply(lambda x: x.servicios[\"pileta\"],axis=1)\n",
    "testingSet.loc[:,\"vigilancia\"] = testingSet[testingSet[\"servicios\"].notnull()].apply(lambda x: x.servicios[\"vigilancia\"],axis=1)\n",
    "testingSet.loc[:,\"gimnasio\"] = testingSet[testingSet[\"servicios\"].notnull()].apply(lambda x: x.servicios[\"gimnasio\"],axis=1)\n",
    "testingSet.loc[:,\"patio\"] = testingSet[testingSet[\"servicios\"].notnull()].apply(lambda x: x.servicios[\"patio\"],axis = 1)\n",
    "testingSet.loc[:,\"terraza\"] = testingSet[testingSet[\"servicios\"].notnull()].apply(lambda x: x.servicios[\"terraza\"],axis=1)\n",
    "testingSet.loc[:,\"parrilla\"] = testingSet[testingSet[\"servicios\"].notnull()].apply(lambda x: x.servicios[\"parrilla\"],axis=1)\n",
    "testingSet.loc[:,\"lavadero\"] = testingSet[testingSet[\"servicios\"].notnull()].apply(lambda x: x.servicios[\"lavadero\"],axis=1)"
   ]
  },
  {
   "cell_type": "code",
   "execution_count": 90,
   "metadata": {},
   "outputs": [
    {
     "name": "stdout",
     "output_type": "stream",
     "text": [
      "<class 'pandas.core.frame.DataFrame'>\n",
      "RangeIndex: 14166 entries, 0 to 14165\n",
      "Data columns (total 25 columns):\n",
      "id                         14166 non-null int64\n",
      "created_on                 14166 non-null object\n",
      "property_type              14166 non-null object\n",
      "operation                  14166 non-null object\n",
      "place_name                 14166 non-null object\n",
      "place_with_parent_names    14166 non-null object\n",
      "country_name               14166 non-null object\n",
      "state_name                 14166 non-null object\n",
      "lat-lon                    10487 non-null object\n",
      "lat                        10487 non-null float64\n",
      "lon                        10487 non-null float64\n",
      "surface_total_in_m2        11853 non-null float64\n",
      "surface_covered_in_m2      13005 non-null float64\n",
      "floor                      1368 non-null float64\n",
      "rooms                      7500 non-null float64\n",
      "expenses                   2543 non-null object\n",
      "description                14166 non-null object\n",
      "cochera                    14166 non-null int64\n",
      "pileta                     14166 non-null int64\n",
      "vigilancia                 14166 non-null int64\n",
      "gimnasio                   14166 non-null int64\n",
      "patio                      14166 non-null int64\n",
      "terraza                    14166 non-null int64\n",
      "parrilla                   14166 non-null int64\n",
      "lavadero                   14166 non-null int64\n",
      "dtypes: float64(6), int64(9), object(10)\n",
      "memory usage: 2.7+ MB\n"
     ]
    }
   ],
   "source": [
    "#Elimino la columna servicios que ya no me sirve\n",
    "testingSet.drop(\"servicios\",1,inplace=True)\n",
    "testingSet.info()"
   ]
  },
  {
   "cell_type": "code",
   "execution_count": 91,
   "metadata": {},
   "outputs": [],
   "source": [
    "testingSet = testingSet[testingSet['state_name'].str.contains('G.B.A') | testingSet['state_name'].str.contains('Capital Federal')]\n",
    "##El tp dice solo gba y caba\n",
    "\n",
    "#Recuperamos el dato rooms en la descripcion\n",
    "testingSet.loc[testingSet.rooms.isnull(),'rooms'] = testingSet.loc[testingSet.rooms.isnull()].description.apply(recuperar_cant_amb)\n",
    "\n",
    "#Recuperamos el dato rooms en la descripcion contando ambientes (living y dormitorios)\n",
    "testingSet.loc[testingSet.rooms.isnull(),'rooms'] = testingSet.loc[testingSet.rooms.isnull()].description.apply(contar_ambientes)\n",
    "testingSet.loc[testingSet.rooms == 0,'rooms'] = testingSet.loc[testingSet.rooms == 0].description.apply(contar_ambientes)\n",
    "\n",
    "\n",
    "testingSet.loc[:,'place_name'] = testingSet.place_with_parent_names.apply(place_name_from_parent)\n",
    "## esto quita muchos problemas de place name como nombres de country o palermo soho"
   ]
  },
  {
   "cell_type": "code",
   "execution_count": 92,
   "metadata": {},
   "outputs": [],
   "source": [
    "testingSet['year'] = 0\n",
    "testingSet['month'] = 0\n",
    "testingSet.loc[:,'created_on'] = testingSet.created_on.apply(pd.to_datetime)\n",
    "testingSet.loc[:,'year'] = testingSet.created_on.apply(lambda x: x.year)\n",
    "testingSet.loc[:,'month'] = testingSet.created_on.apply(lambda x: x.month)\n",
    "testingSet.drop('created_on',1,inplace=True)"
   ]
  },
  {
   "cell_type": "code",
   "execution_count": 93,
   "metadata": {},
   "outputs": [],
   "source": [
    "testingSet.loc[testingSet.property_type == 'casa','property_type'] = 'house'\n",
    "testingSet.loc[testingSet.property_type == 'departamento','property_type'] = 'apartment'\n",
    "testingSet.loc[testingSet.property_type == 'ph','property_type'] = 'PH'"
   ]
  },
  {
   "cell_type": "code",
   "execution_count": 94,
   "metadata": {},
   "outputs": [],
   "source": [
    "#Vamos a codificar cada columna que sea de strings\n",
    "testingSet[\"property_type_code\"] = lb_make1.transform(testingSet[\"property_type\"])\n",
    "\n",
    "testingSet[\"place_name_code\"] = lb_make2.transform(testingSet[\"place_name\"])\n",
    "\n",
    "testingSet[\"state_name_code\"] = lb_make4.transform(testingSet[\"state_name\"])"
   ]
  },
  {
   "cell_type": "code",
   "execution_count": 95,
   "metadata": {},
   "outputs": [
    {
     "data": {
      "text/plain": [
       "price_aprox_usd                 1.000000\n",
       "lat                             0.020304\n",
       "lon                             0.012883\n",
       "surface_total_in_m2             0.278895\n",
       "rooms                           0.134659\n",
       "year                            0.039029\n",
       "month                           0.011079\n",
       "property_type_code              0.194784\n",
       "place_name_code                 0.051556\n",
       "place_with_parent_names_code   -0.028929\n",
       "state_name_code                -0.034208\n",
       "cochera                         0.105754\n",
       "pileta                          0.072432\n",
       "vigilancia                      0.002261\n",
       "gimnasio                       -0.001443\n",
       "patio                          -0.063204\n",
       "terraza                        -0.033716\n",
       "parrilla                       -0.019674\n",
       "lavadero                       -0.056742\n",
       "Name: price_aprox_usd, dtype: float64"
      ]
     },
     "execution_count": 95,
     "metadata": {},
     "output_type": "execute_result"
    }
   ],
   "source": [
    "trainingSet.corr()['price_aprox_usd']"
   ]
  },
  {
   "cell_type": "markdown",
   "metadata": {},
   "source": [
    "# Seleccion de atributos"
   ]
  },
  {
   "cell_type": "code",
   "execution_count": 97,
   "metadata": {},
   "outputs": [],
   "source": [
    "data_training3 = data_training[['price_aprox_usd','price_usd_per_m2','lat','lon','surface_total_in_m2',\n",
    "       'rooms', 'year', 'month', 'property_type_code','place_name_code', \n",
    "        'place_with_parent_names_code', 'state_name_code','cochera', 'pileta', 'vigilancia',\n",
    "        'gimnasio', 'patio', 'terraza','parrilla', 'lavadero']]\n",
    "data_training3 = data_training3.dropna(axis = 0, subset = ['lat','lon'],how ='any')"
   ]
  },
  {
   "cell_type": "code",
   "execution_count": 98,
   "metadata": {},
   "outputs": [],
   "source": [
    "# Separo la columna objetivo\n",
    "price_aprox_usd = data_training3['price_aprox_usd']\n",
    "price_usd_per = data_training3['price_usd_per_m2']"
   ]
  },
  {
   "cell_type": "code",
   "execution_count": 99,
   "metadata": {},
   "outputs": [
    {
     "data": {
      "text/plain": [
       "['surface_total_in_m2',\n",
       " 'rooms',\n",
       " 'year',\n",
       " 'month',\n",
       " 'property_type_code',\n",
       " 'place_name_code',\n",
       " 'place_with_parent_names_code',\n",
       " 'state_name_code',\n",
       " 'cochera',\n",
       " 'pileta',\n",
       " 'gimnasio',\n",
       " 'parrilla']"
      ]
     },
     "execution_count": 99,
     "metadata": {},
     "output_type": "execute_result"
    }
   ],
   "source": [
    "from sklearn.feature_selection import SelectKBest\n",
    "from sklearn.feature_selection import f_classif\n",
    "\n",
    "# Aplicando el algoritmo univariante de prueba F.\n",
    "k = 12  # número de atributos a seleccionar\n",
    "entrenar = data_training3.drop(['price_aprox_usd', 'price_usd_per_m2'], axis=1)\n",
    "columnas = list(entrenar.columns.values)\n",
    "seleccionadas = SelectKBest(f_classif, k=k).fit(entrenar, price_aprox_usd)\n",
    "atrib = seleccionadas.get_support()\n",
    "atributos = [columnas[i] for i in list(atrib.nonzero()[0])]\n",
    "atributos"
   ]
  },
  {
   "cell_type": "code",
   "execution_count": 100,
   "metadata": {},
   "outputs": [],
   "source": [
    "from sklearn.feature_selection import RFE\n",
    "from sklearn.ensemble import ExtraTreesRegressor\n",
    "# Algoritmo de Eliminación Recursiva de atributos con ExtraTrees\n",
    "entrenar = data_training3.drop(['price_aprox_usd', 'price_usd_per_m2'], axis=1)\n",
    "modelo = ExtraTreesRegressor()\n",
    "era = RFE(modelo, 12)  # número de atributos a seleccionar\n",
    "era = era.fit(entrenar, price_aprox_usd)"
   ]
  },
  {
   "cell_type": "code",
   "execution_count": 101,
   "metadata": {},
   "outputs": [
    {
     "data": {
      "text/plain": [
       "['lat',\n",
       " 'lon',\n",
       " 'surface_total_in_m2',\n",
       " 'rooms',\n",
       " 'year',\n",
       " 'month',\n",
       " 'property_type_code',\n",
       " 'place_name_code',\n",
       " 'place_with_parent_names_code',\n",
       " 'state_name_code',\n",
       " 'cochera',\n",
       " 'pileta']"
      ]
     },
     "execution_count": 101,
     "metadata": {},
     "output_type": "execute_result"
    }
   ],
   "source": [
    "# imprimir resultados\n",
    "atrib = era.support_\n",
    "atributos = [columnas[i] for i in list(atrib.nonzero()[0])]\n",
    "atributos"
   ]
  },
  {
   "cell_type": "code",
   "execution_count": 105,
   "metadata": {
    "collapsed": true
   },
   "outputs": [
    {
     "name": "stdout",
     "output_type": "stream",
     "text": [
      "<class 'pandas.core.frame.DataFrame'>\n",
      "Int64Index: 121146 entries, 0 to 264017\n",
      "Data columns (total 19 columns):\n",
      "price_usd_per_m2                121146 non-null float64\n",
      "lat                             121146 non-null float64\n",
      "lon                             121146 non-null float64\n",
      "surface_total_in_m2             121146 non-null float64\n",
      "rooms                           121146 non-null float64\n",
      "year                            121146 non-null int64\n",
      "month                           121146 non-null int64\n",
      "property_type_code              121146 non-null int64\n",
      "place_name_code                 121146 non-null int64\n",
      "place_with_parent_names_code    121146 non-null int64\n",
      "state_name_code                 121146 non-null int64\n",
      "cochera                         121146 non-null float64\n",
      "pileta                          121146 non-null float64\n",
      "vigilancia                      121146 non-null float64\n",
      "gimnasio                        121146 non-null float64\n",
      "patio                           121146 non-null float64\n",
      "terraza                         121146 non-null float64\n",
      "parrilla                        121146 non-null float64\n",
      "lavadero                        121146 non-null float64\n",
      "dtypes: float64(13), int64(6)\n",
      "memory usage: 23.5 MB\n"
     ]
    }
   ],
   "source": []
  },
  {
   "cell_type": "markdown",
   "metadata": {},
   "source": [
    "# Decision trees"
   ]
  },
  {
   "cell_type": "code",
   "execution_count": 106,
   "metadata": {},
   "outputs": [
    {
     "name": "stdout",
     "output_type": "stream",
     "text": [
      "Precision = 31.12 % , name = DecisionTreeRegressor\n"
     ]
    }
   ],
   "source": [
    "######### Cambia de valor la precision cada vez que corre no tengo ni put idea por que\n",
    "\n",
    "\n",
    "from sklearn import tree\n",
    "dataframe = data_training3.drop(['price_aprox_usd','price_usd_per_m2'],axis=1)\n",
    "\n",
    "columnas = list(dataframe.columns)\n",
    "columnas_precio = columnas + ['price_aprox_usd']\n",
    "\n",
    "set_entrenamiento = data_training3.loc[(data_training3.year >= 2014) &((data_training3.year < 2017) | (data_training3.month < 6)),columnas_precio]\n",
    "set_pruebas = data_training3.loc[(data_training3.year == 2017) & (data_training3.month == 6),columnas_precio]\n",
    "\n",
    "array = set_entrenamiento.values\n",
    "X = array[:,0:18]\n",
    "Y = array[:,18]\n",
    "clf = tree.DecisionTreeRegressor()\n",
    "clf = clf.fit(X, Y)\n",
    "score = clf.score(set_pruebas.loc[:,columnas],set_pruebas.price_aprox_usd) *100\n",
    "print(\"Precision = {:.2f} % , name = {}\".format(score,\"DecisionTreeRegressor\"))\n"
   ]
  },
  {
   "cell_type": "code",
   "execution_count": 103,
   "metadata": {},
   "outputs": [
    {
     "name": "stderr",
     "output_type": "stream",
     "text": [
      "/home/lucio/Documentos/OrgaDeDatos/ENV2/local/lib/python2.7/site-packages/sklearn/metrics/scorer.py:100: DeprecationWarning: Scoring method mean_squared_error was renamed to neg_mean_squared_error in version 0.18 and will be removed in 0.20.\n",
      "  sample_weight=sample_weight)\n"
     ]
    },
    {
     "name": "stdout",
     "output_type": "stream",
     "text": [
      "Mean squared error: 15572879212.045\n",
      "Precission: 92.321\n"
     ]
    },
    {
     "name": "stderr",
     "output_type": "stream",
     "text": [
      "/home/lucio/Documentos/OrgaDeDatos/ENV2/local/lib/python2.7/site-packages/sklearn/metrics/scorer.py:100: DeprecationWarning: Scoring method mean_squared_error was renamed to neg_mean_squared_error in version 0.18 and will be removed in 0.20.\n",
      "  sample_weight=sample_weight)\n"
     ]
    }
   ],
   "source": [
    "from sklearn.model_selection import cross_val_score\n",
    "X, y = data_training3, data_training3.price_aprox_usd\n",
    "features = columnas\n",
    "from sklearn.tree import DecisionTreeRegressor\n",
    "regression_tree = tree.DecisionTreeRegressor(min_samples_split=30, min_samples_leaf=10,random_state=0)\n",
    "regression_tree.fit(X,y)\n",
    "precission = regression_tree.score(X,y) * 100\n",
    "mse = np.mean(cross_val_score(regression_tree, X, y,scoring='mean_squared_error', cv=2,  n_jobs=1))\n",
    "print ('Mean squared error: %.3f' % abs(mse))\n",
    "print ('Precission: %.3f' % abs(precission))"
   ]
  }
 ],
 "metadata": {
  "kernelspec": {
   "display_name": "Python 3",
   "language": "python",
   "name": "python3"
  },
  "language_info": {
   "codemirror_mode": {
    "name": "ipython",
    "version": 2
   },
   "file_extension": ".py",
   "mimetype": "text/x-python",
   "name": "python",
   "nbconvert_exporter": "python",
   "pygments_lexer": "ipython2",
   "version": "2.7.12"
  }
 },
 "nbformat": 4,
 "nbformat_minor": 2
}
