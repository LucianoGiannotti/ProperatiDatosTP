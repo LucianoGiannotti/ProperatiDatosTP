{
 "cells": [
  {
   "cell_type": "code",
   "execution_count": 1,
   "metadata": {
    "collapsed": true
   },
   "outputs": [],
   "source": [
    "import pandas as pd\n",
    "import numpy as np\n",
    "import seaborn as sns\n",
    "import matplotlib.pyplot as plt\n",
    "import glob,os\n",
    "import sys\n",
    "%matplotlib inline"
   ]
  },
  {
   "cell_type": "markdown",
   "metadata": {
    "collapsed": true
   },
   "source": [
    "# Este csv tiene dos columnas con distinto nombre a los \"normales\""
   ]
  },
  {
   "cell_type": "code",
   "execution_count": 87,
   "metadata": {
    "collapsed": true
   },
   "outputs": [],
   "source": [
    "data_2017_05_31 = pd.read_csv('/home/lucio/Documentos/OrgaDeDatos/ProperatiDatosTP/data/properati-AR-2017-05-31-properties-sell.csv')\n",
    "data_2017_05_31.rename(columns={'place_with_parent_names_l2':'state_name'}, inplace=True)\n",
    "data_2017_05_31.rename(columns={'place_with_parent_names_l1':'country_name'}, inplace=True)\n",
    "data_2017_05_31 = data_2017_05_31[[u'id', u'created_on', u'operation', u'property_type', u'place_name',\n",
    "       u'place_with_parent_names', u'country_name', u'state_name',\n",
    "       u'geonames_id', u'lat-lon', u'lat', u'lon', u'price', u'currency',\n",
    "       u'price_aprox_local_currency', u'price_aprox_usd',\n",
    "       u'surface_total_in_m2', u'surface_covered_in_m2', u'price_usd_per_m2',\n",
    "       u'price_per_m2', u'floor', u'rooms', u'expenses', u'properati_url',\n",
    "       u'description', u'title', u'image_thumbnail']]"
   ]
  },
  {
   "cell_type": "markdown",
   "metadata": {},
   "source": [
    "# Verifico que no haya IDs nulos ya que al hacer drop_duplicates dos NaN \\ los toma como iguales"
   ]
  },
  {
   "cell_type": "code",
   "execution_count": 89,
   "metadata": {},
   "outputs": [
    {
     "data": {
      "text/plain": [
       "False"
      ]
     },
     "execution_count": 89,
     "metadata": {},
     "output_type": "execute_result"
    }
   ],
   "source": [
    "data_2017_05_31.id.isnull().any() ## no hay problema de que compare ids nulos como duplicados"
   ]
  },
  {
   "cell_type": "code",
   "execution_count": 110,
   "metadata": {
    "collapsed": true
   },
   "outputs": [],
   "source": [
    "data_2017_05_31.to_csv('/home/lucio/Documentos/OrgaDeDatos/ProperatiDatosTP/data/properati-AR-2017-05-31-properties-sell-ARREGLADO.csv',sep=\",\",index=False)"
   ]
  },
  {
   "cell_type": "markdown",
   "metadata": {},
   "source": [
    "# Merge de CSVs año 2017 quitando IDs duplicados"
   ]
  },
  {
   "cell_type": "code",
   "execution_count": 7,
   "metadata": {},
   "outputs": [
    {
     "name": "stdout",
     "output_type": "stream",
     "text": [
      "/home/lucio/Documentos/OrgaDeDatos/ProperatiDatosTP/data/properati-AR-2016-03-01-properties-sell.csv\n",
      "/home/lucio/Documentos/OrgaDeDatos/ProperatiDatosTP/data/properati-AR-2016-09-01-properties-sell.csv\n",
      "/home/lucio/Documentos/OrgaDeDatos/ProperatiDatosTP/data/properati-AR-2016-04-01-properties-sell.csv\n",
      "/home/lucio/Documentos/OrgaDeDatos/ProperatiDatosTP/data/properati-AR-2016-11-01-properties-sell.csv\n",
      "/home/lucio/Documentos/OrgaDeDatos/ProperatiDatosTP/data/properati-AR-2016-07-01-properties-sell.csv\n",
      "/home/lucio/Documentos/OrgaDeDatos/ProperatiDatosTP/data/properati-AR-2016-03-01-properties-sell-six_months.csv\n",
      "/home/lucio/Documentos/OrgaDeDatos/ProperatiDatosTP/data/properati-merge2017.csv\n",
      "/home/lucio/Documentos/OrgaDeDatos/ProperatiDatosTP/data/properati-AR-2016-12-01-properties-sell.csv\n",
      "/home/lucio/Documentos/OrgaDeDatos/ProperatiDatosTP/data/properati-AR-2016-05-01-properties-sell.csv\n",
      "/home/lucio/Documentos/OrgaDeDatos/ProperatiDatosTP/data/properati-AR-2016-10-01-properties-sell.csv\n",
      "/home/lucio/Documentos/OrgaDeDatos/ProperatiDatosTP/data/properati-AR-2016-06-01-properties-sell.csv\n",
      "/home/lucio/Documentos/OrgaDeDatos/ProperatiDatosTP/data/properati-AR-2016-01-01-properties-sell.csv\n",
      "/home/lucio/Documentos/OrgaDeDatos/ProperatiDatosTP/data/properati-AR-2016-02-01-properties-sell.csv\n",
      "/home/lucio/Documentos/OrgaDeDatos/ProperatiDatosTP/data/properati-AR-2016-08-01-properties-sell.csv\n"
     ]
    }
   ],
   "source": [
    "path =r'/home/lucio/Documentos/OrgaDeDatos/ProperatiDatosTP/data'\n",
    "allFiles = glob.glob(path + \"/*.csv\")\n",
    "frame = pd.DataFrame()\n",
    "list_ = []\n",
    "for file_ in allFiles:\n",
    "    print (file_)\n",
    "    df = pd.read_csv(file_,low_memory=False)\n",
    "    if file_ != '/home/lucio/Documentos/OrgaDeDatos/ProperatiDatosTP/data/properati-merge2017.csv':\n",
    "        df = df[df['state_name'].str.contains('G.B.A') | df['state_name'].str.contains('Capital Federal')]\n",
    "        df = df[[u'id', u'created_on', u'operation', u'property_type', u'place_name',\n",
    "           u'place_with_parent_names', u'country_name', u'state_name',\n",
    "           u'geonames_id', u'lat-lon', u'lat', u'lon', u'price', u'currency',\n",
    "           u'price_aprox_local_currency', u'price_aprox_usd',\n",
    "           u'surface_total_in_m2', u'surface_covered_in_m2', u'price_usd_per_m2',\n",
    "           u'price_per_m2', u'floor', u'rooms', u'expenses', u'properati_url',\n",
    "           u'description', u'title', u'image_thumbnail']]\n",
    "        df.drop(['operation','country_name','properati_url', 'image_thumbnail'], 1, inplace=True)\n",
    "    list_.append(df)\n",
    "frame = pd.concat(list_)\n",
    "frame.drop_duplicates([\"id\"],inplace=True)\n",
    "frame.to_csv('/home/lucio/Documentos/OrgaDeDatos/ProperatiDatosTP/data/properati-merge2017.csv',sep=\",\",index=False)"
   ]
  },
  {
   "cell_type": "markdown",
   "metadata": {
    "collapsed": true
   },
   "source": [
    "# Merge de los CSVs del 2016 con el merge 2017 quitando duplicados"
   ]
  },
  {
   "cell_type": "code",
   "execution_count": null,
   "metadata": {
    "collapsed": true
   },
   "outputs": [],
   "source": [
    "path =r'/home/lucio/Documentos/OrgaDeDatos/ProperatiDatosTP/data'\n",
    "allFiles = glob.glob(path + \"/*.csv\")\n",
    "frame = pd.DataFrame()\n",
    "list_ = []\n",
    "for file_ in allFiles:\n",
    "    print (file_)\n",
    "    df = pd.read_csv(file_,low_memory=False)\n",
    "    if file_ != '/home/lucio/Documentos/OrgaDeDatos/ProperatiDatosTP/data/properati-merge2017.csv':\n",
    "        df = df[df['state_name'].str.contains('G.B.A') | df['state_name'].str.contains('Capital Federal')]\n",
    "        df = df[[u'id', u'created_on', u'operation', u'property_type', u'place_name',\n",
    "           u'place_with_parent_names', u'country_name', u'state_name',\n",
    "           u'geonames_id', u'lat-lon', u'lat', u'lon', u'price', u'currency',\n",
    "           u'price_aprox_local_currency', u'price_aprox_usd',\n",
    "           u'surface_total_in_m2', u'surface_covered_in_m2', u'price_usd_per_m2',\n",
    "           u'price_per_m2', u'floor', u'rooms', u'expenses', u'properati_url',\n",
    "           u'description', u'title', u'image_thumbnail']]\n",
    "        df.drop(['operation','country_name','properati_url', 'image_thumbnail'], 1, inplace=True)\n",
    "    list_.append(df)\n",
    "frame = pd.concat(list_)\n",
    "frame.drop_duplicates([\"id\"],inplace=True)\n",
    "frame.to_csv('/home/lucio/Documentos/OrgaDeDatos/ProperatiDatosTP/data/properati-merge2017-2016.csv',sep=\",\",index=False)"
   ]
  },
  {
   "cell_type": "code",
   "execution_count": 125,
   "metadata": {},
   "outputs": [
    {
     "data": {
      "text/plain": [
       "Index([u'created_on', u'operation', u'property_type', u'place_name',\n",
       "       u'place_with_parent_names', u'geonames_id', u'lat-lon', u'lat', u'lon',\n",
       "       u'price', u'currency', u'price_aprox_local_currency',\n",
       "       u'price_aprox_usd', u'surface_in_m2', u'price_usd_per_m2', u'floor',\n",
       "       u'rooms', u'expenses', u'properati_url', u'image_thumbnail'],\n",
       "      dtype='object')"
      ]
     },
     "execution_count": 125,
     "metadata": {},
     "output_type": "execute_result"
    }
   ],
   "source": [
    "data_2015_02_01 = pd.read_csv('/home/lucio/Documentos/OrgaDeDatos/ProperatiDatosTP/data/properati-AR-2015-02-01-properties-sell.csv')\n",
    "data_2015_02_01.columns"
   ]
  },
  {
   "cell_type": "markdown",
   "metadata": {},
   "source": [
    "# Se detecta la falta de columnas state_name y country_name"
   ]
  },
  {
   "cell_type": "code",
   "execution_count": 5,
   "metadata": {
    "collapsed": true
   },
   "outputs": [],
   "source": [
    "def state_name_from_parent(x): \n",
    "    list = x.split('|')\n",
    "    return list[2]\n",
    "\n",
    "def country_name_from_parent(x):\n",
    "    list = x.split('|')\n",
    "    return list[1]"
   ]
  },
  {
   "cell_type": "code",
   "execution_count": 129,
   "metadata": {
    "collapsed": true
   },
   "outputs": [],
   "source": [
    "data_2015_02_01['state_name'] = np.nan"
   ]
  },
  {
   "cell_type": "code",
   "execution_count": 131,
   "metadata": {},
   "outputs": [
    {
     "data": {
      "text/plain": [
       "Index([u'created_on', u'operation', u'property_type', u'place_name',\n",
       "       u'place_with_parent_names', u'state_name', u'geonames_id', u'lat-lon',\n",
       "       u'lat', u'lon', u'price', u'currency', u'price_aprox_local_currency',\n",
       "       u'price_aprox_usd', u'surface_in_m2', u'price_usd_per_m2', u'floor',\n",
       "       u'rooms', u'expenses', u'properati_url', u'image_thumbnail'],\n",
       "      dtype='object')"
      ]
     },
     "execution_count": 131,
     "metadata": {},
     "output_type": "execute_result"
    }
   ],
   "source": [
    "data_2015_02_01 = data_2015_02_01[[u'created_on', u'operation', u'property_type', u'place_name',\n",
    "       u'place_with_parent_names',u'state_name', u'geonames_id', u'lat-lon', u'lat', u'lon',\n",
    "       u'price', u'currency', u'price_aprox_local_currency',\n",
    "       u'price_aprox_usd', u'surface_in_m2', u'price_usd_per_m2', u'floor',\n",
    "       u'rooms', u'expenses', u'properati_url', u'image_thumbnail']]\n",
    "data_2015_02_01.columns"
   ]
  },
  {
   "cell_type": "code",
   "execution_count": 180,
   "metadata": {
    "collapsed": true
   },
   "outputs": [],
   "source": [
    "data_2015_02_01['country_name'] = np.nan\n",
    "data_2015_02_01.loc[:,'country_name'] = data_2015_02_01.place_with_parent_names.apply(country_name_from_parent)"
   ]
  },
  {
   "cell_type": "code",
   "execution_count": 147,
   "metadata": {
    "collapsed": true
   },
   "outputs": [],
   "source": [
    "data_2015_02_01.loc[:,'state_name'] = data_2015_02_01.place_with_parent_names.apply(state_name_from_parent)"
   ]
  },
  {
   "cell_type": "code",
   "execution_count": 181,
   "metadata": {
    "collapsed": true
   },
   "outputs": [],
   "source": [
    "data_2015_02_01.to_csv('/home/lucio/Documentos/OrgaDeDatos/ProperatiDatosTP/data/properati-AR-2015-02-01-properties-sell-ARREGLADO.csv',sep=\",\",index=False)"
   ]
  },
  {
   "cell_type": "code",
   "execution_count": 149,
   "metadata": {},
   "outputs": [
    {
     "data": {
      "text/plain": [
       "Index([u'created_on', u'operation', u'property_type', u'place_name',\n",
       "       u'place_with_parent_names', u'geonames_id', u'lat-lon', u'lat', u'lon',\n",
       "       u'price', u'currency', u'price_aprox_local_currency',\n",
       "       u'price_aprox_usd', u'surface_total_in_m2', u'surface_covered_in_m2',\n",
       "       u'price_usd_per_m2', u'price_per_m2', u'floor', u'rooms', u'expenses',\n",
       "       u'properati_url', u'description', u'title', u'extra',\n",
       "       u'image_thumbnail'],\n",
       "      dtype='object')"
      ]
     },
     "execution_count": 149,
     "metadata": {},
     "output_type": "execute_result"
    }
   ],
   "source": [
    "data_2015_12_01 = pd.read_csv('/home/lucio/Documentos/OrgaDeDatos/ProperatiDatosTP/data/properati-AR-2015-12-01-properties-sell.csv',low_memory=False)\n",
    "data_2015_12_01.columns"
   ]
  },
  {
   "cell_type": "code",
   "execution_count": 150,
   "metadata": {},
   "outputs": [
    {
     "data": {
      "text/plain": [
       "Index([u'created_on', u'operation', u'property_type', u'place_name',\n",
       "       u'place_with_parent_names', u'state_name', u'geonames_id', u'lat-lon',\n",
       "       u'lat', u'lon', u'price', u'currency', u'price_aprox_local_currency',\n",
       "       u'price_aprox_usd', u'surface_total_in_m2', u'surface_covered_in_m2',\n",
       "       u'price_usd_per_m2', u'price_per_m2', u'floor', u'rooms', u'expenses',\n",
       "       u'properati_url', u'description', u'title', u'extra',\n",
       "       u'image_thumbnail'],\n",
       "      dtype='object')"
      ]
     },
     "execution_count": 150,
     "metadata": {},
     "output_type": "execute_result"
    }
   ],
   "source": [
    "data_2015_12_01['state_name'] = np.nan\n",
    "data_2015_12_01 = data_2015_12_01[[u'created_on', u'operation', u'property_type', u'place_name',\n",
    "       u'place_with_parent_names',u'state_name', u'geonames_id', u'lat-lon', u'lat', u'lon',\n",
    "       u'price', u'currency', u'price_aprox_local_currency',\n",
    "       u'price_aprox_usd', u'surface_total_in_m2', u'surface_covered_in_m2',\n",
    "       u'price_usd_per_m2', u'price_per_m2', u'floor', u'rooms', u'expenses',\n",
    "       u'properati_url', u'description', u'title', u'extra',\n",
    "       u'image_thumbnail']]\n",
    "data_2015_12_01.columns"
   ]
  },
  {
   "cell_type": "code",
   "execution_count": 161,
   "metadata": {
    "collapsed": true
   },
   "outputs": [],
   "source": [
    "data_2015_12_01['country_name'] = np.nan\n",
    "data_2015_12_01.loc[:,'state_name'] = data_2015_12_01.place_with_parent_names.apply(state_name_from_parent)"
   ]
  },
  {
   "cell_type": "code",
   "execution_count": 162,
   "metadata": {
    "collapsed": true
   },
   "outputs": [],
   "source": [
    "data_2015_12_01.loc[:,'country_name'] = data_2015_12_01.place_with_parent_names.apply(country_name_from_parent)"
   ]
  },
  {
   "cell_type": "code",
   "execution_count": 163,
   "metadata": {
    "collapsed": true
   },
   "outputs": [],
   "source": [
    "data_2015_12_01.to_csv('/home/lucio/Documentos/OrgaDeDatos/ProperatiDatosTP/data/properati-AR-2015-12-01-properties-sell-ARREGLADO.csv',sep=\",\",index=False)"
   ]
  },
  {
   "cell_type": "code",
   "execution_count": null,
   "metadata": {
    "collapsed": true
   },
   "outputs": [],
   "source": []
  },
  {
   "cell_type": "code",
   "execution_count": 168,
   "metadata": {},
   "outputs": [
    {
     "data": {
      "text/plain": [
       "Index([u'created_on', u'operation', u'property_type', u'place_name',\n",
       "       u'place_with_parent_names', u'geonames_id', u'lat-lon', u'lat', u'lon',\n",
       "       u'price', u'currency', u'price_aprox_local_currency',\n",
       "       u'price_aprox_usd', u'surface_in_m2', u'price_usd_per_m2', u'floor',\n",
       "       u'rooms', u'expenses', u'properati_url', u'description', u'title',\n",
       "       u'extra', u'image_thumbnail'],\n",
       "      dtype='object')"
      ]
     },
     "execution_count": 168,
     "metadata": {},
     "output_type": "execute_result"
    }
   ],
   "source": [
    "data_2015_05_01 = pd.read_csv('/home/lucio/Documentos/OrgaDeDatos/ProperatiDatosTP/data/properati-AR-2015-05-01-properties-sell.csv',low_memory=False)\n",
    "data_2015_05_01.columns"
   ]
  },
  {
   "cell_type": "code",
   "execution_count": 175,
   "metadata": {
    "collapsed": true
   },
   "outputs": [],
   "source": [
    "data_2015_05_01['state_name'] = np.nan\n",
    "data_2015_05_01 = data_2015_05_01[[u'created_on', u'operation', u'property_type', u'place_name',\n",
    "       u'place_with_parent_names',u'state_name', u'geonames_id', u'lat-lon', u'lat', u'lon',\n",
    "       u'price', u'currency', u'price_aprox_local_currency',\n",
    "       u'price_aprox_usd', u'surface_in_m2', u'price_usd_per_m2', u'floor',\n",
    "       u'rooms', u'expenses', u'properati_url', u'description', u'title',\n",
    "       u'extra', u'image_thumbnail']]\n",
    "data_2015_05_01['country_name'] = np.nan\n",
    "data_2015_05_01.loc[:,'country_name'] = data_2015_05_01.place_with_parent_names.apply(country_name_from_parent)\n",
    "data_2015_05_01.loc[:,'state_name'] = data_2015_05_01.place_with_parent_names.apply(state_name_from_parent)\n",
    "data_2015_05_01.to_csv('/home/lucio/Documentos/OrgaDeDatos/ProperatiDatosTP/data/properati-AR-2015-05-01-properties-sell-ARREGLADO.csv',sep=\",\",index=False)"
   ]
  },
  {
   "cell_type": "code",
   "execution_count": 177,
   "metadata": {
    "collapsed": true
   },
   "outputs": [],
   "source": [
    "data_2015_03_01 = pd.read_csv('/home/lucio/Documentos/OrgaDeDatos/ProperatiDatosTP/data/properati-AR-2015-03-01-properties-sell.csv',low_memory=False)\n",
    "data_2015_03_01['state_name'] = np.nan\n",
    "data_2015_03_01 = data_2015_03_01[[u'created_on', u'operation', u'property_type', u'place_name',\n",
    "       u'place_with_parent_names',u'state_name', u'geonames_id', u'lat-lon', u'lat', u'lon',\n",
    "       u'price', u'currency', u'price_aprox_local_currency',\n",
    "       u'price_aprox_usd', u'surface_in_m2', u'price_usd_per_m2', u'floor',\n",
    "       u'rooms', u'expenses', u'properati_url', u'description', u'title',\n",
    "       u'extra', u'image_thumbnail']]\n",
    "data_2015_03_01['country_name'] = np.nan\n",
    "data_2015_03_01.loc[:,'country_name'] = data_2015_03_01.place_with_parent_names.apply(country_name_from_parent)\n",
    "data_2015_03_01.loc[:,'state_name'] = data_2015_03_01.place_with_parent_names.apply(state_name_from_parent)\n",
    "data_2015_03_01.to_csv('/home/lucio/Documentos/OrgaDeDatos/ProperatiDatosTP/data/properati-AR-2015-03-01-properties-sell-ARREGLADO.csv',sep=\",\",index=False)"
   ]
  },
  {
   "cell_type": "code",
   "execution_count": 184,
   "metadata": {
    "collapsed": true
   },
   "outputs": [],
   "source": [
    "data_2015_11_01 = pd.read_csv('/home/lucio/Documentos/OrgaDeDatos/ProperatiDatosTP/data/properati-AR-2015-11-01-properties-sell.csv',low_memory=False)\n",
    "data_2015_11_01['state_name'] = np.nan\n",
    "data_2015_11_01 = data_2015_11_01[[u'created_on', u'operation', u'property_type', u'place_name',\n",
    "       u'place_with_parent_names',u'state_name', u'geonames_id', u'lat-lon', u'lat', u'lon',\n",
    "       u'price', u'currency', u'price_aprox_local_currency',\n",
    "       u'price_aprox_usd', u'surface_in_m2', u'price_usd_per_m2', u'floor',\n",
    "       u'rooms', u'expenses', u'properati_url', u'description', u'title',\n",
    "       u'extra', u'image_thumbnail']]\n",
    "data_2015_11_01['country_name'] = np.nan\n",
    "data_2015_11_01.loc[:,'country_name'] = data_2015_11_01.place_with_parent_names.apply(country_name_from_parent)\n",
    "data_2015_11_01.loc[:,'state_name'] = data_2015_11_01.place_with_parent_names.apply(state_name_from_parent)\n",
    "data_2015_11_01.to_csv('/home/lucio/Documentos/OrgaDeDatos/ProperatiDatosTP/data/properati-AR-2015-11-01-properties-sell-ARREGLADO.csv',sep=\",\",index=False)"
   ]
  },
  {
   "cell_type": "code",
   "execution_count": 188,
   "metadata": {
    "collapsed": true
   },
   "outputs": [],
   "source": [
    "data_2015_10_01 = pd.read_csv('/home/lucio/Documentos/OrgaDeDatos/ProperatiDatosTP/data/properati-AR-2015-10-01-properties-sell.csv',low_memory=False)\n",
    "data_2015_10_01['state_name'] = np.nan\n",
    "data_2015_10_01 = data_2015_10_01[[u'created_on', u'operation', u'property_type', u'place_name',\n",
    "       u'place_with_parent_names',u'state_name', u'geonames_id', u'lat-lon', u'lat', u'lon',\n",
    "       u'price', u'currency', u'price_aprox_local_currency',\n",
    "       u'price_aprox_usd', u'surface_in_m2', u'price_usd_per_m2', u'floor',\n",
    "       u'rooms', u'expenses', u'properati_url', u'description', u'title',\n",
    "       u'extra', u'image_thumbnail']]\n",
    "data_2015_10_01['country_name'] = np.nan\n",
    "data_2015_10_01.loc[:,'country_name'] = data_2015_10_01.place_with_parent_names.apply(country_name_from_parent)\n",
    "data_2015_10_01.loc[:,'state_name'] = data_2015_10_01.place_with_parent_names.apply(state_name_from_parent)\n",
    "data_2015_10_01.to_csv('/home/lucio/Documentos/OrgaDeDatos/ProperatiDatosTP/data/properati-AR-2015-10-01-properties-sell-ARREGLADO.csv',sep=\",\",index=False)"
   ]
  },
  {
   "cell_type": "code",
   "execution_count": 192,
   "metadata": {
    "collapsed": true
   },
   "outputs": [],
   "source": [
    "data_2015_09_01 = pd.read_csv('/home/lucio/Documentos/OrgaDeDatos/ProperatiDatosTP/data/properati-AR-2015-09-01-properties-sell.csv',low_memory=False)\n",
    "data_2015_09_01['state_name'] = np.nan\n",
    "data_2015_09_01 = data_2015_09_01[[u'created_on', u'operation', u'property_type', u'place_name',\n",
    "       u'place_with_parent_names',u'state_name', u'geonames_id', u'lat-lon', u'lat', u'lon',\n",
    "       u'price', u'currency', u'price_aprox_local_currency',\n",
    "       u'price_aprox_usd', u'surface_in_m2', u'price_usd_per_m2', u'floor',\n",
    "       u'rooms', u'expenses', u'properati_url', u'description', u'title',\n",
    "       u'extra', u'image_thumbnail']]\n",
    "data_2015_09_01['country_name'] = np.nan\n",
    "data_2015_09_01.loc[:,'country_name'] = data_2015_09_01.place_with_parent_names.apply(country_name_from_parent)\n",
    "data_2015_09_01.loc[:,'state_name'] = data_2015_09_01.place_with_parent_names.apply(state_name_from_parent)\n",
    "data_2015_09_01.to_csv('/home/lucio/Documentos/OrgaDeDatos/ProperatiDatosTP/data/properati-AR-2015-09-01-properties-sell-ARREGLADO.csv',sep=\",\",index=False)"
   ]
  },
  {
   "cell_type": "code",
   "execution_count": null,
   "metadata": {
    "collapsed": true
   },
   "outputs": [],
   "source": [
    "data_2015_01_01 = pd.read_csv('/home/lucio/Documentos/OrgaDeDatos/ProperatiDatosTP/data/properati-AR-2015-01-01-properties-sell.csv',low_memory=False)\n",
    "\n",
    "data_2015_01_01['state_name'] = np.nan\n",
    "data_2015_01_01 = data_2015_01_01[[u'created_on', u'operation', u'property_type', u'place_name',\n",
    "       u'place_with_parent_names',u'state_name', u'geonames_id', u'lat-lon', u'lat', u'lon',\n",
    "       u'price', u'currency', u'price_aprox_local_currency',\n",
    "       u'price_aprox_usd', u'surface_in_m2', u'price_usd_per_m2', u'floor',\n",
    "       u'rooms', u'expenses', u'properati_url', u'image_thumbnail']]\n",
    "data_2015_01_01['country_name'] = np.nan\n",
    "data_2015_01_01.loc[:,'country_name'] = data_2015_01_01.place_with_parent_names.apply(country_name_from_parent)\n",
    "data_2015_01_01.loc[:,'state_name'] = data_2015_01_01.place_with_parent_names.apply(state_name_from_parent)\n",
    "data_2015_01_01.to_csv('/home/lucio/Documentos/OrgaDeDatos/ProperatiDatosTP/data/properati-AR-2015-01-01-properties-sell-ARREGLADO.csv',sep=\",\",index=False)"
   ]
  },
  {
   "cell_type": "code",
   "execution_count": 203,
   "metadata": {
    "collapsed": true
   },
   "outputs": [],
   "source": [
    "data_2015_04_01 = pd.read_csv('/home/lucio/Documentos/OrgaDeDatos/ProperatiDatosTP/data/properati-AR-2015-04-01-properties-sell.csv',low_memory=False)\n",
    "data_2015_04_01['state_name'] = np.nan\n",
    "data_2015_04_01 = data_2015_04_01[[u'created_on', u'operation', u'property_type', u'place_name',\n",
    "       u'place_with_parent_names',u'state_name', u'geonames_id', u'lat-lon', u'lat', u'lon',\n",
    "       u'price', u'currency', u'price_aprox_local_currency',\n",
    "       u'price_aprox_usd', u'surface_in_m2', u'price_usd_per_m2', u'floor',\n",
    "       u'rooms', u'expenses', u'properati_url', u'image_thumbnail']]\n",
    "data_2015_04_01['country_name'] = np.nan\n",
    "data_2015_04_01.loc[:,'country_name'] = data_2015_04_01.place_with_parent_names.apply(country_name_from_parent)\n",
    "data_2015_04_01.loc[:,'state_name'] = data_2015_04_01.place_with_parent_names.apply(state_name_from_parent)\n",
    "data_2015_04_01.to_csv('/home/lucio/Documentos/OrgaDeDatos/ProperatiDatosTP/data/properati-AR-2015-04-01-properties-sell-ARREGLADO.csv',sep=\",\",index=False)"
   ]
  },
  {
   "cell_type": "code",
   "execution_count": 6,
   "metadata": {
    "collapsed": true
   },
   "outputs": [],
   "source": [
    "data_2015_07_01 = pd.read_csv('/home/lucio/Documentos/OrgaDeDatos/ProperatiDatosTP/data/properati-AR-2015-07-01-properties-sell.csv',low_memory=False)\n",
    "data_2015_07_01['state_name'] = np.nan\n",
    "data_2015_07_01 = data_2015_07_01[[u'created_on', u'operation', u'property_type', u'place_name',\n",
    "       u'place_with_parent_names',u'state_name', u'geonames_id', u'lat-lon', u'lat', u'lon',\n",
    "       u'price', u'currency', u'price_aprox_local_currency',\n",
    "       u'price_aprox_usd', u'surface_in_m2', u'price_usd_per_m2', u'floor',\n",
    "       u'rooms', u'expenses', u'properati_url', u'description', u'title',\n",
    "       u'extra', u'image_thumbnail']]\n",
    "data_2015_07_01['country_name'] = np.nan\n",
    "data_2015_07_01.loc[:,'country_name'] = data_2015_07_01.place_with_parent_names.apply(country_name_from_parent)\n",
    "data_2015_07_01.loc[:,'state_name'] = data_2015_07_01.place_with_parent_names.apply(state_name_from_parent)\n",
    "data_2015_07_01.to_csv('/home/lucio/Documentos/OrgaDeDatos/ProperatiDatosTP/data/properati-AR-2015-07-01-properties-sell-ARREGLADO.csv',sep=\",\",index=False)"
   ]
  },
  {
   "cell_type": "code",
   "execution_count": 11,
   "metadata": {
    "collapsed": true
   },
   "outputs": [],
   "source": [
    "data_2015_06_01 = pd.read_csv('/home/lucio/Documentos/OrgaDeDatos/ProperatiDatosTP/data/properati-AR-2015-06-01-properties-sell.csv',low_memory=False)\n",
    "data_2015_06_01['state_name'] = np.nan\n",
    "data_2015_06_01 = data_2015_06_01[[u'created_on', u'operation', u'property_type', u'place_name',\n",
    "       u'place_with_parent_names',u'state_name', u'geonames_id', u'lat-lon', u'lat', u'lon',\n",
    "       u'price', u'currency', u'price_aprox_local_currency',\n",
    "       u'price_aprox_usd', u'surface_in_m2', u'price_usd_per_m2', u'floor',\n",
    "       u'rooms', u'expenses', u'properati_url', u'description', u'title',\n",
    "       u'extra', u'image_thumbnail']]\n",
    "data_2015_06_01['country_name'] = np.nan\n",
    "data_2015_06_01.loc[:,'country_name'] = data_2015_06_01.place_with_parent_names.apply(country_name_from_parent)\n",
    "data_2015_06_01.loc[:,'state_name'] = data_2015_06_01.place_with_parent_names.apply(state_name_from_parent)\n",
    "data_2015_06_01.to_csv('/home/lucio/Documentos/OrgaDeDatos/ProperatiDatosTP/data/properati-AR-2015-06-01-properties-sell-ARREGLADO.csv',sep=\",\",index=False)"
   ]
  },
  {
   "cell_type": "code",
   "execution_count": null,
   "metadata": {
    "collapsed": true
   },
   "outputs": [],
   "source": [
    "data_2015_08_01['state_name'] = np.nan\n",
    "data_2015_08_01 = data_2015_08_01[[u'created_on', u'operation', u'property_type', u'place_name',\n",
    "       u'place_with_parent_names',u'state_name', u'geonames_id', u'lat-lon', u'lat', u'lon',\n",
    "       u'price', u'currency', u'price_aprox_local_currency',\n",
    "       u'price_aprox_usd', u'surface_in_m2', u'price_usd_per_m2', u'floor',\n",
    "       u'rooms', u'expenses', u'properati_url', u'description', u'title',\n",
    "       u'extra', u'image_thumbnail']]\n",
    "data_2015_08_01['country_name'] = np.nan\n",
    "data_2015_08_01.loc[:,'country_name'] = data_2015_08_01.place_with_parent_names.apply(country_name_from_parent)\n",
    "data_2015_08_01.loc[:,'state_name'] = data_2015_08_01.place_with_parent_names.apply(state_name_from_parent)\n",
    "data_2015_08_01.to_csv('/home/lucio/Documentos/OrgaDeDatos/ProperatiDatosTP/data/properati-AR-2015-08-01-properties-sell-ARREGLADO.csv',sep=\",\",index=False)"
   ]
  },
  {
   "cell_type": "markdown",
   "metadata": {},
   "source": [
    "# Se detecto que los archivos que no decian SIX MONTHS no tenian la columna IDs"
   ]
  },
  {
   "cell_type": "markdown",
   "metadata": {},
   "source": [
    "Por lo cual decidimos descartar aquellos datasets que no eran SIX MONTHS. Ademas de no tener la columna IDs tampoco tenian las columnas: surface_total_in_m2, price_per_m2 surface_coverd_in_m2, title, description."
   ]
  },
  {
   "cell_type": "markdown",
   "metadata": {
    "collapsed": true
   },
   "source": [
    "# Merge de los CSVs 2015 solo six con el resultado del merge anterior"
   ]
  },
  {
   "cell_type": "code",
   "execution_count": null,
   "metadata": {
    "collapsed": true
   },
   "outputs": [],
   "source": [
    "path =r'/home/lucio/Documentos/OrgaDeDatos/ProperatiDatosTP/data' # use your path\n",
    "allFiles = glob.glob(path + \"/*.csv\")\n",
    "frame = pd.DataFrame()\n",
    "list_ = []\n",
    "for file_ in allFiles:\n",
    "    print (file_)\n",
    "    df = pd.read_csv(file_,low_memory=False)\n",
    "    if file_ != '/home/lucio/Documentos/OrgaDeDatos/ProperatiDatosTP/data/properati-merge2017-2016-2015-SOLOSIX.csv':\n",
    "        df = df[df['state_name'].str.contains('G.B.A') | df['state_name'].str.contains('Capital Federal')]\n",
    "        df = df[[u'id', u'created_on', u'operation', u'property_type', u'place_name',\n",
    "           u'place_with_parent_names', u'country_name', u'state_name',\n",
    "           u'geonames_id', u'lat-lon', u'lat', u'lon', u'price', u'currency',\n",
    "           u'price_aprox_local_currency', u'price_aprox_usd',\n",
    "           u'surface_total_in_m2', u'surface_covered_in_m2', u'price_usd_per_m2',\n",
    "           u'price_per_m2', u'floor', u'rooms', u'expenses', u'properati_url',\n",
    "           u'description', u'title', u'image_thumbnail']]\n",
    "        df.drop(['operation','country_name','properati_url', 'image_thumbnail'], 1, inplace=True)\n",
    "    list_.append(df)\n",
    "frame = pd.concat(list_)\n",
    "#frame.drop_duplicates([\"id\"],inplace=True)\n",
    "frame.to_csv('/home/lucio/Documentos/OrgaDeDatos/ProperatiDatosTP/data/properati-merge2017-2016-2015.csv',sep=\",\",index=False)"
   ]
  },
  {
   "cell_type": "markdown",
   "metadata": {
    "collapsed": true
   },
   "source": [
    "# CSVs del 2014 y 2013"
   ]
  },
  {
   "cell_type": "markdown",
   "metadata": {},
   "source": [
    "Mismo problema, faltan columnas importantes. Esta vez no hay solucion, no hay CSVs que sean cada 6 meses"
   ]
  },
  {
   "cell_type": "code",
   "execution_count": 20,
   "metadata": {},
   "outputs": [
    {
     "data": {
      "text/plain": [
       "Index([u'created_on', u'operation', u'property_type', u'place_name',\n",
       "       u'place_with_parent_names', u'geonames_id', u'lat-lon', u'lat', u'lon',\n",
       "       u'price', u'currency', u'price_aprox_local_currency',\n",
       "       u'price_aprox_usd', u'surface_in_m2', u'price_usd_per_m2', u'floor',\n",
       "       u'rooms', u'expenses', u'properati_url', u'image_thumbnail'],\n",
       "      dtype='object')"
      ]
     },
     "execution_count": 20,
     "metadata": {},
     "output_type": "execute_result"
    }
   ],
   "source": [
    "data_2014_08_01 = pd.read_csv('/home/lucio/Documentos/OrgaDeDatos/ProperatiDatosTP/data/properati-AR-2014-08-01-properties-sell.csv',low_memory=False)\n",
    "data_2014_08_01.columns"
   ]
  },
  {
   "cell_type": "code",
   "execution_count": 2,
   "metadata": {},
   "outputs": [
    {
     "data": {
      "text/plain": [
       "Index([u'created_on', u'operation', u'property_type', u'place_name',\n",
       "       u'place_with_parent_names', u'state_name', u'geonames_id', u'lat-lon',\n",
       "       u'lat', u'lon', u'price', u'currency', u'price_aprox_local_currency',\n",
       "       u'price_aprox_usd', u'surface_in_m2', u'price_usd_per_m2', u'floor',\n",
       "       u'rooms', u'expenses', u'properati_url', u'image_thumbnail',\n",
       "       u'country_name'],\n",
       "      dtype='object')"
      ]
     },
     "execution_count": 2,
     "metadata": {},
     "output_type": "execute_result"
    }
   ],
   "source": [
    "data_2013_11_01 = pd.read_csv('/home/lucio/Documentos/OrgaDeDatos/ProperatiDatosTP/data/properati-AR-2013-11-01-properties-sell.csv',low_memory=False)\n",
    "data_2013_11_01.columns"
   ]
  }
 ],
 "metadata": {
  "kernelspec": {
   "display_name": "Python 3",
   "language": "python",
   "name": "python3"
  },
  "language_info": {
   "codemirror_mode": {
    "name": "ipython",
    "version": 3
   },
   "file_extension": ".py",
   "mimetype": "text/x-python",
   "name": "python",
   "nbconvert_exporter": "python",
   "pygments_lexer": "ipython3",
   "version": "3.5.2"
  }
 },
 "nbformat": 4,
 "nbformat_minor": 2
}
