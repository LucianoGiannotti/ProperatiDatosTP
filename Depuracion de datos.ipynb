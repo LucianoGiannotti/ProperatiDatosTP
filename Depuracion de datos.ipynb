{
 "cells": [
  {
   "cell_type": "markdown",
   "metadata": {},
   "source": [
    "### Con que datos nos quedamos?"
   ]
  },
  {
   "cell_type": "code",
   "execution_count": 1,
   "metadata": {
    "collapsed": true
   },
   "outputs": [],
   "source": [
    "import pandas as pd\n",
    "import numpy as np\n",
    "import seaborn as sns\n",
    "import matplotlib.pyplot as plt\n",
    "%matplotlib inline"
   ]
  },
  {
   "cell_type": "code",
   "execution_count": 2,
   "metadata": {
    "collapsed": true
   },
   "outputs": [],
   "source": [
    "data = pd.read_csv('data/properati-AR-2017-08-01-properties-sell.csv')"
   ]
  },
  {
   "cell_type": "code",
   "execution_count": 3,
   "metadata": {},
   "outputs": [
    {
     "data": {
      "text/plain": [
       "Index(['id', 'created_on', 'operation', 'property_type', 'place_name',\n",
       "       'place_with_parent_names', 'country_name', 'state_name', 'geonames_id',\n",
       "       'lat-lon', 'lat', 'lon', 'price', 'currency',\n",
       "       'price_aprox_local_currency', 'price_aprox_usd', 'surface_total_in_m2',\n",
       "       'surface_covered_in_m2', 'price_usd_per_m2', 'price_per_m2', 'floor',\n",
       "       'rooms', 'expenses', 'properati_url', 'description', 'title',\n",
       "       'image_thumbnail'],\n",
       "      dtype='object')"
      ]
     },
     "execution_count": 3,
     "metadata": {},
     "output_type": "execute_result"
    }
   ],
   "source": [
    "data.columns"
   ]
  },
  {
   "cell_type": "code",
   "execution_count": 4,
   "metadata": {},
   "outputs": [
    {
     "data": {
      "text/plain": [
       "sell    187482\n",
       "Name: operation, dtype: int64"
      ]
     },
     "execution_count": 4,
     "metadata": {},
     "output_type": "execute_result"
    }
   ],
   "source": [
    "data.operation.value_counts() ## Son todos sell"
   ]
  },
  {
   "cell_type": "code",
   "execution_count": 5,
   "metadata": {},
   "outputs": [
    {
     "data": {
      "text/plain": [
       "Argentina    187482\n",
       "Name: country_name, dtype: int64"
      ]
     },
     "execution_count": 5,
     "metadata": {},
     "output_type": "execute_result"
    }
   ],
   "source": [
    "data.country_name.value_counts() ## son todos arg"
   ]
  },
  {
   "cell_type": "code",
   "execution_count": 6,
   "metadata": {
    "collapsed": true
   },
   "outputs": [],
   "source": [
    "data.drop(['id', 'operation','country_name', 'properati_url', 'image_thumbnail'], 1, inplace=True)\n",
    "## el id no dice nada creo y las url tampoco"
   ]
  },
  {
   "cell_type": "code",
   "execution_count": 7,
   "metadata": {},
   "outputs": [
    {
     "name": "stdout",
     "output_type": "stream",
     "text": [
      "<class 'pandas.core.frame.DataFrame'>\n",
      "RangeIndex: 187482 entries, 0 to 187481\n",
      "Data columns (total 22 columns):\n",
      "created_on                    187482 non-null object\n",
      "property_type                 187482 non-null object\n",
      "place_name                    187447 non-null object\n",
      "place_with_parent_names       187482 non-null object\n",
      "state_name                    187482 non-null object\n",
      "geonames_id                   158318 non-null float64\n",
      "lat-lon                       118761 non-null object\n",
      "lat                           118761 non-null float64\n",
      "lon                           118761 non-null float64\n",
      "price                         154443 non-null float64\n",
      "currency                      154441 non-null object\n",
      "price_aprox_local_currency    154443 non-null float64\n",
      "price_aprox_usd               154443 non-null float64\n",
      "surface_total_in_m2           125027 non-null float64\n",
      "surface_covered_in_m2         152420 non-null float64\n",
      "price_usd_per_m2              105024 non-null float64\n",
      "price_per_m2                  131665 non-null float64\n",
      "floor                         14294 non-null float64\n",
      "rooms                         80320 non-null float64\n",
      "expenses                      17520 non-null float64\n",
      "description                   187473 non-null object\n",
      "title                         187482 non-null object\n",
      "dtypes: float64(13), object(9)\n",
      "memory usage: 31.5+ MB\n"
     ]
    }
   ],
   "source": [
    "data.info()"
   ]
  },
  {
   "cell_type": "code",
   "execution_count": 8,
   "metadata": {},
   "outputs": [
    {
     "data": {
      "text/plain": [
       "Capital Federal                 44152\n",
       "Bs.As. G.B.A. Zona Norte        39888\n",
       "Bs.As. G.B.A. Zona Oeste        22571\n",
       "Buenos Aires Costa Atlántica    20694\n",
       "Bs.As. G.B.A. Zona Sur          18135\n",
       "Córdoba                         15777\n",
       "Santa Fe                        13516\n",
       "Buenos Aires Interior            4686\n",
       "Río Negro                        1152\n",
       "Neuquén                          1057\n",
       "Mendoza                           927\n",
       "Misiones                          817\n",
       "Entre Ríos                        793\n",
       "Tucumán                           715\n",
       "Corrientes                        629\n",
       "San Luis                          444\n",
       "Salta                             372\n",
       "Chubut                            329\n",
       "La Pampa                          301\n",
       "Catamarca                         126\n",
       "Chaco                              95\n",
       "San Juan                           86\n",
       "Tierra Del Fuego                   69\n",
       "Formosa                            66\n",
       "Santa Cruz                         40\n",
       "Jujuy                              32\n",
       "La Rioja                            9\n",
       "Santiago Del Estero                 4\n",
       "Name: state_name, dtype: int64"
      ]
     },
     "execution_count": 8,
     "metadata": {},
     "output_type": "execute_result"
    }
   ],
   "source": [
    "data.state_name.value_counts()"
   ]
  },
  {
   "cell_type": "code",
   "execution_count": 9,
   "metadata": {
    "collapsed": true
   },
   "outputs": [],
   "source": [
    "data = data[data['state_name'].str.contains('G.B.A') | data['state_name'].str.contains('Capital Federal')]\n",
    "##El tp dice solo gba y caba"
   ]
  },
  {
   "cell_type": "code",
   "execution_count": 10,
   "metadata": {},
   "outputs": [
    {
     "data": {
      "text/plain": [
       "Capital Federal             44152\n",
       "Bs.As. G.B.A. Zona Norte    39888\n",
       "Bs.As. G.B.A. Zona Oeste    22571\n",
       "Bs.As. G.B.A. Zona Sur      18135\n",
       "Name: state_name, dtype: int64"
      ]
     },
     "execution_count": 10,
     "metadata": {},
     "output_type": "execute_result"
    }
   ],
   "source": [
    "data.state_name.value_counts()"
   ]
  },
  {
   "cell_type": "code",
   "execution_count": 11,
   "metadata": {
    "collapsed": true
   },
   "outputs": [],
   "source": [
    "data['created_on'] = pd.to_datetime(data['created_on']) ## conversion de tipo"
   ]
  },
  {
   "cell_type": "code",
   "execution_count": 12,
   "metadata": {},
   "outputs": [
    {
     "name": "stdout",
     "output_type": "stream",
     "text": [
      "<class 'pandas.core.frame.DataFrame'>\n",
      "Int64Index: 124746 entries, 0 to 187480\n",
      "Data columns (total 22 columns):\n",
      "created_on                    124746 non-null datetime64[ns]\n",
      "property_type                 124746 non-null object\n",
      "place_name                    124711 non-null object\n",
      "place_with_parent_names       124746 non-null object\n",
      "state_name                    124746 non-null object\n",
      "geonames_id                   97866 non-null float64\n",
      "lat-lon                       75504 non-null object\n",
      "lat                           75504 non-null float64\n",
      "lon                           75504 non-null float64\n",
      "price                         110203 non-null float64\n",
      "currency                      110202 non-null object\n",
      "price_aprox_local_currency    110203 non-null float64\n",
      "price_aprox_usd               110203 non-null float64\n",
      "surface_total_in_m2           89385 non-null float64\n",
      "surface_covered_in_m2         109180 non-null float64\n",
      "price_usd_per_m2              79108 non-null float64\n",
      "price_per_m2                  98873 non-null float64\n",
      "floor                         10574 non-null float64\n",
      "rooms                         49922 non-null float64\n",
      "expenses                      14913 non-null float64\n",
      "description                   124739 non-null object\n",
      "title                         124746 non-null object\n",
      "dtypes: datetime64[ns](1), float64(13), object(8)\n",
      "memory usage: 21.9+ MB\n"
     ]
    }
   ],
   "source": [
    "data.info()"
   ]
  },
  {
   "cell_type": "code",
   "execution_count": 13,
   "metadata": {
    "collapsed": true
   },
   "outputs": [],
   "source": [
    "data_wop = data[data['price'].isnull()]"
   ]
  },
  {
   "cell_type": "code",
   "execution_count": 14,
   "metadata": {},
   "outputs": [
    {
     "name": "stdout",
     "output_type": "stream",
     "text": [
      "<class 'pandas.core.frame.DataFrame'>\n",
      "Int64Index: 14543 entries, 28 to 187464\n",
      "Data columns (total 22 columns):\n",
      "created_on                    14543 non-null datetime64[ns]\n",
      "property_type                 14543 non-null object\n",
      "place_name                    14542 non-null object\n",
      "place_with_parent_names       14543 non-null object\n",
      "state_name                    14543 non-null object\n",
      "geonames_id                   12167 non-null float64\n",
      "lat-lon                       9318 non-null object\n",
      "lat                           9318 non-null float64\n",
      "lon                           9318 non-null float64\n",
      "price                         0 non-null float64\n",
      "currency                      0 non-null object\n",
      "price_aprox_local_currency    0 non-null float64\n",
      "price_aprox_usd               0 non-null float64\n",
      "surface_total_in_m2           10011 non-null float64\n",
      "surface_covered_in_m2         10304 non-null float64\n",
      "price_usd_per_m2              0 non-null float64\n",
      "price_per_m2                  0 non-null float64\n",
      "floor                         475 non-null float64\n",
      "rooms                         6365 non-null float64\n",
      "expenses                      773 non-null float64\n",
      "description                   14543 non-null object\n",
      "title                         14543 non-null object\n",
      "dtypes: datetime64[ns](1), float64(13), object(8)\n",
      "memory usage: 2.6+ MB\n"
     ]
    }
   ],
   "source": [
    "data_wop.info()### Los datos sin precio no tienen ningun tipo de precio"
   ]
  },
  {
   "cell_type": "code",
   "execution_count": 15,
   "metadata": {},
   "outputs": [],
   "source": [
    "data.dropna(axis=0,subset=['price'],inplace=True) ## drop de los datos sin precio"
   ]
  },
  {
   "cell_type": "code",
   "execution_count": 16,
   "metadata": {},
   "outputs": [
    {
     "name": "stdout",
     "output_type": "stream",
     "text": [
      "<class 'pandas.core.frame.DataFrame'>\n",
      "Int64Index: 110203 entries, 0 to 187480\n",
      "Data columns (total 22 columns):\n",
      "created_on                    110203 non-null datetime64[ns]\n",
      "property_type                 110203 non-null object\n",
      "place_name                    110169 non-null object\n",
      "place_with_parent_names       110203 non-null object\n",
      "state_name                    110203 non-null object\n",
      "geonames_id                   85699 non-null float64\n",
      "lat-lon                       66186 non-null object\n",
      "lat                           66186 non-null float64\n",
      "lon                           66186 non-null float64\n",
      "price                         110203 non-null float64\n",
      "currency                      110202 non-null object\n",
      "price_aprox_local_currency    110203 non-null float64\n",
      "price_aprox_usd               110203 non-null float64\n",
      "surface_total_in_m2           79374 non-null float64\n",
      "surface_covered_in_m2         98876 non-null float64\n",
      "price_usd_per_m2              79108 non-null float64\n",
      "price_per_m2                  98873 non-null float64\n",
      "floor                         10099 non-null float64\n",
      "rooms                         43557 non-null float64\n",
      "expenses                      14140 non-null float64\n",
      "description                   110196 non-null object\n",
      "title                         110203 non-null object\n",
      "dtypes: datetime64[ns](1), float64(13), object(8)\n",
      "memory usage: 19.3+ MB\n"
     ]
    }
   ],
   "source": [
    "data.info()\n",
    "## hay muchos datos con precio pero sin precios por m2 "
   ]
  },
  {
   "cell_type": "code",
   "execution_count": null,
   "metadata": {
    "collapsed": true
   },
   "outputs": [],
   "source": []
  }
 ],
 "metadata": {
  "kernelspec": {
   "display_name": "Python 3",
   "language": "python",
   "name": "python3"
  },
  "language_info": {
   "codemirror_mode": {
    "name": "ipython",
    "version": 3
   },
   "file_extension": ".py",
   "mimetype": "text/x-python",
   "name": "python",
   "nbconvert_exporter": "python",
   "pygments_lexer": "ipython3",
   "version": "3.5.2"
  }
 },
 "nbformat": 4,
 "nbformat_minor": 2
}
