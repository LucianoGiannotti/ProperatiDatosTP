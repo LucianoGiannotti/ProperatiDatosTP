{
 "cells": [
  {
   "cell_type": "markdown",
   "metadata": {},
   "source": [
    "## Entrecruzamiento con datasets públicos de CABA\n",
    "En esta sección trataremos de analizar los datos cruzandolos con datasets provistos por la Ciudad Autónoma de Buenos Aires. https://data.buenosaires.gob.ar\n",
    "#### Los datasets con los que contamos son:\n",
    "* Comisarias\n",
    "* Estaciones de ferrocarril\n",
    "* Estaciones de subte\n",
    "* Paradas de colectivos"
   ]
  },
  {
   "cell_type": "code",
   "execution_count": null,
   "metadata": {
    "collapsed": true
   },
   "outputs": [],
   "source": [
    "data_comisarias = pd.read_csv('data/comisarias-policia-de-la-ciudad.csv',sep = \";\",error_bad_lines= False)\n",
    "data_ferrocarril = pd.read_csv('data/estaciones-de-ferrocarril.csv',sep = \";\",error_bad_lines= False)\n",
    "data_subte = pd.read_csv('data/estaciones-de-subte.csv',encoding='iso-8859-1',error_bad_lines= False)\n",
    "data_colectivos = pd.read_csv('data/paradas-de-colectivo.csv',encoding='iso-8859-1',sep = \";\",error_bad_lines= False)"
   ]
  },
  {
   "cell_type": "code",
   "execution_count": null,
   "metadata": {
    "collapsed": true
   },
   "outputs": [],
   "source": [
    "# Formula de Haversine (calculo de dist entre 2 puntos geograficos)\n",
    "def haversine(lat1,lon1,lat2,lon2):\n",
    "    \"Devuelve distancia en metros\"\n",
    "    rad = math.pi/180\n",
    "    dif_lat = lat1 - lat2\n",
    "    dif_lon = lon1 - lon2\n",
    "    radio_tierra = 6378.1\n",
    "    distancia = 2 * radio_tierra* math.asin(math.sqrt(math.sin(rad*(dif_lat)/2)**2 + \\\n",
    "                                            math.cos(rad*lat1)*math.cos(rad*lat2)*math.sin(rad*(dif_lon)/2)**2))\n",
    "    return distancia*1000"
   ]
  },
  {
   "cell_type": "code",
   "execution_count": null,
   "metadata": {
    "collapsed": true
   },
   "outputs": [],
   "source": [
    "## Todos los datasets de comisarias, ferrocarril,etc tienen una columna X con la lat y una Y con la long\n",
    "def registro_mas_cercano(data,lat,lon):\n",
    "    \"Devuelve el registro mas cercano a la lat y lon dada\"\n",
    "    dist_min = 999999999\n",
    "    registro = data.iloc[0]\n",
    "    for i in range (1,int(data.last_valid_index())+1):\n",
    "        dist = haversine(np.float64(data.iloc[i].Y.replace(\",\",\".\")),\\\n",
    "                                     np.float64(data.iloc[i].X.replace(\",\",\".\")),lat,lon)\n",
    "        if dist_min > dist:\n",
    "            dist_min = dist\n",
    "            registro = data.iloc[i]\n",
    "    print (dist_min)\n",
    "    return registro\n",
    "\n",
    "def dist_reg_mas_cercana(data,lat,lon):\n",
    "    \"Devuelve la distancia en m al registro mas cercano\"\n",
    "    dist_min = 999999999\n",
    "    reg = data.iloc[0]\n",
    "    for i in range (1,int(data.last_valid_index())+1):\n",
    "        dist = haversine(np.float64(data.iloc[i].Y.replace(\",\",\".\")),\\\n",
    "                                     np.float64(data.iloc[i].X.replace(\",\",\".\")),lat,lon)\n",
    "        if dist_min > dist:\n",
    "            dist_min = dist\n",
    "            reg = data.iloc[i]\n",
    "    return dist_min"
   ]
  },
  {
   "cell_type": "code",
   "execution_count": null,
   "metadata": {
    "collapsed": true
   },
   "outputs": [],
   "source": [
    "## Utilizaremos solo los registros de caba con lat y lon y las columnas de precios\n",
    "registros_en_cap_federal = data.loc[data['state_name'].str.contains('Capital Federal'),['price_aprox_usd','lat','lon','price_usd_per_m2']]\n",
    "registros_con_coord = registros_en_cap_federal.dropna(how='any')"
   ]
  },
  {
   "cell_type": "code",
   "execution_count": null,
   "metadata": {
    "collapsed": true
   },
   "outputs": [],
   "source": [
    "#Correr bajo su propio riesgo\n",
    "#registros_con_coord['dist_a_comisaria']=registros_con_coord.apply(lambda x: dist_reg_mas_cercana(data_comisarias,x.lat,x.lon),axis=1)\n",
    "#registros_con_coord.head()"
   ]
  },
  {
   "cell_type": "code",
   "execution_count": null,
   "metadata": {
    "collapsed": true
   },
   "outputs": [],
   "source": []
  }
 ],
 "metadata": {
  "kernelspec": {
   "display_name": "Python 3",
   "language": "python",
   "name": "python3"
  },
  "language_info": {
   "codemirror_mode": {
    "name": "ipython",
    "version": 2
   },
   "file_extension": ".py",
   "mimetype": "text/x-python",
   "name": "python",
   "nbconvert_exporter": "python",
   "pygments_lexer": "ipython2",
   "version": "2.7.12"
  }
 },
 "nbformat": 4,
 "nbformat_minor": 2
}
