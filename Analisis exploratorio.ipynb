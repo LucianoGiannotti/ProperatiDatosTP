{
 "cells": [
  {
   "cell_type": "code",
   "execution_count": 5,
   "metadata": {
    "collapsed": true
   },
   "outputs": [],
   "source": [
    "import pandas as pd\n",
    "import numpy as np\n",
    "import seaborn as sns\n",
    "import matplotlib.pyplot as plt\n",
    "%matplotlib inline"
   ]
  },
  {
   "cell_type": "code",
   "execution_count": 6,
   "metadata": {
    "collapsed": true
   },
   "outputs": [],
   "source": [
    "data = pd.read_csv('data/properati-AR-2017-08-01-properties-sell.csv')"
   ]
  },
  {
   "cell_type": "code",
   "execution_count": 7,
   "metadata": {},
   "outputs": [
    {
     "name": "stdout",
     "output_type": "stream",
     "text": [
      "<class 'pandas.core.frame.DataFrame'>\n",
      "RangeIndex: 187482 entries, 0 to 187481\n",
      "Data columns (total 27 columns):\n",
      "id                            187482 non-null object\n",
      "created_on                    187482 non-null object\n",
      "operation                     187482 non-null object\n",
      "property_type                 187482 non-null object\n",
      "place_name                    187447 non-null object\n",
      "place_with_parent_names       187482 non-null object\n",
      "country_name                  187482 non-null object\n",
      "state_name                    187482 non-null object\n",
      "geonames_id                   158318 non-null float64\n",
      "lat-lon                       118761 non-null object\n",
      "lat                           118761 non-null float64\n",
      "lon                           118761 non-null float64\n",
      "price                         154443 non-null float64\n",
      "currency                      154441 non-null object\n",
      "price_aprox_local_currency    154443 non-null float64\n",
      "price_aprox_usd               154443 non-null float64\n",
      "surface_total_in_m2           125027 non-null float64\n",
      "surface_covered_in_m2         152420 non-null float64\n",
      "price_usd_per_m2              105024 non-null float64\n",
      "price_per_m2                  131665 non-null float64\n",
      "floor                         14294 non-null float64\n",
      "rooms                         80320 non-null float64\n",
      "expenses                      17520 non-null float64\n",
      "properati_url                 187482 non-null object\n",
      "description                   187473 non-null object\n",
      "title                         187482 non-null object\n",
      "image_thumbnail               182814 non-null object\n",
      "dtypes: float64(13), object(14)\n",
      "memory usage: 38.6+ MB\n"
     ]
    }
   ],
   "source": [
    "data.info()"
   ]
  },
  {
   "cell_type": "markdown",
   "metadata": {},
   "source": [
    "### Depuracion de datos"
   ]
  },
  {
   "cell_type": "code",
   "execution_count": 9,
   "metadata": {
    "collapsed": true
   },
   "outputs": [],
   "source": [
    "data['created_on'] = pd.to_datetime(data['created_on'])"
   ]
  },
  {
   "cell_type": "code",
   "execution_count": 13,
   "metadata": {},
   "outputs": [
    {
     "data": {
      "text/plain": [
       "0                        CASA EN VENTA\n",
       "1                        CASA EN VENTA\n",
       "2    DTO. 2 AMB. C/ VISTA PLENA AL MAR\n",
       "3                     CHALET EN VENTA \n",
       "4                        CASA EN VENTA\n",
       "Name: title, dtype: object"
      ]
     },
     "execution_count": 13,
     "metadata": {},
     "output_type": "execute_result"
    }
   ],
   "source": [
    "data.title.head()"
   ]
  },
  {
   "cell_type": "code",
   "execution_count": null,
   "metadata": {
    "collapsed": true
   },
   "outputs": [],
   "source": []
  }
 ],
 "metadata": {
  "kernelspec": {
   "display_name": "Python 3",
   "language": "python",
   "name": "python3"
  },
  "language_info": {
   "codemirror_mode": {
    "name": "ipython",
    "version": 3
   },
   "file_extension": ".py",
   "mimetype": "text/x-python",
   "name": "python",
   "nbconvert_exporter": "python",
   "pygments_lexer": "ipython3",
   "version": "3.5.2"
  }
 },
 "nbformat": 4,
 "nbformat_minor": 2
}
