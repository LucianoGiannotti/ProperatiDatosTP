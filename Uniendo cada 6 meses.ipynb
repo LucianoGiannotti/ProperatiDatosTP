{
 "cells": [
  {
   "cell_type": "code",
   "execution_count": 18,
   "metadata": {
    "collapsed": true
   },
   "outputs": [],
   "source": [
    "import glob\n",
    "import pandas as pd\n",
    "from datetime import date\n",
    "from dateutil.relativedelta import relativedelta"
   ]
  },
  {
   "cell_type": "code",
   "execution_count": 44,
   "metadata": {},
   "outputs": [
    {
     "name": "stdout",
     "output_type": "stream",
     "text": [
      "procesando archivo: data/properati-AR-2017-08-01-properties-sell.csv\n",
      "2017-08-01 00:00:00\n",
      "2017-02-01 00:00:00\n",
      "procesando archivo: data/properati-AR-2017-02-01-properties-sell.csv\n",
      "2017-02-28 00:00:00\n",
      "2016-08-28 00:00:00\n",
      "procesando archivo: data/properati-AR-2016-08-01-properties-sell.csv\n",
      "2016-08-31 00:00:00\n",
      "2016-02-29 00:00:00\n",
      "procesando archivo: data/properati-AR-2016-02-01-properties-sell.csv\n",
      "2016-02-29 00:00:00\n",
      "2015-08-29 00:00:00\n",
      "procesando archivo: data/properati-AR-2015-08-01-properties-sell.csv\n",
      "2015-07-31 00:00:00\n",
      "2015-01-31 00:00:00\n",
      "procesando archivo: data/properati-AR-2015-02-01-properties-sell.csv\n",
      "2015-01-31 00:00:00\n",
      "2014-07-31 00:00:00\n",
      "procesando archivo: data/properati-AR-2014-08-01-properties-sell.csv\n",
      "2014-07-31 00:00:00\n",
      "2014-01-31 00:00:00\n",
      "procesando archivo: data/properati-AR-2014-02-01-properties-sell.csv\n",
      "2014-01-31 00:00:00\n",
      "2013-07-31 00:00:00\n",
      "procesando archivo: data/properati-AR-2013-08-01-properties-sell.csv\n",
      "2013-08-28 00:00:00\n",
      "2013-02-28 00:00:00\n"
     ]
    }
   ],
   "source": [
    "allFiles = glob.glob(\"data/*.csv\")\n",
    "allFiles.sort(reverse=True)\n",
    "frame = pd.DataFrame()\n",
    "frames_list = []\n",
    "for file_ in allFiles:\n",
    "    print('procesando archivo: ' + file_)\n",
    "    df = pd.read_csv(file_)\n",
    "    df['created_on'] = pd.to_datetime(df['created_on'])\n",
    "    end = df.created_on.sort_values().tail(1).iloc[0]\n",
    "    begin_idx = df.created_on.searchsorted(end + relativedelta(months=-6))\n",
    "    begin = df.loc[begin_idx,'created_on'].iloc[0]\n",
    "    df = df.loc[df['created_on'].apply(lambda date: begin <= date <= end),:]\n",
    "    frames_list.append(df)\n",
    "frame = pd.concat(frames_list)"
   ]
  },
  {
   "cell_type": "code",
   "execution_count": 48,
   "metadata": {},
   "outputs": [
    {
     "name": "stdout",
     "output_type": "stream",
     "text": [
      "<class 'pandas.core.frame.DataFrame'>\n",
      "Int64Index: 495575 entries, 66107 to 56417\n",
      "Data columns (total 29 columns):\n",
      "country_name                  254257 non-null object\n",
      "created_on                    495575 non-null datetime64[ns]\n",
      "currency                      404734 non-null object\n",
      "description                   333973 non-null object\n",
      "expenses                      30270 non-null object\n",
      "extra                         79727 non-null object\n",
      "floor                         60606 non-null float64\n",
      "geonames_id                   421492 non-null float64\n",
      "id                            254257 non-null object\n",
      "image_thumbnail               481275 non-null object\n",
      "lat                           361571 non-null float64\n",
      "lat-lon                       361571 non-null object\n",
      "lon                           361568 non-null float64\n",
      "operation                     495575 non-null object\n",
      "place_name                    495520 non-null object\n",
      "place_with_parent_names       495575 non-null object\n",
      "price                         411844 non-null float64\n",
      "price_aprox_local_currency    411844 non-null float64\n",
      "price_aprox_usd               411844 non-null float64\n",
      "price_per_m2                  179287 non-null float64\n",
      "price_usd_per_m2              273486 non-null float64\n",
      "properati_url                 495575 non-null object\n",
      "property_type                 495575 non-null object\n",
      "rooms                         280343 non-null float64\n",
      "state_name                    254257 non-null object\n",
      "surface_covered_in_m2         208333 non-null float64\n",
      "surface_in_m2                 168246 non-null float64\n",
      "surface_total_in_m2           171247 non-null float64\n",
      "title                         333984 non-null object\n",
      "dtypes: datetime64[ns](1), float64(13), object(15)\n",
      "memory usage: 123.4+ MB\n"
     ]
    }
   ],
   "source": [
    "frame.info()"
   ]
  },
  {
   "cell_type": "code",
   "execution_count": null,
   "metadata": {
    "collapsed": true
   },
   "outputs": [],
   "source": []
  }
 ],
 "metadata": {
  "kernelspec": {
   "display_name": "Python 3",
   "language": "python",
   "name": "python3"
  },
  "language_info": {
   "codemirror_mode": {
    "name": "ipython",
    "version": 3
   },
   "file_extension": ".py",
   "mimetype": "text/x-python",
   "name": "python",
   "nbconvert_exporter": "python",
   "pygments_lexer": "ipython3",
   "version": "3.5.2"
  }
 },
 "nbformat": 4,
 "nbformat_minor": 2
}
