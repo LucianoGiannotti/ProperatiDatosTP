{
 "cells": [
  {
   "cell_type": "code",
   "execution_count": 101,
   "metadata": {
    "collapsed": true
   },
   "outputs": [],
   "source": [
    "import pandas as pd\n",
    "import numpy as np\n",
    "%matplotlib inline"
   ]
  },
  {
   "cell_type": "code",
   "execution_count": 102,
   "metadata": {
    "collapsed": true
   },
   "outputs": [],
   "source": [
    "data = pd.read_csv('data/data_update-2017-10.csv')"
   ]
  },
  {
   "cell_type": "code",
   "execution_count": 103,
   "metadata": {
    "collapsed": true
   },
   "outputs": [],
   "source": [
    "import unicodedata\n",
    "\n",
    "def elimina_tildes(s):\n",
    "    return ''.join((c for c in unicodedata.normalize('NFD', s) if unicodedata.category(c) != 'Mn'))\n",
    "\n",
    "def descripcion_token(x):\n",
    "    x = elimina_tildes(x)\n",
    "    words = ['parrilla','suite','cochera', 'placard', 'pileta', 'terraza',\\\n",
    "             'vestidor', 'patio', 'hall', 'servicio', 'muebles', 'balcon', 'jard','aire acondicionado', \\\n",
    "             'quincho', 'fondo', 'piscina', 'garage', 'parque', 'estrenar', \\\n",
    "             'galer', 'dependencia', 'buena','calefaccion','radiante', 'seguridad', \\\n",
    "             'chalet','gimnasio','vista','calidad','centro','amplio','luminoso','solar','entrega']\n",
    "    result = ''\n",
    "    for word in words:\n",
    "        if word in x:\n",
    "            result += '|' + word\n",
    "    return result\n",
    "def place_name_from_parent(x): ## Segun vi el 3 item del place es generalmente el lugar\n",
    "    list = x.split('|')\n",
    "    if(len(list) < 5):\n",
    "        return np.nan\n",
    "    else:\n",
    "        return list[3]\n",
    "    \n",
    "def rescatar_barrios_no_oficiales(x):\n",
    "    if x == 'Once':\n",
    "        return (\"Balvanera\")\n",
    "    elif x == 'Bajo Belgrano':\n",
    "        return (\"Belgrano\")\n",
    "    elif x == 'Alto Palermo':\n",
    "        return (\"Palermo\")\n",
    "    elif x == 'Tribunales':\n",
    "        return (\"San Nicolás\")\n",
    "    elif x == 'Las Cañitas':\n",
    "        return(\"Palermo\")\n",
    "    elif x == 'Capital Federal':\n",
    "        return(np.nan)\n",
    "    else:\n",
    "        return x\n",
    "    \n",
    "def recuperar_cant_amb(x):\n",
    "    \"Recupera el dato amb en x (puede ser la descripcion o el titulo)\"\n",
    "    try:\n",
    "        pos = 0\n",
    "        x = x.lower()\n",
    "        if \"ambientes\" in x:\n",
    "            pos = x.rfind(\"ambientes\")\n",
    "        elif \"amb\" in x:\n",
    "            pos = x.rfind(\"amb\")\n",
    "        if pos != 0:\n",
    "            try:\n",
    "                return (np.float64(x[pos -2]))\n",
    "            except ValueError:\n",
    "                if (\"dos amb\" in x) or (\"dos ambientes\" in x):\n",
    "                    return 2.0\n",
    "                elif (\"tres amb\" in x) or (\"tres ambientes\" in x):\n",
    "                    return 3.0\n",
    "                elif (\"cuatro amb\" in x) or (\"cuatro ambientes\" in x):\n",
    "                    return 4.0\n",
    "                elif (\"cinco amb\" in x) or (\"cinco ambientes\" in x):\n",
    "                    return 5.0\n",
    "                elif (\"seis amb\" in x) or (\"seis ambientes\" in x):\n",
    "                    return 6.0\n",
    "                return np.nan\n",
    "    except AttributeError:\n",
    "        return None\n",
    "import re\n",
    "def precio_from_desc(x):\n",
    "    try:\n",
    "        x = x.lower().replace(\".\",\"\")\n",
    "        str_price = re.findall(\"u[s\\$][sd] *(\\d+)\", x)\n",
    "        if (len(str_price) == 0):\n",
    "            str_price = re.findall(\"(\\d+) *u[s\\$][sd]\", x)\n",
    "        if (len(str_price) > 0):            \n",
    "            p = float(str_price[0])\n",
    "            if (p > 2700000.0 or p <= 20000.0):\n",
    "                    return np.nan\n",
    "            return p\n",
    "        return np.nan\n",
    "    except:\n",
    "        return np.nan\n"
   ]
  },
  {
   "cell_type": "code",
   "execution_count": 104,
   "metadata": {},
   "outputs": [
    {
     "data": {
      "text/plain": [
       "400000.0"
      ]
     },
     "execution_count": 104,
     "metadata": {},
     "output_type": "execute_result"
    }
   ],
   "source": [
    "precio_from_desc(\"usd 400.000 asdasd\")"
   ]
  },
  {
   "cell_type": "code",
   "execution_count": 105,
   "metadata": {
    "collapsed": true
   },
   "outputs": [],
   "source": [
    "#data['precio_from_desc'] = data.description.apply(precio_from_desc)\n",
    "data.loc[:,'place_name'] = data.place_with_parent_names.apply(place_name_from_parent) ## esto quita muchos problemas \n",
    "                                                                                    ## de place name como nombres de country\n",
    "                                                                                    ## o palermo soho\n",
    "data.loc[data.description.notnull(),'description'] = data.loc[data.description.notnull(),'description'].apply(descripcion_token)"
   ]
  },
  {
   "cell_type": "code",
   "execution_count": 106,
   "metadata": {
    "collapsed": true
   },
   "outputs": [],
   "source": [
    "data.loc[:,'place_name'] = data.place_name.apply(rescatar_barrios_no_oficiales)\n",
    "data['created_on'] = pd.to_datetime(data['created_on']) ## conversion de tipo\n",
    "data['month'] = data.created_on.apply(lambda x: x.month)\n",
    "data['year'] = data.created_on.apply(lambda x: x.year)\n",
    "data['day'] = data.created_on.apply(lambda x: x.day)"
   ]
  },
  {
   "cell_type": "code",
   "execution_count": 107,
   "metadata": {
    "collapsed": true
   },
   "outputs": [],
   "source": [
    "data = data[~data.property_type.str.contains('store')]"
   ]
  },
  {
   "cell_type": "code",
   "execution_count": 108,
   "metadata": {},
   "outputs": [
    {
     "data": {
      "text/plain": [
       "apartment    176967\n",
       "house        111032\n",
       "PH            19100\n",
       "Name: property_type, dtype: int64"
      ]
     },
     "execution_count": 108,
     "metadata": {},
     "output_type": "execute_result"
    }
   ],
   "source": [
    "data.property_type.value_counts()"
   ]
  },
  {
   "cell_type": "code",
   "execution_count": 109,
   "metadata": {
    "collapsed": true
   },
   "outputs": [],
   "source": [
    "data.dropna(axis=0,subset=['price_aprox_usd'],inplace=True) ## drop de los datos sin precio\n",
    "data = data.loc[data['price_aprox_usd'] > 0,:]"
   ]
  },
  {
   "cell_type": "code",
   "execution_count": 110,
   "metadata": {
    "collapsed": true
   },
   "outputs": [],
   "source": [
    "data.loc[data.rooms.isnull(),'rooms'] = data.description.apply(recuperar_cant_amb)\n",
    "data.loc[data.rooms.isnull(),'rooms'] = data.title.apply(recuperar_cant_amb)\n",
    "data.loc[data.surface_total_in_m2.isnull(),'surface_total_in_m2'] = data.surface_covered_in_m2"
   ]
  },
  {
   "cell_type": "code",
   "execution_count": 111,
   "metadata": {},
   "outputs": [
    {
     "name": "stdout",
     "output_type": "stream",
     "text": [
      "<class 'pandas.core.frame.DataFrame'>\n",
      "Int64Index: 276246 entries, 0 to 317037\n",
      "Data columns (total 26 columns):\n",
      "id                            276246 non-null object\n",
      "created_on                    276246 non-null datetime64[ns]\n",
      "property_type                 276246 non-null object\n",
      "place_name                    270199 non-null object\n",
      "place_with_parent_names       276246 non-null object\n",
      "state_name                    276246 non-null object\n",
      "geonames_id                   217095 non-null float64\n",
      "lat-lon                       196422 non-null object\n",
      "lat                           196422 non-null float64\n",
      "lon                           196422 non-null float64\n",
      "price                         276246 non-null float64\n",
      "currency                      276246 non-null object\n",
      "price_aprox_local_currency    276246 non-null float64\n",
      "price_aprox_usd               276246 non-null float64\n",
      "surface_total_in_m2           258993 non-null float64\n",
      "surface_covered_in_m2         250068 non-null float64\n",
      "price_usd_per_m2              195560 non-null float64\n",
      "price_per_m2                  247114 non-null float64\n",
      "floor                         36446 non-null float64\n",
      "rooms                         167932 non-null float64\n",
      "expenses                      35507 non-null float64\n",
      "description                   276232 non-null object\n",
      "title                         276246 non-null object\n",
      "month                         276246 non-null int64\n",
      "year                          276246 non-null int64\n",
      "day                           276246 non-null int64\n",
      "dtypes: datetime64[ns](1), float64(13), int64(3), object(9)\n",
      "memory usage: 66.9+ MB\n"
     ]
    }
   ],
   "source": [
    "data.info()"
   ]
  },
  {
   "cell_type": "code",
   "execution_count": 112,
   "metadata": {},
   "outputs": [
    {
     "data": {
      "text/html": [
       "<div>\n",
       "<style>\n",
       "    .dataframe thead tr:only-child th {\n",
       "        text-align: right;\n",
       "    }\n",
       "\n",
       "    .dataframe thead th {\n",
       "        text-align: left;\n",
       "    }\n",
       "\n",
       "    .dataframe tbody tr th {\n",
       "        vertical-align: top;\n",
       "    }\n",
       "</style>\n",
       "<table border=\"1\" class=\"dataframe\">\n",
       "  <thead>\n",
       "    <tr style=\"text-align: right;\">\n",
       "      <th></th>\n",
       "      <th>geonames_id</th>\n",
       "      <th>lat</th>\n",
       "      <th>lon</th>\n",
       "      <th>price</th>\n",
       "      <th>price_aprox_local_currency</th>\n",
       "      <th>price_aprox_usd</th>\n",
       "      <th>surface_total_in_m2</th>\n",
       "      <th>surface_covered_in_m2</th>\n",
       "      <th>price_usd_per_m2</th>\n",
       "      <th>price_per_m2</th>\n",
       "      <th>floor</th>\n",
       "      <th>rooms</th>\n",
       "      <th>expenses</th>\n",
       "      <th>month</th>\n",
       "      <th>year</th>\n",
       "      <th>day</th>\n",
       "    </tr>\n",
       "  </thead>\n",
       "  <tbody>\n",
       "    <tr>\n",
       "      <th>count</th>\n",
       "      <td>2.170950e+05</td>\n",
       "      <td>196422.000000</td>\n",
       "      <td>196422.000000</td>\n",
       "      <td>2.762460e+05</td>\n",
       "      <td>2.762460e+05</td>\n",
       "      <td>2.762460e+05</td>\n",
       "      <td>2.589930e+05</td>\n",
       "      <td>2.500680e+05</td>\n",
       "      <td>1.955600e+05</td>\n",
       "      <td>2.471140e+05</td>\n",
       "      <td>36446.000000</td>\n",
       "      <td>167932.000000</td>\n",
       "      <td>3.550700e+04</td>\n",
       "      <td>276246.000000</td>\n",
       "      <td>276246.000000</td>\n",
       "      <td>276246.000000</td>\n",
       "    </tr>\n",
       "    <tr>\n",
       "      <th>mean</th>\n",
       "      <td>3.495914e+06</td>\n",
       "      <td>-34.556873</td>\n",
       "      <td>-58.528887</td>\n",
       "      <td>3.284376e+05</td>\n",
       "      <td>4.170989e+06</td>\n",
       "      <td>2.489405e+05</td>\n",
       "      <td>7.979799e+03</td>\n",
       "      <td>8.169750e+03</td>\n",
       "      <td>1.990728e+03</td>\n",
       "      <td>4.309546e+03</td>\n",
       "      <td>14.535669</td>\n",
       "      <td>2.933175</td>\n",
       "      <td>3.724319e+03</td>\n",
       "      <td>6.419155</td>\n",
       "      <td>2016.227898</td>\n",
       "      <td>17.471515</td>\n",
       "    </tr>\n",
       "    <tr>\n",
       "      <th>std</th>\n",
       "      <td>4.349440e+05</td>\n",
       "      <td>1.365496</td>\n",
       "      <td>1.036649</td>\n",
       "      <td>6.557548e+05</td>\n",
       "      <td>5.579327e+06</td>\n",
       "      <td>3.326170e+05</td>\n",
       "      <td>3.929949e+06</td>\n",
       "      <td>3.999465e+06</td>\n",
       "      <td>4.637115e+03</td>\n",
       "      <td>1.564181e+04</td>\n",
       "      <td>105.672435</td>\n",
       "      <td>1.449115</td>\n",
       "      <td>7.538346e+04</td>\n",
       "      <td>2.820344</td>\n",
       "      <td>0.903801</td>\n",
       "      <td>8.623244</td>\n",
       "    </tr>\n",
       "    <tr>\n",
       "      <th>min</th>\n",
       "      <td>3.427208e+06</td>\n",
       "      <td>-51.626650</td>\n",
       "      <td>-122.419415</td>\n",
       "      <td>5.000000e+03</td>\n",
       "      <td>4.757708e+04</td>\n",
       "      <td>2.754180e+03</td>\n",
       "      <td>0.000000e+00</td>\n",
       "      <td>0.000000e+00</td>\n",
       "      <td>8.000000e-02</td>\n",
       "      <td>5.000000e-05</td>\n",
       "      <td>1.000000</td>\n",
       "      <td>0.000000</td>\n",
       "      <td>1.000000e+00</td>\n",
       "      <td>1.000000</td>\n",
       "      <td>2012.000000</td>\n",
       "      <td>1.000000</td>\n",
       "    </tr>\n",
       "    <tr>\n",
       "      <th>25%</th>\n",
       "      <td>3.429595e+06</td>\n",
       "      <td>-34.629130</td>\n",
       "      <td>-58.579659</td>\n",
       "      <td>1.050000e+05</td>\n",
       "      <td>1.660724e+06</td>\n",
       "      <td>9.900000e+04</td>\n",
       "      <td>4.800000e+01</td>\n",
       "      <td>4.600000e+01</td>\n",
       "      <td>1.122800e+03</td>\n",
       "      <td>1.533333e+03</td>\n",
       "      <td>2.000000</td>\n",
       "      <td>2.000000</td>\n",
       "      <td>1.000000e+03</td>\n",
       "      <td>4.000000</td>\n",
       "      <td>2016.000000</td>\n",
       "      <td>10.000000</td>\n",
       "    </tr>\n",
       "    <tr>\n",
       "      <th>50%</th>\n",
       "      <td>3.430786e+06</td>\n",
       "      <td>-34.591772</td>\n",
       "      <td>-58.482191</td>\n",
       "      <td>1.700000e+05</td>\n",
       "      <td>2.677548e+06</td>\n",
       "      <td>1.600000e+05</td>\n",
       "      <td>8.300000e+01</td>\n",
       "      <td>7.600000e+01</td>\n",
       "      <td>1.784906e+03</td>\n",
       "      <td>2.094118e+03</td>\n",
       "      <td>3.000000</td>\n",
       "      <td>3.000000</td>\n",
       "      <td>1.900000e+03</td>\n",
       "      <td>7.000000</td>\n",
       "      <td>2017.000000</td>\n",
       "      <td>19.000000</td>\n",
       "    </tr>\n",
       "    <tr>\n",
       "      <th>75%</th>\n",
       "      <td>3.435719e+06</td>\n",
       "      <td>-34.515628</td>\n",
       "      <td>-58.418655</td>\n",
       "      <td>3.200000e+05</td>\n",
       "      <td>4.758613e+06</td>\n",
       "      <td>2.830000e+05</td>\n",
       "      <td>2.000000e+02</td>\n",
       "      <td>1.600000e+02</td>\n",
       "      <td>2.442308e+03</td>\n",
       "      <td>2.884615e+03</td>\n",
       "      <td>6.000000</td>\n",
       "      <td>4.000000</td>\n",
       "      <td>3.883500e+03</td>\n",
       "      <td>8.000000</td>\n",
       "      <td>2017.000000</td>\n",
       "      <td>24.000000</td>\n",
       "    </tr>\n",
       "    <tr>\n",
       "      <th>max</th>\n",
       "      <td>6.693230e+06</td>\n",
       "      <td>52.619706</td>\n",
       "      <td>35.202660</td>\n",
       "      <td>1.234568e+08</td>\n",
       "      <td>7.460816e+08</td>\n",
       "      <td>4.654544e+07</td>\n",
       "      <td>2.000000e+09</td>\n",
       "      <td>2.000000e+09</td>\n",
       "      <td>1.271027e+06</td>\n",
       "      <td>2.600000e+06</td>\n",
       "      <td>7071.000000</td>\n",
       "      <td>40.000000</td>\n",
       "      <td>1.000150e+07</td>\n",
       "      <td>12.000000</td>\n",
       "      <td>2017.000000</td>\n",
       "      <td>31.000000</td>\n",
       "    </tr>\n",
       "  </tbody>\n",
       "</table>\n",
       "</div>"
      ],
      "text/plain": [
       "        geonames_id            lat            lon         price  \\\n",
       "count  2.170950e+05  196422.000000  196422.000000  2.762460e+05   \n",
       "mean   3.495914e+06     -34.556873     -58.528887  3.284376e+05   \n",
       "std    4.349440e+05       1.365496       1.036649  6.557548e+05   \n",
       "min    3.427208e+06     -51.626650    -122.419415  5.000000e+03   \n",
       "25%    3.429595e+06     -34.629130     -58.579659  1.050000e+05   \n",
       "50%    3.430786e+06     -34.591772     -58.482191  1.700000e+05   \n",
       "75%    3.435719e+06     -34.515628     -58.418655  3.200000e+05   \n",
       "max    6.693230e+06      52.619706      35.202660  1.234568e+08   \n",
       "\n",
       "       price_aprox_local_currency  price_aprox_usd  surface_total_in_m2  \\\n",
       "count                2.762460e+05     2.762460e+05         2.589930e+05   \n",
       "mean                 4.170989e+06     2.489405e+05         7.979799e+03   \n",
       "std                  5.579327e+06     3.326170e+05         3.929949e+06   \n",
       "min                  4.757708e+04     2.754180e+03         0.000000e+00   \n",
       "25%                  1.660724e+06     9.900000e+04         4.800000e+01   \n",
       "50%                  2.677548e+06     1.600000e+05         8.300000e+01   \n",
       "75%                  4.758613e+06     2.830000e+05         2.000000e+02   \n",
       "max                  7.460816e+08     4.654544e+07         2.000000e+09   \n",
       "\n",
       "       surface_covered_in_m2  price_usd_per_m2  price_per_m2         floor  \\\n",
       "count           2.500680e+05      1.955600e+05  2.471140e+05  36446.000000   \n",
       "mean            8.169750e+03      1.990728e+03  4.309546e+03     14.535669   \n",
       "std             3.999465e+06      4.637115e+03  1.564181e+04    105.672435   \n",
       "min             0.000000e+00      8.000000e-02  5.000000e-05      1.000000   \n",
       "25%             4.600000e+01      1.122800e+03  1.533333e+03      2.000000   \n",
       "50%             7.600000e+01      1.784906e+03  2.094118e+03      3.000000   \n",
       "75%             1.600000e+02      2.442308e+03  2.884615e+03      6.000000   \n",
       "max             2.000000e+09      1.271027e+06  2.600000e+06   7071.000000   \n",
       "\n",
       "               rooms      expenses          month           year  \\\n",
       "count  167932.000000  3.550700e+04  276246.000000  276246.000000   \n",
       "mean        2.933175  3.724319e+03       6.419155    2016.227898   \n",
       "std         1.449115  7.538346e+04       2.820344       0.903801   \n",
       "min         0.000000  1.000000e+00       1.000000    2012.000000   \n",
       "25%         2.000000  1.000000e+03       4.000000    2016.000000   \n",
       "50%         3.000000  1.900000e+03       7.000000    2017.000000   \n",
       "75%         4.000000  3.883500e+03       8.000000    2017.000000   \n",
       "max        40.000000  1.000150e+07      12.000000    2017.000000   \n",
       "\n",
       "                 day  \n",
       "count  276246.000000  \n",
       "mean       17.471515  \n",
       "std         8.623244  \n",
       "min         1.000000  \n",
       "25%        10.000000  \n",
       "50%        19.000000  \n",
       "75%        24.000000  \n",
       "max        31.000000  "
      ]
     },
     "execution_count": 112,
     "metadata": {},
     "output_type": "execute_result"
    }
   ],
   "source": [
    "data.describe()"
   ]
  },
  {
   "cell_type": "code",
   "execution_count": 113,
   "metadata": {
    "collapsed": true
   },
   "outputs": [],
   "source": [
    "#Filtrar datos anomalos"
   ]
  },
  {
   "cell_type": "code",
   "execution_count": 114,
   "metadata": {
    "collapsed": true
   },
   "outputs": [],
   "source": [
    "# Nan para los datos faltantes es mejor que dropear todo el dato \n",
    "# Los nros estan masomenos pensados MASOMENOS JEJE\n",
    "data.loc[(data['surface_total_in_m2']>5000) | (data['surface_total_in_m2'] < 30),'surface_total_in_m2'] = np.nan\n",
    "data.loc[(data['surface_covered_in_m2']>5000),'surface_covered_in_m2'] = np.nan\n",
    "data.loc[data['floor']>30,'floor'] = np.nan\n",
    "data.loc[data['rooms']==0,'rooms'] = np.nan\n",
    "data.loc[data['rooms']>10,'rooms'] = np.nan\n",
    "data.loc[(data['lat']>-33) | (data['lat']<-36),['lat','lon','lat-lon']] = np.nan\n",
    "data.loc[(data['lon']>-57) | (data['lon']<-60),['lat','lon','lat-lon']] = np.nan\n",
    "data.loc[(data['expenses']>14000) | (data['expenses']<1000),'expenses'] = np.nan"
   ]
  },
  {
   "cell_type": "code",
   "execution_count": 115,
   "metadata": {},
   "outputs": [
    {
     "data": {
      "text/html": [
       "<div>\n",
       "<style>\n",
       "    .dataframe thead tr:only-child th {\n",
       "        text-align: right;\n",
       "    }\n",
       "\n",
       "    .dataframe thead th {\n",
       "        text-align: left;\n",
       "    }\n",
       "\n",
       "    .dataframe tbody tr th {\n",
       "        vertical-align: top;\n",
       "    }\n",
       "</style>\n",
       "<table border=\"1\" class=\"dataframe\">\n",
       "  <thead>\n",
       "    <tr style=\"text-align: right;\">\n",
       "      <th></th>\n",
       "      <th>geonames_id</th>\n",
       "      <th>lat</th>\n",
       "      <th>lon</th>\n",
       "      <th>price</th>\n",
       "      <th>price_aprox_local_currency</th>\n",
       "      <th>price_aprox_usd</th>\n",
       "      <th>surface_total_in_m2</th>\n",
       "      <th>surface_covered_in_m2</th>\n",
       "      <th>price_usd_per_m2</th>\n",
       "      <th>price_per_m2</th>\n",
       "      <th>floor</th>\n",
       "      <th>rooms</th>\n",
       "      <th>expenses</th>\n",
       "      <th>month</th>\n",
       "      <th>year</th>\n",
       "      <th>day</th>\n",
       "    </tr>\n",
       "  </thead>\n",
       "  <tbody>\n",
       "    <tr>\n",
       "      <th>count</th>\n",
       "      <td>2.170950e+05</td>\n",
       "      <td>195758.000000</td>\n",
       "      <td>195758.000000</td>\n",
       "      <td>2.762460e+05</td>\n",
       "      <td>2.762460e+05</td>\n",
       "      <td>2.762460e+05</td>\n",
       "      <td>240175.000000</td>\n",
       "      <td>249962.000000</td>\n",
       "      <td>1.955600e+05</td>\n",
       "      <td>2.471140e+05</td>\n",
       "      <td>35669.000000</td>\n",
       "      <td>167762.000000</td>\n",
       "      <td>26137.000000</td>\n",
       "      <td>276246.000000</td>\n",
       "      <td>276246.000000</td>\n",
       "      <td>276246.000000</td>\n",
       "    </tr>\n",
       "    <tr>\n",
       "      <th>mean</th>\n",
       "      <td>3.495914e+06</td>\n",
       "      <td>-34.579944</td>\n",
       "      <td>-58.505984</td>\n",
       "      <td>3.284376e+05</td>\n",
       "      <td>4.170989e+06</td>\n",
       "      <td>2.489405e+05</td>\n",
       "      <td>200.638264</td>\n",
       "      <td>122.239956</td>\n",
       "      <td>1.990728e+03</td>\n",
       "      <td>4.309546e+03</td>\n",
       "      <td>4.443635</td>\n",
       "      <td>2.923201</td>\n",
       "      <td>3446.388453</td>\n",
       "      <td>6.419155</td>\n",
       "      <td>2016.227898</td>\n",
       "      <td>17.471515</td>\n",
       "    </tr>\n",
       "    <tr>\n",
       "      <th>std</th>\n",
       "      <td>4.349440e+05</td>\n",
       "      <td>0.111582</td>\n",
       "      <td>0.151836</td>\n",
       "      <td>6.557548e+05</td>\n",
       "      <td>5.579327e+06</td>\n",
       "      <td>3.326170e+05</td>\n",
       "      <td>312.046646</td>\n",
       "      <td>138.700313</td>\n",
       "      <td>4.637115e+03</td>\n",
       "      <td>1.564181e+04</td>\n",
       "      <td>3.846696</td>\n",
       "      <td>1.404890</td>\n",
       "      <td>2586.096705</td>\n",
       "      <td>2.820344</td>\n",
       "      <td>0.903801</td>\n",
       "      <td>8.623244</td>\n",
       "    </tr>\n",
       "    <tr>\n",
       "      <th>min</th>\n",
       "      <td>3.427208e+06</td>\n",
       "      <td>-35.765171</td>\n",
       "      <td>-59.664010</td>\n",
       "      <td>5.000000e+03</td>\n",
       "      <td>4.757708e+04</td>\n",
       "      <td>2.754180e+03</td>\n",
       "      <td>30.000000</td>\n",
       "      <td>0.000000</td>\n",
       "      <td>8.000000e-02</td>\n",
       "      <td>5.000000e-05</td>\n",
       "      <td>1.000000</td>\n",
       "      <td>1.000000</td>\n",
       "      <td>1000.000000</td>\n",
       "      <td>1.000000</td>\n",
       "      <td>2012.000000</td>\n",
       "      <td>1.000000</td>\n",
       "    </tr>\n",
       "    <tr>\n",
       "      <th>25%</th>\n",
       "      <td>3.429595e+06</td>\n",
       "      <td>-34.628813</td>\n",
       "      <td>-58.579659</td>\n",
       "      <td>1.050000e+05</td>\n",
       "      <td>1.660724e+06</td>\n",
       "      <td>9.900000e+04</td>\n",
       "      <td>53.000000</td>\n",
       "      <td>46.000000</td>\n",
       "      <td>1.122800e+03</td>\n",
       "      <td>1.533333e+03</td>\n",
       "      <td>2.000000</td>\n",
       "      <td>2.000000</td>\n",
       "      <td>1550.000000</td>\n",
       "      <td>4.000000</td>\n",
       "      <td>2016.000000</td>\n",
       "      <td>10.000000</td>\n",
       "    </tr>\n",
       "    <tr>\n",
       "      <th>50%</th>\n",
       "      <td>3.430786e+06</td>\n",
       "      <td>-34.591734</td>\n",
       "      <td>-58.481808</td>\n",
       "      <td>1.700000e+05</td>\n",
       "      <td>2.677548e+06</td>\n",
       "      <td>1.600000e+05</td>\n",
       "      <td>92.000000</td>\n",
       "      <td>76.000000</td>\n",
       "      <td>1.784906e+03</td>\n",
       "      <td>2.094118e+03</td>\n",
       "      <td>3.000000</td>\n",
       "      <td>3.000000</td>\n",
       "      <td>2500.000000</td>\n",
       "      <td>7.000000</td>\n",
       "      <td>2017.000000</td>\n",
       "      <td>19.000000</td>\n",
       "    </tr>\n",
       "    <tr>\n",
       "      <th>75%</th>\n",
       "      <td>3.435719e+06</td>\n",
       "      <td>-34.516081</td>\n",
       "      <td>-58.418533</td>\n",
       "      <td>3.200000e+05</td>\n",
       "      <td>4.758613e+06</td>\n",
       "      <td>2.830000e+05</td>\n",
       "      <td>212.000000</td>\n",
       "      <td>160.000000</td>\n",
       "      <td>2.442308e+03</td>\n",
       "      <td>2.884615e+03</td>\n",
       "      <td>6.000000</td>\n",
       "      <td>4.000000</td>\n",
       "      <td>4500.000000</td>\n",
       "      <td>8.000000</td>\n",
       "      <td>2017.000000</td>\n",
       "      <td>24.000000</td>\n",
       "    </tr>\n",
       "    <tr>\n",
       "      <th>max</th>\n",
       "      <td>6.693230e+06</td>\n",
       "      <td>-33.677756</td>\n",
       "      <td>-57.848496</td>\n",
       "      <td>1.234568e+08</td>\n",
       "      <td>7.460816e+08</td>\n",
       "      <td>4.654544e+07</td>\n",
       "      <td>5000.000000</td>\n",
       "      <td>5000.000000</td>\n",
       "      <td>1.271027e+06</td>\n",
       "      <td>2.600000e+06</td>\n",
       "      <td>30.000000</td>\n",
       "      <td>10.000000</td>\n",
       "      <td>14000.000000</td>\n",
       "      <td>12.000000</td>\n",
       "      <td>2017.000000</td>\n",
       "      <td>31.000000</td>\n",
       "    </tr>\n",
       "  </tbody>\n",
       "</table>\n",
       "</div>"
      ],
      "text/plain": [
       "        geonames_id            lat            lon         price  \\\n",
       "count  2.170950e+05  195758.000000  195758.000000  2.762460e+05   \n",
       "mean   3.495914e+06     -34.579944     -58.505984  3.284376e+05   \n",
       "std    4.349440e+05       0.111582       0.151836  6.557548e+05   \n",
       "min    3.427208e+06     -35.765171     -59.664010  5.000000e+03   \n",
       "25%    3.429595e+06     -34.628813     -58.579659  1.050000e+05   \n",
       "50%    3.430786e+06     -34.591734     -58.481808  1.700000e+05   \n",
       "75%    3.435719e+06     -34.516081     -58.418533  3.200000e+05   \n",
       "max    6.693230e+06     -33.677756     -57.848496  1.234568e+08   \n",
       "\n",
       "       price_aprox_local_currency  price_aprox_usd  surface_total_in_m2  \\\n",
       "count                2.762460e+05     2.762460e+05        240175.000000   \n",
       "mean                 4.170989e+06     2.489405e+05           200.638264   \n",
       "std                  5.579327e+06     3.326170e+05           312.046646   \n",
       "min                  4.757708e+04     2.754180e+03            30.000000   \n",
       "25%                  1.660724e+06     9.900000e+04            53.000000   \n",
       "50%                  2.677548e+06     1.600000e+05            92.000000   \n",
       "75%                  4.758613e+06     2.830000e+05           212.000000   \n",
       "max                  7.460816e+08     4.654544e+07          5000.000000   \n",
       "\n",
       "       surface_covered_in_m2  price_usd_per_m2  price_per_m2         floor  \\\n",
       "count          249962.000000      1.955600e+05  2.471140e+05  35669.000000   \n",
       "mean              122.239956      1.990728e+03  4.309546e+03      4.443635   \n",
       "std               138.700313      4.637115e+03  1.564181e+04      3.846696   \n",
       "min                 0.000000      8.000000e-02  5.000000e-05      1.000000   \n",
       "25%                46.000000      1.122800e+03  1.533333e+03      2.000000   \n",
       "50%                76.000000      1.784906e+03  2.094118e+03      3.000000   \n",
       "75%               160.000000      2.442308e+03  2.884615e+03      6.000000   \n",
       "max              5000.000000      1.271027e+06  2.600000e+06     30.000000   \n",
       "\n",
       "               rooms      expenses          month           year  \\\n",
       "count  167762.000000  26137.000000  276246.000000  276246.000000   \n",
       "mean        2.923201   3446.388453       6.419155    2016.227898   \n",
       "std         1.404890   2586.096705       2.820344       0.903801   \n",
       "min         1.000000   1000.000000       1.000000    2012.000000   \n",
       "25%         2.000000   1550.000000       4.000000    2016.000000   \n",
       "50%         3.000000   2500.000000       7.000000    2017.000000   \n",
       "75%         4.000000   4500.000000       8.000000    2017.000000   \n",
       "max        10.000000  14000.000000      12.000000    2017.000000   \n",
       "\n",
       "                 day  \n",
       "count  276246.000000  \n",
       "mean       17.471515  \n",
       "std         8.623244  \n",
       "min         1.000000  \n",
       "25%        10.000000  \n",
       "50%        19.000000  \n",
       "75%        24.000000  \n",
       "max        31.000000  "
      ]
     },
     "execution_count": 115,
     "metadata": {},
     "output_type": "execute_result"
    }
   ],
   "source": [
    "data.describe()"
   ]
  },
  {
   "cell_type": "code",
   "execution_count": 116,
   "metadata": {},
   "outputs": [
    {
     "name": "stdout",
     "output_type": "stream",
     "text": [
      "<class 'pandas.core.frame.DataFrame'>\n",
      "Int64Index: 276246 entries, 0 to 317037\n",
      "Data columns (total 26 columns):\n",
      "id                            276246 non-null object\n",
      "created_on                    276246 non-null datetime64[ns]\n",
      "property_type                 276246 non-null object\n",
      "place_name                    270199 non-null object\n",
      "place_with_parent_names       276246 non-null object\n",
      "state_name                    276246 non-null object\n",
      "geonames_id                   217095 non-null float64\n",
      "lat-lon                       195758 non-null object\n",
      "lat                           195758 non-null float64\n",
      "lon                           195758 non-null float64\n",
      "price                         276246 non-null float64\n",
      "currency                      276246 non-null object\n",
      "price_aprox_local_currency    276246 non-null float64\n",
      "price_aprox_usd               276246 non-null float64\n",
      "surface_total_in_m2           240175 non-null float64\n",
      "surface_covered_in_m2         249962 non-null float64\n",
      "price_usd_per_m2              195560 non-null float64\n",
      "price_per_m2                  247114 non-null float64\n",
      "floor                         35669 non-null float64\n",
      "rooms                         167762 non-null float64\n",
      "expenses                      26137 non-null float64\n",
      "description                   276232 non-null object\n",
      "title                         276246 non-null object\n",
      "month                         276246 non-null int64\n",
      "year                          276246 non-null int64\n",
      "day                           276246 non-null int64\n",
      "dtypes: datetime64[ns](1), float64(13), int64(3), object(9)\n",
      "memory usage: 66.9+ MB\n"
     ]
    }
   ],
   "source": [
    "data.info()"
   ]
  },
  {
   "cell_type": "code",
   "execution_count": 117,
   "metadata": {},
   "outputs": [
    {
     "name": "stdout",
     "output_type": "stream",
     "text": [
      "<class 'pandas.core.frame.DataFrame'>\n",
      "Int64Index: 276246 entries, 0 to 317037\n",
      "Data columns (total 15 columns):\n",
      "property_type            276246 non-null object\n",
      "place_name               270199 non-null object\n",
      "state_name               276246 non-null object\n",
      "lat                      195758 non-null float64\n",
      "lon                      195758 non-null float64\n",
      "price_aprox_usd          276246 non-null float64\n",
      "surface_total_in_m2      240175 non-null float64\n",
      "surface_covered_in_m2    249962 non-null float64\n",
      "floor                    35669 non-null float64\n",
      "rooms                    167762 non-null float64\n",
      "expenses                 26137 non-null float64\n",
      "description              276232 non-null object\n",
      "month                    276246 non-null int64\n",
      "year                     276246 non-null int64\n",
      "day                      276246 non-null int64\n",
      "dtypes: float64(8), int64(3), object(4)\n",
      "memory usage: 43.7+ MB\n"
     ]
    }
   ],
   "source": [
    "# Dropeo las columnas que no se usan porque el test no las tiene o no son necesarias\n",
    "data.drop(['price','price_usd_per_m2','price_per_m2','currency',\\\n",
    "          'id','created_on','geonames_id','lat-lon','price_aprox_local_currency',\\\n",
    "         'title','place_with_parent_names'], axis=1, inplace=True)\n",
    "data.info()"
   ]
  },
  {
   "cell_type": "code",
   "execution_count": 118,
   "metadata": {
    "collapsed": true
   },
   "outputs": [],
   "source": [
    "\n",
    "#test.drop(['id','created_on','lat-lon','description','country_name'], axis=1, inplace=True)\n",
    "data.dropna(thresh=8,inplace=True)"
   ]
  },
  {
   "cell_type": "code",
   "execution_count": 119,
   "metadata": {
    "collapsed": true
   },
   "outputs": [],
   "source": [
    "#Esto es importante, convierto los datos categoricos en numericos cada categoria una columna con 1 si true o 0 si false\n",
    "##https://stackoverflow.com/questions/34265102/xgboost-categorical-variables-dummification-vs-encoding\n",
    "##https://machinelearningmastery.com/data-preparation-gradient-boosting-xgboost-python/\n",
    "data = data.join(pd.get_dummies(data.property_type))\n",
    "data.drop('property_type',axis=1, inplace=True)\n",
    "data = data.join(data.description.str.get_dummies())\n",
    "data.drop('description',axis=1, inplace=True)\n",
    "data = data.join(pd.get_dummies(data.place_name))\n",
    "data.drop('place_name',axis=1, inplace=True)\n",
    "data = data.join(pd.get_dummies(data.state_name))\n",
    "data.drop('state_name',axis=1, inplace=True)"
   ]
  },
  {
   "cell_type": "code",
   "execution_count": 120,
   "metadata": {
    "collapsed": true
   },
   "outputs": [],
   "source": [
    "#####XGBOOST\n",
    "#https://github.com/dmlc/xgboost\n",
    "#https://xgboost.readthedocs.io/en/latest/build.html\n",
    "#https://www.analyticsvidhya.com/blog/2016/03/complete-guide-parameter-tuning-xgboost-with-codes-python/\n",
    "#https://www.slideshare.net/ShangxuanZhang/kaggle-winning-solution-xgboost-algorithm-let-us-learn-from-its-author\n"
   ]
  },
  {
   "cell_type": "code",
   "execution_count": 121,
   "metadata": {},
   "outputs": [],
   "source": [
    "from sklearn.model_selection import RandomizedSearchCV, train_test_split\n",
    "from xgboost import XGBRegressor\n",
    "import scipy.stats as st\n",
    "\n",
    "from sklearn.metrics import mean_squared_error"
   ]
  },
  {
   "cell_type": "code",
   "execution_count": 122,
   "metadata": {
    "collapsed": true
   },
   "outputs": [],
   "source": [
    "#divide el set de datos en parte de entrenamiento y parte de test\n",
    "# no se puede usar el test bajado de kaggle porque no tiene el precio\n",
    "X = data.drop([\"price_aprox_usd\"], axis=1)\n",
    "Y = data[\"price_aprox_usd\"]"
   ]
  },
  {
   "cell_type": "code",
   "execution_count": 32,
   "metadata": {},
   "outputs": [
    {
     "name": "stdout",
     "output_type": "stream",
     "text": [
      "Fitting 5 folds for each of 17280 candidates, totalling 86400 fits\n",
      "[CV] min_child_weight=5, n_estimators=25, gamma=0, learning_rate=0.1, max_depth=4, colsample_bytree=0.4, reg_alpha=20, subsample=0.75 \n",
      "[CV]  min_child_weight=5, n_estimators=25, gamma=0, learning_rate=0.1, max_depth=4, colsample_bytree=0.4, reg_alpha=20, subsample=0.75, score=0.3513191398463097, total=  10.8s\n",
      "[CV] min_child_weight=5, n_estimators=25, gamma=0, learning_rate=0.1, max_depth=4, colsample_bytree=0.4, reg_alpha=20, subsample=0.75 \n"
     ]
    },
    {
     "name": "stderr",
     "output_type": "stream",
     "text": [
      "[Parallel(n_jobs=1)]: Done   1 out of   1 | elapsed:   11.6s remaining:    0.0s\n"
     ]
    },
    {
     "name": "stdout",
     "output_type": "stream",
     "text": [
      "[CV]  min_child_weight=5, n_estimators=25, gamma=0, learning_rate=0.1, max_depth=4, colsample_bytree=0.4, reg_alpha=20, subsample=0.75, score=0.5560175735960322, total=  10.8s\n",
      "[CV] min_child_weight=5, n_estimators=25, gamma=0, learning_rate=0.1, max_depth=4, colsample_bytree=0.4, reg_alpha=20, subsample=0.75 \n"
     ]
    },
    {
     "name": "stderr",
     "output_type": "stream",
     "text": [
      "[Parallel(n_jobs=1)]: Done   2 out of   2 | elapsed:   23.4s remaining:    0.0s\n"
     ]
    },
    {
     "name": "stdout",
     "output_type": "stream",
     "text": [
      "[CV]  min_child_weight=5, n_estimators=25, gamma=0, learning_rate=0.1, max_depth=4, colsample_bytree=0.4, reg_alpha=20, subsample=0.75, score=0.364911469975851, total=  10.7s\n",
      "[CV] min_child_weight=5, n_estimators=25, gamma=0, learning_rate=0.1, max_depth=4, colsample_bytree=0.4, reg_alpha=20, subsample=0.75 \n"
     ]
    },
    {
     "name": "stderr",
     "output_type": "stream",
     "text": [
      "[Parallel(n_jobs=1)]: Done   3 out of   3 | elapsed:   35.0s remaining:    0.0s\n"
     ]
    },
    {
     "name": "stdout",
     "output_type": "stream",
     "text": [
      "[CV]  min_child_weight=5, n_estimators=25, gamma=0, learning_rate=0.1, max_depth=4, colsample_bytree=0.4, reg_alpha=20, subsample=0.75, score=0.5574070873005534, total=  10.7s\n",
      "[CV] min_child_weight=5, n_estimators=25, gamma=0, learning_rate=0.1, max_depth=4, colsample_bytree=0.4, reg_alpha=20, subsample=0.75 \n"
     ]
    },
    {
     "name": "stderr",
     "output_type": "stream",
     "text": [
      "[Parallel(n_jobs=1)]: Done   4 out of   4 | elapsed:   46.6s remaining:    0.0s\n"
     ]
    },
    {
     "name": "stdout",
     "output_type": "stream",
     "text": [
      "[CV]  min_child_weight=5, n_estimators=25, gamma=0, learning_rate=0.1, max_depth=4, colsample_bytree=0.4, reg_alpha=20, subsample=0.75, score=0.4959911100640411, total=  10.7s\n",
      "[CV] min_child_weight=5, n_estimators=25, gamma=0, learning_rate=0.1, max_depth=4, colsample_bytree=0.4, reg_alpha=20, subsample=1 \n"
     ]
    },
    {
     "name": "stderr",
     "output_type": "stream",
     "text": [
      "[Parallel(n_jobs=1)]: Done   5 out of   5 | elapsed:   58.2s remaining:    0.0s\n"
     ]
    },
    {
     "name": "stdout",
     "output_type": "stream",
     "text": [
      "[CV]  min_child_weight=5, n_estimators=25, gamma=0, learning_rate=0.1, max_depth=4, colsample_bytree=0.4, reg_alpha=20, subsample=1, score=0.34531247799030185, total=   9.6s\n",
      "[CV] min_child_weight=5, n_estimators=25, gamma=0, learning_rate=0.1, max_depth=4, colsample_bytree=0.4, reg_alpha=20, subsample=1 \n"
     ]
    },
    {
     "name": "stderr",
     "output_type": "stream",
     "text": [
      "[Parallel(n_jobs=1)]: Done   6 out of   6 | elapsed:  1.1min remaining:    0.0s\n"
     ]
    },
    {
     "name": "stdout",
     "output_type": "stream",
     "text": [
      "[CV]  min_child_weight=5, n_estimators=25, gamma=0, learning_rate=0.1, max_depth=4, colsample_bytree=0.4, reg_alpha=20, subsample=1, score=0.550574430190545, total=   9.3s\n",
      "[CV] min_child_weight=5, n_estimators=25, gamma=0, learning_rate=0.1, max_depth=4, colsample_bytree=0.4, reg_alpha=20, subsample=1 \n"
     ]
    },
    {
     "name": "stderr",
     "output_type": "stream",
     "text": [
      "[Parallel(n_jobs=1)]: Done   7 out of   7 | elapsed:  1.3min remaining:    0.0s\n"
     ]
    },
    {
     "name": "stdout",
     "output_type": "stream",
     "text": [
      "[CV]  min_child_weight=5, n_estimators=25, gamma=0, learning_rate=0.1, max_depth=4, colsample_bytree=0.4, reg_alpha=20, subsample=1, score=0.36986353179242126, total=  10.0s\n",
      "[CV] min_child_weight=5, n_estimators=25, gamma=0, learning_rate=0.1, max_depth=4, colsample_bytree=0.4, reg_alpha=20, subsample=1 \n"
     ]
    },
    {
     "name": "stderr",
     "output_type": "stream",
     "text": [
      "[Parallel(n_jobs=1)]: Done   8 out of   8 | elapsed:  1.5min remaining:    0.0s\n"
     ]
    },
    {
     "name": "stdout",
     "output_type": "stream",
     "text": [
      "[CV]  min_child_weight=5, n_estimators=25, gamma=0, learning_rate=0.1, max_depth=4, colsample_bytree=0.4, reg_alpha=20, subsample=1, score=0.5553337038825829, total=   9.5s\n",
      "[CV] min_child_weight=5, n_estimators=25, gamma=0, learning_rate=0.1, max_depth=4, colsample_bytree=0.4, reg_alpha=20, subsample=1 \n"
     ]
    },
    {
     "name": "stderr",
     "output_type": "stream",
     "text": [
      "[Parallel(n_jobs=1)]: Done   9 out of   9 | elapsed:  1.7min remaining:    0.0s\n"
     ]
    },
    {
     "ename": "KeyboardInterrupt",
     "evalue": "",
     "output_type": "error",
     "traceback": [
      "\u001b[0;31m---------------------------------------------------------------------------\u001b[0m",
      "\u001b[0;31mKeyboardInterrupt\u001b[0m                         Traceback (most recent call last)",
      "\u001b[0;32m<ipython-input-32-09c7e4a7a41c>\u001b[0m in \u001b[0;36m<module>\u001b[0;34m()\u001b[0m\n\u001b[1;32m     22\u001b[0m \u001b[0;34m\u001b[0m\u001b[0m\n\u001b[1;32m     23\u001b[0m \u001b[0mgrid\u001b[0m \u001b[0;34m=\u001b[0m \u001b[0mGridSearchCV\u001b[0m\u001b[0;34m(\u001b[0m\u001b[0mxgb\u001b[0m\u001b[0;34m,\u001b[0m \u001b[0mparams\u001b[0m\u001b[0;34m,\u001b[0m \u001b[0mn_jobs\u001b[0m\u001b[0;34m=\u001b[0m\u001b[0;36m1\u001b[0m\u001b[0;34m,\u001b[0m\u001b[0mverbose\u001b[0m\u001b[0;34m=\u001b[0m\u001b[0;36m10\u001b[0m\u001b[0;34m,\u001b[0m\u001b[0mcv\u001b[0m\u001b[0;34m=\u001b[0m\u001b[0;36m5\u001b[0m\u001b[0;34m)\u001b[0m \u001b[0;31m# n_iters es la cant de veces que busca, 10 es lo default\u001b[0m\u001b[0;34m\u001b[0m\u001b[0m\n\u001b[0;32m---> 24\u001b[0;31m \u001b[0mgrid\u001b[0m\u001b[0;34m.\u001b[0m\u001b[0mfit\u001b[0m\u001b[0;34m(\u001b[0m\u001b[0mX\u001b[0m\u001b[0;34m,\u001b[0m \u001b[0mY\u001b[0m\u001b[0;34m,\u001b[0m \u001b[0meval_metric\u001b[0m\u001b[0;34m=\u001b[0m\u001b[0;34m\"rmse\"\u001b[0m\u001b[0;34m)\u001b[0m\u001b[0;34m\u001b[0m\u001b[0m\n\u001b[0m",
      "\u001b[0;32m/usr/local/lib/python3.5/dist-packages/sklearn/model_selection/_search.py\u001b[0m in \u001b[0;36mfit\u001b[0;34m(self, X, y, groups, **fit_params)\u001b[0m\n\u001b[1;32m    636\u001b[0m                                   error_score=self.error_score)\n\u001b[1;32m    637\u001b[0m           for parameters, (train, test) in product(candidate_params,\n\u001b[0;32m--> 638\u001b[0;31m                                                    cv.split(X, y, groups)))\n\u001b[0m\u001b[1;32m    639\u001b[0m \u001b[0;34m\u001b[0m\u001b[0m\n\u001b[1;32m    640\u001b[0m         \u001b[0;31m# if one choose to see train score, \"out\" will contain train score info\u001b[0m\u001b[0;34m\u001b[0m\u001b[0;34m\u001b[0m\u001b[0m\n",
      "\u001b[0;32m/usr/local/lib/python3.5/dist-packages/sklearn/externals/joblib/parallel.py\u001b[0m in \u001b[0;36m__call__\u001b[0;34m(self, iterable)\u001b[0m\n\u001b[1;32m    777\u001b[0m             \u001b[0;31m# was dispatched. In particular this covers the edge\u001b[0m\u001b[0;34m\u001b[0m\u001b[0;34m\u001b[0m\u001b[0m\n\u001b[1;32m    778\u001b[0m             \u001b[0;31m# case of Parallel used with an exhausted iterator.\u001b[0m\u001b[0;34m\u001b[0m\u001b[0;34m\u001b[0m\u001b[0m\n\u001b[0;32m--> 779\u001b[0;31m             \u001b[0;32mwhile\u001b[0m \u001b[0mself\u001b[0m\u001b[0;34m.\u001b[0m\u001b[0mdispatch_one_batch\u001b[0m\u001b[0;34m(\u001b[0m\u001b[0miterator\u001b[0m\u001b[0;34m)\u001b[0m\u001b[0;34m:\u001b[0m\u001b[0;34m\u001b[0m\u001b[0m\n\u001b[0m\u001b[1;32m    780\u001b[0m                 \u001b[0mself\u001b[0m\u001b[0;34m.\u001b[0m\u001b[0m_iterating\u001b[0m \u001b[0;34m=\u001b[0m \u001b[0;32mTrue\u001b[0m\u001b[0;34m\u001b[0m\u001b[0m\n\u001b[1;32m    781\u001b[0m             \u001b[0;32melse\u001b[0m\u001b[0;34m:\u001b[0m\u001b[0;34m\u001b[0m\u001b[0m\n",
      "\u001b[0;32m/usr/local/lib/python3.5/dist-packages/sklearn/externals/joblib/parallel.py\u001b[0m in \u001b[0;36mdispatch_one_batch\u001b[0;34m(self, iterator)\u001b[0m\n\u001b[1;32m    623\u001b[0m                 \u001b[0;32mreturn\u001b[0m \u001b[0;32mFalse\u001b[0m\u001b[0;34m\u001b[0m\u001b[0m\n\u001b[1;32m    624\u001b[0m             \u001b[0;32melse\u001b[0m\u001b[0;34m:\u001b[0m\u001b[0;34m\u001b[0m\u001b[0m\n\u001b[0;32m--> 625\u001b[0;31m                 \u001b[0mself\u001b[0m\u001b[0;34m.\u001b[0m\u001b[0m_dispatch\u001b[0m\u001b[0;34m(\u001b[0m\u001b[0mtasks\u001b[0m\u001b[0;34m)\u001b[0m\u001b[0;34m\u001b[0m\u001b[0m\n\u001b[0m\u001b[1;32m    626\u001b[0m                 \u001b[0;32mreturn\u001b[0m \u001b[0;32mTrue\u001b[0m\u001b[0;34m\u001b[0m\u001b[0m\n\u001b[1;32m    627\u001b[0m \u001b[0;34m\u001b[0m\u001b[0m\n",
      "\u001b[0;32m/usr/local/lib/python3.5/dist-packages/sklearn/externals/joblib/parallel.py\u001b[0m in \u001b[0;36m_dispatch\u001b[0;34m(self, batch)\u001b[0m\n\u001b[1;32m    586\u001b[0m         \u001b[0mdispatch_timestamp\u001b[0m \u001b[0;34m=\u001b[0m \u001b[0mtime\u001b[0m\u001b[0;34m.\u001b[0m\u001b[0mtime\u001b[0m\u001b[0;34m(\u001b[0m\u001b[0;34m)\u001b[0m\u001b[0;34m\u001b[0m\u001b[0m\n\u001b[1;32m    587\u001b[0m         \u001b[0mcb\u001b[0m \u001b[0;34m=\u001b[0m \u001b[0mBatchCompletionCallBack\u001b[0m\u001b[0;34m(\u001b[0m\u001b[0mdispatch_timestamp\u001b[0m\u001b[0;34m,\u001b[0m \u001b[0mlen\u001b[0m\u001b[0;34m(\u001b[0m\u001b[0mbatch\u001b[0m\u001b[0;34m)\u001b[0m\u001b[0;34m,\u001b[0m \u001b[0mself\u001b[0m\u001b[0;34m)\u001b[0m\u001b[0;34m\u001b[0m\u001b[0m\n\u001b[0;32m--> 588\u001b[0;31m         \u001b[0mjob\u001b[0m \u001b[0;34m=\u001b[0m \u001b[0mself\u001b[0m\u001b[0;34m.\u001b[0m\u001b[0m_backend\u001b[0m\u001b[0;34m.\u001b[0m\u001b[0mapply_async\u001b[0m\u001b[0;34m(\u001b[0m\u001b[0mbatch\u001b[0m\u001b[0;34m,\u001b[0m \u001b[0mcallback\u001b[0m\u001b[0;34m=\u001b[0m\u001b[0mcb\u001b[0m\u001b[0;34m)\u001b[0m\u001b[0;34m\u001b[0m\u001b[0m\n\u001b[0m\u001b[1;32m    589\u001b[0m         \u001b[0mself\u001b[0m\u001b[0;34m.\u001b[0m\u001b[0m_jobs\u001b[0m\u001b[0;34m.\u001b[0m\u001b[0mappend\u001b[0m\u001b[0;34m(\u001b[0m\u001b[0mjob\u001b[0m\u001b[0;34m)\u001b[0m\u001b[0;34m\u001b[0m\u001b[0m\n\u001b[1;32m    590\u001b[0m \u001b[0;34m\u001b[0m\u001b[0m\n",
      "\u001b[0;32m/usr/local/lib/python3.5/dist-packages/sklearn/externals/joblib/_parallel_backends.py\u001b[0m in \u001b[0;36mapply_async\u001b[0;34m(self, func, callback)\u001b[0m\n\u001b[1;32m    109\u001b[0m     \u001b[0;32mdef\u001b[0m \u001b[0mapply_async\u001b[0m\u001b[0;34m(\u001b[0m\u001b[0mself\u001b[0m\u001b[0;34m,\u001b[0m \u001b[0mfunc\u001b[0m\u001b[0;34m,\u001b[0m \u001b[0mcallback\u001b[0m\u001b[0;34m=\u001b[0m\u001b[0;32mNone\u001b[0m\u001b[0;34m)\u001b[0m\u001b[0;34m:\u001b[0m\u001b[0;34m\u001b[0m\u001b[0m\n\u001b[1;32m    110\u001b[0m         \u001b[0;34m\"\"\"Schedule a func to be run\"\"\"\u001b[0m\u001b[0;34m\u001b[0m\u001b[0m\n\u001b[0;32m--> 111\u001b[0;31m         \u001b[0mresult\u001b[0m \u001b[0;34m=\u001b[0m \u001b[0mImmediateResult\u001b[0m\u001b[0;34m(\u001b[0m\u001b[0mfunc\u001b[0m\u001b[0;34m)\u001b[0m\u001b[0;34m\u001b[0m\u001b[0m\n\u001b[0m\u001b[1;32m    112\u001b[0m         \u001b[0;32mif\u001b[0m \u001b[0mcallback\u001b[0m\u001b[0;34m:\u001b[0m\u001b[0;34m\u001b[0m\u001b[0m\n\u001b[1;32m    113\u001b[0m             \u001b[0mcallback\u001b[0m\u001b[0;34m(\u001b[0m\u001b[0mresult\u001b[0m\u001b[0;34m)\u001b[0m\u001b[0;34m\u001b[0m\u001b[0m\n",
      "\u001b[0;32m/usr/local/lib/python3.5/dist-packages/sklearn/externals/joblib/_parallel_backends.py\u001b[0m in \u001b[0;36m__init__\u001b[0;34m(self, batch)\u001b[0m\n\u001b[1;32m    330\u001b[0m         \u001b[0;31m# Don't delay the application, to avoid keeping the input\u001b[0m\u001b[0;34m\u001b[0m\u001b[0;34m\u001b[0m\u001b[0m\n\u001b[1;32m    331\u001b[0m         \u001b[0;31m# arguments in memory\u001b[0m\u001b[0;34m\u001b[0m\u001b[0;34m\u001b[0m\u001b[0m\n\u001b[0;32m--> 332\u001b[0;31m         \u001b[0mself\u001b[0m\u001b[0;34m.\u001b[0m\u001b[0mresults\u001b[0m \u001b[0;34m=\u001b[0m \u001b[0mbatch\u001b[0m\u001b[0;34m(\u001b[0m\u001b[0;34m)\u001b[0m\u001b[0;34m\u001b[0m\u001b[0m\n\u001b[0m\u001b[1;32m    333\u001b[0m \u001b[0;34m\u001b[0m\u001b[0m\n\u001b[1;32m    334\u001b[0m     \u001b[0;32mdef\u001b[0m \u001b[0mget\u001b[0m\u001b[0;34m(\u001b[0m\u001b[0mself\u001b[0m\u001b[0;34m)\u001b[0m\u001b[0;34m:\u001b[0m\u001b[0;34m\u001b[0m\u001b[0m\n",
      "\u001b[0;32m/usr/local/lib/python3.5/dist-packages/sklearn/externals/joblib/parallel.py\u001b[0m in \u001b[0;36m__call__\u001b[0;34m(self)\u001b[0m\n\u001b[1;32m    129\u001b[0m \u001b[0;34m\u001b[0m\u001b[0m\n\u001b[1;32m    130\u001b[0m     \u001b[0;32mdef\u001b[0m \u001b[0m__call__\u001b[0m\u001b[0;34m(\u001b[0m\u001b[0mself\u001b[0m\u001b[0;34m)\u001b[0m\u001b[0;34m:\u001b[0m\u001b[0;34m\u001b[0m\u001b[0m\n\u001b[0;32m--> 131\u001b[0;31m         \u001b[0;32mreturn\u001b[0m \u001b[0;34m[\u001b[0m\u001b[0mfunc\u001b[0m\u001b[0;34m(\u001b[0m\u001b[0;34m*\u001b[0m\u001b[0margs\u001b[0m\u001b[0;34m,\u001b[0m \u001b[0;34m**\u001b[0m\u001b[0mkwargs\u001b[0m\u001b[0;34m)\u001b[0m \u001b[0;32mfor\u001b[0m \u001b[0mfunc\u001b[0m\u001b[0;34m,\u001b[0m \u001b[0margs\u001b[0m\u001b[0;34m,\u001b[0m \u001b[0mkwargs\u001b[0m \u001b[0;32min\u001b[0m \u001b[0mself\u001b[0m\u001b[0;34m.\u001b[0m\u001b[0mitems\u001b[0m\u001b[0;34m]\u001b[0m\u001b[0;34m\u001b[0m\u001b[0m\n\u001b[0m\u001b[1;32m    132\u001b[0m \u001b[0;34m\u001b[0m\u001b[0m\n\u001b[1;32m    133\u001b[0m     \u001b[0;32mdef\u001b[0m \u001b[0m__len__\u001b[0m\u001b[0;34m(\u001b[0m\u001b[0mself\u001b[0m\u001b[0;34m)\u001b[0m\u001b[0;34m:\u001b[0m\u001b[0;34m\u001b[0m\u001b[0m\n",
      "\u001b[0;32m/usr/local/lib/python3.5/dist-packages/sklearn/externals/joblib/parallel.py\u001b[0m in \u001b[0;36m<listcomp>\u001b[0;34m(.0)\u001b[0m\n\u001b[1;32m    129\u001b[0m \u001b[0;34m\u001b[0m\u001b[0m\n\u001b[1;32m    130\u001b[0m     \u001b[0;32mdef\u001b[0m \u001b[0m__call__\u001b[0m\u001b[0;34m(\u001b[0m\u001b[0mself\u001b[0m\u001b[0;34m)\u001b[0m\u001b[0;34m:\u001b[0m\u001b[0;34m\u001b[0m\u001b[0m\n\u001b[0;32m--> 131\u001b[0;31m         \u001b[0;32mreturn\u001b[0m \u001b[0;34m[\u001b[0m\u001b[0mfunc\u001b[0m\u001b[0;34m(\u001b[0m\u001b[0;34m*\u001b[0m\u001b[0margs\u001b[0m\u001b[0;34m,\u001b[0m \u001b[0;34m**\u001b[0m\u001b[0mkwargs\u001b[0m\u001b[0;34m)\u001b[0m \u001b[0;32mfor\u001b[0m \u001b[0mfunc\u001b[0m\u001b[0;34m,\u001b[0m \u001b[0margs\u001b[0m\u001b[0;34m,\u001b[0m \u001b[0mkwargs\u001b[0m \u001b[0;32min\u001b[0m \u001b[0mself\u001b[0m\u001b[0;34m.\u001b[0m\u001b[0mitems\u001b[0m\u001b[0;34m]\u001b[0m\u001b[0;34m\u001b[0m\u001b[0m\n\u001b[0m\u001b[1;32m    132\u001b[0m \u001b[0;34m\u001b[0m\u001b[0m\n\u001b[1;32m    133\u001b[0m     \u001b[0;32mdef\u001b[0m \u001b[0m__len__\u001b[0m\u001b[0;34m(\u001b[0m\u001b[0mself\u001b[0m\u001b[0;34m)\u001b[0m\u001b[0;34m:\u001b[0m\u001b[0;34m\u001b[0m\u001b[0m\n",
      "\u001b[0;32m/usr/local/lib/python3.5/dist-packages/sklearn/model_selection/_validation.py\u001b[0m in \u001b[0;36m_fit_and_score\u001b[0;34m(estimator, X, y, scorer, train, test, verbose, parameters, fit_params, return_train_score, return_parameters, return_n_test_samples, return_times, error_score)\u001b[0m\n\u001b[1;32m    435\u001b[0m             \u001b[0mestimator\u001b[0m\u001b[0;34m.\u001b[0m\u001b[0mfit\u001b[0m\u001b[0;34m(\u001b[0m\u001b[0mX_train\u001b[0m\u001b[0;34m,\u001b[0m \u001b[0;34m**\u001b[0m\u001b[0mfit_params\u001b[0m\u001b[0;34m)\u001b[0m\u001b[0;34m\u001b[0m\u001b[0m\n\u001b[1;32m    436\u001b[0m         \u001b[0;32melse\u001b[0m\u001b[0;34m:\u001b[0m\u001b[0;34m\u001b[0m\u001b[0m\n\u001b[0;32m--> 437\u001b[0;31m             \u001b[0mestimator\u001b[0m\u001b[0;34m.\u001b[0m\u001b[0mfit\u001b[0m\u001b[0;34m(\u001b[0m\u001b[0mX_train\u001b[0m\u001b[0;34m,\u001b[0m \u001b[0my_train\u001b[0m\u001b[0;34m,\u001b[0m \u001b[0;34m**\u001b[0m\u001b[0mfit_params\u001b[0m\u001b[0;34m)\u001b[0m\u001b[0;34m\u001b[0m\u001b[0m\n\u001b[0m\u001b[1;32m    438\u001b[0m \u001b[0;34m\u001b[0m\u001b[0m\n\u001b[1;32m    439\u001b[0m     \u001b[0;32mexcept\u001b[0m \u001b[0mException\u001b[0m \u001b[0;32mas\u001b[0m \u001b[0me\u001b[0m\u001b[0;34m:\u001b[0m\u001b[0;34m\u001b[0m\u001b[0m\n",
      "\u001b[0;32m/usr/local/lib/python3.5/dist-packages/xgboost/sklearn.py\u001b[0m in \u001b[0;36mfit\u001b[0;34m(self, X, y, eval_set, eval_metric, early_stopping_rounds, verbose)\u001b[0m\n\u001b[1;32m    249\u001b[0m                               \u001b[0mearly_stopping_rounds\u001b[0m\u001b[0;34m=\u001b[0m\u001b[0mearly_stopping_rounds\u001b[0m\u001b[0;34m,\u001b[0m\u001b[0;34m\u001b[0m\u001b[0m\n\u001b[1;32m    250\u001b[0m                               \u001b[0mevals_result\u001b[0m\u001b[0;34m=\u001b[0m\u001b[0mevals_result\u001b[0m\u001b[0;34m,\u001b[0m \u001b[0mobj\u001b[0m\u001b[0;34m=\u001b[0m\u001b[0mobj\u001b[0m\u001b[0;34m,\u001b[0m \u001b[0mfeval\u001b[0m\u001b[0;34m=\u001b[0m\u001b[0mfeval\u001b[0m\u001b[0;34m,\u001b[0m\u001b[0;34m\u001b[0m\u001b[0m\n\u001b[0;32m--> 251\u001b[0;31m                               verbose_eval=verbose)\n\u001b[0m\u001b[1;32m    252\u001b[0m \u001b[0;34m\u001b[0m\u001b[0m\n\u001b[1;32m    253\u001b[0m         \u001b[0;32mif\u001b[0m \u001b[0mevals_result\u001b[0m\u001b[0;34m:\u001b[0m\u001b[0;34m\u001b[0m\u001b[0m\n",
      "\u001b[0;32m/usr/local/lib/python3.5/dist-packages/xgboost/training.py\u001b[0m in \u001b[0;36mtrain\u001b[0;34m(params, dtrain, num_boost_round, evals, obj, feval, maximize, early_stopping_rounds, evals_result, verbose_eval, learning_rates, xgb_model, callbacks)\u001b[0m\n\u001b[1;32m    203\u001b[0m                            \u001b[0mevals\u001b[0m\u001b[0;34m=\u001b[0m\u001b[0mevals\u001b[0m\u001b[0;34m,\u001b[0m\u001b[0;34m\u001b[0m\u001b[0m\n\u001b[1;32m    204\u001b[0m                            \u001b[0mobj\u001b[0m\u001b[0;34m=\u001b[0m\u001b[0mobj\u001b[0m\u001b[0;34m,\u001b[0m \u001b[0mfeval\u001b[0m\u001b[0;34m=\u001b[0m\u001b[0mfeval\u001b[0m\u001b[0;34m,\u001b[0m\u001b[0;34m\u001b[0m\u001b[0m\n\u001b[0;32m--> 205\u001b[0;31m                            xgb_model=xgb_model, callbacks=callbacks)\n\u001b[0m\u001b[1;32m    206\u001b[0m \u001b[0;34m\u001b[0m\u001b[0m\n\u001b[1;32m    207\u001b[0m \u001b[0;34m\u001b[0m\u001b[0m\n",
      "\u001b[0;32m/usr/local/lib/python3.5/dist-packages/xgboost/training.py\u001b[0m in \u001b[0;36m_train_internal\u001b[0;34m(params, dtrain, num_boost_round, evals, obj, feval, xgb_model, callbacks)\u001b[0m\n\u001b[1;32m     74\u001b[0m         \u001b[0;31m# Skip the first update if it is a recovery step.\u001b[0m\u001b[0;34m\u001b[0m\u001b[0;34m\u001b[0m\u001b[0m\n\u001b[1;32m     75\u001b[0m         \u001b[0;32mif\u001b[0m \u001b[0mversion\u001b[0m \u001b[0;34m%\u001b[0m \u001b[0;36m2\u001b[0m \u001b[0;34m==\u001b[0m \u001b[0;36m0\u001b[0m\u001b[0;34m:\u001b[0m\u001b[0;34m\u001b[0m\u001b[0m\n\u001b[0;32m---> 76\u001b[0;31m             \u001b[0mbst\u001b[0m\u001b[0;34m.\u001b[0m\u001b[0mupdate\u001b[0m\u001b[0;34m(\u001b[0m\u001b[0mdtrain\u001b[0m\u001b[0;34m,\u001b[0m \u001b[0mi\u001b[0m\u001b[0;34m,\u001b[0m \u001b[0mobj\u001b[0m\u001b[0;34m)\u001b[0m\u001b[0;34m\u001b[0m\u001b[0m\n\u001b[0m\u001b[1;32m     77\u001b[0m             \u001b[0mbst\u001b[0m\u001b[0;34m.\u001b[0m\u001b[0msave_rabit_checkpoint\u001b[0m\u001b[0;34m(\u001b[0m\u001b[0;34m)\u001b[0m\u001b[0;34m\u001b[0m\u001b[0m\n\u001b[1;32m     78\u001b[0m             \u001b[0mversion\u001b[0m \u001b[0;34m+=\u001b[0m \u001b[0;36m1\u001b[0m\u001b[0;34m\u001b[0m\u001b[0m\n",
      "\u001b[0;32m/usr/local/lib/python3.5/dist-packages/xgboost/core.py\u001b[0m in \u001b[0;36mupdate\u001b[0;34m(self, dtrain, iteration, fobj)\u001b[0m\n\u001b[1;32m    804\u001b[0m \u001b[0;34m\u001b[0m\u001b[0m\n\u001b[1;32m    805\u001b[0m         \u001b[0;32mif\u001b[0m \u001b[0mfobj\u001b[0m \u001b[0;32mis\u001b[0m \u001b[0;32mNone\u001b[0m\u001b[0;34m:\u001b[0m\u001b[0;34m\u001b[0m\u001b[0m\n\u001b[0;32m--> 806\u001b[0;31m             \u001b[0m_check_call\u001b[0m\u001b[0;34m(\u001b[0m\u001b[0m_LIB\u001b[0m\u001b[0;34m.\u001b[0m\u001b[0mXGBoosterUpdateOneIter\u001b[0m\u001b[0;34m(\u001b[0m\u001b[0mself\u001b[0m\u001b[0;34m.\u001b[0m\u001b[0mhandle\u001b[0m\u001b[0;34m,\u001b[0m \u001b[0miteration\u001b[0m\u001b[0;34m,\u001b[0m \u001b[0mdtrain\u001b[0m\u001b[0;34m.\u001b[0m\u001b[0mhandle\u001b[0m\u001b[0;34m)\u001b[0m\u001b[0;34m)\u001b[0m\u001b[0;34m\u001b[0m\u001b[0m\n\u001b[0m\u001b[1;32m    807\u001b[0m         \u001b[0;32melse\u001b[0m\u001b[0;34m:\u001b[0m\u001b[0;34m\u001b[0m\u001b[0m\n\u001b[1;32m    808\u001b[0m             \u001b[0mpred\u001b[0m \u001b[0;34m=\u001b[0m \u001b[0mself\u001b[0m\u001b[0;34m.\u001b[0m\u001b[0mpredict\u001b[0m\u001b[0;34m(\u001b[0m\u001b[0mdtrain\u001b[0m\u001b[0;34m)\u001b[0m\u001b[0;34m\u001b[0m\u001b[0m\n",
      "\u001b[0;31mKeyboardInterrupt\u001b[0m: "
     ]
    }
   ],
   "source": [
    "from sklearn.model_selection import GridSearchCV\n",
    "\n",
    "## Random search de hiperparametros y entrenamiento del algoritmo, \n",
    "## cuando termina tira dos scores (no se cual es mejor) y los mejores hiperparametros que dieron esos scores\n",
    "## ES LA PARTE QUE TARDA\n",
    "#http://danielhnyk.cz/how-to-use-xgboost-in-python/\n",
    "one_to_left = st.beta(10, 1)  \n",
    "from_zero_positive = st.expon(0, 50)\n",
    "\n",
    "params = {  \n",
    "    \"n_estimators\": [60],#nros random desde a hasta b\n",
    "    \"max_depth\": [4,6,8,10],\n",
    "    \"learning_rate\": [0.1,0.05,0.2], # nros random de una distribucion uniforme entre a y a+b\n",
    "    \"colsample_bytree\": [.4,.5,.75,1],\n",
    "    \"subsample\": [.75,1], \n",
    "    \"gamma\": [0,0.1,1],\n",
    "    'reg_alpha': [20,25,30,35,40],\n",
    "    \"min_child_weight\": [5,6,7,8]\n",
    "}\n",
    "\n",
    "xgb = XGBRegressor(nthread=2) \n",
    "\n",
    "grid = GridSearchCV(xgb, params, n_jobs=1,verbose=10,cv=5) # n_iters es la cant de veces que busca, 10 es lo default\n",
    "grid.fit(X, Y, eval_metric=\"rmse\")"
   ]
  },
  {
   "cell_type": "code",
   "execution_count": 33,
   "metadata": {
    "scrolled": true
   },
   "outputs": [
    {
     "name": "stdout",
     "output_type": "stream",
     "text": [
      "Fitting 4 folds for each of 20 candidates, totalling 80 fits\n",
      "[CV] colsample_bytree=1, max_depth=23, reg_alpha=30, subsample=1, learning_rate=0.060473203185, n_estimators=200, gamma=8.3811175153, min_child_weight=8 \n",
      "[CV]  colsample_bytree=1, max_depth=23, reg_alpha=30, subsample=1, learning_rate=0.060473203185, n_estimators=200, gamma=8.3811175153, min_child_weight=8, score=0.4644341502435654, total=14.8min\n",
      "[CV] colsample_bytree=1, max_depth=23, reg_alpha=30, subsample=1, learning_rate=0.060473203185, n_estimators=200, gamma=8.3811175153, min_child_weight=8 \n"
     ]
    },
    {
     "name": "stderr",
     "output_type": "stream",
     "text": [
      "[Parallel(n_jobs=1)]: Done   1 out of   1 | elapsed: 15.4min remaining:    0.0s\n"
     ]
    },
    {
     "name": "stdout",
     "output_type": "stream",
     "text": [
      "[CV]  colsample_bytree=1, max_depth=23, reg_alpha=30, subsample=1, learning_rate=0.060473203185, n_estimators=200, gamma=8.3811175153, min_child_weight=8, score=0.6917327732683709, total=15.5min\n",
      "[CV] colsample_bytree=1, max_depth=23, reg_alpha=30, subsample=1, learning_rate=0.060473203185, n_estimators=200, gamma=8.3811175153, min_child_weight=8 \n"
     ]
    },
    {
     "name": "stderr",
     "output_type": "stream",
     "text": [
      "[Parallel(n_jobs=1)]: Done   2 out of   2 | elapsed: 31.5min remaining:    0.0s\n"
     ]
    },
    {
     "ename": "KeyboardInterrupt",
     "evalue": "",
     "output_type": "error",
     "traceback": [
      "\u001b[0;31m---------------------------------------------------------------------------\u001b[0m",
      "\u001b[0;31mKeyboardInterrupt\u001b[0m                         Traceback (most recent call last)",
      "\u001b[0;32m<ipython-input-33-e5a1bb025137>\u001b[0m in \u001b[0;36m<module>\u001b[0;34m()\u001b[0m\n\u001b[1;32m     20\u001b[0m \u001b[0;34m\u001b[0m\u001b[0m\n\u001b[1;32m     21\u001b[0m \u001b[0mgrid\u001b[0m \u001b[0;34m=\u001b[0m \u001b[0mRandomizedSearchCV\u001b[0m\u001b[0;34m(\u001b[0m\u001b[0mxgb\u001b[0m\u001b[0;34m,\u001b[0m \u001b[0mparams\u001b[0m\u001b[0;34m,\u001b[0m \u001b[0mn_jobs\u001b[0m\u001b[0;34m=\u001b[0m\u001b[0;36m1\u001b[0m\u001b[0;34m,\u001b[0m\u001b[0mn_iter\u001b[0m\u001b[0;34m=\u001b[0m\u001b[0;36m20\u001b[0m\u001b[0;34m,\u001b[0m\u001b[0mverbose\u001b[0m\u001b[0;34m=\u001b[0m\u001b[0;36m10\u001b[0m\u001b[0;34m,\u001b[0m\u001b[0mcv\u001b[0m\u001b[0;34m=\u001b[0m\u001b[0;36m4\u001b[0m\u001b[0;34m)\u001b[0m \u001b[0;31m# n_iters es la cant de veces que busca, 10 es lo default\u001b[0m\u001b[0;34m\u001b[0m\u001b[0m\n\u001b[0;32m---> 22\u001b[0;31m \u001b[0mgrid\u001b[0m\u001b[0;34m.\u001b[0m\u001b[0mfit\u001b[0m\u001b[0;34m(\u001b[0m\u001b[0mX\u001b[0m\u001b[0;34m,\u001b[0m \u001b[0mY\u001b[0m\u001b[0;34m,\u001b[0m \u001b[0meval_metric\u001b[0m\u001b[0;34m=\u001b[0m\u001b[0;34m\"rmse\"\u001b[0m\u001b[0;34m)\u001b[0m\u001b[0;34m\u001b[0m\u001b[0m\n\u001b[0m",
      "\u001b[0;32m/usr/local/lib/python3.5/dist-packages/sklearn/model_selection/_search.py\u001b[0m in \u001b[0;36mfit\u001b[0;34m(self, X, y, groups, **fit_params)\u001b[0m\n\u001b[1;32m    636\u001b[0m                                   error_score=self.error_score)\n\u001b[1;32m    637\u001b[0m           for parameters, (train, test) in product(candidate_params,\n\u001b[0;32m--> 638\u001b[0;31m                                                    cv.split(X, y, groups)))\n\u001b[0m\u001b[1;32m    639\u001b[0m \u001b[0;34m\u001b[0m\u001b[0m\n\u001b[1;32m    640\u001b[0m         \u001b[0;31m# if one choose to see train score, \"out\" will contain train score info\u001b[0m\u001b[0;34m\u001b[0m\u001b[0;34m\u001b[0m\u001b[0m\n",
      "\u001b[0;32m/usr/local/lib/python3.5/dist-packages/sklearn/externals/joblib/parallel.py\u001b[0m in \u001b[0;36m__call__\u001b[0;34m(self, iterable)\u001b[0m\n\u001b[1;32m    777\u001b[0m             \u001b[0;31m# was dispatched. In particular this covers the edge\u001b[0m\u001b[0;34m\u001b[0m\u001b[0;34m\u001b[0m\u001b[0m\n\u001b[1;32m    778\u001b[0m             \u001b[0;31m# case of Parallel used with an exhausted iterator.\u001b[0m\u001b[0;34m\u001b[0m\u001b[0;34m\u001b[0m\u001b[0m\n\u001b[0;32m--> 779\u001b[0;31m             \u001b[0;32mwhile\u001b[0m \u001b[0mself\u001b[0m\u001b[0;34m.\u001b[0m\u001b[0mdispatch_one_batch\u001b[0m\u001b[0;34m(\u001b[0m\u001b[0miterator\u001b[0m\u001b[0;34m)\u001b[0m\u001b[0;34m:\u001b[0m\u001b[0;34m\u001b[0m\u001b[0m\n\u001b[0m\u001b[1;32m    780\u001b[0m                 \u001b[0mself\u001b[0m\u001b[0;34m.\u001b[0m\u001b[0m_iterating\u001b[0m \u001b[0;34m=\u001b[0m \u001b[0;32mTrue\u001b[0m\u001b[0;34m\u001b[0m\u001b[0m\n\u001b[1;32m    781\u001b[0m             \u001b[0;32melse\u001b[0m\u001b[0;34m:\u001b[0m\u001b[0;34m\u001b[0m\u001b[0m\n",
      "\u001b[0;32m/usr/local/lib/python3.5/dist-packages/sklearn/externals/joblib/parallel.py\u001b[0m in \u001b[0;36mdispatch_one_batch\u001b[0;34m(self, iterator)\u001b[0m\n\u001b[1;32m    623\u001b[0m                 \u001b[0;32mreturn\u001b[0m \u001b[0;32mFalse\u001b[0m\u001b[0;34m\u001b[0m\u001b[0m\n\u001b[1;32m    624\u001b[0m             \u001b[0;32melse\u001b[0m\u001b[0;34m:\u001b[0m\u001b[0;34m\u001b[0m\u001b[0m\n\u001b[0;32m--> 625\u001b[0;31m                 \u001b[0mself\u001b[0m\u001b[0;34m.\u001b[0m\u001b[0m_dispatch\u001b[0m\u001b[0;34m(\u001b[0m\u001b[0mtasks\u001b[0m\u001b[0;34m)\u001b[0m\u001b[0;34m\u001b[0m\u001b[0m\n\u001b[0m\u001b[1;32m    626\u001b[0m                 \u001b[0;32mreturn\u001b[0m \u001b[0;32mTrue\u001b[0m\u001b[0;34m\u001b[0m\u001b[0m\n\u001b[1;32m    627\u001b[0m \u001b[0;34m\u001b[0m\u001b[0m\n",
      "\u001b[0;32m/usr/local/lib/python3.5/dist-packages/sklearn/externals/joblib/parallel.py\u001b[0m in \u001b[0;36m_dispatch\u001b[0;34m(self, batch)\u001b[0m\n\u001b[1;32m    586\u001b[0m         \u001b[0mdispatch_timestamp\u001b[0m \u001b[0;34m=\u001b[0m \u001b[0mtime\u001b[0m\u001b[0;34m.\u001b[0m\u001b[0mtime\u001b[0m\u001b[0;34m(\u001b[0m\u001b[0;34m)\u001b[0m\u001b[0;34m\u001b[0m\u001b[0m\n\u001b[1;32m    587\u001b[0m         \u001b[0mcb\u001b[0m \u001b[0;34m=\u001b[0m \u001b[0mBatchCompletionCallBack\u001b[0m\u001b[0;34m(\u001b[0m\u001b[0mdispatch_timestamp\u001b[0m\u001b[0;34m,\u001b[0m \u001b[0mlen\u001b[0m\u001b[0;34m(\u001b[0m\u001b[0mbatch\u001b[0m\u001b[0;34m)\u001b[0m\u001b[0;34m,\u001b[0m \u001b[0mself\u001b[0m\u001b[0;34m)\u001b[0m\u001b[0;34m\u001b[0m\u001b[0m\n\u001b[0;32m--> 588\u001b[0;31m         \u001b[0mjob\u001b[0m \u001b[0;34m=\u001b[0m \u001b[0mself\u001b[0m\u001b[0;34m.\u001b[0m\u001b[0m_backend\u001b[0m\u001b[0;34m.\u001b[0m\u001b[0mapply_async\u001b[0m\u001b[0;34m(\u001b[0m\u001b[0mbatch\u001b[0m\u001b[0;34m,\u001b[0m \u001b[0mcallback\u001b[0m\u001b[0;34m=\u001b[0m\u001b[0mcb\u001b[0m\u001b[0;34m)\u001b[0m\u001b[0;34m\u001b[0m\u001b[0m\n\u001b[0m\u001b[1;32m    589\u001b[0m         \u001b[0mself\u001b[0m\u001b[0;34m.\u001b[0m\u001b[0m_jobs\u001b[0m\u001b[0;34m.\u001b[0m\u001b[0mappend\u001b[0m\u001b[0;34m(\u001b[0m\u001b[0mjob\u001b[0m\u001b[0;34m)\u001b[0m\u001b[0;34m\u001b[0m\u001b[0m\n\u001b[1;32m    590\u001b[0m \u001b[0;34m\u001b[0m\u001b[0m\n",
      "\u001b[0;32m/usr/local/lib/python3.5/dist-packages/sklearn/externals/joblib/_parallel_backends.py\u001b[0m in \u001b[0;36mapply_async\u001b[0;34m(self, func, callback)\u001b[0m\n\u001b[1;32m    109\u001b[0m     \u001b[0;32mdef\u001b[0m \u001b[0mapply_async\u001b[0m\u001b[0;34m(\u001b[0m\u001b[0mself\u001b[0m\u001b[0;34m,\u001b[0m \u001b[0mfunc\u001b[0m\u001b[0;34m,\u001b[0m \u001b[0mcallback\u001b[0m\u001b[0;34m=\u001b[0m\u001b[0;32mNone\u001b[0m\u001b[0;34m)\u001b[0m\u001b[0;34m:\u001b[0m\u001b[0;34m\u001b[0m\u001b[0m\n\u001b[1;32m    110\u001b[0m         \u001b[0;34m\"\"\"Schedule a func to be run\"\"\"\u001b[0m\u001b[0;34m\u001b[0m\u001b[0m\n\u001b[0;32m--> 111\u001b[0;31m         \u001b[0mresult\u001b[0m \u001b[0;34m=\u001b[0m \u001b[0mImmediateResult\u001b[0m\u001b[0;34m(\u001b[0m\u001b[0mfunc\u001b[0m\u001b[0;34m)\u001b[0m\u001b[0;34m\u001b[0m\u001b[0m\n\u001b[0m\u001b[1;32m    112\u001b[0m         \u001b[0;32mif\u001b[0m \u001b[0mcallback\u001b[0m\u001b[0;34m:\u001b[0m\u001b[0;34m\u001b[0m\u001b[0m\n\u001b[1;32m    113\u001b[0m             \u001b[0mcallback\u001b[0m\u001b[0;34m(\u001b[0m\u001b[0mresult\u001b[0m\u001b[0;34m)\u001b[0m\u001b[0;34m\u001b[0m\u001b[0m\n",
      "\u001b[0;32m/usr/local/lib/python3.5/dist-packages/sklearn/externals/joblib/_parallel_backends.py\u001b[0m in \u001b[0;36m__init__\u001b[0;34m(self, batch)\u001b[0m\n\u001b[1;32m    330\u001b[0m         \u001b[0;31m# Don't delay the application, to avoid keeping the input\u001b[0m\u001b[0;34m\u001b[0m\u001b[0;34m\u001b[0m\u001b[0m\n\u001b[1;32m    331\u001b[0m         \u001b[0;31m# arguments in memory\u001b[0m\u001b[0;34m\u001b[0m\u001b[0;34m\u001b[0m\u001b[0m\n\u001b[0;32m--> 332\u001b[0;31m         \u001b[0mself\u001b[0m\u001b[0;34m.\u001b[0m\u001b[0mresults\u001b[0m \u001b[0;34m=\u001b[0m \u001b[0mbatch\u001b[0m\u001b[0;34m(\u001b[0m\u001b[0;34m)\u001b[0m\u001b[0;34m\u001b[0m\u001b[0m\n\u001b[0m\u001b[1;32m    333\u001b[0m \u001b[0;34m\u001b[0m\u001b[0m\n\u001b[1;32m    334\u001b[0m     \u001b[0;32mdef\u001b[0m \u001b[0mget\u001b[0m\u001b[0;34m(\u001b[0m\u001b[0mself\u001b[0m\u001b[0;34m)\u001b[0m\u001b[0;34m:\u001b[0m\u001b[0;34m\u001b[0m\u001b[0m\n",
      "\u001b[0;32m/usr/local/lib/python3.5/dist-packages/sklearn/externals/joblib/parallel.py\u001b[0m in \u001b[0;36m__call__\u001b[0;34m(self)\u001b[0m\n\u001b[1;32m    129\u001b[0m \u001b[0;34m\u001b[0m\u001b[0m\n\u001b[1;32m    130\u001b[0m     \u001b[0;32mdef\u001b[0m \u001b[0m__call__\u001b[0m\u001b[0;34m(\u001b[0m\u001b[0mself\u001b[0m\u001b[0;34m)\u001b[0m\u001b[0;34m:\u001b[0m\u001b[0;34m\u001b[0m\u001b[0m\n\u001b[0;32m--> 131\u001b[0;31m         \u001b[0;32mreturn\u001b[0m \u001b[0;34m[\u001b[0m\u001b[0mfunc\u001b[0m\u001b[0;34m(\u001b[0m\u001b[0;34m*\u001b[0m\u001b[0margs\u001b[0m\u001b[0;34m,\u001b[0m \u001b[0;34m**\u001b[0m\u001b[0mkwargs\u001b[0m\u001b[0;34m)\u001b[0m \u001b[0;32mfor\u001b[0m \u001b[0mfunc\u001b[0m\u001b[0;34m,\u001b[0m \u001b[0margs\u001b[0m\u001b[0;34m,\u001b[0m \u001b[0mkwargs\u001b[0m \u001b[0;32min\u001b[0m \u001b[0mself\u001b[0m\u001b[0;34m.\u001b[0m\u001b[0mitems\u001b[0m\u001b[0;34m]\u001b[0m\u001b[0;34m\u001b[0m\u001b[0m\n\u001b[0m\u001b[1;32m    132\u001b[0m \u001b[0;34m\u001b[0m\u001b[0m\n\u001b[1;32m    133\u001b[0m     \u001b[0;32mdef\u001b[0m \u001b[0m__len__\u001b[0m\u001b[0;34m(\u001b[0m\u001b[0mself\u001b[0m\u001b[0;34m)\u001b[0m\u001b[0;34m:\u001b[0m\u001b[0;34m\u001b[0m\u001b[0m\n",
      "\u001b[0;32m/usr/local/lib/python3.5/dist-packages/sklearn/externals/joblib/parallel.py\u001b[0m in \u001b[0;36m<listcomp>\u001b[0;34m(.0)\u001b[0m\n\u001b[1;32m    129\u001b[0m \u001b[0;34m\u001b[0m\u001b[0m\n\u001b[1;32m    130\u001b[0m     \u001b[0;32mdef\u001b[0m \u001b[0m__call__\u001b[0m\u001b[0;34m(\u001b[0m\u001b[0mself\u001b[0m\u001b[0;34m)\u001b[0m\u001b[0;34m:\u001b[0m\u001b[0;34m\u001b[0m\u001b[0m\n\u001b[0;32m--> 131\u001b[0;31m         \u001b[0;32mreturn\u001b[0m \u001b[0;34m[\u001b[0m\u001b[0mfunc\u001b[0m\u001b[0;34m(\u001b[0m\u001b[0;34m*\u001b[0m\u001b[0margs\u001b[0m\u001b[0;34m,\u001b[0m \u001b[0;34m**\u001b[0m\u001b[0mkwargs\u001b[0m\u001b[0;34m)\u001b[0m \u001b[0;32mfor\u001b[0m \u001b[0mfunc\u001b[0m\u001b[0;34m,\u001b[0m \u001b[0margs\u001b[0m\u001b[0;34m,\u001b[0m \u001b[0mkwargs\u001b[0m \u001b[0;32min\u001b[0m \u001b[0mself\u001b[0m\u001b[0;34m.\u001b[0m\u001b[0mitems\u001b[0m\u001b[0;34m]\u001b[0m\u001b[0;34m\u001b[0m\u001b[0m\n\u001b[0m\u001b[1;32m    132\u001b[0m \u001b[0;34m\u001b[0m\u001b[0m\n\u001b[1;32m    133\u001b[0m     \u001b[0;32mdef\u001b[0m \u001b[0m__len__\u001b[0m\u001b[0;34m(\u001b[0m\u001b[0mself\u001b[0m\u001b[0;34m)\u001b[0m\u001b[0;34m:\u001b[0m\u001b[0;34m\u001b[0m\u001b[0m\n",
      "\u001b[0;32m/usr/local/lib/python3.5/dist-packages/sklearn/model_selection/_validation.py\u001b[0m in \u001b[0;36m_fit_and_score\u001b[0;34m(estimator, X, y, scorer, train, test, verbose, parameters, fit_params, return_train_score, return_parameters, return_n_test_samples, return_times, error_score)\u001b[0m\n\u001b[1;32m    435\u001b[0m             \u001b[0mestimator\u001b[0m\u001b[0;34m.\u001b[0m\u001b[0mfit\u001b[0m\u001b[0;34m(\u001b[0m\u001b[0mX_train\u001b[0m\u001b[0;34m,\u001b[0m \u001b[0;34m**\u001b[0m\u001b[0mfit_params\u001b[0m\u001b[0;34m)\u001b[0m\u001b[0;34m\u001b[0m\u001b[0m\n\u001b[1;32m    436\u001b[0m         \u001b[0;32melse\u001b[0m\u001b[0;34m:\u001b[0m\u001b[0;34m\u001b[0m\u001b[0m\n\u001b[0;32m--> 437\u001b[0;31m             \u001b[0mestimator\u001b[0m\u001b[0;34m.\u001b[0m\u001b[0mfit\u001b[0m\u001b[0;34m(\u001b[0m\u001b[0mX_train\u001b[0m\u001b[0;34m,\u001b[0m \u001b[0my_train\u001b[0m\u001b[0;34m,\u001b[0m \u001b[0;34m**\u001b[0m\u001b[0mfit_params\u001b[0m\u001b[0;34m)\u001b[0m\u001b[0;34m\u001b[0m\u001b[0m\n\u001b[0m\u001b[1;32m    438\u001b[0m \u001b[0;34m\u001b[0m\u001b[0m\n\u001b[1;32m    439\u001b[0m     \u001b[0;32mexcept\u001b[0m \u001b[0mException\u001b[0m \u001b[0;32mas\u001b[0m \u001b[0me\u001b[0m\u001b[0;34m:\u001b[0m\u001b[0;34m\u001b[0m\u001b[0m\n",
      "\u001b[0;32m/usr/local/lib/python3.5/dist-packages/xgboost/sklearn.py\u001b[0m in \u001b[0;36mfit\u001b[0;34m(self, X, y, eval_set, eval_metric, early_stopping_rounds, verbose)\u001b[0m\n\u001b[1;32m    249\u001b[0m                               \u001b[0mearly_stopping_rounds\u001b[0m\u001b[0;34m=\u001b[0m\u001b[0mearly_stopping_rounds\u001b[0m\u001b[0;34m,\u001b[0m\u001b[0;34m\u001b[0m\u001b[0m\n\u001b[1;32m    250\u001b[0m                               \u001b[0mevals_result\u001b[0m\u001b[0;34m=\u001b[0m\u001b[0mevals_result\u001b[0m\u001b[0;34m,\u001b[0m \u001b[0mobj\u001b[0m\u001b[0;34m=\u001b[0m\u001b[0mobj\u001b[0m\u001b[0;34m,\u001b[0m \u001b[0mfeval\u001b[0m\u001b[0;34m=\u001b[0m\u001b[0mfeval\u001b[0m\u001b[0;34m,\u001b[0m\u001b[0;34m\u001b[0m\u001b[0m\n\u001b[0;32m--> 251\u001b[0;31m                               verbose_eval=verbose)\n\u001b[0m\u001b[1;32m    252\u001b[0m \u001b[0;34m\u001b[0m\u001b[0m\n\u001b[1;32m    253\u001b[0m         \u001b[0;32mif\u001b[0m \u001b[0mevals_result\u001b[0m\u001b[0;34m:\u001b[0m\u001b[0;34m\u001b[0m\u001b[0m\n",
      "\u001b[0;32m/usr/local/lib/python3.5/dist-packages/xgboost/training.py\u001b[0m in \u001b[0;36mtrain\u001b[0;34m(params, dtrain, num_boost_round, evals, obj, feval, maximize, early_stopping_rounds, evals_result, verbose_eval, learning_rates, xgb_model, callbacks)\u001b[0m\n\u001b[1;32m    203\u001b[0m                            \u001b[0mevals\u001b[0m\u001b[0;34m=\u001b[0m\u001b[0mevals\u001b[0m\u001b[0;34m,\u001b[0m\u001b[0;34m\u001b[0m\u001b[0m\n\u001b[1;32m    204\u001b[0m                            \u001b[0mobj\u001b[0m\u001b[0;34m=\u001b[0m\u001b[0mobj\u001b[0m\u001b[0;34m,\u001b[0m \u001b[0mfeval\u001b[0m\u001b[0;34m=\u001b[0m\u001b[0mfeval\u001b[0m\u001b[0;34m,\u001b[0m\u001b[0;34m\u001b[0m\u001b[0m\n\u001b[0;32m--> 205\u001b[0;31m                            xgb_model=xgb_model, callbacks=callbacks)\n\u001b[0m\u001b[1;32m    206\u001b[0m \u001b[0;34m\u001b[0m\u001b[0m\n\u001b[1;32m    207\u001b[0m \u001b[0;34m\u001b[0m\u001b[0m\n",
      "\u001b[0;32m/usr/local/lib/python3.5/dist-packages/xgboost/training.py\u001b[0m in \u001b[0;36m_train_internal\u001b[0;34m(params, dtrain, num_boost_round, evals, obj, feval, xgb_model, callbacks)\u001b[0m\n\u001b[1;32m     74\u001b[0m         \u001b[0;31m# Skip the first update if it is a recovery step.\u001b[0m\u001b[0;34m\u001b[0m\u001b[0;34m\u001b[0m\u001b[0m\n\u001b[1;32m     75\u001b[0m         \u001b[0;32mif\u001b[0m \u001b[0mversion\u001b[0m \u001b[0;34m%\u001b[0m \u001b[0;36m2\u001b[0m \u001b[0;34m==\u001b[0m \u001b[0;36m0\u001b[0m\u001b[0;34m:\u001b[0m\u001b[0;34m\u001b[0m\u001b[0m\n\u001b[0;32m---> 76\u001b[0;31m             \u001b[0mbst\u001b[0m\u001b[0;34m.\u001b[0m\u001b[0mupdate\u001b[0m\u001b[0;34m(\u001b[0m\u001b[0mdtrain\u001b[0m\u001b[0;34m,\u001b[0m \u001b[0mi\u001b[0m\u001b[0;34m,\u001b[0m \u001b[0mobj\u001b[0m\u001b[0;34m)\u001b[0m\u001b[0;34m\u001b[0m\u001b[0m\n\u001b[0m\u001b[1;32m     77\u001b[0m             \u001b[0mbst\u001b[0m\u001b[0;34m.\u001b[0m\u001b[0msave_rabit_checkpoint\u001b[0m\u001b[0;34m(\u001b[0m\u001b[0;34m)\u001b[0m\u001b[0;34m\u001b[0m\u001b[0m\n\u001b[1;32m     78\u001b[0m             \u001b[0mversion\u001b[0m \u001b[0;34m+=\u001b[0m \u001b[0;36m1\u001b[0m\u001b[0;34m\u001b[0m\u001b[0m\n",
      "\u001b[0;32m/usr/local/lib/python3.5/dist-packages/xgboost/core.py\u001b[0m in \u001b[0;36mupdate\u001b[0;34m(self, dtrain, iteration, fobj)\u001b[0m\n\u001b[1;32m    804\u001b[0m \u001b[0;34m\u001b[0m\u001b[0m\n\u001b[1;32m    805\u001b[0m         \u001b[0;32mif\u001b[0m \u001b[0mfobj\u001b[0m \u001b[0;32mis\u001b[0m \u001b[0;32mNone\u001b[0m\u001b[0;34m:\u001b[0m\u001b[0;34m\u001b[0m\u001b[0m\n\u001b[0;32m--> 806\u001b[0;31m             \u001b[0m_check_call\u001b[0m\u001b[0;34m(\u001b[0m\u001b[0m_LIB\u001b[0m\u001b[0;34m.\u001b[0m\u001b[0mXGBoosterUpdateOneIter\u001b[0m\u001b[0;34m(\u001b[0m\u001b[0mself\u001b[0m\u001b[0;34m.\u001b[0m\u001b[0mhandle\u001b[0m\u001b[0;34m,\u001b[0m \u001b[0miteration\u001b[0m\u001b[0;34m,\u001b[0m \u001b[0mdtrain\u001b[0m\u001b[0;34m.\u001b[0m\u001b[0mhandle\u001b[0m\u001b[0;34m)\u001b[0m\u001b[0;34m)\u001b[0m\u001b[0;34m\u001b[0m\u001b[0m\n\u001b[0m\u001b[1;32m    807\u001b[0m         \u001b[0;32melse\u001b[0m\u001b[0;34m:\u001b[0m\u001b[0;34m\u001b[0m\u001b[0m\n\u001b[1;32m    808\u001b[0m             \u001b[0mpred\u001b[0m \u001b[0;34m=\u001b[0m \u001b[0mself\u001b[0m\u001b[0;34m.\u001b[0m\u001b[0mpredict\u001b[0m\u001b[0;34m(\u001b[0m\u001b[0mdtrain\u001b[0m\u001b[0;34m)\u001b[0m\u001b[0;34m\u001b[0m\u001b[0m\n",
      "\u001b[0;31mKeyboardInterrupt\u001b[0m: "
     ]
    }
   ],
   "source": [
    "## Random search de hiperparametros y entrenamiento del algoritmo, \n",
    "## cuando termina tira dos scores (no se cual es mejor) y los mejores hiperparametros que dieron esos scores\n",
    "## ES LA PARTE QUE TARDA\n",
    "#http://danielhnyk.cz/how-to-use-xgboost-in-python/\n",
    "one_to_left = st.beta(10, 1)  \n",
    "from_zero_positive = st.expon(0, 50)\n",
    "\n",
    "params = {  \n",
    "    \"n_estimators\": [200],#nros random desde a hasta b\n",
    "    \"max_depth\": st.randint(20,25),\n",
    "    \"learning_rate\": st.uniform(0.05,0.05), # nros random de una distribucion uniforme entre a y a+b\n",
    "    \"colsample_bytree\": [1],\n",
    "    \"subsample\": [1], \n",
    "    \"gamma\": st.uniform(5,5),\n",
    "    'reg_alpha': [28,30,31],\n",
    "    \"min_child_weight\": [8]\n",
    "}\n",
    "\n",
    "xgb = XGBRegressor(nthread=2) \n",
    "\n",
    "grid = RandomizedSearchCV(xgb, params, n_jobs=1,n_iter=20,verbose=10,cv=4) # n_iters es la cant de veces que busca, 10 es lo default\n",
    "grid.fit(X, Y, eval_metric=\"rmse\")"
   ]
  },
  {
   "cell_type": "code",
   "execution_count": 32,
   "metadata": {},
   "outputs": [
    {
     "name": "stdout",
     "output_type": "stream",
     "text": [
      "0.595078984469\n",
      "{'colsample_bytree': 1, 'max_depth': 15, 'reg_alpha': 30, 'subsample': 1, 'learning_rate': 0.10758032631237824, 'n_estimators': 60, 'gamma': 2.755708241064212, 'min_child_weight': 8}\n"
     ]
    }
   ],
   "source": [
    "print(grid.best_score_)\n",
    "#print(grid.best_estimator_)\n",
    "print(grid.best_params_)\n",
    "#print(grid.cv_results_)"
   ]
  },
  {
   "cell_type": "code",
   "execution_count": 55,
   "metadata": {},
   "outputs": [
    {
     "name": "stdout",
     "output_type": "stream",
     "text": [
      "0\n",
      "53823469590.2\n",
      "1\n",
      "54448043600.8\n",
      "2\n",
      "23489812167.1\n",
      "3\n",
      "46632252181.7\n",
      "4\n",
      "48223247404.2\n",
      "45323364988.8\n",
      "[53823469590.241493, 54448043600.774498, 23489812167.115326, 46632252181.712158, 48223247404.192787]\n"
     ]
    }
   ],
   "source": [
    "# Parte para probar los parametros sin random search\n",
    "# no tarda mucho porque tira el score de la combinacion de parametros que le pones nada mas\n",
    "mse = []\n",
    "for i in range(0,5):\n",
    "    print(i)\n",
    "    X_train, X_test, Y_train, Y_test = train_test_split(X, Y,test_size=0.30)\n",
    "    xgb = XGBRegressor(colsample_bytree=1,gamma=0.15,learning_rate=0.15,max_depth=12,min_child_weight=8,n_estimators=65,\\\n",
    "                  reg_alpha=30,subsample=1,nthread=2) \n",
    "\n",
    "    xgb.fit(X_train, Y_train,eval_metric=\"rmse\")\n",
    "    e = mean_squared_error(Y_test, xgb.predict(X_test))\n",
    "    print(e)\n",
    "    mse.append(e)\n",
    "print(np.mean(mse))\n",
    "print(mse)"
   ]
  },
  {
   "cell_type": "code",
   "execution_count": 30,
   "metadata": {},
   "outputs": [
    {
     "data": {
      "text/plain": [
       "16013.22"
      ]
     },
     "execution_count": 30,
     "metadata": {},
     "output_type": "execute_result"
    }
   ],
   "source": [
    "len(X)*0.06"
   ]
  },
  {
   "cell_type": "code",
   "execution_count": 37,
   "metadata": {},
   "outputs": [
    {
     "name": "stdout",
     "output_type": "stream",
     "text": [
      "29827010463.3\n"
     ]
    }
   ],
   "source": [
    "# Print the rmse score 24415824749.1\n",
    "#                      51317855617.9\n",
    "#27872839091.6\n",
    "#71731022891\n",
    "#22648919291.2\n",
    "print(mean_squared_error(Y_test, xgb.predict(X_test)))"
   ]
  },
  {
   "cell_type": "code",
   "execution_count": 123,
   "metadata": {
    "collapsed": true
   },
   "outputs": [],
   "source": [
    "#Prediccion"
   ]
  },
  {
   "cell_type": "code",
   "execution_count": 124,
   "metadata": {
    "collapsed": true
   },
   "outputs": [],
   "source": [
    "test = pd.read_csv('data/properati_dataset_testing_noprice.csv')"
   ]
  },
  {
   "cell_type": "code",
   "execution_count": 125,
   "metadata": {
    "collapsed": true
   },
   "outputs": [],
   "source": [
    "#level_0, ph, Buenos Aires Interior, index, casa, departamento\n",
    "test.loc[test.state_name.str.contains('Interior'),'place_name'] = 'Palermo'\n",
    "test.loc[test.state_name.str.contains('Interior'),'state_name'] = 'Capital Federal'\n",
    "test.loc[test.property_type.str.contains('departamento'),'property_type'] = 'apartment'\n",
    "test.loc[test.property_type.str.contains('casa'),'property_type'] = 'house'\n",
    "test.loc[test.property_type.str.contains('ph'),'property_type'] = 'PH'\n"
   ]
  },
  {
   "cell_type": "code",
   "execution_count": 126,
   "metadata": {
    "collapsed": true
   },
   "outputs": [],
   "source": [
    "def convert(s):\n",
    "    try:\n",
    "        return float(s)\n",
    "    except:\n",
    "        return np.nan"
   ]
  },
  {
   "cell_type": "code",
   "execution_count": 127,
   "metadata": {
    "collapsed": true
   },
   "outputs": [],
   "source": [
    "test['precio_from_desc'] = test.description.apply(precio_from_desc)\n",
    "test.loc[test.description.notnull(),'description'] = test.loc[test.description.notnull(),'description'].apply(descripcion_token)\n",
    "test.loc[:,'place_name'] = test.place_with_parent_names.apply(place_name_from_parent)\n",
    "test.loc[:,'place_name'] = test.place_name.apply(rescatar_barrios_no_oficiales)\n",
    "test.loc[test.surface_total_in_m2.isnull(),'surface_total_in_m2'] = test.surface_covered_in_m2\n",
    "test.loc[test.rooms.isnull(),'rooms'] = test.description.apply(recuperar_cant_amb)\n",
    "test['created_on'] = pd.to_datetime(test['created_on']) ## conversion de tipo\n",
    "test['month'] = test.created_on.apply(lambda x: x.month)\n",
    "test['year'] = test.created_on.apply(lambda x: x.year)\n",
    "test['day'] = test.created_on.apply(lambda x: x.day)\n",
    "test.drop(['id','created_on','operation','lat-lon','place_with_parent_names','country_name'], axis=1, inplace=True)\n",
    "test.expenses = test.expenses.apply(convert)"
   ]
  },
  {
   "cell_type": "code",
   "execution_count": 128,
   "metadata": {},
   "outputs": [
    {
     "data": {
      "text/html": [
       "<div>\n",
       "<style>\n",
       "    .dataframe thead tr:only-child th {\n",
       "        text-align: right;\n",
       "    }\n",
       "\n",
       "    .dataframe thead th {\n",
       "        text-align: left;\n",
       "    }\n",
       "\n",
       "    .dataframe tbody tr th {\n",
       "        vertical-align: top;\n",
       "    }\n",
       "</style>\n",
       "<table border=\"1\" class=\"dataframe\">\n",
       "  <thead>\n",
       "    <tr style=\"text-align: right;\">\n",
       "      <th></th>\n",
       "      <th>lat</th>\n",
       "      <th>lon</th>\n",
       "      <th>surface_total_in_m2</th>\n",
       "      <th>surface_covered_in_m2</th>\n",
       "      <th>floor</th>\n",
       "      <th>rooms</th>\n",
       "      <th>expenses</th>\n",
       "      <th>precio_from_desc</th>\n",
       "      <th>month</th>\n",
       "      <th>year</th>\n",
       "      <th>day</th>\n",
       "    </tr>\n",
       "  </thead>\n",
       "  <tbody>\n",
       "    <tr>\n",
       "      <th>count</th>\n",
       "      <td>10487.000000</td>\n",
       "      <td>10487.000000</td>\n",
       "      <td>1.339200e+04</td>\n",
       "      <td>1.300500e+04</td>\n",
       "      <td>1368.000000</td>\n",
       "      <td>7500.000000</td>\n",
       "      <td>2.523000e+03</td>\n",
       "      <td>1.614000e+03</td>\n",
       "      <td>14166.0</td>\n",
       "      <td>14166.0</td>\n",
       "      <td>14166.000000</td>\n",
       "    </tr>\n",
       "    <tr>\n",
       "      <th>mean</th>\n",
       "      <td>-34.629923</td>\n",
       "      <td>-58.465820</td>\n",
       "      <td>3.934301e+02</td>\n",
       "      <td>3.594716e+02</td>\n",
       "      <td>10.679094</td>\n",
       "      <td>2.804667</td>\n",
       "      <td>8.522019e+03</td>\n",
       "      <td>1.833799e+05</td>\n",
       "      <td>8.0</td>\n",
       "      <td>2017.0</td>\n",
       "      <td>14.021530</td>\n",
       "    </tr>\n",
       "    <tr>\n",
       "      <th>std</th>\n",
       "      <td>0.101952</td>\n",
       "      <td>0.164709</td>\n",
       "      <td>2.805803e+04</td>\n",
       "      <td>2.846901e+04</td>\n",
       "      <td>93.466971</td>\n",
       "      <td>1.425710</td>\n",
       "      <td>1.916011e+05</td>\n",
       "      <td>2.147656e+05</td>\n",
       "      <td>0.0</td>\n",
       "      <td>0.0</td>\n",
       "      <td>8.030705</td>\n",
       "    </tr>\n",
       "    <tr>\n",
       "      <th>min</th>\n",
       "      <td>-38.416097</td>\n",
       "      <td>-63.616672</td>\n",
       "      <td>0.000000e+00</td>\n",
       "      <td>1.000000e+00</td>\n",
       "      <td>1.000000</td>\n",
       "      <td>1.000000</td>\n",
       "      <td>0.000000e+00</td>\n",
       "      <td>2.015000e+04</td>\n",
       "      <td>8.0</td>\n",
       "      <td>2017.0</td>\n",
       "      <td>1.000000</td>\n",
       "    </tr>\n",
       "    <tr>\n",
       "      <th>25%</th>\n",
       "      <td>-34.643998</td>\n",
       "      <td>-58.499255</td>\n",
       "      <td>4.600000e+01</td>\n",
       "      <td>4.200000e+01</td>\n",
       "      <td>2.000000</td>\n",
       "      <td>2.000000</td>\n",
       "      <td>1.000000e+03</td>\n",
       "      <td>7.600000e+04</td>\n",
       "      <td>8.0</td>\n",
       "      <td>2017.0</td>\n",
       "      <td>9.000000</td>\n",
       "    </tr>\n",
       "    <tr>\n",
       "      <th>50%</th>\n",
       "      <td>-34.612651</td>\n",
       "      <td>-58.443276</td>\n",
       "      <td>7.200000e+01</td>\n",
       "      <td>6.400000e+01</td>\n",
       "      <td>4.000000</td>\n",
       "      <td>3.000000</td>\n",
       "      <td>2.000000e+03</td>\n",
       "      <td>1.250000e+05</td>\n",
       "      <td>8.0</td>\n",
       "      <td>2017.0</td>\n",
       "      <td>14.000000</td>\n",
       "    </tr>\n",
       "    <tr>\n",
       "      <th>75%</th>\n",
       "      <td>-34.589405</td>\n",
       "      <td>-58.401978</td>\n",
       "      <td>1.450000e+02</td>\n",
       "      <td>1.120000e+02</td>\n",
       "      <td>7.000000</td>\n",
       "      <td>4.000000</td>\n",
       "      <td>3.600000e+03</td>\n",
       "      <td>2.100000e+05</td>\n",
       "      <td>8.0</td>\n",
       "      <td>2017.0</td>\n",
       "      <td>20.000000</td>\n",
       "    </tr>\n",
       "    <tr>\n",
       "      <th>max</th>\n",
       "      <td>-34.536105</td>\n",
       "      <td>-57.900605</td>\n",
       "      <td>3.243242e+06</td>\n",
       "      <td>3.243242e+06</td>\n",
       "      <td>2509.000000</td>\n",
       "      <td>21.000000</td>\n",
       "      <td>7.600072e+06</td>\n",
       "      <td>2.700000e+06</td>\n",
       "      <td>8.0</td>\n",
       "      <td>2017.0</td>\n",
       "      <td>29.000000</td>\n",
       "    </tr>\n",
       "  </tbody>\n",
       "</table>\n",
       "</div>"
      ],
      "text/plain": [
       "                lat           lon  surface_total_in_m2  surface_covered_in_m2  \\\n",
       "count  10487.000000  10487.000000         1.339200e+04           1.300500e+04   \n",
       "mean     -34.629923    -58.465820         3.934301e+02           3.594716e+02   \n",
       "std        0.101952      0.164709         2.805803e+04           2.846901e+04   \n",
       "min      -38.416097    -63.616672         0.000000e+00           1.000000e+00   \n",
       "25%      -34.643998    -58.499255         4.600000e+01           4.200000e+01   \n",
       "50%      -34.612651    -58.443276         7.200000e+01           6.400000e+01   \n",
       "75%      -34.589405    -58.401978         1.450000e+02           1.120000e+02   \n",
       "max      -34.536105    -57.900605         3.243242e+06           3.243242e+06   \n",
       "\n",
       "             floor        rooms      expenses  precio_from_desc    month  \\\n",
       "count  1368.000000  7500.000000  2.523000e+03      1.614000e+03  14166.0   \n",
       "mean     10.679094     2.804667  8.522019e+03      1.833799e+05      8.0   \n",
       "std      93.466971     1.425710  1.916011e+05      2.147656e+05      0.0   \n",
       "min       1.000000     1.000000  0.000000e+00      2.015000e+04      8.0   \n",
       "25%       2.000000     2.000000  1.000000e+03      7.600000e+04      8.0   \n",
       "50%       4.000000     3.000000  2.000000e+03      1.250000e+05      8.0   \n",
       "75%       7.000000     4.000000  3.600000e+03      2.100000e+05      8.0   \n",
       "max    2509.000000    21.000000  7.600072e+06      2.700000e+06      8.0   \n",
       "\n",
       "          year           day  \n",
       "count  14166.0  14166.000000  \n",
       "mean    2017.0     14.021530  \n",
       "std        0.0      8.030705  \n",
       "min     2017.0      1.000000  \n",
       "25%     2017.0      9.000000  \n",
       "50%     2017.0     14.000000  \n",
       "75%     2017.0     20.000000  \n",
       "max     2017.0     29.000000  "
      ]
     },
     "execution_count": 128,
     "metadata": {},
     "output_type": "execute_result"
    }
   ],
   "source": [
    "test.describe()"
   ]
  },
  {
   "cell_type": "code",
   "execution_count": 129,
   "metadata": {
    "collapsed": true
   },
   "outputs": [],
   "source": [
    "# Nan para los datos faltantes es mejor que dropear todo el dato \n",
    "# Los nros estan masomenos pensados MASOMENOS JEJE\n",
    "test.loc[(test['surface_total_in_m2']>5000) | (test['surface_total_in_m2'] < 30),'surface_total_in_m2'] = np.nan\n",
    "test.loc[(test['surface_covered_in_m2']>5000),'surface_covered_in_m2'] = np.nan\n",
    "test.loc[test['floor']>30,'floor'] = np.nan\n",
    "test.loc[test['rooms']==0,'rooms'] = np.nan\n",
    "test.loc[test['rooms']>10,'rooms'] = np.nan\n",
    "test.loc[(test['lat']>-33) | (test['lat']<-36),['lat','lon']] = np.nan\n",
    "test.loc[(test['lon']>-57) | (test['lon']<-60),['lat','lon']] = np.nan\n",
    "test.loc[(test['expenses']>14000) | (test['expenses']<100),'expenses'] = np.nan"
   ]
  },
  {
   "cell_type": "code",
   "execution_count": 130,
   "metadata": {},
   "outputs": [
    {
     "data": {
      "text/html": [
       "<div>\n",
       "<style>\n",
       "    .dataframe thead tr:only-child th {\n",
       "        text-align: right;\n",
       "    }\n",
       "\n",
       "    .dataframe thead th {\n",
       "        text-align: left;\n",
       "    }\n",
       "\n",
       "    .dataframe tbody tr th {\n",
       "        vertical-align: top;\n",
       "    }\n",
       "</style>\n",
       "<table border=\"1\" class=\"dataframe\">\n",
       "  <thead>\n",
       "    <tr style=\"text-align: right;\">\n",
       "      <th></th>\n",
       "      <th>lat</th>\n",
       "      <th>lon</th>\n",
       "      <th>surface_total_in_m2</th>\n",
       "      <th>surface_covered_in_m2</th>\n",
       "      <th>floor</th>\n",
       "      <th>rooms</th>\n",
       "      <th>expenses</th>\n",
       "      <th>precio_from_desc</th>\n",
       "      <th>month</th>\n",
       "      <th>year</th>\n",
       "      <th>day</th>\n",
       "    </tr>\n",
       "  </thead>\n",
       "  <tbody>\n",
       "    <tr>\n",
       "      <th>count</th>\n",
       "      <td>10483.000000</td>\n",
       "      <td>10483.000000</td>\n",
       "      <td>12817.000000</td>\n",
       "      <td>12998.000000</td>\n",
       "      <td>1354.000000</td>\n",
       "      <td>7490.000000</td>\n",
       "      <td>2279.000000</td>\n",
       "      <td>1.614000e+03</td>\n",
       "      <td>14166.0</td>\n",
       "      <td>14166.0</td>\n",
       "      <td>14166.000000</td>\n",
       "    </tr>\n",
       "    <tr>\n",
       "      <th>mean</th>\n",
       "      <td>-34.628479</td>\n",
       "      <td>-58.463854</td>\n",
       "      <td>134.013654</td>\n",
       "      <td>95.626943</td>\n",
       "      <td>5.118907</td>\n",
       "      <td>2.788919</td>\n",
       "      <td>2882.024133</td>\n",
       "      <td>1.833799e+05</td>\n",
       "      <td>8.0</td>\n",
       "      <td>2017.0</td>\n",
       "      <td>14.021530</td>\n",
       "    </tr>\n",
       "    <tr>\n",
       "      <th>std</th>\n",
       "      <td>0.070184</td>\n",
       "      <td>0.130426</td>\n",
       "      <td>187.645059</td>\n",
       "      <td>126.166300</td>\n",
       "      <td>4.215539</td>\n",
       "      <td>1.355359</td>\n",
       "      <td>2476.270406</td>\n",
       "      <td>2.147656e+05</td>\n",
       "      <td>0.0</td>\n",
       "      <td>0.0</td>\n",
       "      <td>8.030705</td>\n",
       "    </tr>\n",
       "    <tr>\n",
       "      <th>min</th>\n",
       "      <td>-35.123100</td>\n",
       "      <td>-58.975341</td>\n",
       "      <td>30.000000</td>\n",
       "      <td>1.000000</td>\n",
       "      <td>1.000000</td>\n",
       "      <td>1.000000</td>\n",
       "      <td>120.000000</td>\n",
       "      <td>2.015000e+04</td>\n",
       "      <td>8.0</td>\n",
       "      <td>2017.0</td>\n",
       "      <td>1.000000</td>\n",
       "    </tr>\n",
       "    <tr>\n",
       "      <th>25%</th>\n",
       "      <td>-34.643941</td>\n",
       "      <td>-58.499089</td>\n",
       "      <td>48.000000</td>\n",
       "      <td>42.000000</td>\n",
       "      <td>2.000000</td>\n",
       "      <td>2.000000</td>\n",
       "      <td>1200.000000</td>\n",
       "      <td>7.600000e+04</td>\n",
       "      <td>8.0</td>\n",
       "      <td>2017.0</td>\n",
       "      <td>9.000000</td>\n",
       "    </tr>\n",
       "    <tr>\n",
       "      <th>50%</th>\n",
       "      <td>-34.612629</td>\n",
       "      <td>-58.443256</td>\n",
       "      <td>75.000000</td>\n",
       "      <td>64.000000</td>\n",
       "      <td>4.000000</td>\n",
       "      <td>3.000000</td>\n",
       "      <td>2000.000000</td>\n",
       "      <td>1.250000e+05</td>\n",
       "      <td>8.0</td>\n",
       "      <td>2017.0</td>\n",
       "      <td>14.000000</td>\n",
       "    </tr>\n",
       "    <tr>\n",
       "      <th>75%</th>\n",
       "      <td>-34.589392</td>\n",
       "      <td>-58.401970</td>\n",
       "      <td>150.000000</td>\n",
       "      <td>111.000000</td>\n",
       "      <td>7.000000</td>\n",
       "      <td>4.000000</td>\n",
       "      <td>3621.000000</td>\n",
       "      <td>2.100000e+05</td>\n",
       "      <td>8.0</td>\n",
       "      <td>2017.0</td>\n",
       "      <td>20.000000</td>\n",
       "    </tr>\n",
       "    <tr>\n",
       "      <th>max</th>\n",
       "      <td>-34.536105</td>\n",
       "      <td>-57.900605</td>\n",
       "      <td>4810.000000</td>\n",
       "      <td>4733.000000</td>\n",
       "      <td>29.000000</td>\n",
       "      <td>10.000000</td>\n",
       "      <td>14000.000000</td>\n",
       "      <td>2.700000e+06</td>\n",
       "      <td>8.0</td>\n",
       "      <td>2017.0</td>\n",
       "      <td>29.000000</td>\n",
       "    </tr>\n",
       "  </tbody>\n",
       "</table>\n",
       "</div>"
      ],
      "text/plain": [
       "                lat           lon  surface_total_in_m2  surface_covered_in_m2  \\\n",
       "count  10483.000000  10483.000000         12817.000000           12998.000000   \n",
       "mean     -34.628479    -58.463854           134.013654              95.626943   \n",
       "std        0.070184      0.130426           187.645059             126.166300   \n",
       "min      -35.123100    -58.975341            30.000000               1.000000   \n",
       "25%      -34.643941    -58.499089            48.000000              42.000000   \n",
       "50%      -34.612629    -58.443256            75.000000              64.000000   \n",
       "75%      -34.589392    -58.401970           150.000000             111.000000   \n",
       "max      -34.536105    -57.900605          4810.000000            4733.000000   \n",
       "\n",
       "             floor        rooms      expenses  precio_from_desc    month  \\\n",
       "count  1354.000000  7490.000000   2279.000000      1.614000e+03  14166.0   \n",
       "mean      5.118907     2.788919   2882.024133      1.833799e+05      8.0   \n",
       "std       4.215539     1.355359   2476.270406      2.147656e+05      0.0   \n",
       "min       1.000000     1.000000    120.000000      2.015000e+04      8.0   \n",
       "25%       2.000000     2.000000   1200.000000      7.600000e+04      8.0   \n",
       "50%       4.000000     3.000000   2000.000000      1.250000e+05      8.0   \n",
       "75%       7.000000     4.000000   3621.000000      2.100000e+05      8.0   \n",
       "max      29.000000    10.000000  14000.000000      2.700000e+06      8.0   \n",
       "\n",
       "          year           day  \n",
       "count  14166.0  14166.000000  \n",
       "mean    2017.0     14.021530  \n",
       "std        0.0      8.030705  \n",
       "min     2017.0      1.000000  \n",
       "25%     2017.0      9.000000  \n",
       "50%     2017.0     14.000000  \n",
       "75%     2017.0     20.000000  \n",
       "max     2017.0     29.000000  "
      ]
     },
     "execution_count": 130,
     "metadata": {},
     "output_type": "execute_result"
    }
   ],
   "source": [
    "test.describe()"
   ]
  },
  {
   "cell_type": "code",
   "execution_count": 131,
   "metadata": {},
   "outputs": [
    {
     "name": "stdout",
     "output_type": "stream",
     "text": [
      "<class 'pandas.core.frame.DataFrame'>\n",
      "RangeIndex: 14166 entries, 0 to 14165\n",
      "Data columns (total 15 columns):\n",
      "property_type            14166 non-null object\n",
      "place_name               13901 non-null object\n",
      "state_name               14166 non-null object\n",
      "lat                      10483 non-null float64\n",
      "lon                      10483 non-null float64\n",
      "surface_total_in_m2      12817 non-null float64\n",
      "surface_covered_in_m2    12998 non-null float64\n",
      "floor                    1354 non-null float64\n",
      "rooms                    7490 non-null float64\n",
      "expenses                 2279 non-null float64\n",
      "description              14166 non-null object\n",
      "precio_from_desc         1614 non-null float64\n",
      "month                    14166 non-null int64\n",
      "year                     14166 non-null int64\n",
      "day                      14166 non-null int64\n",
      "dtypes: float64(8), int64(3), object(4)\n",
      "memory usage: 1.6+ MB\n"
     ]
    }
   ],
   "source": [
    "test.info()"
   ]
  },
  {
   "cell_type": "code",
   "execution_count": 132,
   "metadata": {
    "collapsed": true
   },
   "outputs": [],
   "source": [
    "test = test.join(pd.get_dummies(test.property_type))\n",
    "test.drop('property_type',axis=1, inplace=True)\n",
    "test = test.join(test.description.str.get_dummies())\n",
    "test.drop('description',axis=1, inplace=True)\n",
    "test = test.join(pd.get_dummies(test.place_name))\n",
    "test.drop('place_name',axis=1, inplace=True)\n",
    "test = test.join(pd.get_dummies(test.state_name))\n",
    "test.drop('state_name',axis=1, inplace=True)"
   ]
  },
  {
   "cell_type": "code",
   "execution_count": 133,
   "metadata": {
    "collapsed": true
   },
   "outputs": [],
   "source": [
    "tot = pd.concat([X,test])\n",
    "tot.reset_index(inplace=True,drop=True)"
   ]
  },
  {
   "cell_type": "code",
   "execution_count": 134,
   "metadata": {
    "collapsed": true
   },
   "outputs": [],
   "source": [
    "test_2 = tot[(len(tot)-len(test)):]\n",
    "test_2.reset_index(inplace=True,drop=True)"
   ]
  },
  {
   "cell_type": "code",
   "execution_count": 135,
   "metadata": {},
   "outputs": [
    {
     "name": "stdout",
     "output_type": "stream",
     "text": [
      "<class 'pandas.core.frame.DataFrame'>\n",
      "RangeIndex: 14166 entries, 0 to 14165\n",
      "Columns: 142 entries, Abasto to year\n",
      "dtypes: float64(20), int64(38), uint8(84)\n",
      "memory usage: 7.4 MB\n"
     ]
    }
   ],
   "source": [
    "test_2.info()"
   ]
  },
  {
   "cell_type": "code",
   "execution_count": 136,
   "metadata": {
    "collapsed": true
   },
   "outputs": [],
   "source": [
    "test_2 = test_2[X.columns]"
   ]
  },
  {
   "cell_type": "code",
   "execution_count": 137,
   "metadata": {},
   "outputs": [
    {
     "data": {
      "text/plain": [
       "count    12998.000000\n",
       "mean        95.626943\n",
       "std        126.166300\n",
       "min          1.000000\n",
       "25%         42.000000\n",
       "50%         64.000000\n",
       "75%        111.000000\n",
       "max       4733.000000\n",
       "Name: surface_covered_in_m2, dtype: float64"
      ]
     },
     "execution_count": 137,
     "metadata": {},
     "output_type": "execute_result"
    }
   ],
   "source": [
    "test_2.surface_covered_in_m2.describe()"
   ]
  },
  {
   "cell_type": "code",
   "execution_count": 138,
   "metadata": {},
   "outputs": [
    {
     "data": {
      "text/plain": [
       "XGBRegressor(base_score=0.5, colsample_bylevel=1, colsample_bytree=1,\n",
       "       gamma=9.335890632002908, learning_rate=0.054757194433536716,\n",
       "       max_delta_step=0, max_depth=22, min_child_weight=20, missing=None,\n",
       "       n_estimators=200, nthread=2, objective='reg:linear', reg_alpha=30,\n",
       "       reg_lambda=1, scale_pos_weight=1, seed=0, silent=True,\n",
       "       subsample=0.9624211848564065)"
      ]
     },
     "execution_count": 138,
     "metadata": {},
     "output_type": "execute_result"
    }
   ],
   "source": [
    "xgb = XGBRegressor(colsample_bytree=1,gamma=9.3358906320029078,learning_rate=0.054757194433536716,max_depth=22,min_child_weight=20,n_estimators=200,\\\n",
    "                  reg_alpha=30,subsample=0.96242118485640649,nthread=2) \n",
    "\n",
    "xgb.fit(X, Y,eval_metric=\"rmse\")"
   ]
  },
  {
   "cell_type": "code",
   "execution_count": 139,
   "metadata": {
    "collapsed": true
   },
   "outputs": [],
   "source": [
    "pred = xgb.predict(test_2)"
   ]
  },
  {
   "cell_type": "code",
   "execution_count": 142,
   "metadata": {},
   "outputs": [],
   "source": [
    "test_f = pd.read_csv('data/properati_dataset_testing_noprice.csv')\n",
    "test_f['precio_from_desc'] = test_f.description.apply(precio_from_desc)\n"
   ]
  },
  {
   "cell_type": "code",
   "execution_count": 147,
   "metadata": {},
   "outputs": [
    {
     "data": {
      "text/plain": [
       "'                MONROE ESQUINA MELIAN - MONOAMBIENTE AMPLIO CON BALCÓN AL FRENTE - ORIENTACIÓN ESTE - SUPER LUMINOSO - EDIFICIO APTO PROFESIONAL - COCHERAS Y BAULERAS OPTATIVAS - COCINA A GAS E INSTALACIÓN PARA LAVARROPAS - AGUA CALIENTE CENTRAL POR TERMOTANQUES DE ALTA RECUPERACIÓN - SUM CON COCINA Y BAÑO, PISCINA, PARRILLAS, AMPLIAS TERRAZAS Y SOLARIUM - EXCELENTE UBICACIÓN - ESCRITURA Y POSESIÓN INMEDIATA - BAJAS EXPENSAS - COCHERAS 1ER SUBSUELO USD 26.000COCHERAS 2DO SUBSUELO USD 23.000BAULERAS USD 3.000 de la paz 1970consúltenos:             Excelencia en Servicios Inmobiliarios, desde 1972.'"
      ]
     },
     "execution_count": 147,
     "metadata": {},
     "output_type": "execute_result"
    }
   ],
   "source": [
    "test_f.iloc[42].description"
   ]
  },
  {
   "cell_type": "code",
   "execution_count": 148,
   "metadata": {},
   "outputs": [],
   "source": [
    "test_e = pd.read_csv('data/properati_dataset_testing_noprice.csv')\n",
    "test_e['precio_from_desc'] = test_e.description.apply(precio_from_desc)\n",
    "test_e['price_usd'] = pred\n",
    "test_e.loc[test_e.precio_from_desc.notnull() & (abs(100-test_e.precio_from_desc*100/test_e.price_usd) < 40),'price_usd'] = test_e['precio_from_desc']\n",
    "test_e = test_e.loc[:,['id','price_usd']]\n",
    "test_e.to_csv('Predicciones/XgBoost_10_11_b.csv', index = False)"
   ]
  },
  {
   "cell_type": "code",
   "execution_count": 140,
   "metadata": {
    "collapsed": true
   },
   "outputs": [],
   "source": [
    "test_e['price_usd'] = pred"
   ]
  },
  {
   "cell_type": "code",
   "execution_count": 64,
   "metadata": {
    "collapsed": true
   },
   "outputs": [],
   "source": [
    "test_e.drop('description',axis=1,inplace=True)"
   ]
  },
  {
   "cell_type": "code",
   "execution_count": 65,
   "metadata": {},
   "outputs": [
    {
     "name": "stdout",
     "output_type": "stream",
     "text": [
      "<class 'pandas.core.frame.DataFrame'>\n",
      "RangeIndex: 14166 entries, 0 to 14165\n",
      "Data columns (total 2 columns):\n",
      "id           14166 non-null int64\n",
      "price_usd    14166 non-null float32\n",
      "dtypes: float32(1), int64(1)\n",
      "memory usage: 166.1 KB\n"
     ]
    }
   ],
   "source": [
    "test_e.info()"
   ]
  },
  {
   "cell_type": "code",
   "execution_count": 66,
   "metadata": {
    "collapsed": true
   },
   "outputs": [],
   "source": []
  },
  {
   "cell_type": "code",
   "execution_count": 2,
   "metadata": {
    "collapsed": true
   },
   "outputs": [],
   "source": [
    "ff = pd.read_csv('Predicciones/XgBoost_2.csv')\n",
    "pred = ff['price_usd']"
   ]
  },
  {
   "cell_type": "code",
   "execution_count": 4,
   "metadata": {},
   "outputs": [
    {
     "ename": "AttributeError",
     "evalue": "'Series' object has no attribute 'info'",
     "output_type": "error",
     "traceback": [
      "\u001b[0;31m---------------------------------------------------------------------------\u001b[0m",
      "\u001b[0;31mAttributeError\u001b[0m                            Traceback (most recent call last)",
      "\u001b[0;32m<ipython-input-4-550ec1f0d161>\u001b[0m in \u001b[0;36m<module>\u001b[0;34m()\u001b[0m\n\u001b[0;32m----> 1\u001b[0;31m \u001b[0mpred\u001b[0m\u001b[0;34m.\u001b[0m\u001b[0minfo\u001b[0m\u001b[0;34m(\u001b[0m\u001b[0;34m)\u001b[0m\u001b[0;34m\u001b[0m\u001b[0m\n\u001b[0m",
      "\u001b[0;32m/usr/local/lib/python3.5/dist-packages/pandas/core/generic.py\u001b[0m in \u001b[0;36m__getattr__\u001b[0;34m(self, name)\u001b[0m\n\u001b[1;32m   3079\u001b[0m             \u001b[0;32mif\u001b[0m \u001b[0mname\u001b[0m \u001b[0;32min\u001b[0m \u001b[0mself\u001b[0m\u001b[0;34m.\u001b[0m\u001b[0m_info_axis\u001b[0m\u001b[0;34m:\u001b[0m\u001b[0;34m\u001b[0m\u001b[0m\n\u001b[1;32m   3080\u001b[0m                 \u001b[0;32mreturn\u001b[0m \u001b[0mself\u001b[0m\u001b[0;34m[\u001b[0m\u001b[0mname\u001b[0m\u001b[0;34m]\u001b[0m\u001b[0;34m\u001b[0m\u001b[0m\n\u001b[0;32m-> 3081\u001b[0;31m             \u001b[0;32mreturn\u001b[0m \u001b[0mobject\u001b[0m\u001b[0;34m.\u001b[0m\u001b[0m__getattribute__\u001b[0m\u001b[0;34m(\u001b[0m\u001b[0mself\u001b[0m\u001b[0;34m,\u001b[0m \u001b[0mname\u001b[0m\u001b[0;34m)\u001b[0m\u001b[0;34m\u001b[0m\u001b[0m\n\u001b[0m\u001b[1;32m   3082\u001b[0m \u001b[0;34m\u001b[0m\u001b[0m\n\u001b[1;32m   3083\u001b[0m     \u001b[0;32mdef\u001b[0m \u001b[0m__setattr__\u001b[0m\u001b[0;34m(\u001b[0m\u001b[0mself\u001b[0m\u001b[0;34m,\u001b[0m \u001b[0mname\u001b[0m\u001b[0;34m,\u001b[0m \u001b[0mvalue\u001b[0m\u001b[0;34m)\u001b[0m\u001b[0;34m:\u001b[0m\u001b[0;34m\u001b[0m\u001b[0m\n",
      "\u001b[0;31mAttributeError\u001b[0m: 'Series' object has no attribute 'info'"
     ]
    }
   ],
   "source": []
  },
  {
   "cell_type": "code",
   "execution_count": 7,
   "metadata": {},
   "outputs": [],
   "source": [
    "test_e = pd.read_csv('data/properati_dataset_testing_noprice.csv')\n",
    "test_e['precio_from_desc'] = test_e.description.apply(precio_from_desc)\n",
    "test_e['price_usd'] = pred\n",
    "test_e.loc[test_e.precio_from_desc.notnull() & (abs(100-test_e.precio_from_desc*100/test_e.price_usd) < 30),'price_usd'] = test_e['precio_from_desc']\n",
    "test_e = test_e.loc[:,['id','price_usd']]\n",
    "test_e.to_csv('Predicciones/XgBoost_2_b.csv', index = False)"
   ]
  },
  {
   "cell_type": "code",
   "execution_count": 8,
   "metadata": {
    "collapsed": true
   },
   "outputs": [],
   "source": [
    "test_e.to_csv('Predicciones/XgBoost_2_b.csv', index = False)"
   ]
  },
  {
   "cell_type": "code",
   "execution_count": 156,
   "metadata": {},
   "outputs": [
    {
     "name": "stdout",
     "output_type": "stream",
     "text": [
      "<class 'pandas.core.frame.DataFrame'>\n",
      "RangeIndex: 14166 entries, 0 to 14165\n",
      "Data columns (total 2 columns):\n",
      "id           14166 non-null int64\n",
      "price_usd    14166 non-null float32\n",
      "dtypes: float32(1), int64(1)\n",
      "memory usage: 166.1 KB\n"
     ]
    }
   ],
   "source": [
    "test_e.info()"
   ]
  },
  {
   "cell_type": "code",
   "execution_count": 197,
   "metadata": {
    "collapsed": true
   },
   "outputs": [],
   "source": [
    "test_e = pd.read_csv('data/properati_dataset_testing_noprice.csv')"
   ]
  },
  {
   "cell_type": "code",
   "execution_count": 175,
   "metadata": {},
   "outputs": [
    {
     "data": {
      "text/plain": [
       "'                AMBIENTE DIVISIBLE CON PISOS DE PORCELANATO NATURAL CON ZÓCALOS DE MADERA COLOR WENGUE- AMPLIO BAÑO COMPLETO REVESTIDO CON CERÁMICA SAN LORENZO COLOR ARENA Y GUARDAS DE VENECITAS- ARTEFACTOS SANITARIOS Y GRIFERÍAS SERÁN DE MARCAS DE PRIMERA LÍNEA (ROCA, GENEBRE, FERRUM O SIMILAR)- PLACARD COMPLETO-COCINA CON MESADA DE GRANITO, MUEBLES BAJO Y SOBRE MESADA COMPLETOS-  COCINA CON HORNO Y ANAFE DE 4 HORNALLAS A GAS- PRE-INSTALACIÓN PARA EQUIPOS DE AIRE ACONDICIONADOAGUA CALIENTE CENTRAL-BALCÓN CON CONEXIÓN PARA LAVARROPAS- AMENITIES: SOLÁRIUM CON PARRILLA.ENTREGA SEPTIEMBRE 2018PRECIO DE CONTADO- CONSULTAR POR FINANCIACIÓN ADELANTO DE 35% Y CUOTAS CON AJUSTE CAC.COCHERAS OPCIONALES DESDE u$s20.000.-BAULERAS OPCIONALES u$S2.200.-CONSÚLTENOS- SUCURSAL PALERMO-             Excelencia en Servicios Inmobiliarios, desde 1972.'"
      ]
     },
     "execution_count": 175,
     "metadata": {},
     "output_type": "execute_result"
    }
   ],
   "source": [
    "test_e.iloc[5].description"
   ]
  },
  {
   "cell_type": "code",
   "execution_count": 206,
   "metadata": {
    "collapsed": true
   },
   "outputs": [],
   "source": [
    "test_e['precio_from_desc'] = test_e.description.apply(precio_from_desc)"
   ]
  },
  {
   "cell_type": "code",
   "execution_count": 207,
   "metadata": {},
   "outputs": [
    {
     "data": {
      "text/html": [
       "<div>\n",
       "<style>\n",
       "    .dataframe thead tr:only-child th {\n",
       "        text-align: right;\n",
       "    }\n",
       "\n",
       "    .dataframe thead th {\n",
       "        text-align: left;\n",
       "    }\n",
       "\n",
       "    .dataframe tbody tr th {\n",
       "        vertical-align: top;\n",
       "    }\n",
       "</style>\n",
       "<table border=\"1\" class=\"dataframe\">\n",
       "  <thead>\n",
       "    <tr style=\"text-align: right;\">\n",
       "      <th></th>\n",
       "      <th>id</th>\n",
       "      <th>created_on</th>\n",
       "      <th>property_type</th>\n",
       "      <th>operation</th>\n",
       "      <th>place_name</th>\n",
       "      <th>place_with_parent_names</th>\n",
       "      <th>country_name</th>\n",
       "      <th>state_name</th>\n",
       "      <th>lat-lon</th>\n",
       "      <th>lat</th>\n",
       "      <th>lon</th>\n",
       "      <th>surface_total_in_m2</th>\n",
       "      <th>surface_covered_in_m2</th>\n",
       "      <th>floor</th>\n",
       "      <th>rooms</th>\n",
       "      <th>expenses</th>\n",
       "      <th>description</th>\n",
       "      <th>precio_from_desc</th>\n",
       "    </tr>\n",
       "  </thead>\n",
       "  <tbody>\n",
       "    <tr>\n",
       "      <th>4638</th>\n",
       "      <td>2289157</td>\n",
       "      <td>2017-08-11</td>\n",
       "      <td>departamento</td>\n",
       "      <td>venta</td>\n",
       "      <td>Liniers</td>\n",
       "      <td>|Argentina|Capital Federal|Liniers|</td>\n",
       "      <td>Argentina</td>\n",
       "      <td>Capital Federal</td>\n",
       "      <td>-34.6427936,-58.5117661</td>\n",
       "      <td>-34.642794</td>\n",
       "      <td>-58.511766</td>\n",
       "      <td>55.0</td>\n",
       "      <td>50.0</td>\n",
       "      <td>NaN</td>\n",
       "      <td>3.0</td>\n",
       "      <td>NaN</td>\n",
       "      <td>Se ofrecen a la venta dos unidades de tres amb...</td>\n",
       "      <td>125.0</td>\n",
       "    </tr>\n",
       "    <tr>\n",
       "      <th>1572</th>\n",
       "      <td>2273266</td>\n",
       "      <td>2017-08-05</td>\n",
       "      <td>departamento</td>\n",
       "      <td>venta</td>\n",
       "      <td>Flores</td>\n",
       "      <td>|Argentina|Capital Federal|Flores|</td>\n",
       "      <td>Argentina</td>\n",
       "      <td>Capital Federal</td>\n",
       "      <td>-34.618926,-58.461959</td>\n",
       "      <td>-34.618926</td>\n",
       "      <td>-58.461959</td>\n",
       "      <td>176.0</td>\n",
       "      <td>157.0</td>\n",
       "      <td>NaN</td>\n",
       "      <td>5.0</td>\n",
       "      <td>NaN</td>\n",
       "      <td>Corredor Responsable: Rebeca Stern - C.U.C.I.C...</td>\n",
       "      <td>147.0</td>\n",
       "    </tr>\n",
       "    <tr>\n",
       "      <th>4653</th>\n",
       "      <td>2289184</td>\n",
       "      <td>2017-08-11</td>\n",
       "      <td>departamento</td>\n",
       "      <td>venta</td>\n",
       "      <td>Liniers</td>\n",
       "      <td>|Argentina|Capital Federal|Liniers|</td>\n",
       "      <td>Argentina</td>\n",
       "      <td>Capital Federal</td>\n",
       "      <td>-34.6505806,-58.5182644</td>\n",
       "      <td>-34.650581</td>\n",
       "      <td>-58.518264</td>\n",
       "      <td>100.0</td>\n",
       "      <td>84.0</td>\n",
       "      <td>NaN</td>\n",
       "      <td>3.0</td>\n",
       "      <td>NaN</td>\n",
       "      <td>PRIMER PISO -3amb. Al frente 100m2 totales U$S...</td>\n",
       "      <td>250.0</td>\n",
       "    </tr>\n",
       "    <tr>\n",
       "      <th>829</th>\n",
       "      <td>2268333</td>\n",
       "      <td>2017-08-02</td>\n",
       "      <td>departamento</td>\n",
       "      <td>venta</td>\n",
       "      <td>Palermo Soho</td>\n",
       "      <td>|Argentina|Capital Federal|Palermo|Palermo Soho|</td>\n",
       "      <td>Argentina</td>\n",
       "      <td>Capital Federal</td>\n",
       "      <td>-34.5854083675,-58.4269523302</td>\n",
       "      <td>-34.585408</td>\n",
       "      <td>-58.426952</td>\n",
       "      <td>91.0</td>\n",
       "      <td>70.0</td>\n",
       "      <td>NaN</td>\n",
       "      <td>NaN</td>\n",
       "      <td>5500</td>\n",
       "      <td>VENTA DEPARTAMENTO DE 3 AMBIENTES EN PALERO CO...</td>\n",
       "      <td>265.0</td>\n",
       "    </tr>\n",
       "    <tr>\n",
       "      <th>821</th>\n",
       "      <td>2268312</td>\n",
       "      <td>2017-08-02</td>\n",
       "      <td>departamento</td>\n",
       "      <td>venta</td>\n",
       "      <td>Palermo Soho</td>\n",
       "      <td>|Argentina|Capital Federal|Palermo|Palermo Soho|</td>\n",
       "      <td>Argentina</td>\n",
       "      <td>Capital Federal</td>\n",
       "      <td>-34.5901346135,-58.43209812</td>\n",
       "      <td>-34.590135</td>\n",
       "      <td>-58.432098</td>\n",
       "      <td>104.0</td>\n",
       "      <td>73.0</td>\n",
       "      <td>NaN</td>\n",
       "      <td>NaN</td>\n",
       "      <td>NaN</td>\n",
       "      <td>VENTA DEPARTAMENTO 3 AMBIENTES EN PALERMO SOHO...</td>\n",
       "      <td>315.0</td>\n",
       "    </tr>\n",
       "    <tr>\n",
       "      <th>2531</th>\n",
       "      <td>2279130</td>\n",
       "      <td>2017-08-09</td>\n",
       "      <td>departamento</td>\n",
       "      <td>venta</td>\n",
       "      <td>San Cristobal</td>\n",
       "      <td>|Argentina|Capital Federal|San Cristobal|</td>\n",
       "      <td>Argentina</td>\n",
       "      <td>Capital Federal</td>\n",
       "      <td>-34.6237771,-58.4022249</td>\n",
       "      <td>-34.623777</td>\n",
       "      <td>-58.402225</td>\n",
       "      <td>52.0</td>\n",
       "      <td>52.0</td>\n",
       "      <td>13.0</td>\n",
       "      <td>1.0</td>\n",
       "      <td>NaN</td>\n",
       "      <td>Zona:Buena-Asfalto-Osn:Cloaca-Lavadero-Medidas...</td>\n",
       "      <td>350.0</td>\n",
       "    </tr>\n",
       "    <tr>\n",
       "      <th>2532</th>\n",
       "      <td>2279131</td>\n",
       "      <td>2017-08-09</td>\n",
       "      <td>departamento</td>\n",
       "      <td>venta</td>\n",
       "      <td>San Cristobal</td>\n",
       "      <td>|Argentina|Capital Federal|San Cristobal|</td>\n",
       "      <td>Argentina</td>\n",
       "      <td>Capital Federal</td>\n",
       "      <td>-34.6237771,-58.4022249</td>\n",
       "      <td>-34.623777</td>\n",
       "      <td>-58.402225</td>\n",
       "      <td>52.0</td>\n",
       "      <td>52.0</td>\n",
       "      <td>13.0</td>\n",
       "      <td>1.0</td>\n",
       "      <td>NaN</td>\n",
       "      <td>Zona:Buena-Asfalto-Osn:Cloaca-Lavadero-Medidas...</td>\n",
       "      <td>350.0</td>\n",
       "    </tr>\n",
       "    <tr>\n",
       "      <th>5026</th>\n",
       "      <td>2290737</td>\n",
       "      <td>2017-08-11</td>\n",
       "      <td>departamento</td>\n",
       "      <td>venta</td>\n",
       "      <td>Palermo Soho</td>\n",
       "      <td>|Argentina|Capital Federal|Palermo|Palermo Soho|</td>\n",
       "      <td>Argentina</td>\n",
       "      <td>Capital Federal</td>\n",
       "      <td>-34.5900996057,-58.4302024449</td>\n",
       "      <td>-34.590100</td>\n",
       "      <td>-58.430202</td>\n",
       "      <td>160.0</td>\n",
       "      <td>130.0</td>\n",
       "      <td>NaN</td>\n",
       "      <td>NaN</td>\n",
       "      <td>4000</td>\n",
       "      <td>VENTA DUPLEX 4 AMBIENTES EN PALERMO SOHO / CON...</td>\n",
       "      <td>410.0</td>\n",
       "    </tr>\n",
       "    <tr>\n",
       "      <th>12185</th>\n",
       "      <td>2183588</td>\n",
       "      <td>2017-08-01</td>\n",
       "      <td>casa</td>\n",
       "      <td>venta</td>\n",
       "      <td>Lomas de Zamora</td>\n",
       "      <td>|Argentina|Bs.As. G.B.A. Zona Sur|Lomas de Zam...</td>\n",
       "      <td>Argentina</td>\n",
       "      <td>Bs.As. G.B.A. Zona Sur</td>\n",
       "      <td>-34.7722138,-58.4309831</td>\n",
       "      <td>-34.772214</td>\n",
       "      <td>-58.430983</td>\n",
       "      <td>385.0</td>\n",
       "      <td>190.0</td>\n",
       "      <td>NaN</td>\n",
       "      <td>NaN</td>\n",
       "      <td>NaN</td>\n",
       "      <td>Venta de Casa 5 AMBIENTES   CON COCHERA Y FOND...</td>\n",
       "      <td>418.0</td>\n",
       "    </tr>\n",
       "    <tr>\n",
       "      <th>7513</th>\n",
       "      <td>2304678</td>\n",
       "      <td>2017-08-17</td>\n",
       "      <td>casa</td>\n",
       "      <td>venta</td>\n",
       "      <td>Capital Federal</td>\n",
       "      <td>|Argentina|Capital Federal|</td>\n",
       "      <td>Argentina</td>\n",
       "      <td>Capital Federal</td>\n",
       "      <td>NaN</td>\n",
       "      <td>NaN</td>\n",
       "      <td>NaN</td>\n",
       "      <td>NaN</td>\n",
       "      <td>340.0</td>\n",
       "      <td>NaN</td>\n",
       "      <td>NaN</td>\n",
       "      <td>5000</td>\n",
       "      <td>USD 480 mil. o alquilo amueblado por dos años ...</td>\n",
       "      <td>480.0</td>\n",
       "    </tr>\n",
       "    <tr>\n",
       "      <th>14154</th>\n",
       "      <td>2245228</td>\n",
       "      <td>2017-08-20</td>\n",
       "      <td>casa</td>\n",
       "      <td>venta</td>\n",
       "      <td>Belgrano</td>\n",
       "      <td>|Argentina|Capital Federal|Belgrano|</td>\n",
       "      <td>Argentina</td>\n",
       "      <td>Capital Federal</td>\n",
       "      <td>-34.56867,-58.475239</td>\n",
       "      <td>-34.568670</td>\n",
       "      <td>-58.475239</td>\n",
       "      <td>475.0</td>\n",
       "      <td>373.0</td>\n",
       "      <td>NaN</td>\n",
       "      <td>9.0</td>\n",
       "      <td>NaN</td>\n",
       "      <td>Corredor Responsable: Franco Savone - CUCICBA ...</td>\n",
       "      <td>800.0</td>\n",
       "    </tr>\n",
       "    <tr>\n",
       "      <th>4703</th>\n",
       "      <td>2289415</td>\n",
       "      <td>2017-08-11</td>\n",
       "      <td>departamento</td>\n",
       "      <td>venta</td>\n",
       "      <td>Centro / Microcentro</td>\n",
       "      <td>|Argentina|Capital Federal|Centro / Microcentro|</td>\n",
       "      <td>Argentina</td>\n",
       "      <td>Capital Federal</td>\n",
       "      <td>-34.6079946436,-58.3849001059</td>\n",
       "      <td>-34.607995</td>\n",
       "      <td>-58.384900</td>\n",
       "      <td>138.0</td>\n",
       "      <td>128.0</td>\n",
       "      <td>NaN</td>\n",
       "      <td>4.0</td>\n",
       "      <td>NaN</td>\n",
       "      <td>Se trata de un departamento que consta de 3 am...</td>\n",
       "      <td>1546.0</td>\n",
       "    </tr>\n",
       "    <tr>\n",
       "      <th>2370</th>\n",
       "      <td>2277547</td>\n",
       "      <td>2017-08-09</td>\n",
       "      <td>departamento</td>\n",
       "      <td>venta</td>\n",
       "      <td>Villa Pueyrredón</td>\n",
       "      <td>|Argentina|Capital Federal|Villa Pueyrredón|</td>\n",
       "      <td>Argentina</td>\n",
       "      <td>Capital Federal</td>\n",
       "      <td>-34.5822896697,-58.4934811393</td>\n",
       "      <td>-34.582290</td>\n",
       "      <td>-58.493481</td>\n",
       "      <td>65.0</td>\n",
       "      <td>48.0</td>\n",
       "      <td>NaN</td>\n",
       "      <td>1.0</td>\n",
       "      <td>NaN</td>\n",
       "      <td>l edificio se encuentra situado en el barrio d...</td>\n",
       "      <td>1850.0</td>\n",
       "    </tr>\n",
       "    <tr>\n",
       "      <th>12204</th>\n",
       "      <td>2184140</td>\n",
       "      <td>2017-08-09</td>\n",
       "      <td>departamento</td>\n",
       "      <td>venta</td>\n",
       "      <td>Villa Pueyrredón</td>\n",
       "      <td>|Argentina|Capital Federal|Villa Pueyrredón|</td>\n",
       "      <td>Argentina</td>\n",
       "      <td>Capital Federal</td>\n",
       "      <td>-34.5822896697,-58.4934811393</td>\n",
       "      <td>-34.582290</td>\n",
       "      <td>-58.493481</td>\n",
       "      <td>77.0</td>\n",
       "      <td>69.0</td>\n",
       "      <td>NaN</td>\n",
       "      <td>2.0</td>\n",
       "      <td>NaN</td>\n",
       "      <td>l edificio se encuentra situado en el barrio d...</td>\n",
       "      <td>1850.0</td>\n",
       "    </tr>\n",
       "    <tr>\n",
       "      <th>12200</th>\n",
       "      <td>2184126</td>\n",
       "      <td>2017-08-09</td>\n",
       "      <td>departamento</td>\n",
       "      <td>venta</td>\n",
       "      <td>Villa Pueyrredón</td>\n",
       "      <td>|Argentina|Capital Federal|Villa Pueyrredón|</td>\n",
       "      <td>Argentina</td>\n",
       "      <td>Capital Federal</td>\n",
       "      <td>-34.5822896697,-58.4934811393</td>\n",
       "      <td>-34.582290</td>\n",
       "      <td>-58.493481</td>\n",
       "      <td>77.0</td>\n",
       "      <td>69.0</td>\n",
       "      <td>NaN</td>\n",
       "      <td>2.0</td>\n",
       "      <td>NaN</td>\n",
       "      <td>l edificio se encuentra situado en el barrio d...</td>\n",
       "      <td>1850.0</td>\n",
       "    </tr>\n",
       "    <tr>\n",
       "      <th>2195</th>\n",
       "      <td>2276351</td>\n",
       "      <td>2017-08-08</td>\n",
       "      <td>departamento</td>\n",
       "      <td>venta</td>\n",
       "      <td>Caballito</td>\n",
       "      <td>|Argentina|Capital Federal|Caballito|</td>\n",
       "      <td>Argentina</td>\n",
       "      <td>Capital Federal</td>\n",
       "      <td>-34.6265075842,-58.4567311821</td>\n",
       "      <td>-34.626508</td>\n",
       "      <td>-58.456731</td>\n",
       "      <td>40.0</td>\n",
       "      <td>37.0</td>\n",
       "      <td>NaN</td>\n",
       "      <td>2.0</td>\n",
       "      <td>NaN</td>\n",
       "      <td>Excelente Ubicación sobre una avenida doble ma...</td>\n",
       "      <td>2000.0</td>\n",
       "    </tr>\n",
       "    <tr>\n",
       "      <th>2196</th>\n",
       "      <td>2276352</td>\n",
       "      <td>2017-08-08</td>\n",
       "      <td>departamento</td>\n",
       "      <td>venta</td>\n",
       "      <td>Flores</td>\n",
       "      <td>|Argentina|Capital Federal|Flores|</td>\n",
       "      <td>Argentina</td>\n",
       "      <td>Capital Federal</td>\n",
       "      <td>-34.6263958606,-58.4568407185</td>\n",
       "      <td>-34.626396</td>\n",
       "      <td>-58.456841</td>\n",
       "      <td>40.0</td>\n",
       "      <td>37.0</td>\n",
       "      <td>NaN</td>\n",
       "      <td>2.0</td>\n",
       "      <td>NaN</td>\n",
       "      <td>Excelente Ubicación sobre una avenida doble ma...</td>\n",
       "      <td>2000.0</td>\n",
       "    </tr>\n",
       "    <tr>\n",
       "      <th>3821</th>\n",
       "      <td>2283786</td>\n",
       "      <td>2017-08-09</td>\n",
       "      <td>departamento</td>\n",
       "      <td>venta</td>\n",
       "      <td>Castelar</td>\n",
       "      <td>|Argentina|Bs.As. G.B.A. Zona Oeste|Morón|Cast...</td>\n",
       "      <td>Argentina</td>\n",
       "      <td>Bs.As. G.B.A. Zona Oeste</td>\n",
       "      <td>-34.65193558,-58.63937759</td>\n",
       "      <td>-34.651936</td>\n",
       "      <td>-58.639378</td>\n",
       "      <td>37.0</td>\n",
       "      <td>1.0</td>\n",
       "      <td>NaN</td>\n",
       "      <td>NaN</td>\n",
       "      <td>NaN</td>\n",
       "      <td>XINTEL(MSB-MSB-565) Monoambiente en pozo. Fina...</td>\n",
       "      <td>2100.0</td>\n",
       "    </tr>\n",
       "    <tr>\n",
       "      <th>10633</th>\n",
       "      <td>2325593</td>\n",
       "      <td>2017-08-26</td>\n",
       "      <td>departamento</td>\n",
       "      <td>venta</td>\n",
       "      <td>Morón</td>\n",
       "      <td>|Argentina|Bs.As. G.B.A. Zona Oeste|Morón|Morón|</td>\n",
       "      <td>Argentina</td>\n",
       "      <td>Bs.As. G.B.A. Zona Oeste</td>\n",
       "      <td>NaN</td>\n",
       "      <td>NaN</td>\n",
       "      <td>NaN</td>\n",
       "      <td>42.0</td>\n",
       "      <td>42.0</td>\n",
       "      <td>NaN</td>\n",
       "      <td>NaN</td>\n",
       "      <td>NaN</td>\n",
       "      <td>DEPARTAMENTOS DE DOS AMBIENTES  CON BALCON. -5...</td>\n",
       "      <td>3800.0</td>\n",
       "    </tr>\n",
       "    <tr>\n",
       "      <th>13883</th>\n",
       "      <td>2241354</td>\n",
       "      <td>2017-08-21</td>\n",
       "      <td>departamento</td>\n",
       "      <td>venta</td>\n",
       "      <td>Belgrano</td>\n",
       "      <td>|Argentina|Capital Federal|Belgrano|</td>\n",
       "      <td>Argentina</td>\n",
       "      <td>Capital Federal</td>\n",
       "      <td>-34.5635642,-58.4471495</td>\n",
       "      <td>-34.563564</td>\n",
       "      <td>-58.447150</td>\n",
       "      <td>175.0</td>\n",
       "      <td>165.0</td>\n",
       "      <td>NaN</td>\n",
       "      <td>4.0</td>\n",
       "      <td>NaN</td>\n",
       "      <td>11 de Septiembre 1600, 5ºSemipiso en la mejor ...</td>\n",
       "      <td>4100.0</td>\n",
       "    </tr>\n",
       "  </tbody>\n",
       "</table>\n",
       "</div>"
      ],
      "text/plain": [
       "            id  created_on property_type operation            place_name  \\\n",
       "4638   2289157  2017-08-11  departamento     venta               Liniers   \n",
       "1572   2273266  2017-08-05  departamento     venta                Flores   \n",
       "4653   2289184  2017-08-11  departamento     venta               Liniers   \n",
       "829    2268333  2017-08-02  departamento     venta          Palermo Soho   \n",
       "821    2268312  2017-08-02  departamento     venta          Palermo Soho   \n",
       "2531   2279130  2017-08-09  departamento     venta         San Cristobal   \n",
       "2532   2279131  2017-08-09  departamento     venta         San Cristobal   \n",
       "5026   2290737  2017-08-11  departamento     venta          Palermo Soho   \n",
       "12185  2183588  2017-08-01          casa     venta       Lomas de Zamora   \n",
       "7513   2304678  2017-08-17          casa     venta       Capital Federal   \n",
       "14154  2245228  2017-08-20          casa     venta              Belgrano   \n",
       "4703   2289415  2017-08-11  departamento     venta  Centro / Microcentro   \n",
       "2370   2277547  2017-08-09  departamento     venta      Villa Pueyrredón   \n",
       "12204  2184140  2017-08-09  departamento     venta      Villa Pueyrredón   \n",
       "12200  2184126  2017-08-09  departamento     venta      Villa Pueyrredón   \n",
       "2195   2276351  2017-08-08  departamento     venta             Caballito   \n",
       "2196   2276352  2017-08-08  departamento     venta                Flores   \n",
       "3821   2283786  2017-08-09  departamento     venta              Castelar   \n",
       "10633  2325593  2017-08-26  departamento     venta                 Morón   \n",
       "13883  2241354  2017-08-21  departamento     venta              Belgrano   \n",
       "\n",
       "                                 place_with_parent_names country_name  \\\n",
       "4638                 |Argentina|Capital Federal|Liniers|    Argentina   \n",
       "1572                  |Argentina|Capital Federal|Flores|    Argentina   \n",
       "4653                 |Argentina|Capital Federal|Liniers|    Argentina   \n",
       "829     |Argentina|Capital Federal|Palermo|Palermo Soho|    Argentina   \n",
       "821     |Argentina|Capital Federal|Palermo|Palermo Soho|    Argentina   \n",
       "2531           |Argentina|Capital Federal|San Cristobal|    Argentina   \n",
       "2532           |Argentina|Capital Federal|San Cristobal|    Argentina   \n",
       "5026    |Argentina|Capital Federal|Palermo|Palermo Soho|    Argentina   \n",
       "12185  |Argentina|Bs.As. G.B.A. Zona Sur|Lomas de Zam...    Argentina   \n",
       "7513                         |Argentina|Capital Federal|    Argentina   \n",
       "14154               |Argentina|Capital Federal|Belgrano|    Argentina   \n",
       "4703    |Argentina|Capital Federal|Centro / Microcentro|    Argentina   \n",
       "2370        |Argentina|Capital Federal|Villa Pueyrredón|    Argentina   \n",
       "12204       |Argentina|Capital Federal|Villa Pueyrredón|    Argentina   \n",
       "12200       |Argentina|Capital Federal|Villa Pueyrredón|    Argentina   \n",
       "2195               |Argentina|Capital Federal|Caballito|    Argentina   \n",
       "2196                  |Argentina|Capital Federal|Flores|    Argentina   \n",
       "3821   |Argentina|Bs.As. G.B.A. Zona Oeste|Morón|Cast...    Argentina   \n",
       "10633   |Argentina|Bs.As. G.B.A. Zona Oeste|Morón|Morón|    Argentina   \n",
       "13883               |Argentina|Capital Federal|Belgrano|    Argentina   \n",
       "\n",
       "                     state_name                        lat-lon        lat  \\\n",
       "4638            Capital Federal        -34.6427936,-58.5117661 -34.642794   \n",
       "1572            Capital Federal          -34.618926,-58.461959 -34.618926   \n",
       "4653            Capital Federal        -34.6505806,-58.5182644 -34.650581   \n",
       "829             Capital Federal  -34.5854083675,-58.4269523302 -34.585408   \n",
       "821             Capital Federal    -34.5901346135,-58.43209812 -34.590135   \n",
       "2531            Capital Federal        -34.6237771,-58.4022249 -34.623777   \n",
       "2532            Capital Federal        -34.6237771,-58.4022249 -34.623777   \n",
       "5026            Capital Federal  -34.5900996057,-58.4302024449 -34.590100   \n",
       "12185    Bs.As. G.B.A. Zona Sur        -34.7722138,-58.4309831 -34.772214   \n",
       "7513            Capital Federal                            NaN        NaN   \n",
       "14154           Capital Federal           -34.56867,-58.475239 -34.568670   \n",
       "4703            Capital Federal  -34.6079946436,-58.3849001059 -34.607995   \n",
       "2370            Capital Federal  -34.5822896697,-58.4934811393 -34.582290   \n",
       "12204           Capital Federal  -34.5822896697,-58.4934811393 -34.582290   \n",
       "12200           Capital Federal  -34.5822896697,-58.4934811393 -34.582290   \n",
       "2195            Capital Federal  -34.6265075842,-58.4567311821 -34.626508   \n",
       "2196            Capital Federal  -34.6263958606,-58.4568407185 -34.626396   \n",
       "3821   Bs.As. G.B.A. Zona Oeste      -34.65193558,-58.63937759 -34.651936   \n",
       "10633  Bs.As. G.B.A. Zona Oeste                            NaN        NaN   \n",
       "13883           Capital Federal        -34.5635642,-58.4471495 -34.563564   \n",
       "\n",
       "             lon  surface_total_in_m2  surface_covered_in_m2  floor  rooms  \\\n",
       "4638  -58.511766                 55.0                   50.0    NaN    3.0   \n",
       "1572  -58.461959                176.0                  157.0    NaN    5.0   \n",
       "4653  -58.518264                100.0                   84.0    NaN    3.0   \n",
       "829   -58.426952                 91.0                   70.0    NaN    NaN   \n",
       "821   -58.432098                104.0                   73.0    NaN    NaN   \n",
       "2531  -58.402225                 52.0                   52.0   13.0    1.0   \n",
       "2532  -58.402225                 52.0                   52.0   13.0    1.0   \n",
       "5026  -58.430202                160.0                  130.0    NaN    NaN   \n",
       "12185 -58.430983                385.0                  190.0    NaN    NaN   \n",
       "7513         NaN                  NaN                  340.0    NaN    NaN   \n",
       "14154 -58.475239                475.0                  373.0    NaN    9.0   \n",
       "4703  -58.384900                138.0                  128.0    NaN    4.0   \n",
       "2370  -58.493481                 65.0                   48.0    NaN    1.0   \n",
       "12204 -58.493481                 77.0                   69.0    NaN    2.0   \n",
       "12200 -58.493481                 77.0                   69.0    NaN    2.0   \n",
       "2195  -58.456731                 40.0                   37.0    NaN    2.0   \n",
       "2196  -58.456841                 40.0                   37.0    NaN    2.0   \n",
       "3821  -58.639378                 37.0                    1.0    NaN    NaN   \n",
       "10633        NaN                 42.0                   42.0    NaN    NaN   \n",
       "13883 -58.447150                175.0                  165.0    NaN    4.0   \n",
       "\n",
       "      expenses                                        description  \\\n",
       "4638       NaN  Se ofrecen a la venta dos unidades de tres amb...   \n",
       "1572       NaN  Corredor Responsable: Rebeca Stern - C.U.C.I.C...   \n",
       "4653       NaN  PRIMER PISO -3amb. Al frente 100m2 totales U$S...   \n",
       "829       5500  VENTA DEPARTAMENTO DE 3 AMBIENTES EN PALERO CO...   \n",
       "821        NaN  VENTA DEPARTAMENTO 3 AMBIENTES EN PALERMO SOHO...   \n",
       "2531       NaN  Zona:Buena-Asfalto-Osn:Cloaca-Lavadero-Medidas...   \n",
       "2532       NaN  Zona:Buena-Asfalto-Osn:Cloaca-Lavadero-Medidas...   \n",
       "5026      4000  VENTA DUPLEX 4 AMBIENTES EN PALERMO SOHO / CON...   \n",
       "12185      NaN  Venta de Casa 5 AMBIENTES   CON COCHERA Y FOND...   \n",
       "7513      5000  USD 480 mil. o alquilo amueblado por dos años ...   \n",
       "14154      NaN  Corredor Responsable: Franco Savone - CUCICBA ...   \n",
       "4703       NaN  Se trata de un departamento que consta de 3 am...   \n",
       "2370       NaN  l edificio se encuentra situado en el barrio d...   \n",
       "12204      NaN  l edificio se encuentra situado en el barrio d...   \n",
       "12200      NaN  l edificio se encuentra situado en el barrio d...   \n",
       "2195       NaN  Excelente Ubicación sobre una avenida doble ma...   \n",
       "2196       NaN  Excelente Ubicación sobre una avenida doble ma...   \n",
       "3821       NaN  XINTEL(MSB-MSB-565) Monoambiente en pozo. Fina...   \n",
       "10633      NaN  DEPARTAMENTOS DE DOS AMBIENTES  CON BALCON. -5...   \n",
       "13883      NaN  11 de Septiembre 1600, 5ºSemipiso en la mejor ...   \n",
       "\n",
       "       precio_from_desc  \n",
       "4638              125.0  \n",
       "1572              147.0  \n",
       "4653              250.0  \n",
       "829               265.0  \n",
       "821               315.0  \n",
       "2531              350.0  \n",
       "2532              350.0  \n",
       "5026              410.0  \n",
       "12185             418.0  \n",
       "7513              480.0  \n",
       "14154             800.0  \n",
       "4703             1546.0  \n",
       "2370             1850.0  \n",
       "12204            1850.0  \n",
       "12200            1850.0  \n",
       "2195             2000.0  \n",
       "2196             2000.0  \n",
       "3821             2100.0  \n",
       "10633            3800.0  \n",
       "13883            4100.0  "
      ]
     },
     "execution_count": 207,
     "metadata": {},
     "output_type": "execute_result"
    }
   ],
   "source": [
    "test_e.sort_values(by='precio_from_desc',ascending=True).head(20)"
   ]
  },
  {
   "cell_type": "code",
   "execution_count": 204,
   "metadata": {},
   "outputs": [
    {
     "data": {
      "text/plain": [
       "'Excelente departamento ubicado en lo mejor de Av. Del Libertador, Cuenta con Living comedor, con vista abierta, balcón corrido al frente . Sus tres dormitorios cuenta con balcón corrido (contrafrente) con vista al rio al igual que la cocina- comedor.Posee amplio lavadero , un baño completo y un toa Excelente luz natural, y vista.Cuenta con cochera fija, con capacidad para dos autos , mas baulera. Puerta Blindada en la entrada principal.Impecable y en lo mejor de Belgrano!!!- Se deja constancia que los m2 indicados son aproximados, al igual que las medidas parciales de los ambientes, y el valor consignado de expensas mensuales está sujeto a verificación y/o ajustes.Fotos de carácter no contractual -Consúltenos.'"
      ]
     },
     "execution_count": 204,
     "metadata": {},
     "output_type": "execute_result"
    }
   ],
   "source": [
    "test_e.iloc[89].description"
   ]
  },
  {
   "cell_type": "code",
   "execution_count": null,
   "metadata": {
    "collapsed": true
   },
   "outputs": [],
   "source": []
  }
 ],
 "metadata": {
  "kernelspec": {
   "display_name": "Python 3",
   "language": "python",
   "name": "python3"
  },
  "language_info": {
   "codemirror_mode": {
    "name": "ipython",
    "version": 3
   },
   "file_extension": ".py",
   "mimetype": "text/x-python",
   "name": "python",
   "nbconvert_exporter": "python",
   "pygments_lexer": "ipython3",
   "version": "3.5.2"
  }
 },
 "nbformat": 4,
 "nbformat_minor": 2
}
