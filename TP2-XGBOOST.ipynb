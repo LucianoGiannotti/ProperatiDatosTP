{
 "cells": [
  {
   "cell_type": "code",
   "execution_count": 1,
   "metadata": {
    "collapsed": true
   },
   "outputs": [],
   "source": [
    "import pandas as pd\n",
    "import numpy as np\n",
    "%matplotlib inline"
   ]
  },
  {
   "cell_type": "code",
   "execution_count": 2,
   "metadata": {
    "collapsed": true
   },
   "outputs": [],
   "source": [
    "data = pd.read_csv('data/data_update-2017-10.csv')"
   ]
  },
  {
   "cell_type": "code",
   "execution_count": 3,
   "metadata": {
    "collapsed": true
   },
   "outputs": [],
   "source": [
    "import unicodedata\n",
    "\n",
    "def elimina_tildes(s):\n",
    "    return ''.join((c for c in unicodedata.normalize('NFD', s) if unicodedata.category(c) != 'Mn'))\n",
    "\n",
    "def descripcion_token(x):\n",
    "    x = elimina_tildes(x)\n",
    "    words = ['parrilla','suite','cochera', 'placard', 'pileta', 'terraza',\\\n",
    "             'vestidor', 'patio', 'hall', 'servicio', 'muebles', 'balcon', 'jard','aire acondicionado', \\\n",
    "             'quincho', 'fondo', 'piscina', 'garage', 'parque', 'estrenar', \\\n",
    "             'galer', 'dependencia', 'buena','calefaccion','radiante', 'seguridad', \\\n",
    "             'chalet','gimnasio','vista']\n",
    "    result = ''\n",
    "    for word in words:\n",
    "        if word in x:\n",
    "            result += '|' + word\n",
    "    return result\n",
    "def place_name_from_parent(x): ## Segun vi el 3 item del place es generalmente el lugar\n",
    "    list = x.split('|')\n",
    "    if(len(list) < 5):\n",
    "        return np.nan\n",
    "    else:\n",
    "        return list[3]\n",
    "    \n",
    "def rescatar_barrios_no_oficiales(x):\n",
    "    if x == 'Once':\n",
    "        return (\"Balvanera\")\n",
    "    elif x == 'Bajo Belgrano':\n",
    "        return (\"Belgrano\")\n",
    "    elif x == 'Alto Palermo':\n",
    "        return (\"Palermo\")\n",
    "    elif x == 'Tribunales':\n",
    "        return (\"San Nicolás\")\n",
    "    elif x == 'Las Cañitas':\n",
    "        return(\"Palermo\")\n",
    "    elif x == 'Capital Federal':\n",
    "        return(np.nan)\n",
    "    else:\n",
    "        return x\n",
    "    \n",
    "def recuperar_cant_amb(x):\n",
    "    \"Recupera el dato amb en x (puede ser la descripcion o el titulo)\"\n",
    "    try:\n",
    "        pos = 0\n",
    "        x = x.lower()\n",
    "        if \"ambientes\" in x:\n",
    "            pos = x.rfind(\"ambientes\")\n",
    "        elif \"amb\" in x:\n",
    "            pos = x.rfind(\"amb\")\n",
    "        if pos != 0:\n",
    "            try:\n",
    "                return (np.float64(x[pos -2]))\n",
    "            except ValueError:\n",
    "                if (\"dos amb\" in x) or (\"dos ambientes\" in x):\n",
    "                    return 2.0\n",
    "                elif (\"tres amb\" in x) or (\"tres ambientes\" in x):\n",
    "                    return 3.0\n",
    "                elif (\"cuatro amb\" in x) or (\"cuatro ambientes\" in x):\n",
    "                    return 4.0\n",
    "                elif (\"cinco amb\" in x) or (\"cinco ambientes\" in x):\n",
    "                    return 5.0\n",
    "                elif (\"seis amb\" in x) or (\"seis ambientes\" in x):\n",
    "                    return 6.0\n",
    "                return np.nan\n",
    "    except AttributeError:\n",
    "        return None\n"
   ]
  },
  {
   "cell_type": "code",
   "execution_count": 4,
   "metadata": {
    "collapsed": true
   },
   "outputs": [],
   "source": [
    "data.loc[:,'place_name'] = data.place_with_parent_names.apply(place_name_from_parent) ## esto quita muchos problemas \n",
    "                                                                                    ## de place name como nombres de country\n",
    "                                                                                    ## o palermo soho\n",
    "data.loc[data.description.notnull(),'description'] = data.loc[data.description.notnull(),'description'].apply(descripcion_token)"
   ]
  },
  {
   "cell_type": "code",
   "execution_count": 5,
   "metadata": {
    "collapsed": true
   },
   "outputs": [],
   "source": [
    "data.loc[:,'place_name'] = data.place_name.apply(rescatar_barrios_no_oficiales)\n",
    "data['created_on'] = pd.to_datetime(data['created_on']) ## conversion de tipo\n",
    "data['month'] = data.created_on.apply(lambda x: x.month)\n",
    "data['year'] = data.created_on.apply(lambda x: x.year)\n",
    "data['day'] = data.created_on.apply(lambda x: x.day)"
   ]
  },
  {
   "cell_type": "code",
   "execution_count": 7,
   "metadata": {},
   "outputs": [],
   "source": [
    "data = data[~data.property_type.str.contains('store')]"
   ]
  },
  {
   "cell_type": "code",
   "execution_count": 8,
   "metadata": {
    "collapsed": true
   },
   "outputs": [],
   "source": [
    "data.dropna(axis=0,subset=['price_aprox_usd'],inplace=True) ## drop de los datos sin precio\n",
    "data = data.loc[data['price_aprox_usd'] > 0,:]"
   ]
  },
  {
   "cell_type": "code",
   "execution_count": 9,
   "metadata": {
    "collapsed": true
   },
   "outputs": [],
   "source": [
    "data.loc[data.rooms.isnull(),'rooms'] = data.description.apply(recuperar_cant_amb)\n",
    "data.loc[data.rooms.isnull(),'rooms'] = data.title.apply(recuperar_cant_amb)\n",
    "data.loc[data.surface_total_in_m2.isnull(),'surface_total_in_m2'] = data.surface_covered_in_m2"
   ]
  },
  {
   "cell_type": "code",
   "execution_count": 10,
   "metadata": {},
   "outputs": [
    {
     "name": "stdout",
     "output_type": "stream",
     "text": [
      "<class 'pandas.core.frame.DataFrame'>\n",
      "Int64Index: 276246 entries, 0 to 317037\n",
      "Data columns (total 26 columns):\n",
      "id                            276246 non-null object\n",
      "created_on                    276246 non-null datetime64[ns]\n",
      "property_type                 276246 non-null object\n",
      "place_name                    270199 non-null object\n",
      "place_with_parent_names       276246 non-null object\n",
      "state_name                    276246 non-null object\n",
      "geonames_id                   217095 non-null float64\n",
      "lat-lon                       196422 non-null object\n",
      "lat                           196422 non-null float64\n",
      "lon                           196422 non-null float64\n",
      "price                         276246 non-null float64\n",
      "currency                      276246 non-null object\n",
      "price_aprox_local_currency    276246 non-null float64\n",
      "price_aprox_usd               276246 non-null float64\n",
      "surface_total_in_m2           258993 non-null float64\n",
      "surface_covered_in_m2         250068 non-null float64\n",
      "price_usd_per_m2              195560 non-null float64\n",
      "price_per_m2                  247114 non-null float64\n",
      "floor                         36446 non-null float64\n",
      "rooms                         167932 non-null float64\n",
      "expenses                      35507 non-null float64\n",
      "description                   276232 non-null object\n",
      "title                         276246 non-null object\n",
      "month                         276246 non-null int64\n",
      "year                          276246 non-null int64\n",
      "day                           276246 non-null int64\n",
      "dtypes: datetime64[ns](1), float64(13), int64(3), object(9)\n",
      "memory usage: 66.9+ MB\n"
     ]
    }
   ],
   "source": [
    "data.info()"
   ]
  },
  {
   "cell_type": "code",
   "execution_count": 11,
   "metadata": {},
   "outputs": [
    {
     "data": {
      "text/html": [
       "<div>\n",
       "<style>\n",
       "    .dataframe thead tr:only-child th {\n",
       "        text-align: right;\n",
       "    }\n",
       "\n",
       "    .dataframe thead th {\n",
       "        text-align: left;\n",
       "    }\n",
       "\n",
       "    .dataframe tbody tr th {\n",
       "        vertical-align: top;\n",
       "    }\n",
       "</style>\n",
       "<table border=\"1\" class=\"dataframe\">\n",
       "  <thead>\n",
       "    <tr style=\"text-align: right;\">\n",
       "      <th></th>\n",
       "      <th>geonames_id</th>\n",
       "      <th>lat</th>\n",
       "      <th>lon</th>\n",
       "      <th>price</th>\n",
       "      <th>price_aprox_local_currency</th>\n",
       "      <th>price_aprox_usd</th>\n",
       "      <th>surface_total_in_m2</th>\n",
       "      <th>surface_covered_in_m2</th>\n",
       "      <th>price_usd_per_m2</th>\n",
       "      <th>price_per_m2</th>\n",
       "      <th>floor</th>\n",
       "      <th>rooms</th>\n",
       "      <th>expenses</th>\n",
       "      <th>month</th>\n",
       "      <th>year</th>\n",
       "      <th>day</th>\n",
       "    </tr>\n",
       "  </thead>\n",
       "  <tbody>\n",
       "    <tr>\n",
       "      <th>count</th>\n",
       "      <td>2.170950e+05</td>\n",
       "      <td>196422.000000</td>\n",
       "      <td>196422.000000</td>\n",
       "      <td>2.762460e+05</td>\n",
       "      <td>2.762460e+05</td>\n",
       "      <td>2.762460e+05</td>\n",
       "      <td>2.589930e+05</td>\n",
       "      <td>2.500680e+05</td>\n",
       "      <td>1.955600e+05</td>\n",
       "      <td>2.471140e+05</td>\n",
       "      <td>36446.000000</td>\n",
       "      <td>167932.000000</td>\n",
       "      <td>3.550700e+04</td>\n",
       "      <td>276246.000000</td>\n",
       "      <td>276246.000000</td>\n",
       "      <td>276246.000000</td>\n",
       "    </tr>\n",
       "    <tr>\n",
       "      <th>mean</th>\n",
       "      <td>3.495914e+06</td>\n",
       "      <td>-34.556873</td>\n",
       "      <td>-58.528887</td>\n",
       "      <td>3.284376e+05</td>\n",
       "      <td>4.170989e+06</td>\n",
       "      <td>2.489405e+05</td>\n",
       "      <td>7.979799e+03</td>\n",
       "      <td>8.169750e+03</td>\n",
       "      <td>1.990728e+03</td>\n",
       "      <td>4.309546e+03</td>\n",
       "      <td>14.535669</td>\n",
       "      <td>2.933175</td>\n",
       "      <td>3.724319e+03</td>\n",
       "      <td>6.419155</td>\n",
       "      <td>2016.227898</td>\n",
       "      <td>17.471515</td>\n",
       "    </tr>\n",
       "    <tr>\n",
       "      <th>std</th>\n",
       "      <td>4.349440e+05</td>\n",
       "      <td>1.365496</td>\n",
       "      <td>1.036649</td>\n",
       "      <td>6.557548e+05</td>\n",
       "      <td>5.579327e+06</td>\n",
       "      <td>3.326170e+05</td>\n",
       "      <td>3.929949e+06</td>\n",
       "      <td>3.999465e+06</td>\n",
       "      <td>4.637115e+03</td>\n",
       "      <td>1.564181e+04</td>\n",
       "      <td>105.672435</td>\n",
       "      <td>1.449115</td>\n",
       "      <td>7.538346e+04</td>\n",
       "      <td>2.820344</td>\n",
       "      <td>0.903801</td>\n",
       "      <td>8.623244</td>\n",
       "    </tr>\n",
       "    <tr>\n",
       "      <th>min</th>\n",
       "      <td>3.427208e+06</td>\n",
       "      <td>-51.626650</td>\n",
       "      <td>-122.419415</td>\n",
       "      <td>5.000000e+03</td>\n",
       "      <td>4.757708e+04</td>\n",
       "      <td>2.754180e+03</td>\n",
       "      <td>0.000000e+00</td>\n",
       "      <td>0.000000e+00</td>\n",
       "      <td>8.000000e-02</td>\n",
       "      <td>5.000000e-05</td>\n",
       "      <td>1.000000</td>\n",
       "      <td>0.000000</td>\n",
       "      <td>1.000000e+00</td>\n",
       "      <td>1.000000</td>\n",
       "      <td>2012.000000</td>\n",
       "      <td>1.000000</td>\n",
       "    </tr>\n",
       "    <tr>\n",
       "      <th>25%</th>\n",
       "      <td>3.429595e+06</td>\n",
       "      <td>-34.629130</td>\n",
       "      <td>-58.579659</td>\n",
       "      <td>1.050000e+05</td>\n",
       "      <td>1.660724e+06</td>\n",
       "      <td>9.900000e+04</td>\n",
       "      <td>4.800000e+01</td>\n",
       "      <td>4.600000e+01</td>\n",
       "      <td>1.122800e+03</td>\n",
       "      <td>1.533333e+03</td>\n",
       "      <td>2.000000</td>\n",
       "      <td>2.000000</td>\n",
       "      <td>1.000000e+03</td>\n",
       "      <td>4.000000</td>\n",
       "      <td>2016.000000</td>\n",
       "      <td>10.000000</td>\n",
       "    </tr>\n",
       "    <tr>\n",
       "      <th>50%</th>\n",
       "      <td>3.430786e+06</td>\n",
       "      <td>-34.591772</td>\n",
       "      <td>-58.482191</td>\n",
       "      <td>1.700000e+05</td>\n",
       "      <td>2.677548e+06</td>\n",
       "      <td>1.600000e+05</td>\n",
       "      <td>8.300000e+01</td>\n",
       "      <td>7.600000e+01</td>\n",
       "      <td>1.784906e+03</td>\n",
       "      <td>2.094118e+03</td>\n",
       "      <td>3.000000</td>\n",
       "      <td>3.000000</td>\n",
       "      <td>1.900000e+03</td>\n",
       "      <td>7.000000</td>\n",
       "      <td>2017.000000</td>\n",
       "      <td>19.000000</td>\n",
       "    </tr>\n",
       "    <tr>\n",
       "      <th>75%</th>\n",
       "      <td>3.435719e+06</td>\n",
       "      <td>-34.515628</td>\n",
       "      <td>-58.418655</td>\n",
       "      <td>3.200000e+05</td>\n",
       "      <td>4.758613e+06</td>\n",
       "      <td>2.830000e+05</td>\n",
       "      <td>2.000000e+02</td>\n",
       "      <td>1.600000e+02</td>\n",
       "      <td>2.442308e+03</td>\n",
       "      <td>2.884615e+03</td>\n",
       "      <td>6.000000</td>\n",
       "      <td>4.000000</td>\n",
       "      <td>3.883500e+03</td>\n",
       "      <td>8.000000</td>\n",
       "      <td>2017.000000</td>\n",
       "      <td>24.000000</td>\n",
       "    </tr>\n",
       "    <tr>\n",
       "      <th>max</th>\n",
       "      <td>6.693230e+06</td>\n",
       "      <td>52.619706</td>\n",
       "      <td>35.202660</td>\n",
       "      <td>1.234568e+08</td>\n",
       "      <td>7.460816e+08</td>\n",
       "      <td>4.654544e+07</td>\n",
       "      <td>2.000000e+09</td>\n",
       "      <td>2.000000e+09</td>\n",
       "      <td>1.271027e+06</td>\n",
       "      <td>2.600000e+06</td>\n",
       "      <td>7071.000000</td>\n",
       "      <td>40.000000</td>\n",
       "      <td>1.000150e+07</td>\n",
       "      <td>12.000000</td>\n",
       "      <td>2017.000000</td>\n",
       "      <td>31.000000</td>\n",
       "    </tr>\n",
       "  </tbody>\n",
       "</table>\n",
       "</div>"
      ],
      "text/plain": [
       "        geonames_id            lat            lon         price  \\\n",
       "count  2.170950e+05  196422.000000  196422.000000  2.762460e+05   \n",
       "mean   3.495914e+06     -34.556873     -58.528887  3.284376e+05   \n",
       "std    4.349440e+05       1.365496       1.036649  6.557548e+05   \n",
       "min    3.427208e+06     -51.626650    -122.419415  5.000000e+03   \n",
       "25%    3.429595e+06     -34.629130     -58.579659  1.050000e+05   \n",
       "50%    3.430786e+06     -34.591772     -58.482191  1.700000e+05   \n",
       "75%    3.435719e+06     -34.515628     -58.418655  3.200000e+05   \n",
       "max    6.693230e+06      52.619706      35.202660  1.234568e+08   \n",
       "\n",
       "       price_aprox_local_currency  price_aprox_usd  surface_total_in_m2  \\\n",
       "count                2.762460e+05     2.762460e+05         2.589930e+05   \n",
       "mean                 4.170989e+06     2.489405e+05         7.979799e+03   \n",
       "std                  5.579327e+06     3.326170e+05         3.929949e+06   \n",
       "min                  4.757708e+04     2.754180e+03         0.000000e+00   \n",
       "25%                  1.660724e+06     9.900000e+04         4.800000e+01   \n",
       "50%                  2.677548e+06     1.600000e+05         8.300000e+01   \n",
       "75%                  4.758613e+06     2.830000e+05         2.000000e+02   \n",
       "max                  7.460816e+08     4.654544e+07         2.000000e+09   \n",
       "\n",
       "       surface_covered_in_m2  price_usd_per_m2  price_per_m2         floor  \\\n",
       "count           2.500680e+05      1.955600e+05  2.471140e+05  36446.000000   \n",
       "mean            8.169750e+03      1.990728e+03  4.309546e+03     14.535669   \n",
       "std             3.999465e+06      4.637115e+03  1.564181e+04    105.672435   \n",
       "min             0.000000e+00      8.000000e-02  5.000000e-05      1.000000   \n",
       "25%             4.600000e+01      1.122800e+03  1.533333e+03      2.000000   \n",
       "50%             7.600000e+01      1.784906e+03  2.094118e+03      3.000000   \n",
       "75%             1.600000e+02      2.442308e+03  2.884615e+03      6.000000   \n",
       "max             2.000000e+09      1.271027e+06  2.600000e+06   7071.000000   \n",
       "\n",
       "               rooms      expenses          month           year  \\\n",
       "count  167932.000000  3.550700e+04  276246.000000  276246.000000   \n",
       "mean        2.933175  3.724319e+03       6.419155    2016.227898   \n",
       "std         1.449115  7.538346e+04       2.820344       0.903801   \n",
       "min         0.000000  1.000000e+00       1.000000    2012.000000   \n",
       "25%         2.000000  1.000000e+03       4.000000    2016.000000   \n",
       "50%         3.000000  1.900000e+03       7.000000    2017.000000   \n",
       "75%         4.000000  3.883500e+03       8.000000    2017.000000   \n",
       "max        40.000000  1.000150e+07      12.000000    2017.000000   \n",
       "\n",
       "                 day  \n",
       "count  276246.000000  \n",
       "mean       17.471515  \n",
       "std         8.623244  \n",
       "min         1.000000  \n",
       "25%        10.000000  \n",
       "50%        19.000000  \n",
       "75%        24.000000  \n",
       "max        31.000000  "
      ]
     },
     "execution_count": 11,
     "metadata": {},
     "output_type": "execute_result"
    }
   ],
   "source": [
    "data.describe()"
   ]
  },
  {
   "cell_type": "code",
   "execution_count": 12,
   "metadata": {
    "collapsed": true
   },
   "outputs": [],
   "source": [
    "#Filtrar datos anomalos"
   ]
  },
  {
   "cell_type": "code",
   "execution_count": 13,
   "metadata": {
    "collapsed": true
   },
   "outputs": [],
   "source": [
    "# Nan para los datos faltantes es mejor que dropear todo el dato \n",
    "# Los nros estan masomenos pensados MASOMENOS JEJE\n",
    "data.loc[(data['surface_total_in_m2']>5000) | (data['surface_total_in_m2'] < 30),'surface_total_in_m2'] = np.nan\n",
    "data.loc[(data['surface_covered_in_m2']>5000),'surface_covered_in_m2'] = np.nan\n",
    "data.loc[data['floor']>30,'floor'] = np.nan\n",
    "data.loc[data['rooms']==0,'rooms'] = np.nan\n",
    "data.loc[data['rooms']>10,'rooms'] = np.nan\n",
    "data.loc[(data['lat']>-33) | (data['lat']<-36),['lat','lon','lat-lon']] = np.nan\n",
    "data.loc[(data['lon']>-57) | (data['lon']<-60),['lat','lon','lat-lon']] = np.nan\n",
    "data.loc[(data['expenses']>14000) | (data['expenses']<100),'expenses'] = np.nan"
   ]
  },
  {
   "cell_type": "code",
   "execution_count": 14,
   "metadata": {},
   "outputs": [
    {
     "data": {
      "text/html": [
       "<div>\n",
       "<style>\n",
       "    .dataframe thead tr:only-child th {\n",
       "        text-align: right;\n",
       "    }\n",
       "\n",
       "    .dataframe thead th {\n",
       "        text-align: left;\n",
       "    }\n",
       "\n",
       "    .dataframe tbody tr th {\n",
       "        vertical-align: top;\n",
       "    }\n",
       "</style>\n",
       "<table border=\"1\" class=\"dataframe\">\n",
       "  <thead>\n",
       "    <tr style=\"text-align: right;\">\n",
       "      <th></th>\n",
       "      <th>geonames_id</th>\n",
       "      <th>lat</th>\n",
       "      <th>lon</th>\n",
       "      <th>price</th>\n",
       "      <th>price_aprox_local_currency</th>\n",
       "      <th>price_aprox_usd</th>\n",
       "      <th>surface_total_in_m2</th>\n",
       "      <th>surface_covered_in_m2</th>\n",
       "      <th>price_usd_per_m2</th>\n",
       "      <th>price_per_m2</th>\n",
       "      <th>floor</th>\n",
       "      <th>rooms</th>\n",
       "      <th>expenses</th>\n",
       "      <th>month</th>\n",
       "      <th>year</th>\n",
       "      <th>day</th>\n",
       "    </tr>\n",
       "  </thead>\n",
       "  <tbody>\n",
       "    <tr>\n",
       "      <th>count</th>\n",
       "      <td>2.170950e+05</td>\n",
       "      <td>195758.000000</td>\n",
       "      <td>195758.000000</td>\n",
       "      <td>2.762460e+05</td>\n",
       "      <td>2.762460e+05</td>\n",
       "      <td>2.762460e+05</td>\n",
       "      <td>240175.000000</td>\n",
       "      <td>249962.000000</td>\n",
       "      <td>1.955600e+05</td>\n",
       "      <td>2.471140e+05</td>\n",
       "      <td>35669.000000</td>\n",
       "      <td>167762.000000</td>\n",
       "      <td>32626.000000</td>\n",
       "      <td>276246.000000</td>\n",
       "      <td>276246.000000</td>\n",
       "      <td>276246.000000</td>\n",
       "    </tr>\n",
       "    <tr>\n",
       "      <th>mean</th>\n",
       "      <td>3.495914e+06</td>\n",
       "      <td>-34.579944</td>\n",
       "      <td>-58.505984</td>\n",
       "      <td>3.284376e+05</td>\n",
       "      <td>4.170989e+06</td>\n",
       "      <td>2.489405e+05</td>\n",
       "      <td>200.638264</td>\n",
       "      <td>122.239956</td>\n",
       "      <td>1.990728e+03</td>\n",
       "      <td>4.309546e+03</td>\n",
       "      <td>4.443635</td>\n",
       "      <td>2.923201</td>\n",
       "      <td>2877.061914</td>\n",
       "      <td>6.419155</td>\n",
       "      <td>2016.227898</td>\n",
       "      <td>17.471515</td>\n",
       "    </tr>\n",
       "    <tr>\n",
       "      <th>std</th>\n",
       "      <td>4.349440e+05</td>\n",
       "      <td>0.111582</td>\n",
       "      <td>0.151836</td>\n",
       "      <td>6.557548e+05</td>\n",
       "      <td>5.579327e+06</td>\n",
       "      <td>3.326170e+05</td>\n",
       "      <td>312.046646</td>\n",
       "      <td>138.700313</td>\n",
       "      <td>4.637115e+03</td>\n",
       "      <td>1.564181e+04</td>\n",
       "      <td>3.846696</td>\n",
       "      <td>1.404890</td>\n",
       "      <td>2583.565785</td>\n",
       "      <td>2.820344</td>\n",
       "      <td>0.903801</td>\n",
       "      <td>8.623244</td>\n",
       "    </tr>\n",
       "    <tr>\n",
       "      <th>min</th>\n",
       "      <td>3.427208e+06</td>\n",
       "      <td>-35.765171</td>\n",
       "      <td>-59.664010</td>\n",
       "      <td>5.000000e+03</td>\n",
       "      <td>4.757708e+04</td>\n",
       "      <td>2.754180e+03</td>\n",
       "      <td>30.000000</td>\n",
       "      <td>0.000000</td>\n",
       "      <td>8.000000e-02</td>\n",
       "      <td>5.000000e-05</td>\n",
       "      <td>1.000000</td>\n",
       "      <td>1.000000</td>\n",
       "      <td>100.000000</td>\n",
       "      <td>1.000000</td>\n",
       "      <td>2012.000000</td>\n",
       "      <td>1.000000</td>\n",
       "    </tr>\n",
       "    <tr>\n",
       "      <th>25%</th>\n",
       "      <td>3.429595e+06</td>\n",
       "      <td>-34.628813</td>\n",
       "      <td>-58.579659</td>\n",
       "      <td>1.050000e+05</td>\n",
       "      <td>1.660724e+06</td>\n",
       "      <td>9.900000e+04</td>\n",
       "      <td>53.000000</td>\n",
       "      <td>46.000000</td>\n",
       "      <td>1.122800e+03</td>\n",
       "      <td>1.533333e+03</td>\n",
       "      <td>2.000000</td>\n",
       "      <td>2.000000</td>\n",
       "      <td>1100.000000</td>\n",
       "      <td>4.000000</td>\n",
       "      <td>2016.000000</td>\n",
       "      <td>10.000000</td>\n",
       "    </tr>\n",
       "    <tr>\n",
       "      <th>50%</th>\n",
       "      <td>3.430786e+06</td>\n",
       "      <td>-34.591734</td>\n",
       "      <td>-58.481808</td>\n",
       "      <td>1.700000e+05</td>\n",
       "      <td>2.677548e+06</td>\n",
       "      <td>1.600000e+05</td>\n",
       "      <td>92.000000</td>\n",
       "      <td>76.000000</td>\n",
       "      <td>1.784906e+03</td>\n",
       "      <td>2.094118e+03</td>\n",
       "      <td>3.000000</td>\n",
       "      <td>3.000000</td>\n",
       "      <td>2000.000000</td>\n",
       "      <td>7.000000</td>\n",
       "      <td>2017.000000</td>\n",
       "      <td>19.000000</td>\n",
       "    </tr>\n",
       "    <tr>\n",
       "      <th>75%</th>\n",
       "      <td>3.435719e+06</td>\n",
       "      <td>-34.516081</td>\n",
       "      <td>-58.418533</td>\n",
       "      <td>3.200000e+05</td>\n",
       "      <td>4.758613e+06</td>\n",
       "      <td>2.830000e+05</td>\n",
       "      <td>212.000000</td>\n",
       "      <td>160.000000</td>\n",
       "      <td>2.442308e+03</td>\n",
       "      <td>2.884615e+03</td>\n",
       "      <td>6.000000</td>\n",
       "      <td>4.000000</td>\n",
       "      <td>3900.000000</td>\n",
       "      <td>8.000000</td>\n",
       "      <td>2017.000000</td>\n",
       "      <td>24.000000</td>\n",
       "    </tr>\n",
       "    <tr>\n",
       "      <th>max</th>\n",
       "      <td>6.693230e+06</td>\n",
       "      <td>-33.677756</td>\n",
       "      <td>-57.848496</td>\n",
       "      <td>1.234568e+08</td>\n",
       "      <td>7.460816e+08</td>\n",
       "      <td>4.654544e+07</td>\n",
       "      <td>5000.000000</td>\n",
       "      <td>5000.000000</td>\n",
       "      <td>1.271027e+06</td>\n",
       "      <td>2.600000e+06</td>\n",
       "      <td>30.000000</td>\n",
       "      <td>10.000000</td>\n",
       "      <td>14000.000000</td>\n",
       "      <td>12.000000</td>\n",
       "      <td>2017.000000</td>\n",
       "      <td>31.000000</td>\n",
       "    </tr>\n",
       "  </tbody>\n",
       "</table>\n",
       "</div>"
      ],
      "text/plain": [
       "        geonames_id            lat            lon         price  \\\n",
       "count  2.170950e+05  195758.000000  195758.000000  2.762460e+05   \n",
       "mean   3.495914e+06     -34.579944     -58.505984  3.284376e+05   \n",
       "std    4.349440e+05       0.111582       0.151836  6.557548e+05   \n",
       "min    3.427208e+06     -35.765171     -59.664010  5.000000e+03   \n",
       "25%    3.429595e+06     -34.628813     -58.579659  1.050000e+05   \n",
       "50%    3.430786e+06     -34.591734     -58.481808  1.700000e+05   \n",
       "75%    3.435719e+06     -34.516081     -58.418533  3.200000e+05   \n",
       "max    6.693230e+06     -33.677756     -57.848496  1.234568e+08   \n",
       "\n",
       "       price_aprox_local_currency  price_aprox_usd  surface_total_in_m2  \\\n",
       "count                2.762460e+05     2.762460e+05        240175.000000   \n",
       "mean                 4.170989e+06     2.489405e+05           200.638264   \n",
       "std                  5.579327e+06     3.326170e+05           312.046646   \n",
       "min                  4.757708e+04     2.754180e+03            30.000000   \n",
       "25%                  1.660724e+06     9.900000e+04            53.000000   \n",
       "50%                  2.677548e+06     1.600000e+05            92.000000   \n",
       "75%                  4.758613e+06     2.830000e+05           212.000000   \n",
       "max                  7.460816e+08     4.654544e+07          5000.000000   \n",
       "\n",
       "       surface_covered_in_m2  price_usd_per_m2  price_per_m2         floor  \\\n",
       "count          249962.000000      1.955600e+05  2.471140e+05  35669.000000   \n",
       "mean              122.239956      1.990728e+03  4.309546e+03      4.443635   \n",
       "std               138.700313      4.637115e+03  1.564181e+04      3.846696   \n",
       "min                 0.000000      8.000000e-02  5.000000e-05      1.000000   \n",
       "25%                46.000000      1.122800e+03  1.533333e+03      2.000000   \n",
       "50%                76.000000      1.784906e+03  2.094118e+03      3.000000   \n",
       "75%               160.000000      2.442308e+03  2.884615e+03      6.000000   \n",
       "max              5000.000000      1.271027e+06  2.600000e+06     30.000000   \n",
       "\n",
       "               rooms      expenses          month           year  \\\n",
       "count  167762.000000  32626.000000  276246.000000  276246.000000   \n",
       "mean        2.923201   2877.061914       6.419155    2016.227898   \n",
       "std         1.404890   2583.565785       2.820344       0.903801   \n",
       "min         1.000000    100.000000       1.000000    2012.000000   \n",
       "25%         2.000000   1100.000000       4.000000    2016.000000   \n",
       "50%         3.000000   2000.000000       7.000000    2017.000000   \n",
       "75%         4.000000   3900.000000       8.000000    2017.000000   \n",
       "max        10.000000  14000.000000      12.000000    2017.000000   \n",
       "\n",
       "                 day  \n",
       "count  276246.000000  \n",
       "mean       17.471515  \n",
       "std         8.623244  \n",
       "min         1.000000  \n",
       "25%        10.000000  \n",
       "50%        19.000000  \n",
       "75%        24.000000  \n",
       "max        31.000000  "
      ]
     },
     "execution_count": 14,
     "metadata": {},
     "output_type": "execute_result"
    }
   ],
   "source": [
    "data.describe()"
   ]
  },
  {
   "cell_type": "code",
   "execution_count": 15,
   "metadata": {},
   "outputs": [
    {
     "name": "stdout",
     "output_type": "stream",
     "text": [
      "<class 'pandas.core.frame.DataFrame'>\n",
      "Int64Index: 276246 entries, 0 to 317037\n",
      "Data columns (total 26 columns):\n",
      "id                            276246 non-null object\n",
      "created_on                    276246 non-null datetime64[ns]\n",
      "property_type                 276246 non-null object\n",
      "place_name                    270199 non-null object\n",
      "place_with_parent_names       276246 non-null object\n",
      "state_name                    276246 non-null object\n",
      "geonames_id                   217095 non-null float64\n",
      "lat-lon                       195758 non-null object\n",
      "lat                           195758 non-null float64\n",
      "lon                           195758 non-null float64\n",
      "price                         276246 non-null float64\n",
      "currency                      276246 non-null object\n",
      "price_aprox_local_currency    276246 non-null float64\n",
      "price_aprox_usd               276246 non-null float64\n",
      "surface_total_in_m2           240175 non-null float64\n",
      "surface_covered_in_m2         249962 non-null float64\n",
      "price_usd_per_m2              195560 non-null float64\n",
      "price_per_m2                  247114 non-null float64\n",
      "floor                         35669 non-null float64\n",
      "rooms                         167762 non-null float64\n",
      "expenses                      32626 non-null float64\n",
      "description                   276232 non-null object\n",
      "title                         276246 non-null object\n",
      "month                         276246 non-null int64\n",
      "year                          276246 non-null int64\n",
      "day                           276246 non-null int64\n",
      "dtypes: datetime64[ns](1), float64(13), int64(3), object(9)\n",
      "memory usage: 66.9+ MB\n"
     ]
    }
   ],
   "source": [
    "data.info()"
   ]
  },
  {
   "cell_type": "code",
   "execution_count": 16,
   "metadata": {},
   "outputs": [
    {
     "name": "stdout",
     "output_type": "stream",
     "text": [
      "<class 'pandas.core.frame.DataFrame'>\n",
      "Int64Index: 276246 entries, 0 to 317037\n",
      "Data columns (total 15 columns):\n",
      "property_type            276246 non-null object\n",
      "place_name               270199 non-null object\n",
      "state_name               276246 non-null object\n",
      "lat                      195758 non-null float64\n",
      "lon                      195758 non-null float64\n",
      "price_aprox_usd          276246 non-null float64\n",
      "surface_total_in_m2      240175 non-null float64\n",
      "surface_covered_in_m2    249962 non-null float64\n",
      "floor                    35669 non-null float64\n",
      "rooms                    167762 non-null float64\n",
      "expenses                 32626 non-null float64\n",
      "description              276232 non-null object\n",
      "month                    276246 non-null int64\n",
      "year                     276246 non-null int64\n",
      "day                      276246 non-null int64\n",
      "dtypes: float64(8), int64(3), object(4)\n",
      "memory usage: 43.7+ MB\n"
     ]
    }
   ],
   "source": [
    "# Dropeo las columnas que no se usan porque el test no las tiene o no son necesarias\n",
    "data.drop(['price','price_usd_per_m2','price_per_m2','currency',\\\n",
    "          'id','created_on','geonames_id','lat-lon','price_aprox_local_currency',\\\n",
    "         'title','place_with_parent_names'], axis=1, inplace=True)\n",
    "data.info()"
   ]
  },
  {
   "cell_type": "code",
   "execution_count": 17,
   "metadata": {
    "collapsed": true
   },
   "outputs": [],
   "source": [
    "\n",
    "#test.drop(['id','created_on','lat-lon','description','country_name'], axis=1, inplace=True)\n",
    "data.dropna(thresh=9,inplace=True)"
   ]
  },
  {
   "cell_type": "code",
   "execution_count": 18,
   "metadata": {
    "collapsed": true
   },
   "outputs": [],
   "source": [
    "#Esto es importante, convierto los datos categoricos en numericos cada categoria una columna con 1 si true o 0 si false\n",
    "##https://stackoverflow.com/questions/34265102/xgboost-categorical-variables-dummification-vs-encoding\n",
    "##https://machinelearningmastery.com/data-preparation-gradient-boosting-xgboost-python/\n",
    "data = data.join(pd.get_dummies(data.property_type))\n",
    "data.drop('property_type',axis=1, inplace=True)\n",
    "data = data.join(data.description.str.get_dummies())\n",
    "data.drop('description',axis=1, inplace=True)\n",
    "data = data.join(pd.get_dummies(data.place_name))\n",
    "data.drop('place_name',axis=1, inplace=True)\n",
    "data = data.join(pd.get_dummies(data.state_name))\n",
    "data.drop('state_name',axis=1, inplace=True)"
   ]
  },
  {
   "cell_type": "code",
   "execution_count": 19,
   "metadata": {
    "collapsed": true
   },
   "outputs": [],
   "source": [
    "#####XGBOOST\n",
    "#https://github.com/dmlc/xgboost\n",
    "#https://xgboost.readthedocs.io/en/latest/build.html\n",
    "#https://www.analyticsvidhya.com/blog/2016/03/complete-guide-parameter-tuning-xgboost-with-codes-python/\n",
    "#https://www.slideshare.net/ShangxuanZhang/kaggle-winning-solution-xgboost-algorithm-let-us-learn-from-its-author\n"
   ]
  },
  {
   "cell_type": "code",
   "execution_count": 20,
   "metadata": {},
   "outputs": [
    {
     "name": "stderr",
     "output_type": "stream",
     "text": [
      "/usr/local/lib/python3.5/dist-packages/sklearn/cross_validation.py:41: DeprecationWarning: This module was deprecated in version 0.18 in favor of the model_selection module into which all the refactored classes and functions are moved. Also note that the interface of the new CV iterators are different from that of this module. This module will be removed in 0.20.\n",
      "  \"This module will be removed in 0.20.\", DeprecationWarning)\n"
     ]
    }
   ],
   "source": [
    "from sklearn.model_selection import RandomizedSearchCV, train_test_split\n",
    "from xgboost import XGBRegressor\n",
    "import scipy.stats as st\n",
    "\n",
    "from sklearn.metrics import mean_squared_error"
   ]
  },
  {
   "cell_type": "code",
   "execution_count": 21,
   "metadata": {
    "collapsed": true
   },
   "outputs": [],
   "source": [
    "#divide el set de datos en parte de entrenamiento y parte de test\n",
    "# no se puede usar el test bajado de kaggle porque no tiene el precio\n",
    "X = data.drop([\"price_aprox_usd\"], axis=1)\n",
    "Y = data[\"price_aprox_usd\"]"
   ]
  },
  {
   "cell_type": "code",
   "execution_count": null,
   "metadata": {
    "scrolled": false
   },
   "outputs": [
    {
     "name": "stdout",
     "output_type": "stream",
     "text": [
      "Fitting 5 folds for each of 5 candidates, totalling 25 fits\n",
      "[CV] reg_alpha=30, colsample_bytree=0.543588474172, learning_rate=0.054, min_child_weight=18, subsample=0.769593554173, n_estimators=200, max_depth=22, gamma=8.89260982914 \n",
      "[CV]  reg_alpha=30, colsample_bytree=0.543588474172, learning_rate=0.054, min_child_weight=18, subsample=0.769593554173, n_estimators=200, max_depth=22, gamma=8.89260982914, score=0.4605217958118738, total=10.3min\n",
      "[CV] reg_alpha=30, colsample_bytree=0.543588474172, learning_rate=0.054, min_child_weight=18, subsample=0.769593554173, n_estimators=200, max_depth=22, gamma=8.89260982914 \n"
     ]
    },
    {
     "name": "stderr",
     "output_type": "stream",
     "text": [
      "[Parallel(n_jobs=1)]: Done   1 out of   1 | elapsed: 11.1min remaining:    0.0s\n"
     ]
    },
    {
     "name": "stdout",
     "output_type": "stream",
     "text": [
      "[CV]  reg_alpha=30, colsample_bytree=0.543588474172, learning_rate=0.054, min_child_weight=18, subsample=0.769593554173, n_estimators=200, max_depth=22, gamma=8.89260982914, score=0.6918540954553748, total= 8.9min\n",
      "[CV] reg_alpha=30, colsample_bytree=0.543588474172, learning_rate=0.054, min_child_weight=18, subsample=0.769593554173, n_estimators=200, max_depth=22, gamma=8.89260982914 \n"
     ]
    },
    {
     "name": "stderr",
     "output_type": "stream",
     "text": [
      "[Parallel(n_jobs=1)]: Done   2 out of   2 | elapsed: 20.6min remaining:    0.0s\n"
     ]
    }
   ],
   "source": [
    "## Random search de hiperparametros y entrenamiento del algoritmo, \n",
    "## cuando termina tira dos scores (no se cual es mejor) y los mejores hiperparametros que dieron esos scores\n",
    "## ES LA PARTE QUE TARDA\n",
    "#http://danielhnyk.cz/how-to-use-xgboost-in-python/\n",
    "one_to_left = st.beta(10, 1)  \n",
    "from_zero_positive = st.expon(0, 50)\n",
    "\n",
    "params = {  \n",
    "    \"n_estimators\": [200],#nros random desde a hasta b\n",
    "    \"max_depth\": st.randint(20, 30),\n",
    "    \"learning_rate\": [0.054], # nros random de una distribucion uniforme entre a y a+b\n",
    "    \"colsample_bytree\": st.uniform(0.5,0.3), \n",
    "    \"subsample\": st.uniform(0.5,0.3), \n",
    "    \"gamma\": st.uniform(8.5, 1),\n",
    "    'reg_alpha': [20,25,30,35,40],\n",
    "    \"min_child_weight\": [15,18,20,22,25]\n",
    "}\n",
    "\n",
    "xgb = XGBRegressor(nthread=2) \n",
    "\n",
    "grid = RandomizedSearchCV(xgb, params, n_jobs=1,n_iter=5,verbose=10,cv=5) # n_iters es la cant de veces que busca, 10 es lo default\n",
    "grid.fit(X, Y, eval_metric=\"rmse\")"
   ]
  },
  {
   "cell_type": "code",
   "execution_count": null,
   "metadata": {
    "collapsed": true
   },
   "outputs": [],
   "source": [
    "print(grid.best_score_)\n",
    "#print(grid.best_estimator_)\n",
    "print(grid.best_params_)\n",
    "#print(grid.cv_results_)"
   ]
  },
  {
   "cell_type": "code",
   "execution_count": 24,
   "metadata": {},
   "outputs": [
    {
     "data": {
      "text/plain": [
       "XGBRegressor(base_score=0.5, colsample_bylevel=1, colsample_bytree=0.98,\n",
       "       gamma=9.33, learning_rate=0.055, max_delta_step=0, max_depth=22,\n",
       "       min_child_weight=20, missing=None, n_estimators=200, nthread=2,\n",
       "       objective='reg:linear', reg_alpha=30, reg_lambda=1,\n",
       "       scale_pos_weight=1, seed=0, silent=True, subsample=0.96)"
      ]
     },
     "execution_count": 24,
     "metadata": {},
     "output_type": "execute_result"
    }
   ],
   "source": [
    "# Parte para probar los parametros sin random search\n",
    "# no tarda mucho porque tira el score de la combinacion de parametros que le pones nada mas\n",
    "X_train, X_test, Y_train, Y_test = train_test_split(X, Y,test_size=0.25)\n",
    "xgb = XGBRegressor(colsample_bytree=0.98,gamma=9.33,learning_rate=0.055,max_depth=22,min_child_weight=20,n_estimators=200,\\\n",
    "                  reg_alpha=30,subsample=0.96,nthread=2) \n",
    "\n",
    "xgb.fit(X_train, Y_train,eval_metric=\"rmse\")\n"
   ]
  },
  {
   "cell_type": "code",
   "execution_count": 25,
   "metadata": {},
   "outputs": [
    {
     "name": "stdout",
     "output_type": "stream",
     "text": [
      "24415824749.1\n"
     ]
    }
   ],
   "source": [
    "# Print the rmse score\n",
    "print(mean_squared_error(Y_test, xgb.predict(X_test)))"
   ]
  },
  {
   "cell_type": "code",
   "execution_count": 83,
   "metadata": {
    "collapsed": true
   },
   "outputs": [],
   "source": [
    "#Prediccion"
   ]
  },
  {
   "cell_type": "code",
   "execution_count": 159,
   "metadata": {
    "collapsed": true
   },
   "outputs": [],
   "source": [
    "test = pd.read_csv('data/properati_dataset_testing_noprice.csv')"
   ]
  },
  {
   "cell_type": "code",
   "execution_count": 160,
   "metadata": {
    "collapsed": true
   },
   "outputs": [],
   "source": [
    "#level_0, ph, Buenos Aires Interior, index, casa, departamento\n",
    "test.loc[test.state_name.str.contains('Interior'),'place_name'] = 'Palermo'\n",
    "test.loc[test.state_name.str.contains('Interior'),'state_name'] = 'Capital Federal'\n",
    "test.loc[test.property_type.str.contains('departamento'),'property_type'] = 'apartment'\n",
    "test.loc[test.property_type.str.contains('casa'),'property_type'] = 'house'\n",
    "test.loc[test.property_type.str.contains('ph'),'property_type'] = 'PH'\n"
   ]
  },
  {
   "cell_type": "code",
   "execution_count": 161,
   "metadata": {
    "collapsed": true
   },
   "outputs": [],
   "source": [
    "def convert(s):\n",
    "    try:\n",
    "        return float(s)\n",
    "    except:\n",
    "        return np.nan"
   ]
  },
  {
   "cell_type": "code",
   "execution_count": 162,
   "metadata": {
    "collapsed": true
   },
   "outputs": [],
   "source": [
    "test.loc[test.description.notnull(),'description'] = test.loc[test.description.notnull(),'description'].apply(descripcion_token)\n",
    "test.loc[:,'place_name'] = test.place_with_parent_names.apply(place_name_from_parent)\n",
    "test.loc[:,'place_name'] = test.place_name.apply(rescatar_barrios_no_oficiales)\n",
    "test.loc[test.surface_total_in_m2.isnull(),'surface_total_in_m2'] = test.surface_covered_in_m2\n",
    "test.loc[test.rooms.isnull(),'rooms'] = test.description.apply(recuperar_cant_amb)\n",
    "test['created_on'] = pd.to_datetime(test['created_on']) ## conversion de tipo\n",
    "test['month'] = test.created_on.apply(lambda x: x.month)\n",
    "test['year'] = test.created_on.apply(lambda x: x.year)\n",
    "test['day'] = test.created_on.apply(lambda x: x.day)\n",
    "test.drop(['id','created_on','operation','lat-lon','place_with_parent_names','country_name'], axis=1, inplace=True)\n",
    "test.expenses = test.expenses.apply(convert)"
   ]
  },
  {
   "cell_type": "code",
   "execution_count": 163,
   "metadata": {},
   "outputs": [
    {
     "data": {
      "text/html": [
       "<div>\n",
       "<style>\n",
       "    .dataframe thead tr:only-child th {\n",
       "        text-align: right;\n",
       "    }\n",
       "\n",
       "    .dataframe thead th {\n",
       "        text-align: left;\n",
       "    }\n",
       "\n",
       "    .dataframe tbody tr th {\n",
       "        vertical-align: top;\n",
       "    }\n",
       "</style>\n",
       "<table border=\"1\" class=\"dataframe\">\n",
       "  <thead>\n",
       "    <tr style=\"text-align: right;\">\n",
       "      <th></th>\n",
       "      <th>lat</th>\n",
       "      <th>lon</th>\n",
       "      <th>surface_total_in_m2</th>\n",
       "      <th>surface_covered_in_m2</th>\n",
       "      <th>floor</th>\n",
       "      <th>rooms</th>\n",
       "      <th>expenses</th>\n",
       "      <th>month</th>\n",
       "      <th>year</th>\n",
       "      <th>day</th>\n",
       "    </tr>\n",
       "  </thead>\n",
       "  <tbody>\n",
       "    <tr>\n",
       "      <th>count</th>\n",
       "      <td>10487.000000</td>\n",
       "      <td>10487.000000</td>\n",
       "      <td>1.339200e+04</td>\n",
       "      <td>1.300500e+04</td>\n",
       "      <td>1368.000000</td>\n",
       "      <td>7500.000000</td>\n",
       "      <td>2.523000e+03</td>\n",
       "      <td>14166.0</td>\n",
       "      <td>14166.0</td>\n",
       "      <td>14166.000000</td>\n",
       "    </tr>\n",
       "    <tr>\n",
       "      <th>mean</th>\n",
       "      <td>-34.629923</td>\n",
       "      <td>-58.465820</td>\n",
       "      <td>3.934301e+02</td>\n",
       "      <td>3.594716e+02</td>\n",
       "      <td>10.679094</td>\n",
       "      <td>2.804667</td>\n",
       "      <td>8.522019e+03</td>\n",
       "      <td>8.0</td>\n",
       "      <td>2017.0</td>\n",
       "      <td>14.021530</td>\n",
       "    </tr>\n",
       "    <tr>\n",
       "      <th>std</th>\n",
       "      <td>0.101952</td>\n",
       "      <td>0.164709</td>\n",
       "      <td>2.805803e+04</td>\n",
       "      <td>2.846901e+04</td>\n",
       "      <td>93.466971</td>\n",
       "      <td>1.425710</td>\n",
       "      <td>1.916011e+05</td>\n",
       "      <td>0.0</td>\n",
       "      <td>0.0</td>\n",
       "      <td>8.030705</td>\n",
       "    </tr>\n",
       "    <tr>\n",
       "      <th>min</th>\n",
       "      <td>-38.416097</td>\n",
       "      <td>-63.616672</td>\n",
       "      <td>0.000000e+00</td>\n",
       "      <td>1.000000e+00</td>\n",
       "      <td>1.000000</td>\n",
       "      <td>1.000000</td>\n",
       "      <td>0.000000e+00</td>\n",
       "      <td>8.0</td>\n",
       "      <td>2017.0</td>\n",
       "      <td>1.000000</td>\n",
       "    </tr>\n",
       "    <tr>\n",
       "      <th>25%</th>\n",
       "      <td>-34.643998</td>\n",
       "      <td>-58.499255</td>\n",
       "      <td>4.600000e+01</td>\n",
       "      <td>4.200000e+01</td>\n",
       "      <td>2.000000</td>\n",
       "      <td>2.000000</td>\n",
       "      <td>1.000000e+03</td>\n",
       "      <td>8.0</td>\n",
       "      <td>2017.0</td>\n",
       "      <td>9.000000</td>\n",
       "    </tr>\n",
       "    <tr>\n",
       "      <th>50%</th>\n",
       "      <td>-34.612651</td>\n",
       "      <td>-58.443276</td>\n",
       "      <td>7.200000e+01</td>\n",
       "      <td>6.400000e+01</td>\n",
       "      <td>4.000000</td>\n",
       "      <td>3.000000</td>\n",
       "      <td>2.000000e+03</td>\n",
       "      <td>8.0</td>\n",
       "      <td>2017.0</td>\n",
       "      <td>14.000000</td>\n",
       "    </tr>\n",
       "    <tr>\n",
       "      <th>75%</th>\n",
       "      <td>-34.589405</td>\n",
       "      <td>-58.401978</td>\n",
       "      <td>1.450000e+02</td>\n",
       "      <td>1.120000e+02</td>\n",
       "      <td>7.000000</td>\n",
       "      <td>4.000000</td>\n",
       "      <td>3.600000e+03</td>\n",
       "      <td>8.0</td>\n",
       "      <td>2017.0</td>\n",
       "      <td>20.000000</td>\n",
       "    </tr>\n",
       "    <tr>\n",
       "      <th>max</th>\n",
       "      <td>-34.536105</td>\n",
       "      <td>-57.900605</td>\n",
       "      <td>3.243242e+06</td>\n",
       "      <td>3.243242e+06</td>\n",
       "      <td>2509.000000</td>\n",
       "      <td>21.000000</td>\n",
       "      <td>7.600072e+06</td>\n",
       "      <td>8.0</td>\n",
       "      <td>2017.0</td>\n",
       "      <td>29.000000</td>\n",
       "    </tr>\n",
       "  </tbody>\n",
       "</table>\n",
       "</div>"
      ],
      "text/plain": [
       "                lat           lon  surface_total_in_m2  surface_covered_in_m2  \\\n",
       "count  10487.000000  10487.000000         1.339200e+04           1.300500e+04   \n",
       "mean     -34.629923    -58.465820         3.934301e+02           3.594716e+02   \n",
       "std        0.101952      0.164709         2.805803e+04           2.846901e+04   \n",
       "min      -38.416097    -63.616672         0.000000e+00           1.000000e+00   \n",
       "25%      -34.643998    -58.499255         4.600000e+01           4.200000e+01   \n",
       "50%      -34.612651    -58.443276         7.200000e+01           6.400000e+01   \n",
       "75%      -34.589405    -58.401978         1.450000e+02           1.120000e+02   \n",
       "max      -34.536105    -57.900605         3.243242e+06           3.243242e+06   \n",
       "\n",
       "             floor        rooms      expenses    month     year           day  \n",
       "count  1368.000000  7500.000000  2.523000e+03  14166.0  14166.0  14166.000000  \n",
       "mean     10.679094     2.804667  8.522019e+03      8.0   2017.0     14.021530  \n",
       "std      93.466971     1.425710  1.916011e+05      0.0      0.0      8.030705  \n",
       "min       1.000000     1.000000  0.000000e+00      8.0   2017.0      1.000000  \n",
       "25%       2.000000     2.000000  1.000000e+03      8.0   2017.0      9.000000  \n",
       "50%       4.000000     3.000000  2.000000e+03      8.0   2017.0     14.000000  \n",
       "75%       7.000000     4.000000  3.600000e+03      8.0   2017.0     20.000000  \n",
       "max    2509.000000    21.000000  7.600072e+06      8.0   2017.0     29.000000  "
      ]
     },
     "execution_count": 163,
     "metadata": {},
     "output_type": "execute_result"
    }
   ],
   "source": [
    "test.describe()"
   ]
  },
  {
   "cell_type": "code",
   "execution_count": 164,
   "metadata": {
    "collapsed": true
   },
   "outputs": [],
   "source": [
    "# Nan para los datos faltantes es mejor que dropear todo el dato \n",
    "# Los nros estan masomenos pensados MASOMENOS JEJE\n",
    "test.loc[(test['surface_total_in_m2']>5000) | (test['surface_total_in_m2'] < 30),'surface_total_in_m2'] = np.nan\n",
    "test.loc[(test['surface_covered_in_m2']>5000),'surface_covered_in_m2'] = np.nan\n",
    "test.loc[test['floor']>30,'floor'] = np.nan\n",
    "test.loc[test['rooms']==0,'rooms'] = np.nan\n",
    "test.loc[test['rooms']>10,'rooms'] = np.nan\n",
    "test.loc[(test['lat']>-33) | (test['lat']<-36),['lat','lon']] = np.nan\n",
    "test.loc[(test['lon']>-57) | (test['lon']<-60),['lat','lon']] = np.nan\n",
    "test.loc[(test['expenses']>14000) | (test['expenses']<100),'expenses'] = np.nan"
   ]
  },
  {
   "cell_type": "code",
   "execution_count": 165,
   "metadata": {},
   "outputs": [
    {
     "data": {
      "text/html": [
       "<div>\n",
       "<style>\n",
       "    .dataframe thead tr:only-child th {\n",
       "        text-align: right;\n",
       "    }\n",
       "\n",
       "    .dataframe thead th {\n",
       "        text-align: left;\n",
       "    }\n",
       "\n",
       "    .dataframe tbody tr th {\n",
       "        vertical-align: top;\n",
       "    }\n",
       "</style>\n",
       "<table border=\"1\" class=\"dataframe\">\n",
       "  <thead>\n",
       "    <tr style=\"text-align: right;\">\n",
       "      <th></th>\n",
       "      <th>lat</th>\n",
       "      <th>lon</th>\n",
       "      <th>surface_total_in_m2</th>\n",
       "      <th>surface_covered_in_m2</th>\n",
       "      <th>floor</th>\n",
       "      <th>rooms</th>\n",
       "      <th>expenses</th>\n",
       "      <th>month</th>\n",
       "      <th>year</th>\n",
       "      <th>day</th>\n",
       "    </tr>\n",
       "  </thead>\n",
       "  <tbody>\n",
       "    <tr>\n",
       "      <th>count</th>\n",
       "      <td>10483.000000</td>\n",
       "      <td>10483.000000</td>\n",
       "      <td>12817.000000</td>\n",
       "      <td>12998.000000</td>\n",
       "      <td>1354.000000</td>\n",
       "      <td>7490.000000</td>\n",
       "      <td>2279.000000</td>\n",
       "      <td>14166.0</td>\n",
       "      <td>14166.0</td>\n",
       "      <td>14166.000000</td>\n",
       "    </tr>\n",
       "    <tr>\n",
       "      <th>mean</th>\n",
       "      <td>-34.628479</td>\n",
       "      <td>-58.463854</td>\n",
       "      <td>134.013654</td>\n",
       "      <td>95.626943</td>\n",
       "      <td>5.118907</td>\n",
       "      <td>2.788919</td>\n",
       "      <td>2882.024133</td>\n",
       "      <td>8.0</td>\n",
       "      <td>2017.0</td>\n",
       "      <td>14.021530</td>\n",
       "    </tr>\n",
       "    <tr>\n",
       "      <th>std</th>\n",
       "      <td>0.070184</td>\n",
       "      <td>0.130426</td>\n",
       "      <td>187.645059</td>\n",
       "      <td>126.166300</td>\n",
       "      <td>4.215539</td>\n",
       "      <td>1.355359</td>\n",
       "      <td>2476.270406</td>\n",
       "      <td>0.0</td>\n",
       "      <td>0.0</td>\n",
       "      <td>8.030705</td>\n",
       "    </tr>\n",
       "    <tr>\n",
       "      <th>min</th>\n",
       "      <td>-35.123100</td>\n",
       "      <td>-58.975341</td>\n",
       "      <td>30.000000</td>\n",
       "      <td>1.000000</td>\n",
       "      <td>1.000000</td>\n",
       "      <td>1.000000</td>\n",
       "      <td>120.000000</td>\n",
       "      <td>8.0</td>\n",
       "      <td>2017.0</td>\n",
       "      <td>1.000000</td>\n",
       "    </tr>\n",
       "    <tr>\n",
       "      <th>25%</th>\n",
       "      <td>-34.643941</td>\n",
       "      <td>-58.499089</td>\n",
       "      <td>48.000000</td>\n",
       "      <td>42.000000</td>\n",
       "      <td>2.000000</td>\n",
       "      <td>2.000000</td>\n",
       "      <td>1200.000000</td>\n",
       "      <td>8.0</td>\n",
       "      <td>2017.0</td>\n",
       "      <td>9.000000</td>\n",
       "    </tr>\n",
       "    <tr>\n",
       "      <th>50%</th>\n",
       "      <td>-34.612629</td>\n",
       "      <td>-58.443256</td>\n",
       "      <td>75.000000</td>\n",
       "      <td>64.000000</td>\n",
       "      <td>4.000000</td>\n",
       "      <td>3.000000</td>\n",
       "      <td>2000.000000</td>\n",
       "      <td>8.0</td>\n",
       "      <td>2017.0</td>\n",
       "      <td>14.000000</td>\n",
       "    </tr>\n",
       "    <tr>\n",
       "      <th>75%</th>\n",
       "      <td>-34.589392</td>\n",
       "      <td>-58.401970</td>\n",
       "      <td>150.000000</td>\n",
       "      <td>111.000000</td>\n",
       "      <td>7.000000</td>\n",
       "      <td>4.000000</td>\n",
       "      <td>3621.000000</td>\n",
       "      <td>8.0</td>\n",
       "      <td>2017.0</td>\n",
       "      <td>20.000000</td>\n",
       "    </tr>\n",
       "    <tr>\n",
       "      <th>max</th>\n",
       "      <td>-34.536105</td>\n",
       "      <td>-57.900605</td>\n",
       "      <td>4810.000000</td>\n",
       "      <td>4733.000000</td>\n",
       "      <td>29.000000</td>\n",
       "      <td>10.000000</td>\n",
       "      <td>14000.000000</td>\n",
       "      <td>8.0</td>\n",
       "      <td>2017.0</td>\n",
       "      <td>29.000000</td>\n",
       "    </tr>\n",
       "  </tbody>\n",
       "</table>\n",
       "</div>"
      ],
      "text/plain": [
       "                lat           lon  surface_total_in_m2  surface_covered_in_m2  \\\n",
       "count  10483.000000  10483.000000         12817.000000           12998.000000   \n",
       "mean     -34.628479    -58.463854           134.013654              95.626943   \n",
       "std        0.070184      0.130426           187.645059             126.166300   \n",
       "min      -35.123100    -58.975341            30.000000               1.000000   \n",
       "25%      -34.643941    -58.499089            48.000000              42.000000   \n",
       "50%      -34.612629    -58.443256            75.000000              64.000000   \n",
       "75%      -34.589392    -58.401970           150.000000             111.000000   \n",
       "max      -34.536105    -57.900605          4810.000000            4733.000000   \n",
       "\n",
       "             floor        rooms      expenses    month     year           day  \n",
       "count  1354.000000  7490.000000   2279.000000  14166.0  14166.0  14166.000000  \n",
       "mean      5.118907     2.788919   2882.024133      8.0   2017.0     14.021530  \n",
       "std       4.215539     1.355359   2476.270406      0.0      0.0      8.030705  \n",
       "min       1.000000     1.000000    120.000000      8.0   2017.0      1.000000  \n",
       "25%       2.000000     2.000000   1200.000000      8.0   2017.0      9.000000  \n",
       "50%       4.000000     3.000000   2000.000000      8.0   2017.0     14.000000  \n",
       "75%       7.000000     4.000000   3621.000000      8.0   2017.0     20.000000  \n",
       "max      29.000000    10.000000  14000.000000      8.0   2017.0     29.000000  "
      ]
     },
     "execution_count": 165,
     "metadata": {},
     "output_type": "execute_result"
    }
   ],
   "source": [
    "test.describe()"
   ]
  },
  {
   "cell_type": "code",
   "execution_count": 172,
   "metadata": {},
   "outputs": [
    {
     "ename": "AttributeError",
     "evalue": "'numpy.ndarray' object has no attribute 'count'",
     "output_type": "error",
     "traceback": [
      "\u001b[0;31m---------------------------------------------------------------------------\u001b[0m",
      "\u001b[0;31mAttributeError\u001b[0m                            Traceback (most recent call last)",
      "\u001b[0;32m<ipython-input-172-58b0d7c24bad>\u001b[0m in \u001b[0;36m<module>\u001b[0;34m()\u001b[0m\n\u001b[0;32m----> 1\u001b[0;31m \u001b[0mtest\u001b[0m\u001b[0;34m.\u001b[0m\u001b[0mjoin\u001b[0m\u001b[0;34m(\u001b[0m\u001b[0mtest\u001b[0m\u001b[0;34m.\u001b[0m\u001b[0mdescription\u001b[0m\u001b[0;34m.\u001b[0m\u001b[0mstr\u001b[0m\u001b[0;34m.\u001b[0m\u001b[0mget_dummies\u001b[0m\u001b[0;34m(\u001b[0m\u001b[0;34m)\u001b[0m\u001b[0;34m)\u001b[0m\u001b[0;34m.\u001b[0m\u001b[0mcolumns\u001b[0m\u001b[0;34m.\u001b[0m\u001b[0mstr\u001b[0m\u001b[0;34m.\u001b[0m\u001b[0mcontains\u001b[0m\u001b[0;34m(\u001b[0m\u001b[0;34m'level'\u001b[0m\u001b[0;34m)\u001b[0m\u001b[0;34m.\u001b[0m\u001b[0mcount\u001b[0m\u001b[0;34m(\u001b[0m\u001b[0;34m)\u001b[0m\u001b[0;34m\u001b[0m\u001b[0m\n\u001b[0m",
      "\u001b[0;31mAttributeError\u001b[0m: 'numpy.ndarray' object has no attribute 'count'"
     ]
    }
   ],
   "source": [
    "test.join(test.description.str.get_dummies()).columns.str.contains('level')"
   ]
  },
  {
   "cell_type": "code",
   "execution_count": 173,
   "metadata": {
    "collapsed": true
   },
   "outputs": [],
   "source": [
    "test = test.join(pd.get_dummies(test.property_type))\n",
    "test.drop('property_type',axis=1, inplace=True)\n",
    "test = test.join(test.description.str.get_dummies())\n",
    "test.drop('description',axis=1, inplace=True)\n",
    "test = test.join(pd.get_dummies(test.place_name))\n",
    "test.drop('place_name',axis=1, inplace=True)\n",
    "test = test.join(pd.get_dummies(test.state_name))\n",
    "test.drop('state_name',axis=1, inplace=True)"
   ]
  },
  {
   "cell_type": "code",
   "execution_count": 179,
   "metadata": {
    "collapsed": true
   },
   "outputs": [],
   "source": [
    "tot = pd.concat([X,test])\n",
    "tot.reset_index(inplace=True,drop=True)"
   ]
  },
  {
   "cell_type": "code",
   "execution_count": 180,
   "metadata": {},
   "outputs": [
    {
     "name": "stdout",
     "output_type": "stream",
     "text": [
      "<class 'pandas.core.frame.DataFrame'>\n",
      "RangeIndex: 295475 entries, 0 to 295474\n",
      "Columns: 136 entries, Abasto to year\n",
      "dtypes: float64(20), int64(32), uint8(84)\n",
      "memory usage: 140.9 MB\n"
     ]
    }
   ],
   "source": [
    "tot.info()"
   ]
  },
  {
   "cell_type": "code",
   "execution_count": 185,
   "metadata": {
    "collapsed": true
   },
   "outputs": [],
   "source": [
    "test_2 = tot[281309:]\n",
    "test_2.reset_index(inplace=True,drop=True)"
   ]
  },
  {
   "cell_type": "code",
   "execution_count": 187,
   "metadata": {},
   "outputs": [
    {
     "name": "stdout",
     "output_type": "stream",
     "text": [
      "<class 'pandas.core.frame.DataFrame'>\n",
      "Int64Index: 281309 entries, 0 to 317037\n",
      "Columns: 136 entries, lat to Capital Federal\n",
      "dtypes: float64(7), int64(32), uint8(97)\n",
      "memory usage: 121.9 MB\n"
     ]
    }
   ],
   "source": [
    "test_2.info()"
   ]
  },
  {
   "cell_type": "code",
   "execution_count": 189,
   "metadata": {
    "collapsed": true
   },
   "outputs": [],
   "source": [
    "test_2 = test_2[X.columns]"
   ]
  },
  {
   "cell_type": "code",
   "execution_count": 190,
   "metadata": {},
   "outputs": [
    {
     "data": {
      "text/plain": [
       "count    12998.000000\n",
       "mean        95.626943\n",
       "std        126.166300\n",
       "min          1.000000\n",
       "25%         42.000000\n",
       "50%         64.000000\n",
       "75%        111.000000\n",
       "max       4733.000000\n",
       "Name: surface_covered_in_m2, dtype: float64"
      ]
     },
     "execution_count": 190,
     "metadata": {},
     "output_type": "execute_result"
    }
   ],
   "source": [
    "test_2.surface_covered_in_m2.describe()"
   ]
  },
  {
   "cell_type": "code",
   "execution_count": 92,
   "metadata": {},
   "outputs": [
    {
     "data": {
      "text/plain": [
       "XGBRegressor(base_score=0.5, colsample_bylevel=1, colsample_bytree=0.98,\n",
       "       gamma=9.33, learning_rate=0.055, max_delta_step=0, max_depth=22,\n",
       "       min_child_weight=20, missing=None, n_estimators=200, nthread=2,\n",
       "       objective='reg:linear', reg_alpha=30, reg_lambda=1,\n",
       "       scale_pos_weight=1, seed=0, silent=True, subsample=0.96)"
      ]
     },
     "execution_count": 92,
     "metadata": {},
     "output_type": "execute_result"
    }
   ],
   "source": [
    "xgb = XGBRegressor(colsample_bytree=0.98,gamma=9.33,learning_rate=0.055,max_depth=22,min_child_weight=20,n_estimators=200,\\\n",
    "                  reg_alpha=30,subsample=0.96,nthread=2) \n",
    "\n",
    "xgb.fit(X, Y,eval_metric=\"rmse\")\n"
   ]
  },
  {
   "cell_type": "code",
   "execution_count": 198,
   "metadata": {
    "collapsed": true
   },
   "outputs": [],
   "source": [
    "pred = xgb.predict(test_2)"
   ]
  },
  {
   "cell_type": "code",
   "execution_count": 203,
   "metadata": {
    "collapsed": true
   },
   "outputs": [],
   "source": [
    "test_e = pd.read_csv('data/properati_dataset_testing_noprice.csv')\n",
    "test_e = test_e.loc[:,['id','description']]"
   ]
  },
  {
   "cell_type": "code",
   "execution_count": 204,
   "metadata": {
    "collapsed": true
   },
   "outputs": [],
   "source": [
    "test_e['price_usd'] = pred"
   ]
  },
  {
   "cell_type": "code",
   "execution_count": 206,
   "metadata": {
    "collapsed": true
   },
   "outputs": [],
   "source": [
    "test_e.drop('description',axis=1,inplace=True)"
   ]
  },
  {
   "cell_type": "code",
   "execution_count": 208,
   "metadata": {},
   "outputs": [
    {
     "name": "stdout",
     "output_type": "stream",
     "text": [
      "<class 'pandas.core.frame.DataFrame'>\n",
      "RangeIndex: 14166 entries, 0 to 14165\n",
      "Data columns (total 2 columns):\n",
      "id           14166 non-null int64\n",
      "price_usd    14166 non-null float32\n",
      "dtypes: float32(1), int64(1)\n",
      "memory usage: 166.1 KB\n"
     ]
    }
   ],
   "source": [
    "test_e.info()"
   ]
  },
  {
   "cell_type": "code",
   "execution_count": 209,
   "metadata": {
    "collapsed": true
   },
   "outputs": [],
   "source": [
    "test_e.to_csv('Predicciones/XgBoost.csv', index = False)"
   ]
  },
  {
   "cell_type": "code",
   "execution_count": null,
   "metadata": {
    "collapsed": true
   },
   "outputs": [],
   "source": []
  }
 ],
 "metadata": {
  "kernelspec": {
   "display_name": "Python 3",
   "language": "python",
   "name": "python3"
  },
  "language_info": {
   "codemirror_mode": {
    "name": "ipython",
    "version": 3
   },
   "file_extension": ".py",
   "mimetype": "text/x-python",
   "name": "python",
   "nbconvert_exporter": "python",
   "pygments_lexer": "ipython3",
   "version": "3.5.2"
  }
 },
 "nbformat": 4,
 "nbformat_minor": 2
}
