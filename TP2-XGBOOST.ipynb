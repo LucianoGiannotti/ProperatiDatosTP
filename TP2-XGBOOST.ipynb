{
 "cells": [
  {
   "cell_type": "code",
   "execution_count": 1,
   "metadata": {
    "collapsed": true
   },
   "outputs": [],
   "source": [
    "import pandas as pd\n",
    "import numpy as np\n",
    "%matplotlib inline"
   ]
  },
  {
   "cell_type": "code",
   "execution_count": 2,
   "metadata": {
    "collapsed": true
   },
   "outputs": [],
   "source": [
    "data = pd.read_csv('data/data_update-2017-10.csv')\n",
    "test = pd.read_csv('data/properati_dataset_testing_noprice.csv')"
   ]
  },
  {
   "cell_type": "code",
   "execution_count": 3,
   "metadata": {
    "collapsed": true
   },
   "outputs": [],
   "source": [
    "#test = test[test['state_name'].str.contains('G.B.A') | test['state_name'].str.contains('Capital Federal')]"
   ]
  },
  {
   "cell_type": "code",
   "execution_count": 4,
   "metadata": {
    "collapsed": true
   },
   "outputs": [],
   "source": [
    "def descripcion_token(x):\n",
    "    words = ['parrilla','suite','cochera', 'placard', 'pileta', 'terraza',\\\n",
    "             'vestidor', 'patio', 'hall', 'servicio', 'muebles', 'balcón', 'jardín','aire acondicionado', \\\n",
    "             'quincho', 'fondo', 'piscina','jardin', 'garage', 'parque', 'balcon', 'estrenar', \\\n",
    "             'galería', 'dependencia', 'buena','calefacción','radiante', 'seguridad', \\\n",
    "             'chalet','gimnasio']\n",
    "    result = ''\n",
    "    for word in words:\n",
    "        if word in x:\n",
    "            result += '|' + word\n",
    "    return result\n",
    "def place_name_from_parent(x): ## Segun vi el 3 item del place es generalmente el lugar\n",
    "    list = x.split('|')\n",
    "    if(len(list) < 5):\n",
    "        return np.nan\n",
    "    else:\n",
    "        return list[3]\n",
    "    \n",
    "def rescatar_barrios_no_oficiales(x):\n",
    "    if x == 'Once':\n",
    "        return (\"Balvanera\")\n",
    "    elif x == 'Bajo Belgrano':\n",
    "        return (\"Belgrano\")\n",
    "    elif x == 'Alto Palermo':\n",
    "        return (\"Palermo\")\n",
    "    elif x == 'Tribunales':\n",
    "        return (\"San Nicolás\")\n",
    "    elif x == 'Las Cañitas':\n",
    "        return(\"Palermo\")\n",
    "    elif x == 'Capital Federal':\n",
    "        return(np.nan)\n",
    "    else:\n",
    "        return x\n",
    "    \n",
    "def recuperar_cant_amb(x):\n",
    "    \"Recupera el dato amb en x (puede ser la descripcion o el titulo)\"\n",
    "    try:\n",
    "        pos = 0\n",
    "        x = x.lower()\n",
    "        if \"ambientes\" in x:\n",
    "            pos = x.rfind(\"ambientes\")\n",
    "        elif \"amb\" in x:\n",
    "            pos = x.rfind(\"amb\")\n",
    "        if pos != 0:\n",
    "            try:\n",
    "                return (np.float64(x[pos -2]))\n",
    "            except ValueError:\n",
    "                if (\"dos amb\" in x) or (\"dos ambientes\" in x):\n",
    "                    return 2.0\n",
    "                elif (\"tres amb\" in x) or (\"tres ambientes\" in x):\n",
    "                    return 3.0\n",
    "                elif (\"cuatro amb\" in x) or (\"cuatro ambientes\" in x):\n",
    "                    return 4.0\n",
    "                elif (\"cinco amb\" in x) or (\"cinco ambientes\" in x):\n",
    "                    return 5.0\n",
    "                elif (\"seis amb\" in x) or (\"seis ambientes\" in x):\n",
    "                    return 6.0\n",
    "                return np.nan\n",
    "    except AttributeError:\n",
    "        return None"
   ]
  },
  {
   "cell_type": "code",
   "execution_count": 5,
   "metadata": {
    "collapsed": true
   },
   "outputs": [],
   "source": [
    "data.loc[:,'place_name'] = data.place_with_parent_names.apply(place_name_from_parent) ## esto quita muchos problemas \n",
    "                                                                                    ## de place name como nombres de country\n",
    "                                                                                    ## o palermo soho\n",
    "data.loc[data.description.notnull(),'description'] = data.loc[data.description.notnull(),'description'].apply(descripcion_token)\n",
    "#test.loc[:,'place_name'] = test.place_with_parent_names.apply(place_name_from_parent)"
   ]
  },
  {
   "cell_type": "code",
   "execution_count": 6,
   "metadata": {
    "collapsed": true
   },
   "outputs": [],
   "source": [
    "data.loc[:,'place_name'] = data.place_name.apply(rescatar_barrios_no_oficiales)\n",
    "#test.loc[:,'place_name'] = test.place_name.apply(rescatar_barrios_no_oficiales)"
   ]
  },
  {
   "cell_type": "code",
   "execution_count": 7,
   "metadata": {
    "collapsed": true
   },
   "outputs": [],
   "source": [
    "data.dropna(axis=0,subset=['price_aprox_usd'],inplace=True) ## drop de los datos sin precio\n",
    "data = data.loc[data['price_aprox_usd'] > 0,:]"
   ]
  },
  {
   "cell_type": "code",
   "execution_count": 8,
   "metadata": {
    "collapsed": true
   },
   "outputs": [],
   "source": [
    "data.loc[data.rooms.isnull(),'rooms'] = data.description.apply(recuperar_cant_amb)\n",
    "data.loc[data.rooms.isnull(),'rooms'] = data.title.apply(recuperar_cant_amb)\n",
    "data.loc[data.surface_total_in_m2.isnull(),'surface_total_in_m2'] = data.surface_covered_in_m2\n",
    "#test.loc[test.rooms.isnull(),'rooms'] = test.description.apply(recuperar_cant_amb)"
   ]
  },
  {
   "cell_type": "code",
   "execution_count": 9,
   "metadata": {},
   "outputs": [
    {
     "name": "stdout",
     "output_type": "stream",
     "text": [
      "<class 'pandas.core.frame.DataFrame'>\n",
      "Int64Index: 284732 entries, 0 to 317037\n",
      "Data columns (total 23 columns):\n",
      "id                            284732 non-null object\n",
      "created_on                    284732 non-null object\n",
      "property_type                 284732 non-null object\n",
      "place_name                    278472 non-null object\n",
      "place_with_parent_names       284732 non-null object\n",
      "state_name                    284732 non-null object\n",
      "geonames_id                   224194 non-null float64\n",
      "lat-lon                       202676 non-null object\n",
      "lat                           202676 non-null float64\n",
      "lon                           202676 non-null float64\n",
      "price                         284732 non-null float64\n",
      "currency                      284732 non-null object\n",
      "price_aprox_local_currency    284732 non-null float64\n",
      "price_aprox_usd               284732 non-null float64\n",
      "surface_total_in_m2           266756 non-null float64\n",
      "surface_covered_in_m2         257298 non-null float64\n",
      "price_usd_per_m2              201209 non-null float64\n",
      "price_per_m2                  254155 non-null float64\n",
      "floor                         36551 non-null float64\n",
      "rooms                         168778 non-null float64\n",
      "expenses                      36207 non-null float64\n",
      "description                   284718 non-null object\n",
      "title                         284732 non-null object\n",
      "dtypes: float64(13), object(10)\n",
      "memory usage: 62.1+ MB\n"
     ]
    }
   ],
   "source": [
    "data.info()"
   ]
  },
  {
   "cell_type": "code",
   "execution_count": 10,
   "metadata": {},
   "outputs": [
    {
     "data": {
      "text/html": [
       "<div>\n",
       "<style>\n",
       "    .dataframe thead tr:only-child th {\n",
       "        text-align: right;\n",
       "    }\n",
       "\n",
       "    .dataframe thead th {\n",
       "        text-align: left;\n",
       "    }\n",
       "\n",
       "    .dataframe tbody tr th {\n",
       "        vertical-align: top;\n",
       "    }\n",
       "</style>\n",
       "<table border=\"1\" class=\"dataframe\">\n",
       "  <thead>\n",
       "    <tr style=\"text-align: right;\">\n",
       "      <th></th>\n",
       "      <th>geonames_id</th>\n",
       "      <th>lat</th>\n",
       "      <th>lon</th>\n",
       "      <th>price</th>\n",
       "      <th>price_aprox_local_currency</th>\n",
       "      <th>price_aprox_usd</th>\n",
       "      <th>surface_total_in_m2</th>\n",
       "      <th>surface_covered_in_m2</th>\n",
       "      <th>price_usd_per_m2</th>\n",
       "      <th>price_per_m2</th>\n",
       "      <th>floor</th>\n",
       "      <th>rooms</th>\n",
       "      <th>expenses</th>\n",
       "    </tr>\n",
       "  </thead>\n",
       "  <tbody>\n",
       "    <tr>\n",
       "      <th>count</th>\n",
       "      <td>2.241940e+05</td>\n",
       "      <td>202676.000000</td>\n",
       "      <td>202676.000000</td>\n",
       "      <td>2.847320e+05</td>\n",
       "      <td>2.847320e+05</td>\n",
       "      <td>2.847320e+05</td>\n",
       "      <td>2.667560e+05</td>\n",
       "      <td>2.572980e+05</td>\n",
       "      <td>2.012090e+05</td>\n",
       "      <td>2.541550e+05</td>\n",
       "      <td>36551.000000</td>\n",
       "      <td>168778.000000</td>\n",
       "      <td>3.620700e+04</td>\n",
       "    </tr>\n",
       "    <tr>\n",
       "      <th>mean</th>\n",
       "      <td>3.498000e+06</td>\n",
       "      <td>-34.557248</td>\n",
       "      <td>-58.525949</td>\n",
       "      <td>3.346441e+05</td>\n",
       "      <td>4.267056e+06</td>\n",
       "      <td>2.545583e+05</td>\n",
       "      <td>7.756810e+03</td>\n",
       "      <td>7.948382e+03</td>\n",
       "      <td>2.001651e+03</td>\n",
       "      <td>4.427643e+03</td>\n",
       "      <td>14.513119</td>\n",
       "      <td>2.931780</td>\n",
       "      <td>3.695044e+03</td>\n",
       "    </tr>\n",
       "    <tr>\n",
       "      <th>std</th>\n",
       "      <td>4.424446e+05</td>\n",
       "      <td>1.376284</td>\n",
       "      <td>1.120437</td>\n",
       "      <td>7.408342e+05</td>\n",
       "      <td>6.123039e+06</td>\n",
       "      <td>3.653688e+05</td>\n",
       "      <td>3.872343e+06</td>\n",
       "      <td>3.942872e+06</td>\n",
       "      <td>4.586174e+03</td>\n",
       "      <td>2.073286e+04</td>\n",
       "      <td>105.542985</td>\n",
       "      <td>1.461706</td>\n",
       "      <td>7.465248e+04</td>\n",
       "    </tr>\n",
       "    <tr>\n",
       "      <th>min</th>\n",
       "      <td>3.427208e+06</td>\n",
       "      <td>-51.626650</td>\n",
       "      <td>-122.419415</td>\n",
       "      <td>2.600000e+03</td>\n",
       "      <td>4.757708e+04</td>\n",
       "      <td>2.754180e+03</td>\n",
       "      <td>0.000000e+00</td>\n",
       "      <td>0.000000e+00</td>\n",
       "      <td>8.000000e-02</td>\n",
       "      <td>5.000000e-05</td>\n",
       "      <td>1.000000</td>\n",
       "      <td>0.000000</td>\n",
       "      <td>1.000000e+00</td>\n",
       "    </tr>\n",
       "    <tr>\n",
       "      <th>25%</th>\n",
       "      <td>3.429595e+06</td>\n",
       "      <td>-34.629218</td>\n",
       "      <td>-58.579659</td>\n",
       "      <td>1.050000e+05</td>\n",
       "      <td>1.660724e+06</td>\n",
       "      <td>9.900000e+04</td>\n",
       "      <td>4.800000e+01</td>\n",
       "      <td>4.600000e+01</td>\n",
       "      <td>1.120690e+03</td>\n",
       "      <td>1.527778e+03</td>\n",
       "      <td>2.000000</td>\n",
       "      <td>2.000000</td>\n",
       "      <td>1.000000e+03</td>\n",
       "    </tr>\n",
       "    <tr>\n",
       "      <th>50%</th>\n",
       "      <td>3.430787e+06</td>\n",
       "      <td>-34.592540</td>\n",
       "      <td>-58.481101</td>\n",
       "      <td>1.720000e+05</td>\n",
       "      <td>2.683515e+06</td>\n",
       "      <td>1.600000e+05</td>\n",
       "      <td>8.300000e+01</td>\n",
       "      <td>7.700000e+01</td>\n",
       "      <td>1.785714e+03</td>\n",
       "      <td>2.095532e+03</td>\n",
       "      <td>3.000000</td>\n",
       "      <td>3.000000</td>\n",
       "      <td>1.900000e+03</td>\n",
       "    </tr>\n",
       "    <tr>\n",
       "      <th>75%</th>\n",
       "      <td>3.435719e+06</td>\n",
       "      <td>-34.518473</td>\n",
       "      <td>-58.417314</td>\n",
       "      <td>3.270000e+05</td>\n",
       "      <td>4.808730e+06</td>\n",
       "      <td>2.890000e+05</td>\n",
       "      <td>2.000000e+02</td>\n",
       "      <td>1.600000e+02</td>\n",
       "      <td>2.450000e+03</td>\n",
       "      <td>2.896774e+03</td>\n",
       "      <td>6.000000</td>\n",
       "      <td>4.000000</td>\n",
       "      <td>3.800000e+03</td>\n",
       "    </tr>\n",
       "    <tr>\n",
       "      <th>max</th>\n",
       "      <td>6.693230e+06</td>\n",
       "      <td>52.619706</td>\n",
       "      <td>58.496000</td>\n",
       "      <td>1.234568e+08</td>\n",
       "      <td>7.984250e+08</td>\n",
       "      <td>5.000000e+07</td>\n",
       "      <td>2.000000e+09</td>\n",
       "      <td>2.000000e+09</td>\n",
       "      <td>1.271027e+06</td>\n",
       "      <td>4.000000e+06</td>\n",
       "      <td>7071.000000</td>\n",
       "      <td>40.000000</td>\n",
       "      <td>1.000150e+07</td>\n",
       "    </tr>\n",
       "  </tbody>\n",
       "</table>\n",
       "</div>"
      ],
      "text/plain": [
       "        geonames_id            lat            lon         price  \\\n",
       "count  2.241940e+05  202676.000000  202676.000000  2.847320e+05   \n",
       "mean   3.498000e+06     -34.557248     -58.525949  3.346441e+05   \n",
       "std    4.424446e+05       1.376284       1.120437  7.408342e+05   \n",
       "min    3.427208e+06     -51.626650    -122.419415  2.600000e+03   \n",
       "25%    3.429595e+06     -34.629218     -58.579659  1.050000e+05   \n",
       "50%    3.430787e+06     -34.592540     -58.481101  1.720000e+05   \n",
       "75%    3.435719e+06     -34.518473     -58.417314  3.270000e+05   \n",
       "max    6.693230e+06      52.619706      58.496000  1.234568e+08   \n",
       "\n",
       "       price_aprox_local_currency  price_aprox_usd  surface_total_in_m2  \\\n",
       "count                2.847320e+05     2.847320e+05         2.667560e+05   \n",
       "mean                 4.267056e+06     2.545583e+05         7.756810e+03   \n",
       "std                  6.123039e+06     3.653688e+05         3.872343e+06   \n",
       "min                  4.757708e+04     2.754180e+03         0.000000e+00   \n",
       "25%                  1.660724e+06     9.900000e+04         4.800000e+01   \n",
       "50%                  2.683515e+06     1.600000e+05         8.300000e+01   \n",
       "75%                  4.808730e+06     2.890000e+05         2.000000e+02   \n",
       "max                  7.984250e+08     5.000000e+07         2.000000e+09   \n",
       "\n",
       "       surface_covered_in_m2  price_usd_per_m2  price_per_m2         floor  \\\n",
       "count           2.572980e+05      2.012090e+05  2.541550e+05  36551.000000   \n",
       "mean            7.948382e+03      2.001651e+03  4.427643e+03     14.513119   \n",
       "std             3.942872e+06      4.586174e+03  2.073286e+04    105.542985   \n",
       "min             0.000000e+00      8.000000e-02  5.000000e-05      1.000000   \n",
       "25%             4.600000e+01      1.120690e+03  1.527778e+03      2.000000   \n",
       "50%             7.700000e+01      1.785714e+03  2.095532e+03      3.000000   \n",
       "75%             1.600000e+02      2.450000e+03  2.896774e+03      6.000000   \n",
       "max             2.000000e+09      1.271027e+06  4.000000e+06   7071.000000   \n",
       "\n",
       "               rooms      expenses  \n",
       "count  168778.000000  3.620700e+04  \n",
       "mean        2.931780  3.695044e+03  \n",
       "std         1.461706  7.465248e+04  \n",
       "min         0.000000  1.000000e+00  \n",
       "25%         2.000000  1.000000e+03  \n",
       "50%         3.000000  1.900000e+03  \n",
       "75%         4.000000  3.800000e+03  \n",
       "max        40.000000  1.000150e+07  "
      ]
     },
     "execution_count": 10,
     "metadata": {},
     "output_type": "execute_result"
    }
   ],
   "source": [
    "data.describe()"
   ]
  },
  {
   "cell_type": "code",
   "execution_count": 11,
   "metadata": {
    "collapsed": true
   },
   "outputs": [],
   "source": [
    "#Filtrar datos anomalos"
   ]
  },
  {
   "cell_type": "code",
   "execution_count": 12,
   "metadata": {
    "collapsed": true
   },
   "outputs": [],
   "source": [
    "# Nan para los datos faltantes es mejor que dropear todo el dato \n",
    "# Los nros estan masomenos pensados MASOMENOS JEJE\n",
    "data.loc[(data['surface_total_in_m2']>5000) | (data['surface_total_in_m2'] < 30),'surface_total_in_m2'] = np.nan\n",
    "data.loc[(data['surface_covered_in_m2']>5000) | (data['surface_covered_in_m2'] < 30),'surface_covered_in_m2'] = np.nan\n",
    "data.loc[data['floor']>30,'floor'] = np.nan\n",
    "data.loc[data['rooms']==0,'rooms'] = np.nan\n",
    "data.loc[data['rooms']>10,'rooms'] = np.nan\n",
    "data.loc[(data['lat']>-33) | (data['lat']<-36),['lat','lon','lat-lon']] = np.nan\n",
    "data.loc[(data['lon']>-57) | (data['lon']<-60),['lat','lon','lat-lon']] = np.nan\n",
    "data.loc[(data['expenses']>14000) | (data['expenses']<100),'expenses'] = np.nan"
   ]
  },
  {
   "cell_type": "code",
   "execution_count": 13,
   "metadata": {},
   "outputs": [
    {
     "data": {
      "text/html": [
       "<div>\n",
       "<style>\n",
       "    .dataframe thead tr:only-child th {\n",
       "        text-align: right;\n",
       "    }\n",
       "\n",
       "    .dataframe thead th {\n",
       "        text-align: left;\n",
       "    }\n",
       "\n",
       "    .dataframe tbody tr th {\n",
       "        vertical-align: top;\n",
       "    }\n",
       "</style>\n",
       "<table border=\"1\" class=\"dataframe\">\n",
       "  <thead>\n",
       "    <tr style=\"text-align: right;\">\n",
       "      <th></th>\n",
       "      <th>geonames_id</th>\n",
       "      <th>lat</th>\n",
       "      <th>lon</th>\n",
       "      <th>price</th>\n",
       "      <th>price_aprox_local_currency</th>\n",
       "      <th>price_aprox_usd</th>\n",
       "      <th>surface_total_in_m2</th>\n",
       "      <th>surface_covered_in_m2</th>\n",
       "      <th>price_usd_per_m2</th>\n",
       "      <th>price_per_m2</th>\n",
       "      <th>floor</th>\n",
       "      <th>rooms</th>\n",
       "      <th>expenses</th>\n",
       "    </tr>\n",
       "  </thead>\n",
       "  <tbody>\n",
       "    <tr>\n",
       "      <th>count</th>\n",
       "      <td>2.241940e+05</td>\n",
       "      <td>201991.000000</td>\n",
       "      <td>201991.000000</td>\n",
       "      <td>2.847320e+05</td>\n",
       "      <td>2.847320e+05</td>\n",
       "      <td>2.847320e+05</td>\n",
       "      <td>246119.000000</td>\n",
       "      <td>242966.000000</td>\n",
       "      <td>2.012090e+05</td>\n",
       "      <td>2.541550e+05</td>\n",
       "      <td>35771.000000</td>\n",
       "      <td>168593.000000</td>\n",
       "      <td>33221.000000</td>\n",
       "    </tr>\n",
       "    <tr>\n",
       "      <th>mean</th>\n",
       "      <td>3.498000e+06</td>\n",
       "      <td>-34.580672</td>\n",
       "      <td>-58.504874</td>\n",
       "      <td>3.346441e+05</td>\n",
       "      <td>4.267056e+06</td>\n",
       "      <td>2.545583e+05</td>\n",
       "      <td>203.475530</td>\n",
       "      <td>131.712705</td>\n",
       "      <td>2.001651e+03</td>\n",
       "      <td>4.427643e+03</td>\n",
       "      <td>4.437310</td>\n",
       "      <td>2.920525</td>\n",
       "      <td>2868.053972</td>\n",
       "    </tr>\n",
       "    <tr>\n",
       "      <th>std</th>\n",
       "      <td>4.424446e+05</td>\n",
       "      <td>0.111066</td>\n",
       "      <td>0.151545</td>\n",
       "      <td>7.408342e+05</td>\n",
       "      <td>6.123039e+06</td>\n",
       "      <td>3.653688e+05</td>\n",
       "      <td>319.993164</td>\n",
       "      <td>162.130745</td>\n",
       "      <td>4.586174e+03</td>\n",
       "      <td>2.073286e+04</td>\n",
       "      <td>3.848211</td>\n",
       "      <td>1.409492</td>\n",
       "      <td>2580.415831</td>\n",
       "    </tr>\n",
       "    <tr>\n",
       "      <th>min</th>\n",
       "      <td>3.427208e+06</td>\n",
       "      <td>-35.765171</td>\n",
       "      <td>-59.664010</td>\n",
       "      <td>2.600000e+03</td>\n",
       "      <td>4.757708e+04</td>\n",
       "      <td>2.754180e+03</td>\n",
       "      <td>30.000000</td>\n",
       "      <td>30.000000</td>\n",
       "      <td>8.000000e-02</td>\n",
       "      <td>5.000000e-05</td>\n",
       "      <td>1.000000</td>\n",
       "      <td>1.000000</td>\n",
       "      <td>100.000000</td>\n",
       "    </tr>\n",
       "    <tr>\n",
       "      <th>25%</th>\n",
       "      <td>3.429595e+06</td>\n",
       "      <td>-34.628929</td>\n",
       "      <td>-58.579640</td>\n",
       "      <td>1.050000e+05</td>\n",
       "      <td>1.660724e+06</td>\n",
       "      <td>9.900000e+04</td>\n",
       "      <td>54.000000</td>\n",
       "      <td>50.000000</td>\n",
       "      <td>1.120690e+03</td>\n",
       "      <td>1.527778e+03</td>\n",
       "      <td>2.000000</td>\n",
       "      <td>2.000000</td>\n",
       "      <td>1100.000000</td>\n",
       "    </tr>\n",
       "    <tr>\n",
       "      <th>50%</th>\n",
       "      <td>3.430787e+06</td>\n",
       "      <td>-34.592502</td>\n",
       "      <td>-58.480858</td>\n",
       "      <td>1.720000e+05</td>\n",
       "      <td>2.683515e+06</td>\n",
       "      <td>1.600000e+05</td>\n",
       "      <td>93.000000</td>\n",
       "      <td>81.000000</td>\n",
       "      <td>1.785714e+03</td>\n",
       "      <td>2.095532e+03</td>\n",
       "      <td>3.000000</td>\n",
       "      <td>3.000000</td>\n",
       "      <td>2000.000000</td>\n",
       "    </tr>\n",
       "    <tr>\n",
       "      <th>75%</th>\n",
       "      <td>3.435719e+06</td>\n",
       "      <td>-34.518706</td>\n",
       "      <td>-58.417173</td>\n",
       "      <td>3.270000e+05</td>\n",
       "      <td>4.808730e+06</td>\n",
       "      <td>2.890000e+05</td>\n",
       "      <td>215.000000</td>\n",
       "      <td>170.000000</td>\n",
       "      <td>2.450000e+03</td>\n",
       "      <td>2.896774e+03</td>\n",
       "      <td>6.000000</td>\n",
       "      <td>4.000000</td>\n",
       "      <td>3900.000000</td>\n",
       "    </tr>\n",
       "    <tr>\n",
       "      <th>max</th>\n",
       "      <td>6.693230e+06</td>\n",
       "      <td>-33.677756</td>\n",
       "      <td>-57.848496</td>\n",
       "      <td>1.234568e+08</td>\n",
       "      <td>7.984250e+08</td>\n",
       "      <td>5.000000e+07</td>\n",
       "      <td>5000.000000</td>\n",
       "      <td>5000.000000</td>\n",
       "      <td>1.271027e+06</td>\n",
       "      <td>4.000000e+06</td>\n",
       "      <td>30.000000</td>\n",
       "      <td>10.000000</td>\n",
       "      <td>14000.000000</td>\n",
       "    </tr>\n",
       "  </tbody>\n",
       "</table>\n",
       "</div>"
      ],
      "text/plain": [
       "        geonames_id            lat            lon         price  \\\n",
       "count  2.241940e+05  201991.000000  201991.000000  2.847320e+05   \n",
       "mean   3.498000e+06     -34.580672     -58.504874  3.346441e+05   \n",
       "std    4.424446e+05       0.111066       0.151545  7.408342e+05   \n",
       "min    3.427208e+06     -35.765171     -59.664010  2.600000e+03   \n",
       "25%    3.429595e+06     -34.628929     -58.579640  1.050000e+05   \n",
       "50%    3.430787e+06     -34.592502     -58.480858  1.720000e+05   \n",
       "75%    3.435719e+06     -34.518706     -58.417173  3.270000e+05   \n",
       "max    6.693230e+06     -33.677756     -57.848496  1.234568e+08   \n",
       "\n",
       "       price_aprox_local_currency  price_aprox_usd  surface_total_in_m2  \\\n",
       "count                2.847320e+05     2.847320e+05        246119.000000   \n",
       "mean                 4.267056e+06     2.545583e+05           203.475530   \n",
       "std                  6.123039e+06     3.653688e+05           319.993164   \n",
       "min                  4.757708e+04     2.754180e+03            30.000000   \n",
       "25%                  1.660724e+06     9.900000e+04            54.000000   \n",
       "50%                  2.683515e+06     1.600000e+05            93.000000   \n",
       "75%                  4.808730e+06     2.890000e+05           215.000000   \n",
       "max                  7.984250e+08     5.000000e+07          5000.000000   \n",
       "\n",
       "       surface_covered_in_m2  price_usd_per_m2  price_per_m2         floor  \\\n",
       "count          242966.000000      2.012090e+05  2.541550e+05  35771.000000   \n",
       "mean              131.712705      2.001651e+03  4.427643e+03      4.437310   \n",
       "std               162.130745      4.586174e+03  2.073286e+04      3.848211   \n",
       "min                30.000000      8.000000e-02  5.000000e-05      1.000000   \n",
       "25%                50.000000      1.120690e+03  1.527778e+03      2.000000   \n",
       "50%                81.000000      1.785714e+03  2.095532e+03      3.000000   \n",
       "75%               170.000000      2.450000e+03  2.896774e+03      6.000000   \n",
       "max              5000.000000      1.271027e+06  4.000000e+06     30.000000   \n",
       "\n",
       "               rooms      expenses  \n",
       "count  168593.000000  33221.000000  \n",
       "mean        2.920525   2868.053972  \n",
       "std         1.409492   2580.415831  \n",
       "min         1.000000    100.000000  \n",
       "25%         2.000000   1100.000000  \n",
       "50%         3.000000   2000.000000  \n",
       "75%         4.000000   3900.000000  \n",
       "max        10.000000  14000.000000  "
      ]
     },
     "execution_count": 13,
     "metadata": {},
     "output_type": "execute_result"
    }
   ],
   "source": [
    "data.describe()"
   ]
  },
  {
   "cell_type": "code",
   "execution_count": 14,
   "metadata": {},
   "outputs": [
    {
     "name": "stdout",
     "output_type": "stream",
     "text": [
      "<class 'pandas.core.frame.DataFrame'>\n",
      "Int64Index: 284732 entries, 0 to 317037\n",
      "Data columns (total 23 columns):\n",
      "id                            284732 non-null object\n",
      "created_on                    284732 non-null object\n",
      "property_type                 284732 non-null object\n",
      "place_name                    278472 non-null object\n",
      "place_with_parent_names       284732 non-null object\n",
      "state_name                    284732 non-null object\n",
      "geonames_id                   224194 non-null float64\n",
      "lat-lon                       201991 non-null object\n",
      "lat                           201991 non-null float64\n",
      "lon                           201991 non-null float64\n",
      "price                         284732 non-null float64\n",
      "currency                      284732 non-null object\n",
      "price_aprox_local_currency    284732 non-null float64\n",
      "price_aprox_usd               284732 non-null float64\n",
      "surface_total_in_m2           246119 non-null float64\n",
      "surface_covered_in_m2         242966 non-null float64\n",
      "price_usd_per_m2              201209 non-null float64\n",
      "price_per_m2                  254155 non-null float64\n",
      "floor                         35771 non-null float64\n",
      "rooms                         168593 non-null float64\n",
      "expenses                      33221 non-null float64\n",
      "description                   284718 non-null object\n",
      "title                         284732 non-null object\n",
      "dtypes: float64(13), object(10)\n",
      "memory usage: 62.1+ MB\n"
     ]
    }
   ],
   "source": [
    "data.info()"
   ]
  },
  {
   "cell_type": "code",
   "execution_count": 15,
   "metadata": {
    "collapsed": true
   },
   "outputs": [],
   "source": [
    "# Dropeo las columnas que no se usan porque el test no las tiene o no son necesarias\n",
    "data.drop(['price','price_usd_per_m2','price_per_m2','currency',\\\n",
    "          'id','created_on','geonames_id','lat-lon','price_aprox_local_currency',\\\n",
    "         'title','place_with_parent_names'], axis=1, inplace=True)\n",
    "#test.drop(['id','created_on','lat-lon','description','country_name'], axis=1, inplace=True)\n",
    "#datos con mas de 4 nan los dropeo el 4 nro medio random\n",
    "data.dropna(thresh=8,inplace=True)"
   ]
  },
  {
   "cell_type": "code",
   "execution_count": 16,
   "metadata": {
    "collapsed": true
   },
   "outputs": [],
   "source": [
    "#Esto es importante, convierto los datos categoricos en numericos cada categoria una columna con 1 si true o 0 si false\n",
    "##https://stackoverflow.com/questions/34265102/xgboost-categorical-variables-dummification-vs-encoding\n",
    "##https://machinelearningmastery.com/data-preparation-gradient-boosting-xgboost-python/\n",
    "data = data.join(pd.get_dummies(data.property_type))\n",
    "data.drop('property_type',axis=1, inplace=True)\n",
    "data = data.join(data.description.str.get_dummies())\n",
    "data.drop('description',axis=1, inplace=True)\n",
    "data = data.join(pd.get_dummies(data.place_name))\n",
    "data.drop('place_name',axis=1, inplace=True)\n",
    "data = data.join(pd.get_dummies(data.state_name))\n",
    "data.drop('state_name',axis=1, inplace=True)"
   ]
  },
  {
   "cell_type": "code",
   "execution_count": 17,
   "metadata": {
    "collapsed": true
   },
   "outputs": [],
   "source": [
    "#####XGBOOST\n",
    "#https://github.com/dmlc/xgboost\n",
    "#https://xgboost.readthedocs.io/en/latest/build.html\n",
    "#https://www.analyticsvidhya.com/blog/2016/03/complete-guide-parameter-tuning-xgboost-with-codes-python/\n",
    "#https://www.slideshare.net/ShangxuanZhang/kaggle-winning-solution-xgboost-algorithm-let-us-learn-from-its-author\n"
   ]
  },
  {
   "cell_type": "code",
   "execution_count": 31,
   "metadata": {},
   "outputs": [
    {
     "name": "stdout",
     "output_type": "stream",
     "text": [
      "<class 'pandas.core.frame.DataFrame'>\n",
      "RangeIndex: 14166 entries, 0 to 14165\n",
      "Data columns (total 17 columns):\n",
      "id                         14166 non-null int64\n",
      "created_on                 14166 non-null object\n",
      "property_type              14166 non-null object\n",
      "operation                  14166 non-null object\n",
      "place_name                 14166 non-null object\n",
      "place_with_parent_names    14166 non-null object\n",
      "country_name               14166 non-null object\n",
      "state_name                 14166 non-null object\n",
      "lat-lon                    10487 non-null object\n",
      "lat                        10487 non-null float64\n",
      "lon                        10487 non-null float64\n",
      "surface_total_in_m2        11853 non-null float64\n",
      "surface_covered_in_m2      13005 non-null float64\n",
      "floor                      1368 non-null float64\n",
      "rooms                      7500 non-null float64\n",
      "expenses                   2543 non-null object\n",
      "description                14166 non-null object\n",
      "dtypes: float64(6), int64(1), object(10)\n",
      "memory usage: 1.8+ MB\n"
     ]
    }
   ],
   "source": [
    "test.info()"
   ]
  },
  {
   "cell_type": "code",
   "execution_count": 36,
   "metadata": {},
   "outputs": [],
   "source": [
    "from sklearn.model_selection import RandomizedSearchCV, train_test_split\n",
    "from xgboost import XGBRegressor\n",
    "import scipy.stats as st\n",
    "\n",
    "from sklearn.metrics import mean_squared_error"
   ]
  },
  {
   "cell_type": "code",
   "execution_count": 19,
   "metadata": {
    "collapsed": true
   },
   "outputs": [],
   "source": [
    "#divide el set de datos en parte de entrenamiento y parte de test\n",
    "# no se puede usar el test bajado de kaggle porque no tiene el precio\n",
    "X = data.drop([\"price_aprox_usd\"], axis=1)\n",
    "Y = data[\"price_aprox_usd\"]\n",
    "X_train, X_test, Y_train, Y_test = train_test_split(X, Y,test_size=0.33)"
   ]
  },
  {
   "cell_type": "code",
   "execution_count": 32,
   "metadata": {
    "scrolled": false
   },
   "outputs": [
    {
     "name": "stdout",
     "output_type": "stream",
     "text": [
      "Fitting 5 folds for each of 5 candidates, totalling 25 fits\n",
      "[CV] reg_alpha=0.1, max_depth=18, gamma=9.46447461657, subsample=0.950015253751, min_child_weight=45, n_estimators=198, learning_rate=0.0522935382359, colsample_bytree=0.985795919378 \n",
      "[CV]  reg_alpha=0.1, max_depth=18, gamma=9.46447461657, subsample=0.950015253751, min_child_weight=45, n_estimators=198, learning_rate=0.0522935382359, colsample_bytree=0.985795919378, score=0.4195929323828457, total= 8.8min\n",
      "[CV] reg_alpha=0.1, max_depth=18, gamma=9.46447461657, subsample=0.950015253751, min_child_weight=45, n_estimators=198, learning_rate=0.0522935382359, colsample_bytree=0.985795919378 \n"
     ]
    },
    {
     "name": "stderr",
     "output_type": "stream",
     "text": [
      "[Parallel(n_jobs=1)]: Done   1 out of   1 | elapsed:  8.9min remaining:    0.0s\n"
     ]
    },
    {
     "name": "stdout",
     "output_type": "stream",
     "text": [
      "[CV]  reg_alpha=0.1, max_depth=18, gamma=9.46447461657, subsample=0.950015253751, min_child_weight=45, n_estimators=198, learning_rate=0.0522935382359, colsample_bytree=0.985795919378, score=0.7551632917467925, total= 8.7min\n",
      "[CV] reg_alpha=0.1, max_depth=18, gamma=9.46447461657, subsample=0.950015253751, min_child_weight=45, n_estimators=198, learning_rate=0.0522935382359, colsample_bytree=0.985795919378 \n"
     ]
    },
    {
     "name": "stderr",
     "output_type": "stream",
     "text": [
      "[Parallel(n_jobs=1)]: Done   2 out of   2 | elapsed: 17.8min remaining:    0.0s\n"
     ]
    },
    {
     "name": "stdout",
     "output_type": "stream",
     "text": [
      "[CV]  reg_alpha=0.1, max_depth=18, gamma=9.46447461657, subsample=0.950015253751, min_child_weight=45, n_estimators=198, learning_rate=0.0522935382359, colsample_bytree=0.985795919378, score=0.4494894656398375, total= 8.8min\n",
      "[CV] reg_alpha=0.1, max_depth=18, gamma=9.46447461657, subsample=0.950015253751, min_child_weight=45, n_estimators=198, learning_rate=0.0522935382359, colsample_bytree=0.985795919378 \n"
     ]
    },
    {
     "name": "stderr",
     "output_type": "stream",
     "text": [
      "[Parallel(n_jobs=1)]: Done   3 out of   3 | elapsed: 26.7min remaining:    0.0s\n"
     ]
    },
    {
     "name": "stdout",
     "output_type": "stream",
     "text": [
      "[CV]  reg_alpha=0.1, max_depth=18, gamma=9.46447461657, subsample=0.950015253751, min_child_weight=45, n_estimators=198, learning_rate=0.0522935382359, colsample_bytree=0.985795919378, score=0.6891325555366515, total= 8.8min\n",
      "[CV] reg_alpha=0.1, max_depth=18, gamma=9.46447461657, subsample=0.950015253751, min_child_weight=45, n_estimators=198, learning_rate=0.0522935382359, colsample_bytree=0.985795919378 \n"
     ]
    },
    {
     "name": "stderr",
     "output_type": "stream",
     "text": [
      "[Parallel(n_jobs=1)]: Done   4 out of   4 | elapsed: 35.7min remaining:    0.0s\n"
     ]
    },
    {
     "name": "stdout",
     "output_type": "stream",
     "text": [
      "[CV]  reg_alpha=0.1, max_depth=18, gamma=9.46447461657, subsample=0.950015253751, min_child_weight=45, n_estimators=198, learning_rate=0.0522935382359, colsample_bytree=0.985795919378, score=0.6580900607468216, total= 8.7min\n",
      "[CV] reg_alpha=100, max_depth=16, gamma=9.82912959629, subsample=0.991403166607, min_child_weight=15, n_estimators=197, learning_rate=0.0546410210312, colsample_bytree=0.979034684104 \n"
     ]
    },
    {
     "name": "stderr",
     "output_type": "stream",
     "text": [
      "[Parallel(n_jobs=1)]: Done   5 out of   5 | elapsed: 44.6min remaining:    0.0s\n"
     ]
    },
    {
     "name": "stdout",
     "output_type": "stream",
     "text": [
      "[CV]  reg_alpha=100, max_depth=16, gamma=9.82912959629, subsample=0.991403166607, min_child_weight=15, n_estimators=197, learning_rate=0.0546410210312, colsample_bytree=0.979034684104, score=0.4333733740755124, total= 7.7min\n",
      "[CV] reg_alpha=100, max_depth=16, gamma=9.82912959629, subsample=0.991403166607, min_child_weight=15, n_estimators=197, learning_rate=0.0546410210312, colsample_bytree=0.979034684104 \n"
     ]
    },
    {
     "name": "stderr",
     "output_type": "stream",
     "text": [
      "[Parallel(n_jobs=1)]: Done   6 out of   6 | elapsed: 52.4min remaining:    0.0s\n"
     ]
    },
    {
     "name": "stdout",
     "output_type": "stream",
     "text": [
      "[CV]  reg_alpha=100, max_depth=16, gamma=9.82912959629, subsample=0.991403166607, min_child_weight=15, n_estimators=197, learning_rate=0.0546410210312, colsample_bytree=0.979034684104, score=0.7559121875948905, total= 7.5min\n",
      "[CV] reg_alpha=100, max_depth=16, gamma=9.82912959629, subsample=0.991403166607, min_child_weight=15, n_estimators=197, learning_rate=0.0546410210312, colsample_bytree=0.979034684104 \n"
     ]
    },
    {
     "name": "stderr",
     "output_type": "stream",
     "text": [
      "[Parallel(n_jobs=1)]: Done   7 out of   7 | elapsed: 60.1min remaining:    0.0s\n"
     ]
    },
    {
     "name": "stdout",
     "output_type": "stream",
     "text": [
      "[CV]  reg_alpha=100, max_depth=16, gamma=9.82912959629, subsample=0.991403166607, min_child_weight=15, n_estimators=197, learning_rate=0.0546410210312, colsample_bytree=0.979034684104, score=0.44897579267195686, total= 7.7min\n",
      "[CV] reg_alpha=100, max_depth=16, gamma=9.82912959629, subsample=0.991403166607, min_child_weight=15, n_estimators=197, learning_rate=0.0546410210312, colsample_bytree=0.979034684104 \n"
     ]
    },
    {
     "name": "stderr",
     "output_type": "stream",
     "text": [
      "[Parallel(n_jobs=1)]: Done   8 out of   8 | elapsed: 68.0min remaining:    0.0s\n"
     ]
    },
    {
     "name": "stdout",
     "output_type": "stream",
     "text": [
      "[CV]  reg_alpha=100, max_depth=16, gamma=9.82912959629, subsample=0.991403166607, min_child_weight=15, n_estimators=197, learning_rate=0.0546410210312, colsample_bytree=0.979034684104, score=0.6854238403614852, total= 7.6min\n",
      "[CV] reg_alpha=100, max_depth=16, gamma=9.82912959629, subsample=0.991403166607, min_child_weight=15, n_estimators=197, learning_rate=0.0546410210312, colsample_bytree=0.979034684104 \n"
     ]
    },
    {
     "name": "stderr",
     "output_type": "stream",
     "text": [
      "[Parallel(n_jobs=1)]: Done   9 out of   9 | elapsed: 75.8min remaining:    0.0s\n"
     ]
    },
    {
     "name": "stdout",
     "output_type": "stream",
     "text": [
      "[CV]  reg_alpha=100, max_depth=16, gamma=9.82912959629, subsample=0.991403166607, min_child_weight=15, n_estimators=197, learning_rate=0.0546410210312, colsample_bytree=0.979034684104, score=0.6795280508356119, total= 7.6min\n",
      "[CV] reg_alpha=1e-05, max_depth=24, gamma=9.66233219293, subsample=0.975015897969, min_child_weight=45, n_estimators=182, learning_rate=0.0537923819452, colsample_bytree=0.994877696361 \n",
      "[CV]  reg_alpha=1e-05, max_depth=24, gamma=9.66233219293, subsample=0.975015897969, min_child_weight=45, n_estimators=182, learning_rate=0.0537923819452, colsample_bytree=0.994877696361, score=0.4196993565973991, total=11.9min\n",
      "[CV] reg_alpha=1e-05, max_depth=24, gamma=9.66233219293, subsample=0.975015897969, min_child_weight=45, n_estimators=182, learning_rate=0.0537923819452, colsample_bytree=0.994877696361 \n",
      "[CV]  reg_alpha=1e-05, max_depth=24, gamma=9.66233219293, subsample=0.975015897969, min_child_weight=45, n_estimators=182, learning_rate=0.0537923819452, colsample_bytree=0.994877696361, score=0.757044513532058, total=12.1min\n",
      "[CV] reg_alpha=1e-05, max_depth=24, gamma=9.66233219293, subsample=0.975015897969, min_child_weight=45, n_estimators=182, learning_rate=0.0537923819452, colsample_bytree=0.994877696361 \n",
      "[CV]  reg_alpha=1e-05, max_depth=24, gamma=9.66233219293, subsample=0.975015897969, min_child_weight=45, n_estimators=182, learning_rate=0.0537923819452, colsample_bytree=0.994877696361, score=0.44883179065783063, total=10.8min\n",
      "[CV] reg_alpha=1e-05, max_depth=24, gamma=9.66233219293, subsample=0.975015897969, min_child_weight=45, n_estimators=182, learning_rate=0.0537923819452, colsample_bytree=0.994877696361 \n",
      "[CV]  reg_alpha=1e-05, max_depth=24, gamma=9.66233219293, subsample=0.975015897969, min_child_weight=45, n_estimators=182, learning_rate=0.0537923819452, colsample_bytree=0.994877696361, score=0.6895614735071818, total=10.9min\n",
      "[CV] reg_alpha=1e-05, max_depth=24, gamma=9.66233219293, subsample=0.975015897969, min_child_weight=45, n_estimators=182, learning_rate=0.0537923819452, colsample_bytree=0.994877696361 \n",
      "[CV]  reg_alpha=1e-05, max_depth=24, gamma=9.66233219293, subsample=0.975015897969, min_child_weight=45, n_estimators=182, learning_rate=0.0537923819452, colsample_bytree=0.994877696361, score=0.6584949523143848, total=10.8min\n",
      "[CV] reg_alpha=1e-05, max_depth=16, gamma=9.242608507, subsample=0.990896824854, min_child_weight=4, n_estimators=190, learning_rate=0.0540511024645, colsample_bytree=0.982486792795 \n",
      "[CV]  reg_alpha=1e-05, max_depth=16, gamma=9.242608507, subsample=0.990896824854, min_child_weight=4, n_estimators=190, learning_rate=0.0540511024645, colsample_bytree=0.982486792795, score=0.3898424067548274, total= 7.8min\n",
      "[CV] reg_alpha=1e-05, max_depth=16, gamma=9.242608507, subsample=0.990896824854, min_child_weight=4, n_estimators=190, learning_rate=0.0540511024645, colsample_bytree=0.982486792795 \n",
      "[CV]  reg_alpha=1e-05, max_depth=16, gamma=9.242608507, subsample=0.990896824854, min_child_weight=4, n_estimators=190, learning_rate=0.0540511024645, colsample_bytree=0.982486792795, score=0.7480485289179667, total= 7.7min\n",
      "[CV] reg_alpha=1e-05, max_depth=16, gamma=9.242608507, subsample=0.990896824854, min_child_weight=4, n_estimators=190, learning_rate=0.0540511024645, colsample_bytree=0.982486792795 \n",
      "[CV]  reg_alpha=1e-05, max_depth=16, gamma=9.242608507, subsample=0.990896824854, min_child_weight=4, n_estimators=190, learning_rate=0.0540511024645, colsample_bytree=0.982486792795, score=0.46226868125292153, total= 7.9min\n",
      "[CV] reg_alpha=1e-05, max_depth=16, gamma=9.242608507, subsample=0.990896824854, min_child_weight=4, n_estimators=190, learning_rate=0.0540511024645, colsample_bytree=0.982486792795 \n",
      "[CV]  reg_alpha=1e-05, max_depth=16, gamma=9.242608507, subsample=0.990896824854, min_child_weight=4, n_estimators=190, learning_rate=0.0540511024645, colsample_bytree=0.982486792795, score=0.6961462718365861, total= 7.8min\n",
      "[CV] reg_alpha=1e-05, max_depth=16, gamma=9.242608507, subsample=0.990896824854, min_child_weight=4, n_estimators=190, learning_rate=0.0540511024645, colsample_bytree=0.982486792795 \n",
      "[CV]  reg_alpha=1e-05, max_depth=16, gamma=9.242608507, subsample=0.990896824854, min_child_weight=4, n_estimators=190, learning_rate=0.0540511024645, colsample_bytree=0.982486792795, score=0.6777851522078624, total= 8.3min\n",
      "[CV] reg_alpha=1e-05, max_depth=22, gamma=9.0558884377, subsample=0.969960007762, min_child_weight=80, n_estimators=181, learning_rate=0.0530876406937, colsample_bytree=0.982797453432 \n",
      "[CV]  reg_alpha=1e-05, max_depth=22, gamma=9.0558884377, subsample=0.969960007762, min_child_weight=80, n_estimators=181, learning_rate=0.0530876406937, colsample_bytree=0.982797453432, score=0.41151223644986046, total= 9.7min\n",
      "[CV] reg_alpha=1e-05, max_depth=22, gamma=9.0558884377, subsample=0.969960007762, min_child_weight=80, n_estimators=181, learning_rate=0.0530876406937, colsample_bytree=0.982797453432 \n",
      "[CV]  reg_alpha=1e-05, max_depth=22, gamma=9.0558884377, subsample=0.969960007762, min_child_weight=80, n_estimators=181, learning_rate=0.0530876406937, colsample_bytree=0.982797453432, score=0.7484164047140528, total= 9.5min\n",
      "[CV] reg_alpha=1e-05, max_depth=22, gamma=9.0558884377, subsample=0.969960007762, min_child_weight=80, n_estimators=181, learning_rate=0.0530876406937, colsample_bytree=0.982797453432 \n",
      "[CV]  reg_alpha=1e-05, max_depth=22, gamma=9.0558884377, subsample=0.969960007762, min_child_weight=80, n_estimators=181, learning_rate=0.0530876406937, colsample_bytree=0.982797453432, score=0.4426225732551593, total= 9.7min\n",
      "[CV] reg_alpha=1e-05, max_depth=22, gamma=9.0558884377, subsample=0.969960007762, min_child_weight=80, n_estimators=181, learning_rate=0.0530876406937, colsample_bytree=0.982797453432 \n",
      "[CV]  reg_alpha=1e-05, max_depth=22, gamma=9.0558884377, subsample=0.969960007762, min_child_weight=80, n_estimators=181, learning_rate=0.0530876406937, colsample_bytree=0.982797453432, score=0.6747352822715476, total= 9.7min\n",
      "[CV] reg_alpha=1e-05, max_depth=22, gamma=9.0558884377, subsample=0.969960007762, min_child_weight=80, n_estimators=181, learning_rate=0.0530876406937, colsample_bytree=0.982797453432 \n",
      "[CV]  reg_alpha=1e-05, max_depth=22, gamma=9.0558884377, subsample=0.969960007762, min_child_weight=80, n_estimators=181, learning_rate=0.0530876406937, colsample_bytree=0.982797453432, score=0.6517980250710749, total= 9.7min\n"
     ]
    },
    {
     "name": "stderr",
     "output_type": "stream",
     "text": [
      "[Parallel(n_jobs=1)]: Done  25 out of  25 | elapsed: 231.8min finished\n"
     ]
    },
    {
     "data": {
      "text/plain": [
       "RandomizedSearchCV(cv=5, error_score='raise',\n",
       "          estimator=XGBRegressor(base_score=0.5, colsample_bylevel=1, colsample_bytree=1, gamma=0,\n",
       "       learning_rate=0.1, max_delta_step=0, max_depth=3,\n",
       "       min_child_weight=1, missing=None, n_estimators=100, nthread=2,\n",
       "       objective='reg:linear', reg_alpha=0, reg_lambda=1,\n",
       "       scale_pos_weight=1, seed=0, silent=True, subsample=1),\n",
       "          fit_params=None, iid=True, n_iter=5, n_jobs=1,\n",
       "          param_distributions={'reg_alpha': [1e-05, 0.01, 0.1, 1, 100], 'max_depth': <scipy.stats._distn_infrastructure.rv_frozen object at 0x7f046c32a198>, 'gamma': <scipy.stats._distn_infrastructure.rv_frozen object at 0x7f046c32ae10>, 'subsample': <scipy.stats._distn_infrastructure.rv_frozen object at 0x7f...32a2b0>, 'colsample_bytree': <scipy.stats._distn_infrastructure.rv_frozen object at 0x7f046c32aa58>},\n",
       "          pre_dispatch='2*n_jobs', random_state=None, refit=True,\n",
       "          return_train_score=True, scoring=None, verbose=10)"
      ]
     },
     "execution_count": 32,
     "metadata": {},
     "output_type": "execute_result"
    }
   ],
   "source": [
    "## Random search de hiperparametros y entrenamiento del algoritmo, \n",
    "## cuando termina tira dos scores (no se cual es mejor) y los mejores hiperparametros que dieron esos scores\n",
    "## ES LA PARTE QUE TARDA\n",
    "#http://danielhnyk.cz/how-to-use-xgboost-in-python/\n",
    "one_to_left = st.beta(10, 1)  \n",
    "from_zero_positive = st.expon(0, 50)\n",
    "\n",
    "params = {  \n",
    "    \"n_estimators\": st.randint(180,200),#nros random desde a hasta b\n",
    "    \"max_depth\": st.randint(12, 25),\n",
    "    \"learning_rate\": st.uniform(0.052, 0.003), # nros random de una distribucion uniforme entre a y a+b\n",
    "    \"colsample_bytree\": st.uniform(0.97,0.03), \n",
    "    \"subsample\": st.uniform(0.95,0.05), \n",
    "    \"gamma\": st.uniform(9, 1),\n",
    "    'reg_alpha': [20,30,80,100],\n",
    "    \"min_child_weight\": [10,15,20,30]\n",
    "}\n",
    "\n",
    "xgb = XGBRegressor(nthread=2) \n",
    "\n",
    "grid = RandomizedSearchCV(xgb, params, n_jobs=1,n_iter=5,verbose=10,cv=5) # n_iters es la cant de veces que busca, 10 es lo default\n",
    "grid.fit(X, Y, eval_metric=\"rmse\")\n"
   ]
  },
  {
   "cell_type": "code",
   "execution_count": 34,
   "metadata": {},
   "outputs": [
    {
     "name": "stdout",
     "output_type": "stream",
     "text": [
      "0.600642649108\n",
      "{'reg_alpha': 100, 'max_depth': 16, 'gamma': 9.829129596285604, 'subsample': 0.99140316660671524, 'min_child_weight': 15, 'n_estimators': 197, 'learning_rate': 0.054641021031217096, 'colsample_bytree': 0.97903468410439032}\n"
     ]
    }
   ],
   "source": [
    "print(grid.best_score_)\n",
    "#print(grid.best_estimator_)\n",
    "print(grid.best_params_)\n",
    "#print(grid.cv_results_)"
   ]
  },
  {
   "cell_type": "code",
   "execution_count": null,
   "metadata": {},
   "outputs": [],
   "source": [
    "# Parte para probar los parametros sin random search\n",
    "# no tarda mucho porque tira el score de la combinacion de parametros que le pones nada mas\n",
    "xgb = XGBRegressor(colsample_bytree=0.98,gamma=9.83,learning_rate=0.055,max_depth=16,min_child_weight=15,n_estimators=200,\\\n",
    "                  reg_alpha=100,subsample=0.99,nthread=2) \n",
    "\n",
    "xgb.fit(X_train, Y_train,eval_metric=\"rmse\")\n"
   ]
  },
  {
   "cell_type": "code",
   "execution_count": 38,
   "metadata": {},
   "outputs": [
    {
     "name": "stdout",
     "output_type": "stream",
     "text": [
      "42773361988.7\n"
     ]
    }
   ],
   "source": [
    "# Print the rmse score\n",
    "print(mean_squared_error(Y_test, xgb.predict(X_test)))"
   ]
  },
  {
   "cell_type": "code",
   "execution_count": 25,
   "metadata": {
    "collapsed": true
   },
   "outputs": [],
   "source": [
    " df1 = pd.DataFrame({'A': ['A|B|C', 'A|B|C', 'A|B|C', 'A|B|C'],'B': ['A|B|C', 'A|B|C', 'A|B|C', 'A|B|C']},index=[0, 1, 2, 3])"
   ]
  },
  {
   "cell_type": "code",
   "execution_count": 27,
   "metadata": {
    "scrolled": true
   },
   "outputs": [
    {
     "data": {
      "text/html": [
       "<div>\n",
       "<style>\n",
       "    .dataframe thead tr:only-child th {\n",
       "        text-align: right;\n",
       "    }\n",
       "\n",
       "    .dataframe thead th {\n",
       "        text-align: left;\n",
       "    }\n",
       "\n",
       "    .dataframe tbody tr th {\n",
       "        vertical-align: top;\n",
       "    }\n",
       "</style>\n",
       "<table border=\"1\" class=\"dataframe\">\n",
       "  <thead>\n",
       "    <tr style=\"text-align: right;\">\n",
       "      <th></th>\n",
       "      <th>A</th>\n",
       "      <th>B</th>\n",
       "      <th>C</th>\n",
       "    </tr>\n",
       "  </thead>\n",
       "  <tbody>\n",
       "    <tr>\n",
       "      <th>0</th>\n",
       "      <td>1</td>\n",
       "      <td>1</td>\n",
       "      <td>1</td>\n",
       "    </tr>\n",
       "    <tr>\n",
       "      <th>1</th>\n",
       "      <td>1</td>\n",
       "      <td>1</td>\n",
       "      <td>1</td>\n",
       "    </tr>\n",
       "    <tr>\n",
       "      <th>2</th>\n",
       "      <td>1</td>\n",
       "      <td>1</td>\n",
       "      <td>1</td>\n",
       "    </tr>\n",
       "    <tr>\n",
       "      <th>3</th>\n",
       "      <td>1</td>\n",
       "      <td>1</td>\n",
       "      <td>1</td>\n",
       "    </tr>\n",
       "  </tbody>\n",
       "</table>\n",
       "</div>"
      ],
      "text/plain": [
       "   A  B  C\n",
       "0  1  1  1\n",
       "1  1  1  1\n",
       "2  1  1  1\n",
       "3  1  1  1"
      ]
     },
     "execution_count": 27,
     "metadata": {},
     "output_type": "execute_result"
    }
   ],
   "source": [
    "df1.A.str.get_dummies()"
   ]
  },
  {
   "cell_type": "code",
   "execution_count": null,
   "metadata": {
    "collapsed": true
   },
   "outputs": [],
   "source": []
  }
 ],
 "metadata": {
  "kernelspec": {
   "display_name": "Python 3",
   "language": "python",
   "name": "python3"
  },
  "language_info": {
   "codemirror_mode": {
    "name": "ipython",
    "version": 3
   },
   "file_extension": ".py",
   "mimetype": "text/x-python",
   "name": "python",
   "nbconvert_exporter": "python",
   "pygments_lexer": "ipython3",
   "version": "3.5.2"
  }
 },
 "nbformat": 4,
 "nbformat_minor": 2
}
