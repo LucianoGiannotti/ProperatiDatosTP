{
 "cells": [
  {
   "cell_type": "code",
   "execution_count": 1,
   "metadata": {
    "collapsed": true
   },
   "outputs": [],
   "source": [
    "import pandas as pd\n",
    "import numpy as np\n",
    "%matplotlib inline"
   ]
  },
  {
   "cell_type": "code",
   "execution_count": 2,
   "metadata": {
    "collapsed": true
   },
   "outputs": [],
   "source": [
    "data = pd.read_csv('data/data_update-2017-10.csv')"
   ]
  },
  {
   "cell_type": "code",
   "execution_count": 3,
   "metadata": {
    "collapsed": true
   },
   "outputs": [],
   "source": [
    "import unicodedata\n",
    "\n",
    "def elimina_tildes(s):\n",
    "    return ''.join((c for c in unicodedata.normalize('NFD', s) if unicodedata.category(c) != 'Mn'))\n",
    "\n",
    "def descripcion_token(x):\n",
    "    x = elimina_tildes(x)\n",
    "    words = ['parrilla','suite','cochera', 'placard', 'pileta', 'terraza',\\\n",
    "             'vestidor', 'patio', 'hall', 'servicio', 'muebles', 'balcon', 'jard','aire acondicionado', \\\n",
    "             'quincho', 'fondo', 'piscina', 'garage', 'parque', 'estrenar', \\\n",
    "             'galer', 'dependencia', 'buena','calefaccion','radiante', 'seguridad', \\\n",
    "             'chalet','gimnasio','vista']\n",
    "    result = ''\n",
    "    for word in words:\n",
    "        if word in x:\n",
    "            result += '|' + word\n",
    "    return result\n",
    "def place_name_from_parent(x): ## Segun vi el 3 item del place es generalmente el lugar\n",
    "    list = x.split('|')\n",
    "    if(len(list) < 5):\n",
    "        return np.nan\n",
    "    else:\n",
    "        return list[3]\n",
    "    \n",
    "def rescatar_barrios_no_oficiales(x):\n",
    "    if x == 'Once':\n",
    "        return (\"Balvanera\")\n",
    "    elif x == 'Bajo Belgrano':\n",
    "        return (\"Belgrano\")\n",
    "    elif x == 'Alto Palermo':\n",
    "        return (\"Palermo\")\n",
    "    elif x == 'Tribunales':\n",
    "        return (\"San Nicolás\")\n",
    "    elif x == 'Las Cañitas':\n",
    "        return(\"Palermo\")\n",
    "    elif x == 'Capital Federal':\n",
    "        return(np.nan)\n",
    "    else:\n",
    "        return x\n",
    "    \n",
    "def recuperar_cant_amb(x):\n",
    "    \"Recupera el dato amb en x (puede ser la descripcion o el titulo)\"\n",
    "    try:\n",
    "        pos = 0\n",
    "        x = x.lower()\n",
    "        if \"ambientes\" in x:\n",
    "            pos = x.rfind(\"ambientes\")\n",
    "        elif \"amb\" in x:\n",
    "            pos = x.rfind(\"amb\")\n",
    "        if pos != 0:\n",
    "            try:\n",
    "                return (np.float64(x[pos -2]))\n",
    "            except ValueError:\n",
    "                if (\"dos amb\" in x) or (\"dos ambientes\" in x):\n",
    "                    return 2.0\n",
    "                elif (\"tres amb\" in x) or (\"tres ambientes\" in x):\n",
    "                    return 3.0\n",
    "                elif (\"cuatro amb\" in x) or (\"cuatro ambientes\" in x):\n",
    "                    return 4.0\n",
    "                elif (\"cinco amb\" in x) or (\"cinco ambientes\" in x):\n",
    "                    return 5.0\n",
    "                elif (\"seis amb\" in x) or (\"seis ambientes\" in x):\n",
    "                    return 6.0\n",
    "                return np.nan\n",
    "    except AttributeError:\n",
    "        return None\n"
   ]
  },
  {
   "cell_type": "code",
   "execution_count": 4,
   "metadata": {
    "collapsed": true
   },
   "outputs": [],
   "source": [
    "data.loc[:,'place_name'] = data.place_with_parent_names.apply(place_name_from_parent) ## esto quita muchos problemas \n",
    "                                                                                    ## de place name como nombres de country\n",
    "                                                                                    ## o palermo soho\n",
    "data.loc[data.description.notnull(),'description'] = data.loc[data.description.notnull(),'description'].apply(descripcion_token)"
   ]
  },
  {
   "cell_type": "code",
   "execution_count": 7,
   "metadata": {},
   "outputs": [],
   "source": [
    "data.loc[:,'place_name'] = data.place_name.apply(rescatar_barrios_no_oficiales)\n",
    "data['created_on'] = pd.to_datetime(data['created_on']) ## conversion de tipo\n",
    "data['month'] = data.created_on.apply(lambda x: x.month)\n",
    "data['year'] = data.created_on.apply(lambda x: x.year)\n",
    "data['day'] = data.created_on.apply(lambda x: x.day)"
   ]
  },
  {
   "cell_type": "code",
   "execution_count": 8,
   "metadata": {
    "collapsed": true
   },
   "outputs": [],
   "source": [
    "data.dropna(axis=0,subset=['price_aprox_usd'],inplace=True) ## drop de los datos sin precio\n",
    "data = data.loc[data['price_aprox_usd'] > 0,:]"
   ]
  },
  {
   "cell_type": "code",
   "execution_count": 9,
   "metadata": {
    "collapsed": true
   },
   "outputs": [],
   "source": [
    "data.loc[data.rooms.isnull(),'rooms'] = data.description.apply(recuperar_cant_amb)\n",
    "data.loc[data.rooms.isnull(),'rooms'] = data.title.apply(recuperar_cant_amb)\n",
    "data.loc[data.surface_total_in_m2.isnull(),'surface_total_in_m2'] = data.surface_covered_in_m2"
   ]
  },
  {
   "cell_type": "code",
   "execution_count": 10,
   "metadata": {},
   "outputs": [
    {
     "name": "stdout",
     "output_type": "stream",
     "text": [
      "<class 'pandas.core.frame.DataFrame'>\n",
      "Int64Index: 284732 entries, 0 to 317037\n",
      "Data columns (total 26 columns):\n",
      "id                            284732 non-null object\n",
      "created_on                    284732 non-null datetime64[ns]\n",
      "property_type                 284732 non-null object\n",
      "place_name                    278472 non-null object\n",
      "place_with_parent_names       284732 non-null object\n",
      "state_name                    284732 non-null object\n",
      "geonames_id                   224194 non-null float64\n",
      "lat-lon                       202676 non-null object\n",
      "lat                           202676 non-null float64\n",
      "lon                           202676 non-null float64\n",
      "price                         284732 non-null float64\n",
      "currency                      284732 non-null object\n",
      "price_aprox_local_currency    284732 non-null float64\n",
      "price_aprox_usd               284732 non-null float64\n",
      "surface_total_in_m2           266756 non-null float64\n",
      "surface_covered_in_m2         257298 non-null float64\n",
      "price_usd_per_m2              201209 non-null float64\n",
      "price_per_m2                  254155 non-null float64\n",
      "floor                         36551 non-null float64\n",
      "rooms                         168778 non-null float64\n",
      "expenses                      36207 non-null float64\n",
      "description                   284718 non-null object\n",
      "title                         284732 non-null object\n",
      "month                         284732 non-null int64\n",
      "year                          284732 non-null int64\n",
      "day                           284732 non-null int64\n",
      "dtypes: datetime64[ns](1), float64(13), int64(3), object(9)\n",
      "memory usage: 68.7+ MB\n"
     ]
    }
   ],
   "source": [
    "data.info()"
   ]
  },
  {
   "cell_type": "code",
   "execution_count": 12,
   "metadata": {},
   "outputs": [
    {
     "data": {
      "text/html": [
       "<div>\n",
       "<style>\n",
       "    .dataframe thead tr:only-child th {\n",
       "        text-align: right;\n",
       "    }\n",
       "\n",
       "    .dataframe thead th {\n",
       "        text-align: left;\n",
       "    }\n",
       "\n",
       "    .dataframe tbody tr th {\n",
       "        vertical-align: top;\n",
       "    }\n",
       "</style>\n",
       "<table border=\"1\" class=\"dataframe\">\n",
       "  <thead>\n",
       "    <tr style=\"text-align: right;\">\n",
       "      <th></th>\n",
       "      <th>geonames_id</th>\n",
       "      <th>lat</th>\n",
       "      <th>lon</th>\n",
       "      <th>price</th>\n",
       "      <th>price_aprox_local_currency</th>\n",
       "      <th>price_aprox_usd</th>\n",
       "      <th>surface_total_in_m2</th>\n",
       "      <th>surface_covered_in_m2</th>\n",
       "      <th>price_usd_per_m2</th>\n",
       "      <th>price_per_m2</th>\n",
       "      <th>floor</th>\n",
       "      <th>rooms</th>\n",
       "      <th>expenses</th>\n",
       "      <th>month</th>\n",
       "      <th>year</th>\n",
       "      <th>day</th>\n",
       "    </tr>\n",
       "  </thead>\n",
       "  <tbody>\n",
       "    <tr>\n",
       "      <th>count</th>\n",
       "      <td>2.241940e+05</td>\n",
       "      <td>202676.000000</td>\n",
       "      <td>202676.000000</td>\n",
       "      <td>2.847320e+05</td>\n",
       "      <td>2.847320e+05</td>\n",
       "      <td>2.847320e+05</td>\n",
       "      <td>2.667560e+05</td>\n",
       "      <td>2.572980e+05</td>\n",
       "      <td>2.012090e+05</td>\n",
       "      <td>2.541550e+05</td>\n",
       "      <td>36551.000000</td>\n",
       "      <td>168778.000000</td>\n",
       "      <td>3.620700e+04</td>\n",
       "      <td>284732.000000</td>\n",
       "      <td>284732.000000</td>\n",
       "      <td>284732.000000</td>\n",
       "    </tr>\n",
       "    <tr>\n",
       "      <th>mean</th>\n",
       "      <td>3.498000e+06</td>\n",
       "      <td>-34.557248</td>\n",
       "      <td>-58.525949</td>\n",
       "      <td>3.346441e+05</td>\n",
       "      <td>4.267056e+06</td>\n",
       "      <td>2.545583e+05</td>\n",
       "      <td>7.756810e+03</td>\n",
       "      <td>7.948382e+03</td>\n",
       "      <td>2.001651e+03</td>\n",
       "      <td>4.427643e+03</td>\n",
       "      <td>14.513119</td>\n",
       "      <td>2.931780</td>\n",
       "      <td>3.695044e+03</td>\n",
       "      <td>6.425628</td>\n",
       "      <td>2016.229497</td>\n",
       "      <td>17.467334</td>\n",
       "    </tr>\n",
       "    <tr>\n",
       "      <th>std</th>\n",
       "      <td>4.424446e+05</td>\n",
       "      <td>1.376284</td>\n",
       "      <td>1.120437</td>\n",
       "      <td>7.408342e+05</td>\n",
       "      <td>6.123039e+06</td>\n",
       "      <td>3.653688e+05</td>\n",
       "      <td>3.872343e+06</td>\n",
       "      <td>3.942872e+06</td>\n",
       "      <td>4.586174e+03</td>\n",
       "      <td>2.073286e+04</td>\n",
       "      <td>105.542985</td>\n",
       "      <td>1.461706</td>\n",
       "      <td>7.465248e+04</td>\n",
       "      <td>2.818749</td>\n",
       "      <td>0.903856</td>\n",
       "      <td>8.611257</td>\n",
       "    </tr>\n",
       "    <tr>\n",
       "      <th>min</th>\n",
       "      <td>3.427208e+06</td>\n",
       "      <td>-51.626650</td>\n",
       "      <td>-122.419415</td>\n",
       "      <td>2.600000e+03</td>\n",
       "      <td>4.757708e+04</td>\n",
       "      <td>2.754180e+03</td>\n",
       "      <td>0.000000e+00</td>\n",
       "      <td>0.000000e+00</td>\n",
       "      <td>8.000000e-02</td>\n",
       "      <td>5.000000e-05</td>\n",
       "      <td>1.000000</td>\n",
       "      <td>0.000000</td>\n",
       "      <td>1.000000e+00</td>\n",
       "      <td>1.000000</td>\n",
       "      <td>2012.000000</td>\n",
       "      <td>1.000000</td>\n",
       "    </tr>\n",
       "    <tr>\n",
       "      <th>25%</th>\n",
       "      <td>3.429595e+06</td>\n",
       "      <td>-34.629218</td>\n",
       "      <td>-58.579659</td>\n",
       "      <td>1.050000e+05</td>\n",
       "      <td>1.660724e+06</td>\n",
       "      <td>9.900000e+04</td>\n",
       "      <td>4.800000e+01</td>\n",
       "      <td>4.600000e+01</td>\n",
       "      <td>1.120690e+03</td>\n",
       "      <td>1.527778e+03</td>\n",
       "      <td>2.000000</td>\n",
       "      <td>2.000000</td>\n",
       "      <td>1.000000e+03</td>\n",
       "      <td>4.000000</td>\n",
       "      <td>2016.000000</td>\n",
       "      <td>10.000000</td>\n",
       "    </tr>\n",
       "    <tr>\n",
       "      <th>50%</th>\n",
       "      <td>3.430787e+06</td>\n",
       "      <td>-34.592540</td>\n",
       "      <td>-58.481101</td>\n",
       "      <td>1.720000e+05</td>\n",
       "      <td>2.683515e+06</td>\n",
       "      <td>1.600000e+05</td>\n",
       "      <td>8.300000e+01</td>\n",
       "      <td>7.700000e+01</td>\n",
       "      <td>1.785714e+03</td>\n",
       "      <td>2.095532e+03</td>\n",
       "      <td>3.000000</td>\n",
       "      <td>3.000000</td>\n",
       "      <td>1.900000e+03</td>\n",
       "      <td>7.000000</td>\n",
       "      <td>2017.000000</td>\n",
       "      <td>19.000000</td>\n",
       "    </tr>\n",
       "    <tr>\n",
       "      <th>75%</th>\n",
       "      <td>3.435719e+06</td>\n",
       "      <td>-34.518473</td>\n",
       "      <td>-58.417314</td>\n",
       "      <td>3.270000e+05</td>\n",
       "      <td>4.808730e+06</td>\n",
       "      <td>2.890000e+05</td>\n",
       "      <td>2.000000e+02</td>\n",
       "      <td>1.600000e+02</td>\n",
       "      <td>2.450000e+03</td>\n",
       "      <td>2.896774e+03</td>\n",
       "      <td>6.000000</td>\n",
       "      <td>4.000000</td>\n",
       "      <td>3.800000e+03</td>\n",
       "      <td>8.000000</td>\n",
       "      <td>2017.000000</td>\n",
       "      <td>24.000000</td>\n",
       "    </tr>\n",
       "    <tr>\n",
       "      <th>max</th>\n",
       "      <td>6.693230e+06</td>\n",
       "      <td>52.619706</td>\n",
       "      <td>58.496000</td>\n",
       "      <td>1.234568e+08</td>\n",
       "      <td>7.984250e+08</td>\n",
       "      <td>5.000000e+07</td>\n",
       "      <td>2.000000e+09</td>\n",
       "      <td>2.000000e+09</td>\n",
       "      <td>1.271027e+06</td>\n",
       "      <td>4.000000e+06</td>\n",
       "      <td>7071.000000</td>\n",
       "      <td>40.000000</td>\n",
       "      <td>1.000150e+07</td>\n",
       "      <td>12.000000</td>\n",
       "      <td>2017.000000</td>\n",
       "      <td>31.000000</td>\n",
       "    </tr>\n",
       "  </tbody>\n",
       "</table>\n",
       "</div>"
      ],
      "text/plain": [
       "        geonames_id            lat            lon         price  \\\n",
       "count  2.241940e+05  202676.000000  202676.000000  2.847320e+05   \n",
       "mean   3.498000e+06     -34.557248     -58.525949  3.346441e+05   \n",
       "std    4.424446e+05       1.376284       1.120437  7.408342e+05   \n",
       "min    3.427208e+06     -51.626650    -122.419415  2.600000e+03   \n",
       "25%    3.429595e+06     -34.629218     -58.579659  1.050000e+05   \n",
       "50%    3.430787e+06     -34.592540     -58.481101  1.720000e+05   \n",
       "75%    3.435719e+06     -34.518473     -58.417314  3.270000e+05   \n",
       "max    6.693230e+06      52.619706      58.496000  1.234568e+08   \n",
       "\n",
       "       price_aprox_local_currency  price_aprox_usd  surface_total_in_m2  \\\n",
       "count                2.847320e+05     2.847320e+05         2.667560e+05   \n",
       "mean                 4.267056e+06     2.545583e+05         7.756810e+03   \n",
       "std                  6.123039e+06     3.653688e+05         3.872343e+06   \n",
       "min                  4.757708e+04     2.754180e+03         0.000000e+00   \n",
       "25%                  1.660724e+06     9.900000e+04         4.800000e+01   \n",
       "50%                  2.683515e+06     1.600000e+05         8.300000e+01   \n",
       "75%                  4.808730e+06     2.890000e+05         2.000000e+02   \n",
       "max                  7.984250e+08     5.000000e+07         2.000000e+09   \n",
       "\n",
       "       surface_covered_in_m2  price_usd_per_m2  price_per_m2         floor  \\\n",
       "count           2.572980e+05      2.012090e+05  2.541550e+05  36551.000000   \n",
       "mean            7.948382e+03      2.001651e+03  4.427643e+03     14.513119   \n",
       "std             3.942872e+06      4.586174e+03  2.073286e+04    105.542985   \n",
       "min             0.000000e+00      8.000000e-02  5.000000e-05      1.000000   \n",
       "25%             4.600000e+01      1.120690e+03  1.527778e+03      2.000000   \n",
       "50%             7.700000e+01      1.785714e+03  2.095532e+03      3.000000   \n",
       "75%             1.600000e+02      2.450000e+03  2.896774e+03      6.000000   \n",
       "max             2.000000e+09      1.271027e+06  4.000000e+06   7071.000000   \n",
       "\n",
       "               rooms      expenses          month           year  \\\n",
       "count  168778.000000  3.620700e+04  284732.000000  284732.000000   \n",
       "mean        2.931780  3.695044e+03       6.425628    2016.229497   \n",
       "std         1.461706  7.465248e+04       2.818749       0.903856   \n",
       "min         0.000000  1.000000e+00       1.000000    2012.000000   \n",
       "25%         2.000000  1.000000e+03       4.000000    2016.000000   \n",
       "50%         3.000000  1.900000e+03       7.000000    2017.000000   \n",
       "75%         4.000000  3.800000e+03       8.000000    2017.000000   \n",
       "max        40.000000  1.000150e+07      12.000000    2017.000000   \n",
       "\n",
       "                 day  \n",
       "count  284732.000000  \n",
       "mean       17.467334  \n",
       "std         8.611257  \n",
       "min         1.000000  \n",
       "25%        10.000000  \n",
       "50%        19.000000  \n",
       "75%        24.000000  \n",
       "max        31.000000  "
      ]
     },
     "execution_count": 12,
     "metadata": {},
     "output_type": "execute_result"
    }
   ],
   "source": [
    "data.describe()"
   ]
  },
  {
   "cell_type": "code",
   "execution_count": 13,
   "metadata": {
    "collapsed": true
   },
   "outputs": [],
   "source": [
    "#Filtrar datos anomalos"
   ]
  },
  {
   "cell_type": "code",
   "execution_count": 14,
   "metadata": {
    "collapsed": true
   },
   "outputs": [],
   "source": [
    "# Nan para los datos faltantes es mejor que dropear todo el dato \n",
    "# Los nros estan masomenos pensados MASOMENOS JEJE\n",
    "data.loc[(data['surface_total_in_m2']>5000) | (data['surface_total_in_m2'] < 30),'surface_total_in_m2'] = np.nan\n",
    "data.loc[(data['surface_covered_in_m2']>5000),'surface_covered_in_m2'] = np.nan\n",
    "data.loc[data['floor']>30,'floor'] = np.nan\n",
    "data.loc[data['rooms']==0,'rooms'] = np.nan\n",
    "data.loc[data['rooms']>10,'rooms'] = np.nan\n",
    "data.loc[(data['lat']>-33) | (data['lat']<-36),['lat','lon','lat-lon']] = np.nan\n",
    "data.loc[(data['lon']>-57) | (data['lon']<-60),['lat','lon','lat-lon']] = np.nan\n",
    "data.loc[(data['expenses']>14000) | (data['expenses']<100),'expenses'] = np.nan"
   ]
  },
  {
   "cell_type": "code",
   "execution_count": 15,
   "metadata": {},
   "outputs": [
    {
     "data": {
      "text/html": [
       "<div>\n",
       "<style>\n",
       "    .dataframe thead tr:only-child th {\n",
       "        text-align: right;\n",
       "    }\n",
       "\n",
       "    .dataframe thead th {\n",
       "        text-align: left;\n",
       "    }\n",
       "\n",
       "    .dataframe tbody tr th {\n",
       "        vertical-align: top;\n",
       "    }\n",
       "</style>\n",
       "<table border=\"1\" class=\"dataframe\">\n",
       "  <thead>\n",
       "    <tr style=\"text-align: right;\">\n",
       "      <th></th>\n",
       "      <th>geonames_id</th>\n",
       "      <th>lat</th>\n",
       "      <th>lon</th>\n",
       "      <th>price</th>\n",
       "      <th>price_aprox_local_currency</th>\n",
       "      <th>price_aprox_usd</th>\n",
       "      <th>surface_total_in_m2</th>\n",
       "      <th>surface_covered_in_m2</th>\n",
       "      <th>price_usd_per_m2</th>\n",
       "      <th>price_per_m2</th>\n",
       "      <th>floor</th>\n",
       "      <th>rooms</th>\n",
       "      <th>expenses</th>\n",
       "      <th>month</th>\n",
       "      <th>year</th>\n",
       "      <th>day</th>\n",
       "    </tr>\n",
       "  </thead>\n",
       "  <tbody>\n",
       "    <tr>\n",
       "      <th>count</th>\n",
       "      <td>2.241940e+05</td>\n",
       "      <td>201991.000000</td>\n",
       "      <td>201991.000000</td>\n",
       "      <td>2.847320e+05</td>\n",
       "      <td>2.847320e+05</td>\n",
       "      <td>2.847320e+05</td>\n",
       "      <td>246119.000000</td>\n",
       "      <td>257159.000000</td>\n",
       "      <td>2.012090e+05</td>\n",
       "      <td>2.541550e+05</td>\n",
       "      <td>35771.000000</td>\n",
       "      <td>168593.000000</td>\n",
       "      <td>33221.000000</td>\n",
       "      <td>284732.000000</td>\n",
       "      <td>284732.000000</td>\n",
       "      <td>284732.000000</td>\n",
       "    </tr>\n",
       "    <tr>\n",
       "      <th>mean</th>\n",
       "      <td>3.498000e+06</td>\n",
       "      <td>-34.580672</td>\n",
       "      <td>-58.504874</td>\n",
       "      <td>3.346441e+05</td>\n",
       "      <td>4.267056e+06</td>\n",
       "      <td>2.545583e+05</td>\n",
       "      <td>203.475530</td>\n",
       "      <td>125.382332</td>\n",
       "      <td>2.001651e+03</td>\n",
       "      <td>4.427643e+03</td>\n",
       "      <td>4.437310</td>\n",
       "      <td>2.920525</td>\n",
       "      <td>2868.053972</td>\n",
       "      <td>6.425628</td>\n",
       "      <td>2016.229497</td>\n",
       "      <td>17.467334</td>\n",
       "    </tr>\n",
       "    <tr>\n",
       "      <th>std</th>\n",
       "      <td>4.424446e+05</td>\n",
       "      <td>0.111066</td>\n",
       "      <td>0.151545</td>\n",
       "      <td>7.408342e+05</td>\n",
       "      <td>6.123039e+06</td>\n",
       "      <td>3.653688e+05</td>\n",
       "      <td>319.993164</td>\n",
       "      <td>159.775597</td>\n",
       "      <td>4.586174e+03</td>\n",
       "      <td>2.073286e+04</td>\n",
       "      <td>3.848211</td>\n",
       "      <td>1.409492</td>\n",
       "      <td>2580.415831</td>\n",
       "      <td>2.818749</td>\n",
       "      <td>0.903856</td>\n",
       "      <td>8.611257</td>\n",
       "    </tr>\n",
       "    <tr>\n",
       "      <th>min</th>\n",
       "      <td>3.427208e+06</td>\n",
       "      <td>-35.765171</td>\n",
       "      <td>-59.664010</td>\n",
       "      <td>2.600000e+03</td>\n",
       "      <td>4.757708e+04</td>\n",
       "      <td>2.754180e+03</td>\n",
       "      <td>30.000000</td>\n",
       "      <td>0.000000</td>\n",
       "      <td>8.000000e-02</td>\n",
       "      <td>5.000000e-05</td>\n",
       "      <td>1.000000</td>\n",
       "      <td>1.000000</td>\n",
       "      <td>100.000000</td>\n",
       "      <td>1.000000</td>\n",
       "      <td>2012.000000</td>\n",
       "      <td>1.000000</td>\n",
       "    </tr>\n",
       "    <tr>\n",
       "      <th>25%</th>\n",
       "      <td>3.429595e+06</td>\n",
       "      <td>-34.628929</td>\n",
       "      <td>-58.579640</td>\n",
       "      <td>1.050000e+05</td>\n",
       "      <td>1.660724e+06</td>\n",
       "      <td>9.900000e+04</td>\n",
       "      <td>54.000000</td>\n",
       "      <td>46.000000</td>\n",
       "      <td>1.120690e+03</td>\n",
       "      <td>1.527778e+03</td>\n",
       "      <td>2.000000</td>\n",
       "      <td>2.000000</td>\n",
       "      <td>1100.000000</td>\n",
       "      <td>4.000000</td>\n",
       "      <td>2016.000000</td>\n",
       "      <td>10.000000</td>\n",
       "    </tr>\n",
       "    <tr>\n",
       "      <th>50%</th>\n",
       "      <td>3.430787e+06</td>\n",
       "      <td>-34.592502</td>\n",
       "      <td>-58.480858</td>\n",
       "      <td>1.720000e+05</td>\n",
       "      <td>2.683515e+06</td>\n",
       "      <td>1.600000e+05</td>\n",
       "      <td>93.000000</td>\n",
       "      <td>77.000000</td>\n",
       "      <td>1.785714e+03</td>\n",
       "      <td>2.095532e+03</td>\n",
       "      <td>3.000000</td>\n",
       "      <td>3.000000</td>\n",
       "      <td>2000.000000</td>\n",
       "      <td>7.000000</td>\n",
       "      <td>2017.000000</td>\n",
       "      <td>19.000000</td>\n",
       "    </tr>\n",
       "    <tr>\n",
       "      <th>75%</th>\n",
       "      <td>3.435719e+06</td>\n",
       "      <td>-34.518706</td>\n",
       "      <td>-58.417173</td>\n",
       "      <td>3.270000e+05</td>\n",
       "      <td>4.808730e+06</td>\n",
       "      <td>2.890000e+05</td>\n",
       "      <td>215.000000</td>\n",
       "      <td>160.000000</td>\n",
       "      <td>2.450000e+03</td>\n",
       "      <td>2.896774e+03</td>\n",
       "      <td>6.000000</td>\n",
       "      <td>4.000000</td>\n",
       "      <td>3900.000000</td>\n",
       "      <td>8.000000</td>\n",
       "      <td>2017.000000</td>\n",
       "      <td>24.000000</td>\n",
       "    </tr>\n",
       "    <tr>\n",
       "      <th>max</th>\n",
       "      <td>6.693230e+06</td>\n",
       "      <td>-33.677756</td>\n",
       "      <td>-57.848496</td>\n",
       "      <td>1.234568e+08</td>\n",
       "      <td>7.984250e+08</td>\n",
       "      <td>5.000000e+07</td>\n",
       "      <td>5000.000000</td>\n",
       "      <td>5000.000000</td>\n",
       "      <td>1.271027e+06</td>\n",
       "      <td>4.000000e+06</td>\n",
       "      <td>30.000000</td>\n",
       "      <td>10.000000</td>\n",
       "      <td>14000.000000</td>\n",
       "      <td>12.000000</td>\n",
       "      <td>2017.000000</td>\n",
       "      <td>31.000000</td>\n",
       "    </tr>\n",
       "  </tbody>\n",
       "</table>\n",
       "</div>"
      ],
      "text/plain": [
       "        geonames_id            lat            lon         price  \\\n",
       "count  2.241940e+05  201991.000000  201991.000000  2.847320e+05   \n",
       "mean   3.498000e+06     -34.580672     -58.504874  3.346441e+05   \n",
       "std    4.424446e+05       0.111066       0.151545  7.408342e+05   \n",
       "min    3.427208e+06     -35.765171     -59.664010  2.600000e+03   \n",
       "25%    3.429595e+06     -34.628929     -58.579640  1.050000e+05   \n",
       "50%    3.430787e+06     -34.592502     -58.480858  1.720000e+05   \n",
       "75%    3.435719e+06     -34.518706     -58.417173  3.270000e+05   \n",
       "max    6.693230e+06     -33.677756     -57.848496  1.234568e+08   \n",
       "\n",
       "       price_aprox_local_currency  price_aprox_usd  surface_total_in_m2  \\\n",
       "count                2.847320e+05     2.847320e+05        246119.000000   \n",
       "mean                 4.267056e+06     2.545583e+05           203.475530   \n",
       "std                  6.123039e+06     3.653688e+05           319.993164   \n",
       "min                  4.757708e+04     2.754180e+03            30.000000   \n",
       "25%                  1.660724e+06     9.900000e+04            54.000000   \n",
       "50%                  2.683515e+06     1.600000e+05            93.000000   \n",
       "75%                  4.808730e+06     2.890000e+05           215.000000   \n",
       "max                  7.984250e+08     5.000000e+07          5000.000000   \n",
       "\n",
       "       surface_covered_in_m2  price_usd_per_m2  price_per_m2         floor  \\\n",
       "count          257159.000000      2.012090e+05  2.541550e+05  35771.000000   \n",
       "mean              125.382332      2.001651e+03  4.427643e+03      4.437310   \n",
       "std               159.775597      4.586174e+03  2.073286e+04      3.848211   \n",
       "min                 0.000000      8.000000e-02  5.000000e-05      1.000000   \n",
       "25%                46.000000      1.120690e+03  1.527778e+03      2.000000   \n",
       "50%                77.000000      1.785714e+03  2.095532e+03      3.000000   \n",
       "75%               160.000000      2.450000e+03  2.896774e+03      6.000000   \n",
       "max              5000.000000      1.271027e+06  4.000000e+06     30.000000   \n",
       "\n",
       "               rooms      expenses          month           year  \\\n",
       "count  168593.000000  33221.000000  284732.000000  284732.000000   \n",
       "mean        2.920525   2868.053972       6.425628    2016.229497   \n",
       "std         1.409492   2580.415831       2.818749       0.903856   \n",
       "min         1.000000    100.000000       1.000000    2012.000000   \n",
       "25%         2.000000   1100.000000       4.000000    2016.000000   \n",
       "50%         3.000000   2000.000000       7.000000    2017.000000   \n",
       "75%         4.000000   3900.000000       8.000000    2017.000000   \n",
       "max        10.000000  14000.000000      12.000000    2017.000000   \n",
       "\n",
       "                 day  \n",
       "count  284732.000000  \n",
       "mean       17.467334  \n",
       "std         8.611257  \n",
       "min         1.000000  \n",
       "25%        10.000000  \n",
       "50%        19.000000  \n",
       "75%        24.000000  \n",
       "max        31.000000  "
      ]
     },
     "execution_count": 15,
     "metadata": {},
     "output_type": "execute_result"
    }
   ],
   "source": [
    "data.describe()"
   ]
  },
  {
   "cell_type": "code",
   "execution_count": 16,
   "metadata": {},
   "outputs": [
    {
     "name": "stdout",
     "output_type": "stream",
     "text": [
      "<class 'pandas.core.frame.DataFrame'>\n",
      "Int64Index: 284732 entries, 0 to 317037\n",
      "Data columns (total 26 columns):\n",
      "id                            284732 non-null object\n",
      "created_on                    284732 non-null datetime64[ns]\n",
      "property_type                 284732 non-null object\n",
      "place_name                    278472 non-null object\n",
      "place_with_parent_names       284732 non-null object\n",
      "state_name                    284732 non-null object\n",
      "geonames_id                   224194 non-null float64\n",
      "lat-lon                       201991 non-null object\n",
      "lat                           201991 non-null float64\n",
      "lon                           201991 non-null float64\n",
      "price                         284732 non-null float64\n",
      "currency                      284732 non-null object\n",
      "price_aprox_local_currency    284732 non-null float64\n",
      "price_aprox_usd               284732 non-null float64\n",
      "surface_total_in_m2           246119 non-null float64\n",
      "surface_covered_in_m2         257159 non-null float64\n",
      "price_usd_per_m2              201209 non-null float64\n",
      "price_per_m2                  254155 non-null float64\n",
      "floor                         35771 non-null float64\n",
      "rooms                         168593 non-null float64\n",
      "expenses                      33221 non-null float64\n",
      "description                   284718 non-null object\n",
      "title                         284732 non-null object\n",
      "month                         284732 non-null int64\n",
      "year                          284732 non-null int64\n",
      "day                           284732 non-null int64\n",
      "dtypes: datetime64[ns](1), float64(13), int64(3), object(9)\n",
      "memory usage: 68.7+ MB\n"
     ]
    }
   ],
   "source": [
    "data.info()"
   ]
  },
  {
   "cell_type": "code",
   "execution_count": 17,
   "metadata": {},
   "outputs": [
    {
     "name": "stdout",
     "output_type": "stream",
     "text": [
      "<class 'pandas.core.frame.DataFrame'>\n",
      "Int64Index: 284732 entries, 0 to 317037\n",
      "Data columns (total 15 columns):\n",
      "property_type            284732 non-null object\n",
      "place_name               278472 non-null object\n",
      "state_name               284732 non-null object\n",
      "lat                      201991 non-null float64\n",
      "lon                      201991 non-null float64\n",
      "price_aprox_usd          284732 non-null float64\n",
      "surface_total_in_m2      246119 non-null float64\n",
      "surface_covered_in_m2    257159 non-null float64\n",
      "floor                    35771 non-null float64\n",
      "rooms                    168593 non-null float64\n",
      "expenses                 33221 non-null float64\n",
      "description              284718 non-null object\n",
      "month                    284732 non-null int64\n",
      "year                     284732 non-null int64\n",
      "day                      284732 non-null int64\n",
      "dtypes: float64(8), int64(3), object(4)\n",
      "memory usage: 44.8+ MB\n"
     ]
    }
   ],
   "source": [
    "# Dropeo las columnas que no se usan porque el test no las tiene o no son necesarias\n",
    "data.drop(['price','price_usd_per_m2','price_per_m2','currency',\\\n",
    "          'id','created_on','geonames_id','lat-lon','price_aprox_local_currency',\\\n",
    "         'title','place_with_parent_names'], axis=1, inplace=True)\n",
    "data.info()"
   ]
  },
  {
   "cell_type": "code",
   "execution_count": 18,
   "metadata": {
    "collapsed": true
   },
   "outputs": [],
   "source": [
    "\n",
    "#test.drop(['id','created_on','lat-lon','description','country_name'], axis=1, inplace=True)\n",
    "data.dropna(thresh=9,inplace=True)"
   ]
  },
  {
   "cell_type": "code",
   "execution_count": 19,
   "metadata": {
    "collapsed": true
   },
   "outputs": [],
   "source": [
    "#Esto es importante, convierto los datos categoricos en numericos cada categoria una columna con 1 si true o 0 si false\n",
    "##https://stackoverflow.com/questions/34265102/xgboost-categorical-variables-dummification-vs-encoding\n",
    "##https://machinelearningmastery.com/data-preparation-gradient-boosting-xgboost-python/\n",
    "data = data.join(pd.get_dummies(data.property_type))\n",
    "data.drop('property_type',axis=1, inplace=True)\n",
    "data = data.join(data.description.str.get_dummies())\n",
    "data.drop('description',axis=1, inplace=True)\n",
    "data = data.join(pd.get_dummies(data.place_name))\n",
    "data.drop('place_name',axis=1, inplace=True)\n",
    "data = data.join(pd.get_dummies(data.state_name))\n",
    "data.drop('state_name',axis=1, inplace=True)"
   ]
  },
  {
   "cell_type": "code",
   "execution_count": 20,
   "metadata": {
    "collapsed": true
   },
   "outputs": [],
   "source": [
    "#####XGBOOST\n",
    "#https://github.com/dmlc/xgboost\n",
    "#https://xgboost.readthedocs.io/en/latest/build.html\n",
    "#https://www.analyticsvidhya.com/blog/2016/03/complete-guide-parameter-tuning-xgboost-with-codes-python/\n",
    "#https://www.slideshare.net/ShangxuanZhang/kaggle-winning-solution-xgboost-algorithm-let-us-learn-from-its-author\n"
   ]
  },
  {
   "cell_type": "code",
   "execution_count": 21,
   "metadata": {},
   "outputs": [
    {
     "name": "stderr",
     "output_type": "stream",
     "text": [
      "/usr/local/lib/python3.5/dist-packages/sklearn/cross_validation.py:41: DeprecationWarning: This module was deprecated in version 0.18 in favor of the model_selection module into which all the refactored classes and functions are moved. Also note that the interface of the new CV iterators are different from that of this module. This module will be removed in 0.20.\n",
      "  \"This module will be removed in 0.20.\", DeprecationWarning)\n"
     ]
    }
   ],
   "source": [
    "from sklearn.model_selection import RandomizedSearchCV, train_test_split\n",
    "from xgboost import XGBRegressor\n",
    "import scipy.stats as st\n",
    "\n",
    "from sklearn.metrics import mean_squared_error"
   ]
  },
  {
   "cell_type": "code",
   "execution_count": 22,
   "metadata": {
    "collapsed": true
   },
   "outputs": [],
   "source": [
    "#divide el set de datos en parte de entrenamiento y parte de test\n",
    "# no se puede usar el test bajado de kaggle porque no tiene el precio\n",
    "X = data.drop([\"price_aprox_usd\"], axis=1)\n",
    "Y = data[\"price_aprox_usd\"]"
   ]
  },
  {
   "cell_type": "code",
   "execution_count": 24,
   "metadata": {
    "scrolled": false
   },
   "outputs": [
    {
     "name": "stdout",
     "output_type": "stream",
     "text": [
      "Fitting 5 folds for each of 5 candidates, totalling 25 fits\n",
      "[CV] learning_rate=0.0547, subsample=0.647635921028, colsample_bytree=0.773814799143, n_estimators=200, gamma=9.00905896034, min_child_weight=20, reg_alpha=25, max_depth=28 \n",
      "[CV]  learning_rate=0.0547, subsample=0.647635921028, colsample_bytree=0.773814799143, n_estimators=200, gamma=9.00905896034, min_child_weight=20, reg_alpha=25, max_depth=28, score=0.45398050614005747, total=16.3min\n",
      "[CV] learning_rate=0.0547, subsample=0.647635921028, colsample_bytree=0.773814799143, n_estimators=200, gamma=9.00905896034, min_child_weight=20, reg_alpha=25, max_depth=28 \n"
     ]
    },
    {
     "name": "stderr",
     "output_type": "stream",
     "text": [
      "[Parallel(n_jobs=1)]: Done   1 out of   1 | elapsed: 17.1min remaining:    0.0s\n"
     ]
    },
    {
     "name": "stdout",
     "output_type": "stream",
     "text": [
      "[CV]  learning_rate=0.0547, subsample=0.647635921028, colsample_bytree=0.773814799143, n_estimators=200, gamma=9.00905896034, min_child_weight=20, reg_alpha=25, max_depth=28, score=0.6833677656209565, total=16.0min\n",
      "[CV] learning_rate=0.0547, subsample=0.647635921028, colsample_bytree=0.773814799143, n_estimators=200, gamma=9.00905896034, min_child_weight=20, reg_alpha=25, max_depth=28 \n"
     ]
    },
    {
     "name": "stderr",
     "output_type": "stream",
     "text": [
      "[Parallel(n_jobs=1)]: Done   2 out of   2 | elapsed: 33.9min remaining:    0.0s\n"
     ]
    },
    {
     "name": "stdout",
     "output_type": "stream",
     "text": [
      "[CV]  learning_rate=0.0547, subsample=0.647635921028, colsample_bytree=0.773814799143, n_estimators=200, gamma=9.00905896034, min_child_weight=20, reg_alpha=25, max_depth=28, score=0.49123252663285844, total=15.9min\n",
      "[CV] learning_rate=0.0547, subsample=0.647635921028, colsample_bytree=0.773814799143, n_estimators=200, gamma=9.00905896034, min_child_weight=20, reg_alpha=25, max_depth=28 \n"
     ]
    },
    {
     "name": "stderr",
     "output_type": "stream",
     "text": [
      "[Parallel(n_jobs=1)]: Done   3 out of   3 | elapsed: 50.5min remaining:    0.0s\n"
     ]
    },
    {
     "name": "stdout",
     "output_type": "stream",
     "text": [
      "[CV]  learning_rate=0.0547, subsample=0.647635921028, colsample_bytree=0.773814799143, n_estimators=200, gamma=9.00905896034, min_child_weight=20, reg_alpha=25, max_depth=28, score=0.6376122792316379, total=16.0min\n",
      "[CV] learning_rate=0.0547, subsample=0.647635921028, colsample_bytree=0.773814799143, n_estimators=200, gamma=9.00905896034, min_child_weight=20, reg_alpha=25, max_depth=28 \n"
     ]
    },
    {
     "name": "stderr",
     "output_type": "stream",
     "text": [
      "[Parallel(n_jobs=1)]: Done   4 out of   4 | elapsed: 67.2min remaining:    0.0s\n"
     ]
    },
    {
     "name": "stdout",
     "output_type": "stream",
     "text": [
      "[CV]  learning_rate=0.0547, subsample=0.647635921028, colsample_bytree=0.773814799143, n_estimators=200, gamma=9.00905896034, min_child_weight=20, reg_alpha=25, max_depth=28, score=0.6361981430385704, total=16.2min\n",
      "[CV] learning_rate=0.0547, subsample=0.532332901635, colsample_bytree=0.727280428048, n_estimators=200, gamma=9.21215067705, min_child_weight=22, reg_alpha=30, max_depth=27 \n"
     ]
    },
    {
     "name": "stderr",
     "output_type": "stream",
     "text": [
      "[Parallel(n_jobs=1)]: Done   5 out of   5 | elapsed: 84.2min remaining:    0.0s\n"
     ]
    },
    {
     "ename": "KeyboardInterrupt",
     "evalue": "",
     "output_type": "error",
     "traceback": [
      "\u001b[0;31m---------------------------------------------------------------------------\u001b[0m",
      "\u001b[0;31mKeyboardInterrupt\u001b[0m                         Traceback (most recent call last)",
      "\u001b[0;32m<ipython-input-24-abf31f37069b>\u001b[0m in \u001b[0;36m<module>\u001b[0;34m()\u001b[0m\n\u001b[1;32m     20\u001b[0m \u001b[0;34m\u001b[0m\u001b[0m\n\u001b[1;32m     21\u001b[0m \u001b[0mgrid\u001b[0m \u001b[0;34m=\u001b[0m \u001b[0mRandomizedSearchCV\u001b[0m\u001b[0;34m(\u001b[0m\u001b[0mxgb\u001b[0m\u001b[0;34m,\u001b[0m \u001b[0mparams\u001b[0m\u001b[0;34m,\u001b[0m \u001b[0mn_jobs\u001b[0m\u001b[0;34m=\u001b[0m\u001b[0;36m1\u001b[0m\u001b[0;34m,\u001b[0m\u001b[0mn_iter\u001b[0m\u001b[0;34m=\u001b[0m\u001b[0;36m5\u001b[0m\u001b[0;34m,\u001b[0m\u001b[0mverbose\u001b[0m\u001b[0;34m=\u001b[0m\u001b[0;36m10\u001b[0m\u001b[0;34m,\u001b[0m\u001b[0mcv\u001b[0m\u001b[0;34m=\u001b[0m\u001b[0;36m5\u001b[0m\u001b[0;34m)\u001b[0m \u001b[0;31m# n_iters es la cant de veces que busca, 10 es lo default\u001b[0m\u001b[0;34m\u001b[0m\u001b[0m\n\u001b[0;32m---> 22\u001b[0;31m \u001b[0mgrid\u001b[0m\u001b[0;34m.\u001b[0m\u001b[0mfit\u001b[0m\u001b[0;34m(\u001b[0m\u001b[0mX\u001b[0m\u001b[0;34m,\u001b[0m \u001b[0mY\u001b[0m\u001b[0;34m,\u001b[0m \u001b[0meval_metric\u001b[0m\u001b[0;34m=\u001b[0m\u001b[0;34m\"rmse\"\u001b[0m\u001b[0;34m)\u001b[0m\u001b[0;34m\u001b[0m\u001b[0m\n\u001b[0m",
      "\u001b[0;32m/usr/local/lib/python3.5/dist-packages/sklearn/model_selection/_search.py\u001b[0m in \u001b[0;36mfit\u001b[0;34m(self, X, y, groups, **fit_params)\u001b[0m\n\u001b[1;32m    636\u001b[0m                                   error_score=self.error_score)\n\u001b[1;32m    637\u001b[0m           for parameters, (train, test) in product(candidate_params,\n\u001b[0;32m--> 638\u001b[0;31m                                                    cv.split(X, y, groups)))\n\u001b[0m\u001b[1;32m    639\u001b[0m \u001b[0;34m\u001b[0m\u001b[0m\n\u001b[1;32m    640\u001b[0m         \u001b[0;31m# if one choose to see train score, \"out\" will contain train score info\u001b[0m\u001b[0;34m\u001b[0m\u001b[0;34m\u001b[0m\u001b[0m\n",
      "\u001b[0;32m/usr/local/lib/python3.5/dist-packages/sklearn/externals/joblib/parallel.py\u001b[0m in \u001b[0;36m__call__\u001b[0;34m(self, iterable)\u001b[0m\n\u001b[1;32m    777\u001b[0m             \u001b[0;31m# was dispatched. In particular this covers the edge\u001b[0m\u001b[0;34m\u001b[0m\u001b[0;34m\u001b[0m\u001b[0m\n\u001b[1;32m    778\u001b[0m             \u001b[0;31m# case of Parallel used with an exhausted iterator.\u001b[0m\u001b[0;34m\u001b[0m\u001b[0;34m\u001b[0m\u001b[0m\n\u001b[0;32m--> 779\u001b[0;31m             \u001b[0;32mwhile\u001b[0m \u001b[0mself\u001b[0m\u001b[0;34m.\u001b[0m\u001b[0mdispatch_one_batch\u001b[0m\u001b[0;34m(\u001b[0m\u001b[0miterator\u001b[0m\u001b[0;34m)\u001b[0m\u001b[0;34m:\u001b[0m\u001b[0;34m\u001b[0m\u001b[0m\n\u001b[0m\u001b[1;32m    780\u001b[0m                 \u001b[0mself\u001b[0m\u001b[0;34m.\u001b[0m\u001b[0m_iterating\u001b[0m \u001b[0;34m=\u001b[0m \u001b[0;32mTrue\u001b[0m\u001b[0;34m\u001b[0m\u001b[0m\n\u001b[1;32m    781\u001b[0m             \u001b[0;32melse\u001b[0m\u001b[0;34m:\u001b[0m\u001b[0;34m\u001b[0m\u001b[0m\n",
      "\u001b[0;32m/usr/local/lib/python3.5/dist-packages/sklearn/externals/joblib/parallel.py\u001b[0m in \u001b[0;36mdispatch_one_batch\u001b[0;34m(self, iterator)\u001b[0m\n\u001b[1;32m    623\u001b[0m                 \u001b[0;32mreturn\u001b[0m \u001b[0;32mFalse\u001b[0m\u001b[0;34m\u001b[0m\u001b[0m\n\u001b[1;32m    624\u001b[0m             \u001b[0;32melse\u001b[0m\u001b[0;34m:\u001b[0m\u001b[0;34m\u001b[0m\u001b[0m\n\u001b[0;32m--> 625\u001b[0;31m                 \u001b[0mself\u001b[0m\u001b[0;34m.\u001b[0m\u001b[0m_dispatch\u001b[0m\u001b[0;34m(\u001b[0m\u001b[0mtasks\u001b[0m\u001b[0;34m)\u001b[0m\u001b[0;34m\u001b[0m\u001b[0m\n\u001b[0m\u001b[1;32m    626\u001b[0m                 \u001b[0;32mreturn\u001b[0m \u001b[0;32mTrue\u001b[0m\u001b[0;34m\u001b[0m\u001b[0m\n\u001b[1;32m    627\u001b[0m \u001b[0;34m\u001b[0m\u001b[0m\n",
      "\u001b[0;32m/usr/local/lib/python3.5/dist-packages/sklearn/externals/joblib/parallel.py\u001b[0m in \u001b[0;36m_dispatch\u001b[0;34m(self, batch)\u001b[0m\n\u001b[1;32m    586\u001b[0m         \u001b[0mdispatch_timestamp\u001b[0m \u001b[0;34m=\u001b[0m \u001b[0mtime\u001b[0m\u001b[0;34m.\u001b[0m\u001b[0mtime\u001b[0m\u001b[0;34m(\u001b[0m\u001b[0;34m)\u001b[0m\u001b[0;34m\u001b[0m\u001b[0m\n\u001b[1;32m    587\u001b[0m         \u001b[0mcb\u001b[0m \u001b[0;34m=\u001b[0m \u001b[0mBatchCompletionCallBack\u001b[0m\u001b[0;34m(\u001b[0m\u001b[0mdispatch_timestamp\u001b[0m\u001b[0;34m,\u001b[0m \u001b[0mlen\u001b[0m\u001b[0;34m(\u001b[0m\u001b[0mbatch\u001b[0m\u001b[0;34m)\u001b[0m\u001b[0;34m,\u001b[0m \u001b[0mself\u001b[0m\u001b[0;34m)\u001b[0m\u001b[0;34m\u001b[0m\u001b[0m\n\u001b[0;32m--> 588\u001b[0;31m         \u001b[0mjob\u001b[0m \u001b[0;34m=\u001b[0m \u001b[0mself\u001b[0m\u001b[0;34m.\u001b[0m\u001b[0m_backend\u001b[0m\u001b[0;34m.\u001b[0m\u001b[0mapply_async\u001b[0m\u001b[0;34m(\u001b[0m\u001b[0mbatch\u001b[0m\u001b[0;34m,\u001b[0m \u001b[0mcallback\u001b[0m\u001b[0;34m=\u001b[0m\u001b[0mcb\u001b[0m\u001b[0;34m)\u001b[0m\u001b[0;34m\u001b[0m\u001b[0m\n\u001b[0m\u001b[1;32m    589\u001b[0m         \u001b[0mself\u001b[0m\u001b[0;34m.\u001b[0m\u001b[0m_jobs\u001b[0m\u001b[0;34m.\u001b[0m\u001b[0mappend\u001b[0m\u001b[0;34m(\u001b[0m\u001b[0mjob\u001b[0m\u001b[0;34m)\u001b[0m\u001b[0;34m\u001b[0m\u001b[0m\n\u001b[1;32m    590\u001b[0m \u001b[0;34m\u001b[0m\u001b[0m\n",
      "\u001b[0;32m/usr/local/lib/python3.5/dist-packages/sklearn/externals/joblib/_parallel_backends.py\u001b[0m in \u001b[0;36mapply_async\u001b[0;34m(self, func, callback)\u001b[0m\n\u001b[1;32m    109\u001b[0m     \u001b[0;32mdef\u001b[0m \u001b[0mapply_async\u001b[0m\u001b[0;34m(\u001b[0m\u001b[0mself\u001b[0m\u001b[0;34m,\u001b[0m \u001b[0mfunc\u001b[0m\u001b[0;34m,\u001b[0m \u001b[0mcallback\u001b[0m\u001b[0;34m=\u001b[0m\u001b[0;32mNone\u001b[0m\u001b[0;34m)\u001b[0m\u001b[0;34m:\u001b[0m\u001b[0;34m\u001b[0m\u001b[0m\n\u001b[1;32m    110\u001b[0m         \u001b[0;34m\"\"\"Schedule a func to be run\"\"\"\u001b[0m\u001b[0;34m\u001b[0m\u001b[0m\n\u001b[0;32m--> 111\u001b[0;31m         \u001b[0mresult\u001b[0m \u001b[0;34m=\u001b[0m \u001b[0mImmediateResult\u001b[0m\u001b[0;34m(\u001b[0m\u001b[0mfunc\u001b[0m\u001b[0;34m)\u001b[0m\u001b[0;34m\u001b[0m\u001b[0m\n\u001b[0m\u001b[1;32m    112\u001b[0m         \u001b[0;32mif\u001b[0m \u001b[0mcallback\u001b[0m\u001b[0;34m:\u001b[0m\u001b[0;34m\u001b[0m\u001b[0m\n\u001b[1;32m    113\u001b[0m             \u001b[0mcallback\u001b[0m\u001b[0;34m(\u001b[0m\u001b[0mresult\u001b[0m\u001b[0;34m)\u001b[0m\u001b[0;34m\u001b[0m\u001b[0m\n",
      "\u001b[0;32m/usr/local/lib/python3.5/dist-packages/sklearn/externals/joblib/_parallel_backends.py\u001b[0m in \u001b[0;36m__init__\u001b[0;34m(self, batch)\u001b[0m\n\u001b[1;32m    330\u001b[0m         \u001b[0;31m# Don't delay the application, to avoid keeping the input\u001b[0m\u001b[0;34m\u001b[0m\u001b[0;34m\u001b[0m\u001b[0m\n\u001b[1;32m    331\u001b[0m         \u001b[0;31m# arguments in memory\u001b[0m\u001b[0;34m\u001b[0m\u001b[0;34m\u001b[0m\u001b[0m\n\u001b[0;32m--> 332\u001b[0;31m         \u001b[0mself\u001b[0m\u001b[0;34m.\u001b[0m\u001b[0mresults\u001b[0m \u001b[0;34m=\u001b[0m \u001b[0mbatch\u001b[0m\u001b[0;34m(\u001b[0m\u001b[0;34m)\u001b[0m\u001b[0;34m\u001b[0m\u001b[0m\n\u001b[0m\u001b[1;32m    333\u001b[0m \u001b[0;34m\u001b[0m\u001b[0m\n\u001b[1;32m    334\u001b[0m     \u001b[0;32mdef\u001b[0m \u001b[0mget\u001b[0m\u001b[0;34m(\u001b[0m\u001b[0mself\u001b[0m\u001b[0;34m)\u001b[0m\u001b[0;34m:\u001b[0m\u001b[0;34m\u001b[0m\u001b[0m\n",
      "\u001b[0;32m/usr/local/lib/python3.5/dist-packages/sklearn/externals/joblib/parallel.py\u001b[0m in \u001b[0;36m__call__\u001b[0;34m(self)\u001b[0m\n\u001b[1;32m    129\u001b[0m \u001b[0;34m\u001b[0m\u001b[0m\n\u001b[1;32m    130\u001b[0m     \u001b[0;32mdef\u001b[0m \u001b[0m__call__\u001b[0m\u001b[0;34m(\u001b[0m\u001b[0mself\u001b[0m\u001b[0;34m)\u001b[0m\u001b[0;34m:\u001b[0m\u001b[0;34m\u001b[0m\u001b[0m\n\u001b[0;32m--> 131\u001b[0;31m         \u001b[0;32mreturn\u001b[0m \u001b[0;34m[\u001b[0m\u001b[0mfunc\u001b[0m\u001b[0;34m(\u001b[0m\u001b[0;34m*\u001b[0m\u001b[0margs\u001b[0m\u001b[0;34m,\u001b[0m \u001b[0;34m**\u001b[0m\u001b[0mkwargs\u001b[0m\u001b[0;34m)\u001b[0m \u001b[0;32mfor\u001b[0m \u001b[0mfunc\u001b[0m\u001b[0;34m,\u001b[0m \u001b[0margs\u001b[0m\u001b[0;34m,\u001b[0m \u001b[0mkwargs\u001b[0m \u001b[0;32min\u001b[0m \u001b[0mself\u001b[0m\u001b[0;34m.\u001b[0m\u001b[0mitems\u001b[0m\u001b[0;34m]\u001b[0m\u001b[0;34m\u001b[0m\u001b[0m\n\u001b[0m\u001b[1;32m    132\u001b[0m \u001b[0;34m\u001b[0m\u001b[0m\n\u001b[1;32m    133\u001b[0m     \u001b[0;32mdef\u001b[0m \u001b[0m__len__\u001b[0m\u001b[0;34m(\u001b[0m\u001b[0mself\u001b[0m\u001b[0;34m)\u001b[0m\u001b[0;34m:\u001b[0m\u001b[0;34m\u001b[0m\u001b[0m\n",
      "\u001b[0;32m/usr/local/lib/python3.5/dist-packages/sklearn/externals/joblib/parallel.py\u001b[0m in \u001b[0;36m<listcomp>\u001b[0;34m(.0)\u001b[0m\n\u001b[1;32m    129\u001b[0m \u001b[0;34m\u001b[0m\u001b[0m\n\u001b[1;32m    130\u001b[0m     \u001b[0;32mdef\u001b[0m \u001b[0m__call__\u001b[0m\u001b[0;34m(\u001b[0m\u001b[0mself\u001b[0m\u001b[0;34m)\u001b[0m\u001b[0;34m:\u001b[0m\u001b[0;34m\u001b[0m\u001b[0m\n\u001b[0;32m--> 131\u001b[0;31m         \u001b[0;32mreturn\u001b[0m \u001b[0;34m[\u001b[0m\u001b[0mfunc\u001b[0m\u001b[0;34m(\u001b[0m\u001b[0;34m*\u001b[0m\u001b[0margs\u001b[0m\u001b[0;34m,\u001b[0m \u001b[0;34m**\u001b[0m\u001b[0mkwargs\u001b[0m\u001b[0;34m)\u001b[0m \u001b[0;32mfor\u001b[0m \u001b[0mfunc\u001b[0m\u001b[0;34m,\u001b[0m \u001b[0margs\u001b[0m\u001b[0;34m,\u001b[0m \u001b[0mkwargs\u001b[0m \u001b[0;32min\u001b[0m \u001b[0mself\u001b[0m\u001b[0;34m.\u001b[0m\u001b[0mitems\u001b[0m\u001b[0;34m]\u001b[0m\u001b[0;34m\u001b[0m\u001b[0m\n\u001b[0m\u001b[1;32m    132\u001b[0m \u001b[0;34m\u001b[0m\u001b[0m\n\u001b[1;32m    133\u001b[0m     \u001b[0;32mdef\u001b[0m \u001b[0m__len__\u001b[0m\u001b[0;34m(\u001b[0m\u001b[0mself\u001b[0m\u001b[0;34m)\u001b[0m\u001b[0;34m:\u001b[0m\u001b[0;34m\u001b[0m\u001b[0m\n",
      "\u001b[0;32m/usr/local/lib/python3.5/dist-packages/sklearn/model_selection/_validation.py\u001b[0m in \u001b[0;36m_fit_and_score\u001b[0;34m(estimator, X, y, scorer, train, test, verbose, parameters, fit_params, return_train_score, return_parameters, return_n_test_samples, return_times, error_score)\u001b[0m\n\u001b[1;32m    435\u001b[0m             \u001b[0mestimator\u001b[0m\u001b[0;34m.\u001b[0m\u001b[0mfit\u001b[0m\u001b[0;34m(\u001b[0m\u001b[0mX_train\u001b[0m\u001b[0;34m,\u001b[0m \u001b[0;34m**\u001b[0m\u001b[0mfit_params\u001b[0m\u001b[0;34m)\u001b[0m\u001b[0;34m\u001b[0m\u001b[0m\n\u001b[1;32m    436\u001b[0m         \u001b[0;32melse\u001b[0m\u001b[0;34m:\u001b[0m\u001b[0;34m\u001b[0m\u001b[0m\n\u001b[0;32m--> 437\u001b[0;31m             \u001b[0mestimator\u001b[0m\u001b[0;34m.\u001b[0m\u001b[0mfit\u001b[0m\u001b[0;34m(\u001b[0m\u001b[0mX_train\u001b[0m\u001b[0;34m,\u001b[0m \u001b[0my_train\u001b[0m\u001b[0;34m,\u001b[0m \u001b[0;34m**\u001b[0m\u001b[0mfit_params\u001b[0m\u001b[0;34m)\u001b[0m\u001b[0;34m\u001b[0m\u001b[0m\n\u001b[0m\u001b[1;32m    438\u001b[0m \u001b[0;34m\u001b[0m\u001b[0m\n\u001b[1;32m    439\u001b[0m     \u001b[0;32mexcept\u001b[0m \u001b[0mException\u001b[0m \u001b[0;32mas\u001b[0m \u001b[0me\u001b[0m\u001b[0;34m:\u001b[0m\u001b[0;34m\u001b[0m\u001b[0m\n",
      "\u001b[0;32m/usr/local/lib/python3.5/dist-packages/xgboost/sklearn.py\u001b[0m in \u001b[0;36mfit\u001b[0;34m(self, X, y, eval_set, eval_metric, early_stopping_rounds, verbose)\u001b[0m\n\u001b[1;32m    249\u001b[0m                               \u001b[0mearly_stopping_rounds\u001b[0m\u001b[0;34m=\u001b[0m\u001b[0mearly_stopping_rounds\u001b[0m\u001b[0;34m,\u001b[0m\u001b[0;34m\u001b[0m\u001b[0m\n\u001b[1;32m    250\u001b[0m                               \u001b[0mevals_result\u001b[0m\u001b[0;34m=\u001b[0m\u001b[0mevals_result\u001b[0m\u001b[0;34m,\u001b[0m \u001b[0mobj\u001b[0m\u001b[0;34m=\u001b[0m\u001b[0mobj\u001b[0m\u001b[0;34m,\u001b[0m \u001b[0mfeval\u001b[0m\u001b[0;34m=\u001b[0m\u001b[0mfeval\u001b[0m\u001b[0;34m,\u001b[0m\u001b[0;34m\u001b[0m\u001b[0m\n\u001b[0;32m--> 251\u001b[0;31m                               verbose_eval=verbose)\n\u001b[0m\u001b[1;32m    252\u001b[0m \u001b[0;34m\u001b[0m\u001b[0m\n\u001b[1;32m    253\u001b[0m         \u001b[0;32mif\u001b[0m \u001b[0mevals_result\u001b[0m\u001b[0;34m:\u001b[0m\u001b[0;34m\u001b[0m\u001b[0m\n",
      "\u001b[0;32m/usr/local/lib/python3.5/dist-packages/xgboost/training.py\u001b[0m in \u001b[0;36mtrain\u001b[0;34m(params, dtrain, num_boost_round, evals, obj, feval, maximize, early_stopping_rounds, evals_result, verbose_eval, learning_rates, xgb_model, callbacks)\u001b[0m\n\u001b[1;32m    203\u001b[0m                            \u001b[0mevals\u001b[0m\u001b[0;34m=\u001b[0m\u001b[0mevals\u001b[0m\u001b[0;34m,\u001b[0m\u001b[0;34m\u001b[0m\u001b[0m\n\u001b[1;32m    204\u001b[0m                            \u001b[0mobj\u001b[0m\u001b[0;34m=\u001b[0m\u001b[0mobj\u001b[0m\u001b[0;34m,\u001b[0m \u001b[0mfeval\u001b[0m\u001b[0;34m=\u001b[0m\u001b[0mfeval\u001b[0m\u001b[0;34m,\u001b[0m\u001b[0;34m\u001b[0m\u001b[0m\n\u001b[0;32m--> 205\u001b[0;31m                            xgb_model=xgb_model, callbacks=callbacks)\n\u001b[0m\u001b[1;32m    206\u001b[0m \u001b[0;34m\u001b[0m\u001b[0m\n\u001b[1;32m    207\u001b[0m \u001b[0;34m\u001b[0m\u001b[0m\n",
      "\u001b[0;32m/usr/local/lib/python3.5/dist-packages/xgboost/training.py\u001b[0m in \u001b[0;36m_train_internal\u001b[0;34m(params, dtrain, num_boost_round, evals, obj, feval, xgb_model, callbacks)\u001b[0m\n\u001b[1;32m     74\u001b[0m         \u001b[0;31m# Skip the first update if it is a recovery step.\u001b[0m\u001b[0;34m\u001b[0m\u001b[0;34m\u001b[0m\u001b[0m\n\u001b[1;32m     75\u001b[0m         \u001b[0;32mif\u001b[0m \u001b[0mversion\u001b[0m \u001b[0;34m%\u001b[0m \u001b[0;36m2\u001b[0m \u001b[0;34m==\u001b[0m \u001b[0;36m0\u001b[0m\u001b[0;34m:\u001b[0m\u001b[0;34m\u001b[0m\u001b[0m\n\u001b[0;32m---> 76\u001b[0;31m             \u001b[0mbst\u001b[0m\u001b[0;34m.\u001b[0m\u001b[0mupdate\u001b[0m\u001b[0;34m(\u001b[0m\u001b[0mdtrain\u001b[0m\u001b[0;34m,\u001b[0m \u001b[0mi\u001b[0m\u001b[0;34m,\u001b[0m \u001b[0mobj\u001b[0m\u001b[0;34m)\u001b[0m\u001b[0;34m\u001b[0m\u001b[0m\n\u001b[0m\u001b[1;32m     77\u001b[0m             \u001b[0mbst\u001b[0m\u001b[0;34m.\u001b[0m\u001b[0msave_rabit_checkpoint\u001b[0m\u001b[0;34m(\u001b[0m\u001b[0;34m)\u001b[0m\u001b[0;34m\u001b[0m\u001b[0m\n\u001b[1;32m     78\u001b[0m             \u001b[0mversion\u001b[0m \u001b[0;34m+=\u001b[0m \u001b[0;36m1\u001b[0m\u001b[0;34m\u001b[0m\u001b[0m\n",
      "\u001b[0;32m/usr/local/lib/python3.5/dist-packages/xgboost/core.py\u001b[0m in \u001b[0;36mupdate\u001b[0;34m(self, dtrain, iteration, fobj)\u001b[0m\n\u001b[1;32m    804\u001b[0m \u001b[0;34m\u001b[0m\u001b[0m\n\u001b[1;32m    805\u001b[0m         \u001b[0;32mif\u001b[0m \u001b[0mfobj\u001b[0m \u001b[0;32mis\u001b[0m \u001b[0;32mNone\u001b[0m\u001b[0;34m:\u001b[0m\u001b[0;34m\u001b[0m\u001b[0m\n\u001b[0;32m--> 806\u001b[0;31m             \u001b[0m_check_call\u001b[0m\u001b[0;34m(\u001b[0m\u001b[0m_LIB\u001b[0m\u001b[0;34m.\u001b[0m\u001b[0mXGBoosterUpdateOneIter\u001b[0m\u001b[0;34m(\u001b[0m\u001b[0mself\u001b[0m\u001b[0;34m.\u001b[0m\u001b[0mhandle\u001b[0m\u001b[0;34m,\u001b[0m \u001b[0miteration\u001b[0m\u001b[0;34m,\u001b[0m \u001b[0mdtrain\u001b[0m\u001b[0;34m.\u001b[0m\u001b[0mhandle\u001b[0m\u001b[0;34m)\u001b[0m\u001b[0;34m)\u001b[0m\u001b[0;34m\u001b[0m\u001b[0m\n\u001b[0m\u001b[1;32m    807\u001b[0m         \u001b[0;32melse\u001b[0m\u001b[0;34m:\u001b[0m\u001b[0;34m\u001b[0m\u001b[0m\n\u001b[1;32m    808\u001b[0m             \u001b[0mpred\u001b[0m \u001b[0;34m=\u001b[0m \u001b[0mself\u001b[0m\u001b[0;34m.\u001b[0m\u001b[0mpredict\u001b[0m\u001b[0;34m(\u001b[0m\u001b[0mdtrain\u001b[0m\u001b[0;34m)\u001b[0m\u001b[0;34m\u001b[0m\u001b[0m\n",
      "\u001b[0;31mKeyboardInterrupt\u001b[0m: "
     ]
    }
   ],
   "source": [
    "## Random search de hiperparametros y entrenamiento del algoritmo, \n",
    "## cuando termina tira dos scores (no se cual es mejor) y los mejores hiperparametros que dieron esos scores\n",
    "## ES LA PARTE QUE TARDA\n",
    "#http://danielhnyk.cz/how-to-use-xgboost-in-python/\n",
    "one_to_left = st.beta(10, 1)  \n",
    "from_zero_positive = st.expon(0, 50)\n",
    "\n",
    "params = {  \n",
    "    \"n_estimators\": [200],#nros random desde a hasta b\n",
    "    \"max_depth\": st.randint(20, 30),\n",
    "    \"learning_rate\": [0.0547], # nros random de una distribucion uniforme entre a y a+b\n",
    "    \"colsample_bytree\": st.uniform(0.5,0.3), \n",
    "    \"subsample\": st.uniform(0.5,0.3), \n",
    "    \"gamma\": st.uniform(8.5, 1),\n",
    "    'reg_alpha': [20,25,30,35,40],\n",
    "    \"min_child_weight\": [15,18,20,22,25]\n",
    "}\n",
    "\n",
    "xgb = XGBRegressor(nthread=2) \n",
    "\n",
    "grid = RandomizedSearchCV(xgb, params, n_jobs=1,n_iter=5,verbose=10,cv=5) # n_iters es la cant de veces que busca, 10 es lo default\n",
    "grid.fit(X, Y, eval_metric=\"rmse\")"
   ]
  },
  {
   "cell_type": "code",
   "execution_count": null,
   "metadata": {
    "collapsed": true
   },
   "outputs": [],
   "source": [
    "print(grid.best_score_)\n",
    "#print(grid.best_estimator_)\n",
    "print(grid.best_params_)\n",
    "#print(grid.cv_results_)"
   ]
  },
  {
   "cell_type": "code",
   "execution_count": 24,
   "metadata": {},
   "outputs": [
    {
     "data": {
      "text/plain": [
       "XGBRegressor(base_score=0.5, colsample_bylevel=1, colsample_bytree=0.98,\n",
       "       gamma=9.33, learning_rate=0.055, max_delta_step=0, max_depth=22,\n",
       "       min_child_weight=20, missing=None, n_estimators=200, nthread=2,\n",
       "       objective='reg:linear', reg_alpha=30, reg_lambda=1,\n",
       "       scale_pos_weight=1, seed=0, silent=True, subsample=0.96)"
      ]
     },
     "execution_count": 24,
     "metadata": {},
     "output_type": "execute_result"
    }
   ],
   "source": [
    "# Parte para probar los parametros sin random search\n",
    "# no tarda mucho porque tira el score de la combinacion de parametros que le pones nada mas\n",
    "X_train, X_test, Y_train, Y_test = train_test_split(X, Y,test_size=0.25)\n",
    "xgb = XGBRegressor(colsample_bytree=0.98,gamma=9.33,learning_rate=0.055,max_depth=22,min_child_weight=20,n_estimators=200,\\\n",
    "                  reg_alpha=30,subsample=0.96,nthread=2) \n",
    "\n",
    "xgb.fit(X_train, Y_train,eval_metric=\"rmse\")\n"
   ]
  },
  {
   "cell_type": "code",
   "execution_count": 25,
   "metadata": {},
   "outputs": [
    {
     "name": "stdout",
     "output_type": "stream",
     "text": [
      "24415824749.1\n"
     ]
    }
   ],
   "source": [
    "# Print the rmse score\n",
    "print(mean_squared_error(Y_test, xgb.predict(X_test)))"
   ]
  },
  {
   "cell_type": "code",
   "execution_count": 83,
   "metadata": {
    "collapsed": true
   },
   "outputs": [],
   "source": [
    "#Prediccion"
   ]
  },
  {
   "cell_type": "code",
   "execution_count": 159,
   "metadata": {},
   "outputs": [],
   "source": [
    "test = pd.read_csv('data/properati_dataset_testing_noprice.csv')"
   ]
  },
  {
   "cell_type": "code",
   "execution_count": 160,
   "metadata": {},
   "outputs": [],
   "source": [
    "#level_0, ph, Buenos Aires Interior, index, casa, departamento\n",
    "test.loc[test.state_name.str.contains('Interior'),'place_name'] = 'Palermo'\n",
    "test.loc[test.state_name.str.contains('Interior'),'state_name'] = 'Capital Federal'\n",
    "test.loc[test.property_type.str.contains('departamento'),'property_type'] = 'apartment'\n",
    "test.loc[test.property_type.str.contains('casa'),'property_type'] = 'house'\n",
    "test.loc[test.property_type.str.contains('ph'),'property_type'] = 'PH'\n"
   ]
  },
  {
   "cell_type": "code",
   "execution_count": 161,
   "metadata": {
    "collapsed": true
   },
   "outputs": [],
   "source": [
    "def convert(s):\n",
    "    try:\n",
    "        return float(s)\n",
    "    except:\n",
    "        return np.nan"
   ]
  },
  {
   "cell_type": "code",
   "execution_count": 162,
   "metadata": {},
   "outputs": [],
   "source": [
    "test.loc[test.description.notnull(),'description'] = test.loc[test.description.notnull(),'description'].apply(descripcion_token)\n",
    "test.loc[:,'place_name'] = test.place_with_parent_names.apply(place_name_from_parent)\n",
    "test.loc[:,'place_name'] = test.place_name.apply(rescatar_barrios_no_oficiales)\n",
    "test.loc[test.surface_total_in_m2.isnull(),'surface_total_in_m2'] = test.surface_covered_in_m2\n",
    "test.loc[test.rooms.isnull(),'rooms'] = test.description.apply(recuperar_cant_amb)\n",
    "test['created_on'] = pd.to_datetime(test['created_on']) ## conversion de tipo\n",
    "test['month'] = test.created_on.apply(lambda x: x.month)\n",
    "test['year'] = test.created_on.apply(lambda x: x.year)\n",
    "test['day'] = test.created_on.apply(lambda x: x.day)\n",
    "test.drop(['id','created_on','operation','lat-lon','place_with_parent_names','country_name'], axis=1, inplace=True)\n",
    "test.expenses = test.expenses.apply(convert)"
   ]
  },
  {
   "cell_type": "code",
   "execution_count": 163,
   "metadata": {},
   "outputs": [
    {
     "data": {
      "text/html": [
       "<div>\n",
       "<style>\n",
       "    .dataframe thead tr:only-child th {\n",
       "        text-align: right;\n",
       "    }\n",
       "\n",
       "    .dataframe thead th {\n",
       "        text-align: left;\n",
       "    }\n",
       "\n",
       "    .dataframe tbody tr th {\n",
       "        vertical-align: top;\n",
       "    }\n",
       "</style>\n",
       "<table border=\"1\" class=\"dataframe\">\n",
       "  <thead>\n",
       "    <tr style=\"text-align: right;\">\n",
       "      <th></th>\n",
       "      <th>lat</th>\n",
       "      <th>lon</th>\n",
       "      <th>surface_total_in_m2</th>\n",
       "      <th>surface_covered_in_m2</th>\n",
       "      <th>floor</th>\n",
       "      <th>rooms</th>\n",
       "      <th>expenses</th>\n",
       "      <th>month</th>\n",
       "      <th>year</th>\n",
       "      <th>day</th>\n",
       "    </tr>\n",
       "  </thead>\n",
       "  <tbody>\n",
       "    <tr>\n",
       "      <th>count</th>\n",
       "      <td>10487.000000</td>\n",
       "      <td>10487.000000</td>\n",
       "      <td>1.339200e+04</td>\n",
       "      <td>1.300500e+04</td>\n",
       "      <td>1368.000000</td>\n",
       "      <td>7500.000000</td>\n",
       "      <td>2.523000e+03</td>\n",
       "      <td>14166.0</td>\n",
       "      <td>14166.0</td>\n",
       "      <td>14166.000000</td>\n",
       "    </tr>\n",
       "    <tr>\n",
       "      <th>mean</th>\n",
       "      <td>-34.629923</td>\n",
       "      <td>-58.465820</td>\n",
       "      <td>3.934301e+02</td>\n",
       "      <td>3.594716e+02</td>\n",
       "      <td>10.679094</td>\n",
       "      <td>2.804667</td>\n",
       "      <td>8.522019e+03</td>\n",
       "      <td>8.0</td>\n",
       "      <td>2017.0</td>\n",
       "      <td>14.021530</td>\n",
       "    </tr>\n",
       "    <tr>\n",
       "      <th>std</th>\n",
       "      <td>0.101952</td>\n",
       "      <td>0.164709</td>\n",
       "      <td>2.805803e+04</td>\n",
       "      <td>2.846901e+04</td>\n",
       "      <td>93.466971</td>\n",
       "      <td>1.425710</td>\n",
       "      <td>1.916011e+05</td>\n",
       "      <td>0.0</td>\n",
       "      <td>0.0</td>\n",
       "      <td>8.030705</td>\n",
       "    </tr>\n",
       "    <tr>\n",
       "      <th>min</th>\n",
       "      <td>-38.416097</td>\n",
       "      <td>-63.616672</td>\n",
       "      <td>0.000000e+00</td>\n",
       "      <td>1.000000e+00</td>\n",
       "      <td>1.000000</td>\n",
       "      <td>1.000000</td>\n",
       "      <td>0.000000e+00</td>\n",
       "      <td>8.0</td>\n",
       "      <td>2017.0</td>\n",
       "      <td>1.000000</td>\n",
       "    </tr>\n",
       "    <tr>\n",
       "      <th>25%</th>\n",
       "      <td>-34.643998</td>\n",
       "      <td>-58.499255</td>\n",
       "      <td>4.600000e+01</td>\n",
       "      <td>4.200000e+01</td>\n",
       "      <td>2.000000</td>\n",
       "      <td>2.000000</td>\n",
       "      <td>1.000000e+03</td>\n",
       "      <td>8.0</td>\n",
       "      <td>2017.0</td>\n",
       "      <td>9.000000</td>\n",
       "    </tr>\n",
       "    <tr>\n",
       "      <th>50%</th>\n",
       "      <td>-34.612651</td>\n",
       "      <td>-58.443276</td>\n",
       "      <td>7.200000e+01</td>\n",
       "      <td>6.400000e+01</td>\n",
       "      <td>4.000000</td>\n",
       "      <td>3.000000</td>\n",
       "      <td>2.000000e+03</td>\n",
       "      <td>8.0</td>\n",
       "      <td>2017.0</td>\n",
       "      <td>14.000000</td>\n",
       "    </tr>\n",
       "    <tr>\n",
       "      <th>75%</th>\n",
       "      <td>-34.589405</td>\n",
       "      <td>-58.401978</td>\n",
       "      <td>1.450000e+02</td>\n",
       "      <td>1.120000e+02</td>\n",
       "      <td>7.000000</td>\n",
       "      <td>4.000000</td>\n",
       "      <td>3.600000e+03</td>\n",
       "      <td>8.0</td>\n",
       "      <td>2017.0</td>\n",
       "      <td>20.000000</td>\n",
       "    </tr>\n",
       "    <tr>\n",
       "      <th>max</th>\n",
       "      <td>-34.536105</td>\n",
       "      <td>-57.900605</td>\n",
       "      <td>3.243242e+06</td>\n",
       "      <td>3.243242e+06</td>\n",
       "      <td>2509.000000</td>\n",
       "      <td>21.000000</td>\n",
       "      <td>7.600072e+06</td>\n",
       "      <td>8.0</td>\n",
       "      <td>2017.0</td>\n",
       "      <td>29.000000</td>\n",
       "    </tr>\n",
       "  </tbody>\n",
       "</table>\n",
       "</div>"
      ],
      "text/plain": [
       "                lat           lon  surface_total_in_m2  surface_covered_in_m2  \\\n",
       "count  10487.000000  10487.000000         1.339200e+04           1.300500e+04   \n",
       "mean     -34.629923    -58.465820         3.934301e+02           3.594716e+02   \n",
       "std        0.101952      0.164709         2.805803e+04           2.846901e+04   \n",
       "min      -38.416097    -63.616672         0.000000e+00           1.000000e+00   \n",
       "25%      -34.643998    -58.499255         4.600000e+01           4.200000e+01   \n",
       "50%      -34.612651    -58.443276         7.200000e+01           6.400000e+01   \n",
       "75%      -34.589405    -58.401978         1.450000e+02           1.120000e+02   \n",
       "max      -34.536105    -57.900605         3.243242e+06           3.243242e+06   \n",
       "\n",
       "             floor        rooms      expenses    month     year           day  \n",
       "count  1368.000000  7500.000000  2.523000e+03  14166.0  14166.0  14166.000000  \n",
       "mean     10.679094     2.804667  8.522019e+03      8.0   2017.0     14.021530  \n",
       "std      93.466971     1.425710  1.916011e+05      0.0      0.0      8.030705  \n",
       "min       1.000000     1.000000  0.000000e+00      8.0   2017.0      1.000000  \n",
       "25%       2.000000     2.000000  1.000000e+03      8.0   2017.0      9.000000  \n",
       "50%       4.000000     3.000000  2.000000e+03      8.0   2017.0     14.000000  \n",
       "75%       7.000000     4.000000  3.600000e+03      8.0   2017.0     20.000000  \n",
       "max    2509.000000    21.000000  7.600072e+06      8.0   2017.0     29.000000  "
      ]
     },
     "execution_count": 163,
     "metadata": {},
     "output_type": "execute_result"
    }
   ],
   "source": [
    "test.describe()"
   ]
  },
  {
   "cell_type": "code",
   "execution_count": 164,
   "metadata": {},
   "outputs": [],
   "source": [
    "# Nan para los datos faltantes es mejor que dropear todo el dato \n",
    "# Los nros estan masomenos pensados MASOMENOS JEJE\n",
    "test.loc[(test['surface_total_in_m2']>5000) | (test['surface_total_in_m2'] < 30),'surface_total_in_m2'] = np.nan\n",
    "test.loc[(test['surface_covered_in_m2']>5000),'surface_covered_in_m2'] = np.nan\n",
    "test.loc[test['floor']>30,'floor'] = np.nan\n",
    "test.loc[test['rooms']==0,'rooms'] = np.nan\n",
    "test.loc[test['rooms']>10,'rooms'] = np.nan\n",
    "test.loc[(test['lat']>-33) | (test['lat']<-36),['lat','lon']] = np.nan\n",
    "test.loc[(test['lon']>-57) | (test['lon']<-60),['lat','lon']] = np.nan\n",
    "test.loc[(test['expenses']>14000) | (test['expenses']<100),'expenses'] = np.nan"
   ]
  },
  {
   "cell_type": "code",
   "execution_count": 165,
   "metadata": {},
   "outputs": [
    {
     "data": {
      "text/html": [
       "<div>\n",
       "<style>\n",
       "    .dataframe thead tr:only-child th {\n",
       "        text-align: right;\n",
       "    }\n",
       "\n",
       "    .dataframe thead th {\n",
       "        text-align: left;\n",
       "    }\n",
       "\n",
       "    .dataframe tbody tr th {\n",
       "        vertical-align: top;\n",
       "    }\n",
       "</style>\n",
       "<table border=\"1\" class=\"dataframe\">\n",
       "  <thead>\n",
       "    <tr style=\"text-align: right;\">\n",
       "      <th></th>\n",
       "      <th>lat</th>\n",
       "      <th>lon</th>\n",
       "      <th>surface_total_in_m2</th>\n",
       "      <th>surface_covered_in_m2</th>\n",
       "      <th>floor</th>\n",
       "      <th>rooms</th>\n",
       "      <th>expenses</th>\n",
       "      <th>month</th>\n",
       "      <th>year</th>\n",
       "      <th>day</th>\n",
       "    </tr>\n",
       "  </thead>\n",
       "  <tbody>\n",
       "    <tr>\n",
       "      <th>count</th>\n",
       "      <td>10483.000000</td>\n",
       "      <td>10483.000000</td>\n",
       "      <td>12817.000000</td>\n",
       "      <td>12998.000000</td>\n",
       "      <td>1354.000000</td>\n",
       "      <td>7490.000000</td>\n",
       "      <td>2279.000000</td>\n",
       "      <td>14166.0</td>\n",
       "      <td>14166.0</td>\n",
       "      <td>14166.000000</td>\n",
       "    </tr>\n",
       "    <tr>\n",
       "      <th>mean</th>\n",
       "      <td>-34.628479</td>\n",
       "      <td>-58.463854</td>\n",
       "      <td>134.013654</td>\n",
       "      <td>95.626943</td>\n",
       "      <td>5.118907</td>\n",
       "      <td>2.788919</td>\n",
       "      <td>2882.024133</td>\n",
       "      <td>8.0</td>\n",
       "      <td>2017.0</td>\n",
       "      <td>14.021530</td>\n",
       "    </tr>\n",
       "    <tr>\n",
       "      <th>std</th>\n",
       "      <td>0.070184</td>\n",
       "      <td>0.130426</td>\n",
       "      <td>187.645059</td>\n",
       "      <td>126.166300</td>\n",
       "      <td>4.215539</td>\n",
       "      <td>1.355359</td>\n",
       "      <td>2476.270406</td>\n",
       "      <td>0.0</td>\n",
       "      <td>0.0</td>\n",
       "      <td>8.030705</td>\n",
       "    </tr>\n",
       "    <tr>\n",
       "      <th>min</th>\n",
       "      <td>-35.123100</td>\n",
       "      <td>-58.975341</td>\n",
       "      <td>30.000000</td>\n",
       "      <td>1.000000</td>\n",
       "      <td>1.000000</td>\n",
       "      <td>1.000000</td>\n",
       "      <td>120.000000</td>\n",
       "      <td>8.0</td>\n",
       "      <td>2017.0</td>\n",
       "      <td>1.000000</td>\n",
       "    </tr>\n",
       "    <tr>\n",
       "      <th>25%</th>\n",
       "      <td>-34.643941</td>\n",
       "      <td>-58.499089</td>\n",
       "      <td>48.000000</td>\n",
       "      <td>42.000000</td>\n",
       "      <td>2.000000</td>\n",
       "      <td>2.000000</td>\n",
       "      <td>1200.000000</td>\n",
       "      <td>8.0</td>\n",
       "      <td>2017.0</td>\n",
       "      <td>9.000000</td>\n",
       "    </tr>\n",
       "    <tr>\n",
       "      <th>50%</th>\n",
       "      <td>-34.612629</td>\n",
       "      <td>-58.443256</td>\n",
       "      <td>75.000000</td>\n",
       "      <td>64.000000</td>\n",
       "      <td>4.000000</td>\n",
       "      <td>3.000000</td>\n",
       "      <td>2000.000000</td>\n",
       "      <td>8.0</td>\n",
       "      <td>2017.0</td>\n",
       "      <td>14.000000</td>\n",
       "    </tr>\n",
       "    <tr>\n",
       "      <th>75%</th>\n",
       "      <td>-34.589392</td>\n",
       "      <td>-58.401970</td>\n",
       "      <td>150.000000</td>\n",
       "      <td>111.000000</td>\n",
       "      <td>7.000000</td>\n",
       "      <td>4.000000</td>\n",
       "      <td>3621.000000</td>\n",
       "      <td>8.0</td>\n",
       "      <td>2017.0</td>\n",
       "      <td>20.000000</td>\n",
       "    </tr>\n",
       "    <tr>\n",
       "      <th>max</th>\n",
       "      <td>-34.536105</td>\n",
       "      <td>-57.900605</td>\n",
       "      <td>4810.000000</td>\n",
       "      <td>4733.000000</td>\n",
       "      <td>29.000000</td>\n",
       "      <td>10.000000</td>\n",
       "      <td>14000.000000</td>\n",
       "      <td>8.0</td>\n",
       "      <td>2017.0</td>\n",
       "      <td>29.000000</td>\n",
       "    </tr>\n",
       "  </tbody>\n",
       "</table>\n",
       "</div>"
      ],
      "text/plain": [
       "                lat           lon  surface_total_in_m2  surface_covered_in_m2  \\\n",
       "count  10483.000000  10483.000000         12817.000000           12998.000000   \n",
       "mean     -34.628479    -58.463854           134.013654              95.626943   \n",
       "std        0.070184      0.130426           187.645059             126.166300   \n",
       "min      -35.123100    -58.975341            30.000000               1.000000   \n",
       "25%      -34.643941    -58.499089            48.000000              42.000000   \n",
       "50%      -34.612629    -58.443256            75.000000              64.000000   \n",
       "75%      -34.589392    -58.401970           150.000000             111.000000   \n",
       "max      -34.536105    -57.900605          4810.000000            4733.000000   \n",
       "\n",
       "             floor        rooms      expenses    month     year           day  \n",
       "count  1354.000000  7490.000000   2279.000000  14166.0  14166.0  14166.000000  \n",
       "mean      5.118907     2.788919   2882.024133      8.0   2017.0     14.021530  \n",
       "std       4.215539     1.355359   2476.270406      0.0      0.0      8.030705  \n",
       "min       1.000000     1.000000    120.000000      8.0   2017.0      1.000000  \n",
       "25%       2.000000     2.000000   1200.000000      8.0   2017.0      9.000000  \n",
       "50%       4.000000     3.000000   2000.000000      8.0   2017.0     14.000000  \n",
       "75%       7.000000     4.000000   3621.000000      8.0   2017.0     20.000000  \n",
       "max      29.000000    10.000000  14000.000000      8.0   2017.0     29.000000  "
      ]
     },
     "execution_count": 165,
     "metadata": {},
     "output_type": "execute_result"
    }
   ],
   "source": [
    "test.describe()"
   ]
  },
  {
   "cell_type": "code",
   "execution_count": 172,
   "metadata": {},
   "outputs": [
    {
     "ename": "AttributeError",
     "evalue": "'numpy.ndarray' object has no attribute 'count'",
     "output_type": "error",
     "traceback": [
      "\u001b[0;31m---------------------------------------------------------------------------\u001b[0m",
      "\u001b[0;31mAttributeError\u001b[0m                            Traceback (most recent call last)",
      "\u001b[0;32m<ipython-input-172-58b0d7c24bad>\u001b[0m in \u001b[0;36m<module>\u001b[0;34m()\u001b[0m\n\u001b[0;32m----> 1\u001b[0;31m \u001b[0mtest\u001b[0m\u001b[0;34m.\u001b[0m\u001b[0mjoin\u001b[0m\u001b[0;34m(\u001b[0m\u001b[0mtest\u001b[0m\u001b[0;34m.\u001b[0m\u001b[0mdescription\u001b[0m\u001b[0;34m.\u001b[0m\u001b[0mstr\u001b[0m\u001b[0;34m.\u001b[0m\u001b[0mget_dummies\u001b[0m\u001b[0;34m(\u001b[0m\u001b[0;34m)\u001b[0m\u001b[0;34m)\u001b[0m\u001b[0;34m.\u001b[0m\u001b[0mcolumns\u001b[0m\u001b[0;34m.\u001b[0m\u001b[0mstr\u001b[0m\u001b[0;34m.\u001b[0m\u001b[0mcontains\u001b[0m\u001b[0;34m(\u001b[0m\u001b[0;34m'level'\u001b[0m\u001b[0;34m)\u001b[0m\u001b[0;34m.\u001b[0m\u001b[0mcount\u001b[0m\u001b[0;34m(\u001b[0m\u001b[0;34m)\u001b[0m\u001b[0;34m\u001b[0m\u001b[0m\n\u001b[0m",
      "\u001b[0;31mAttributeError\u001b[0m: 'numpy.ndarray' object has no attribute 'count'"
     ]
    }
   ],
   "source": [
    "test.join(test.description.str.get_dummies()).columns.str.contains('level')"
   ]
  },
  {
   "cell_type": "code",
   "execution_count": 173,
   "metadata": {
    "collapsed": true
   },
   "outputs": [],
   "source": [
    "test = test.join(pd.get_dummies(test.property_type))\n",
    "test.drop('property_type',axis=1, inplace=True)\n",
    "test = test.join(test.description.str.get_dummies())\n",
    "test.drop('description',axis=1, inplace=True)\n",
    "test = test.join(pd.get_dummies(test.place_name))\n",
    "test.drop('place_name',axis=1, inplace=True)\n",
    "test = test.join(pd.get_dummies(test.state_name))\n",
    "test.drop('state_name',axis=1, inplace=True)"
   ]
  },
  {
   "cell_type": "code",
   "execution_count": 179,
   "metadata": {},
   "outputs": [],
   "source": [
    "tot = pd.concat([X,test])\n",
    "tot.reset_index(inplace=True,drop=True)"
   ]
  },
  {
   "cell_type": "code",
   "execution_count": 180,
   "metadata": {},
   "outputs": [
    {
     "name": "stdout",
     "output_type": "stream",
     "text": [
      "<class 'pandas.core.frame.DataFrame'>\n",
      "RangeIndex: 295475 entries, 0 to 295474\n",
      "Columns: 136 entries, Abasto to year\n",
      "dtypes: float64(20), int64(32), uint8(84)\n",
      "memory usage: 140.9 MB\n"
     ]
    }
   ],
   "source": [
    "tot.info()"
   ]
  },
  {
   "cell_type": "code",
   "execution_count": 185,
   "metadata": {
    "collapsed": true
   },
   "outputs": [],
   "source": [
    "test_2 = tot[281309:]\n",
    "test_2.reset_index(inplace=True,drop=True)"
   ]
  },
  {
   "cell_type": "code",
   "execution_count": 187,
   "metadata": {},
   "outputs": [
    {
     "name": "stdout",
     "output_type": "stream",
     "text": [
      "<class 'pandas.core.frame.DataFrame'>\n",
      "Int64Index: 281309 entries, 0 to 317037\n",
      "Columns: 136 entries, lat to Capital Federal\n",
      "dtypes: float64(7), int64(32), uint8(97)\n",
      "memory usage: 121.9 MB\n"
     ]
    }
   ],
   "source": [
    "test_2.info()"
   ]
  },
  {
   "cell_type": "code",
   "execution_count": 189,
   "metadata": {
    "collapsed": true
   },
   "outputs": [],
   "source": [
    "test_2 = test_2[X.columns]"
   ]
  },
  {
   "cell_type": "code",
   "execution_count": 190,
   "metadata": {},
   "outputs": [
    {
     "data": {
      "text/plain": [
       "count    12998.000000\n",
       "mean        95.626943\n",
       "std        126.166300\n",
       "min          1.000000\n",
       "25%         42.000000\n",
       "50%         64.000000\n",
       "75%        111.000000\n",
       "max       4733.000000\n",
       "Name: surface_covered_in_m2, dtype: float64"
      ]
     },
     "execution_count": 190,
     "metadata": {},
     "output_type": "execute_result"
    }
   ],
   "source": [
    "test_2.surface_covered_in_m2.describe()"
   ]
  },
  {
   "cell_type": "code",
   "execution_count": 92,
   "metadata": {},
   "outputs": [
    {
     "data": {
      "text/plain": [
       "XGBRegressor(base_score=0.5, colsample_bylevel=1, colsample_bytree=0.98,\n",
       "       gamma=9.33, learning_rate=0.055, max_delta_step=0, max_depth=22,\n",
       "       min_child_weight=20, missing=None, n_estimators=200, nthread=2,\n",
       "       objective='reg:linear', reg_alpha=30, reg_lambda=1,\n",
       "       scale_pos_weight=1, seed=0, silent=True, subsample=0.96)"
      ]
     },
     "execution_count": 92,
     "metadata": {},
     "output_type": "execute_result"
    }
   ],
   "source": [
    "xgb = XGBRegressor(colsample_bytree=0.98,gamma=9.33,learning_rate=0.055,max_depth=22,min_child_weight=20,n_estimators=200,\\\n",
    "                  reg_alpha=30,subsample=0.96,nthread=2) \n",
    "\n",
    "xgb.fit(X, Y,eval_metric=\"rmse\")\n"
   ]
  },
  {
   "cell_type": "code",
   "execution_count": 198,
   "metadata": {},
   "outputs": [],
   "source": [
    "pred = xgb.predict(test_2)"
   ]
  },
  {
   "cell_type": "code",
   "execution_count": 203,
   "metadata": {},
   "outputs": [],
   "source": [
    "test_e = pd.read_csv('data/properati_dataset_testing_noprice.csv')\n",
    "test_e = test_e.loc[:,['id','description']]"
   ]
  },
  {
   "cell_type": "code",
   "execution_count": 204,
   "metadata": {},
   "outputs": [],
   "source": [
    "test_e['price_usd'] = pred"
   ]
  },
  {
   "cell_type": "code",
   "execution_count": 206,
   "metadata": {},
   "outputs": [],
   "source": [
    "test_e.drop('description',axis=1,inplace=True)"
   ]
  },
  {
   "cell_type": "code",
   "execution_count": 208,
   "metadata": {},
   "outputs": [
    {
     "name": "stdout",
     "output_type": "stream",
     "text": [
      "<class 'pandas.core.frame.DataFrame'>\n",
      "RangeIndex: 14166 entries, 0 to 14165\n",
      "Data columns (total 2 columns):\n",
      "id           14166 non-null int64\n",
      "price_usd    14166 non-null float32\n",
      "dtypes: float32(1), int64(1)\n",
      "memory usage: 166.1 KB\n"
     ]
    }
   ],
   "source": [
    "test_e.info()"
   ]
  },
  {
   "cell_type": "code",
   "execution_count": 209,
   "metadata": {
    "collapsed": true
   },
   "outputs": [],
   "source": [
    "test_e.to_csv('Predicciones/XgBoost.csv', index = False)"
   ]
  },
  {
   "cell_type": "code",
   "execution_count": null,
   "metadata": {
    "collapsed": true
   },
   "outputs": [],
   "source": []
  }
 ],
 "metadata": {
  "kernelspec": {
   "display_name": "Python 3",
   "language": "python",
   "name": "python3"
  },
  "language_info": {
   "codemirror_mode": {
    "name": "ipython",
    "version": 3
   },
   "file_extension": ".py",
   "mimetype": "text/x-python",
   "name": "python",
   "nbconvert_exporter": "python",
   "pygments_lexer": "ipython3",
   "version": "3.5.2"
  }
 },
 "nbformat": 4,
 "nbformat_minor": 2
}
